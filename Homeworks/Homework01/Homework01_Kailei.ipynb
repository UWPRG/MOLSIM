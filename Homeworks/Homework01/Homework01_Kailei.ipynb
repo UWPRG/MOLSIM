{
 "cells": [
  {
   "cell_type": "markdown",
   "metadata": {},
   "source": [
    "# MOLSIM HOMEWORK Week02    LINUX AND CODING BASICS\n",
    "\n",
    "### Assigned data: January 21st, 2019\n",
    "### Due data: January 25th, 2019\n",
    "\n",
    "#### Change to directory of the MOLSIM repo and pull from github:  \n",
    "#### Type `git pull` and return  \n",
    "#### Change to directory  `/MOLSIM/Homeworks/Homeworks01` and copy ipython notebook `Homework01.ipynb` to your file (`Homework01_Coco.ipynb` for example).   \n",
    "#### The first asignment includes two excercises: a bash scripting for text edit and a python scripting for data loading, analysis and plotting. Please write both bash script and python script in this ipython notebook.  Use `%% bash` as the first line in a bash code block.\n",
    "#### When you finish writing this ipython notebook:   \n",
    "git pull    \n",
    "git add `Homework01_YOURNAME.ipynb`  \n",
    "git commit -m \"your notes here\"    \n",
    "git push     \n",
    " "
   ]
  },
  {
   "cell_type": "markdown",
   "metadata": {},
   "source": [
    "## 1. Bash Scripting\n",
    "Since we have not talked a lot about `awk` and `grep` in class, here are two examples to help you finish the task:  \n",
    "\n",
    "#### 1） Takes an input file that looks like:     \n",
    "1 2 3 4 5       \n",
    "6 7 8 9 10     \n",
    "11 12 13 14 15   \n",
    "It will add/sum the first column of numbers:          "
   ]
  },
  {
   "cell_type": "code",
   "execution_count": 1,
   "metadata": {},
   "outputs": [
    {
     "name": "stdout",
     "output_type": "stream",
     "text": [
      "\n"
     ]
    },
    {
     "name": "stderr",
     "output_type": "stream",
     "text": [
      "cat: count.txt: No such file or directory\n"
     ]
    }
   ],
   "source": [
    "%%bash \n",
    "cat count.txt | awk '{ sum+=$1} END {print sum}'"
   ]
  },
  {
   "cell_type": "markdown",
   "metadata": {},
   "source": [
    "#### 2） Given a file `student_mark.txt` which has student marks:    \n",
    "    \n",
    "Jones 2143 78 84 77  \n",
    "Gondrol 2321 56 58 45  \n",
    "RinRao 2122 38 37  \n",
    "Edwin 2537 87 97 95  \n",
    "Dayan 2415 30 47  \n",
    "    \n",
    "#### Generate Pass/Fail based on marks:  \n"
   ]
  },
  {
   "cell_type": "code",
   "execution_count": 1,
   "metadata": {},
   "outputs": [
    {
     "name": "stderr",
     "output_type": "stream",
     "text": [
      "awk: fatal: cannot open file `student-marks' for reading (No such file or directory)\n"
     ]
    }
   ],
   "source": [
    "%%bash  \n",
    "awk '{\n",
    "if ($3 >=35 && $4 >= 35 && $5 >= 35)\n",
    "    print $0,\"=>\",\"Pass\";\n",
    "else\n",
    "    print $0,\"=>\",\"Fail\";\n",
    "}' student-marks"
   ]
  },
  {
   "cell_type": "markdown",
   "metadata": {},
   "source": [
    "#### Please write a line of bash script to run the following two tasks:   \n",
    "1) Given file `qua.pdb`, use `grep` and `awk` to find INDEX of all `Si` atom that z coordinate (FIELD #8) is larger than 5, and write output to `si.txt`. One index each line.   \n",
    "2) Calculate the average z coordinate of `O` atom and ADD the output to `si.txt`.   "
   ]
  },
  {
   "cell_type": "markdown",
   "metadata": {},
   "source": [
    "###  Write your answer here:"
   ]
  },
  {
   "cell_type": "code",
   "execution_count": 24,
   "metadata": {},
   "outputs": [],
   "source": [
    "%%bash\n",
    "awk '{\n",
    "if ($3 ~ /Si/ && $8 > 5)\n",
    "    print $0 > \"si.txt\";\n",
    "}' qua.pdb\n",
    "counts=0\n",
    "sum=0\n",
    "awk '{\n",
    "if ($3 ~ \"O\")\n",
    "    counts+=1\n",
    "    sum+=$8;} END {print sum/counts >> \"si.txt\"\n",
    "}' qua.pdb"
   ]
  },
  {
   "cell_type": "markdown",
   "metadata": {},
   "source": [
    "## 2. Data analysis and visualization with python"
   ]
  },
  {
   "cell_type": "markdown",
   "metadata": {},
   "source": [
    "### Make 1 * 2 subplots to plot data in `fes1.dat` and `fes2.dat`.   \n",
    "### For each subplot:  \n",
    "1) Load data using `numpy` or `pandas` library.    \n",
    "2) Copy data in first column into an array X, and data in second column into an array Y. Ignore the comments if there are.   \n",
    "3) From all values in Y, substract the minimum value of Y (translate Y to make minimum zero), then plot X vs Y.     \n",
    "4) Label the plot as \"DSS\" and \"DDD\" for each data and put the legend at lower right.  \n",
    "5) Set x axis limit to (0.2,1.73); set y axis limit to (0,20); use a shared y axis.      \n",
    "6) Set title for each subplot to \"DSS on TiO$_2$\" and \"DDD on TiO$_2$\".   \n",
    "7) Set font size of legend, x-label, y-label, x-ticks, y-ticks to 14, set font size of title to 20.   \n",
    "8) Add two colored shadow in region 0.45 < x < 1 and 1.2 < x < 1.7. Use color code \"#d62728\", \"#d62728\" respectively.  \n",
    "9) Use a tight layout.  \n",
    "10）Output the plot as \"plot.pdf\"\n",
    "![alt text](./matplotlib_exp.png)  \n",
    "##  Please write your code here:"
   ]
  },
  {
   "cell_type": "code",
   "execution_count": 33,
   "metadata": {},
   "outputs": [],
   "source": [
    "import numpy as np\n",
    "import matplotlib.pyplot as mp"
   ]
  },
  {
   "cell_type": "code",
   "execution_count": 34,
   "metadata": {},
   "outputs": [],
   "source": [
    "data1=np.loadtxt('fes1.dat')\n",
    "data2=np.loadtxt('fes2.dat')"
   ]
  },
  {
   "cell_type": "code",
   "execution_count": 51,
   "metadata": {},
   "outputs": [],
   "source": [
    "X1=[]\n",
    "Y1=[]\n",
    "X2=[]\n",
    "Y2=[]\n",
    "Y1_sub=[]\n",
    "Y2_sub=[]\n",
    "for i in range(len(data1)):\n",
    "    if data1[i][0] <= 1.73:\n",
    "        X1.append(data1[i][0])\n",
    "        Y1.append(data1[i][1])\n",
    "for i in range(len(Y1)):\n",
    "    Y1_sub.append(Y1[i]-min(Y1))\n",
    "for i in range(len(data2)):\n",
    "    X2.append(data2[i][0])\n",
    "    Y2.append(data2[i][1])\n",
    "for i in range(len(data2)):\n",
    "    Y2_sub.append(Y2[i]-min(Y2))"
   ]
  },
  {
   "cell_type": "code",
   "execution_count": 141,
   "metadata": {
    "scrolled": true
   },
   "outputs": [
    {
     "data": {
      "image/png": "[encoded data removed]",
      "text/plain": [
       "<Figure size 576x288 with 2 Axes>"
      ]
     },
     "metadata": {
      "needs_background": "light"
     },
     "output_type": "display_data"
    }
   ],
   "source": [
    "fig,axs=mp.subplots(1,2,sharey=True,figsize=(8,4))\n",
    "mp.text(0,-4,'Peptide-Surface Seperation Distance (nm)',ha='center',fontsize=14)\n",
    "axs[0].set_ylabel('Free Energy (KJ/mol)',fontsize=14)\n",
    "axs[0].set_xlim(0.2,1.73)\n",
    "axs[0].set_ylim(0,20)\n",
    "axs[1].set_xlim(0.2,1.73)\n",
    "axs[0].set_title('DSS on $\\mathregular{TiO_2}$',fontsize=20)\n",
    "axs[1].set_title('DDD on $\\mathregular{TiO_2}$',fontsize=20)\n",
    "axs[0].plot(X1,Y1_sub,label='DSS')\n",
    "axs[1].plot(X2,Y2_sub,label='DDD')\n",
    "axs[0].legend(loc='lower right',fontsize=14)\n",
    "axs[1].legend(loc='lower right',fontsize=14)\n",
    "mp.rc('xtick',labelsize=14)\n",
    "mp.rc('ytick',labelsize=14)\n",
    "axs[0].axvspan(0.45,1,facecolor='#d62728',alpha=0.25)\n",
    "axs[1].axvspan(0.45,1,facecolor='#d62728',alpha=0.25)\n",
    "axs[1].axvspan(1.2,1.7,facecolor='#1f77b4',alpha=0.25)\n",
    "axs[0].axvspan(1.2,1.7,facecolor='#1f77b4',alpha=0.25)\n",
    "mp.savefig('plot.pdf',bbox_inches='tight')"
   ]
  },
  {
   "cell_type": "markdown",
   "metadata": {},
   "source": []
  }
 ],
 "metadata": {
  "anaconda-cloud": {},
  "kernelspec": {
   "display_name": "Python 3",
   "language": "python",
   "name": "python3"
  },
  "language_info": {
   "codemirror_mode": {
    "name": "ipython",
    "version": 3
   },
   "file_extension": ".py",
   "mimetype": "text/x-python",
   "name": "python",
   "nbconvert_exporter": "python",
   "pygments_lexer": "ipython3",
   "version": "3.7.1"
  }
 },
 "nbformat": 4,
 "nbformat_minor": 1
}
