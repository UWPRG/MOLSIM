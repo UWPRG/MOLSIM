{
 "cells": [
  {
   "cell_type": "markdown",
   "metadata": {},
   "source": [
    "# MOLSIM HOMEWORK Week02    LINUX AND CODING BASICS\n",
    "\n",
    "### Assigned data: January 21st, 2019\n",
    "### Due data: January 25th, 2019\n",
    "\n",
    "#### Change to directory of the MOLSIM repo and pull from github:  \n",
    "#### Type `git pull` and return  \n",
    "#### Change to directory  `/MOLSIM/Homeworks/Homeworks01` and copy ipython notebook `Homework01.ipynb` to your file (`Homework01_Coco.ipynb` for example).   \n",
    "#### The first asignment includes two excercises: a bash scripting for text edit and a python scripting for data loading, analysis and plotting. Please write both bash script and python script in this ipython notebook.  Use `%% bash` as the first line in a bash code block.\n",
    "#### When you finish writing this ipython notebook:   \n",
    "git pull    \n",
    "git add `Homework01_YOURNAME.ipynb`  \n",
    "git commit -m \"your notes here\"    \n",
    "git push     \n",
    " "
   ]
  },
  {
   "cell_type": "markdown",
   "metadata": {},
   "source": [
    "## 1. Bash Scripting\n",
    "Since we have not talked a lot about `awk` and `grep` in class, here are two examples to help you finish the task:  \n",
    "\n",
    "#### 1） Takes an input file that looks like:     \n",
    "1 2 3 4 5       \n",
    "6 7 8 9 10     \n",
    "11 12 13 14 15   \n",
    "It will add/sum the first column of numbers:          "
   ]
  },
  {
   "cell_type": "code",
   "execution_count": 4,
   "metadata": {},
   "outputs": [
    {
     "name": "stdout",
     "output_type": "stream",
     "text": [
      "18\n"
     ]
    }
   ],
   "source": [
    "%%bash \n",
    "cat count.txt | awk '{ sum+=$1} END {print sum}'"
   ]
  },
  {
   "cell_type": "markdown",
   "metadata": {},
   "source": [
    "#### 2） Given a file `student_mark.txt` which has student marks:    \n",
    "    \n",
    "Jones 2143 78 84 77  \n",
    "Gondrol 2321 56 58 45  \n",
    "RinRao 2122 38 37  \n",
    "Edwin 2537 87 97 95  \n",
    "Dayan 2415 30 47  \n",
    "    \n",
    "#### Generate Pass/Fail based on marks:  \n"
   ]
  },
  {
   "cell_type": "code",
   "execution_count": 7,
   "metadata": {},
   "outputs": [
    {
     "name": "stdout",
     "output_type": "stream",
     "text": [
      "Jones 2143 78 84 77\r",
      " => Pass\n",
      "Gondrol 2321 56 58 45\r",
      " => Pass\n",
      "RinRao 2122 38 37\r",
      " => Fail\n",
      "Edwin 2537 87 97 95\r",
      " => Pass\n",
      "Dayan 2415 30 47 => Fail\n"
     ]
    }
   ],
   "source": [
    "%%bash  \n",
    "awk '{\n",
    "if ($3 >=35 && $4 >= 35 && $5 >= 35)\n",
    "    print $0,\"=>\",\"Pass\";\n",
    "else\n",
    "    print $0,\"=>\",\"Fail\";\n",
    "}' student_mark.txt"
   ]
  },
  {
   "cell_type": "markdown",
   "metadata": {},
   "source": [
    "#### Please write a line of bash script to run the following two tasks:   \n",
    "1) Given file `qua.pdb`, use `grep` and `awk` to find INDEX of all `Si` atom that z coordinate (FIELD #8) is larger than 5, and write output to `si.txt`. One index each line.   \n",
    "2) Calculate the average z coordinate of `O` atom and ADD the output to `si.txt`.   "
   ]
  },
  {
   "cell_type": "markdown",
   "metadata": {},
   "source": [
    "###  Write your answer here:"
   ]
  },
  {
   "cell_type": "code",
   "execution_count": 32,
   "metadata": {},
   "outputs": [],
   "source": [
    "%%bash\n",
    "rm si_danshea.txt #to clear any past entries into si_danshea.txt\n",
    "grep 'Si' qua.pdb | awk '{if ($8 > 5.0) print $2}' > si_danshea.txt #assumes field #2 is the index\n",
    "grep 'O' qua.pdb | awk '{if ($3 == \"O\") print}' | awk '{sum+=$8; count+=1} END {print sum/count}' >> si_danshea.txt "
   ]
  },
  {
   "cell_type": "markdown",
   "metadata": {},
   "source": [
    "## 2. Data analysis and visualization with python"
   ]
  },
  {
   "cell_type": "markdown",
   "metadata": {},
   "source": [
    "### Make 1 * 2 subplots to plot data in `fes1.dat` and `fes2.dat`.   \n",
    "### For each subplot:  \n",
    "1) Load data using `numpy` or `pandas` library.    \n",
    "2) Copy data in first column into an array X, and data in second column into an array Y. Ignore the comments if there are.   \n",
    "3) From all values in Y, substract the minimum value of Y (translate Y to make minimum zero), then plot X vs Y.     \n",
    "4) Label the plot as \"DSS\" and \"DDD\" for each data and put the legend at lower right.  \n",
    "5) Set x axis limit to (0.2,1.73); set y axis limit to (0,20); use a shared y axis.      \n",
    "6) Set title for each subplot to \"DSS on TiO$_2$\" and \"DDD on TiO$_2$\".   \n",
    "7) Set font size of legend, x-label, y-label, x-ticks, y-ticks to 14, set font size of title to 20.   \n",
    "8) Add two colored shadow in region 0.45 < x < 1 and 1.2 < x < 1.7. Use color code \"#d62728\", \"#d62728\" respectively.  \n",
    "9) Use a tight layout.  \n",
    "10）Output the plot as \"plot.pdf\"\n",
    "![alt text](./matplotlib_exp.png)  \n",
    "##  Please write your code here:"
   ]
  },
  {
   "cell_type": "code",
   "execution_count": 98,
   "metadata": {},
   "outputs": [],
   "source": [
    "import pandas as pd\n",
    "import numpy as np\n",
    "import matplotlib.pyplot as plt\n",
    "from matplotlib import rcParams\n"
   ]
  },
  {
   "cell_type": "code",
   "execution_count": 141,
   "metadata": {},
   "outputs": [],
   "source": [
    "# common formatting for the dataframes included here\n",
    "def prep_df(df: pd.DataFrame):\n",
    "    df = df.drop(labels=['Z'],axis=1) # drop the unused third column\n",
    "    df = df[df['X'] < 1.73] # strip data outside the max x value (1.73)\n",
    "    df['New Y'] = df['Y'] - min(df['Y']) # then create a new column for zeroed Y axis\n",
    "    return df\n",
    "    \n",
    "# create and format both dataframes\n",
    "DSS = pd.read_table('fes1.dat', names=['X','Y','Z'], delim_whitespace=True)\n",
    "DSS = prep_df(DSS)\n",
    "\n",
    "DDD = pd.read_table('fes2.dat', names=['X','Y','Z'], delim_whitespace=True)\n",
    "DDD = prep_df(DDD)\n"
   ]
  },
  {
   "cell_type": "code",
   "execution_count": 157,
   "metadata": {},
   "outputs": [
    {
     "data": {
      "image/png": "[encoded data removed]",
      "text/plain": [
       "<Figure size 720x432 with 2 Axes>"
      ]
     },
     "metadata": {},
     "output_type": "display_data"
    }
   ],
   "source": [
    "#global plotting parameters\n",
    "rcParams['font.family'] = 'sans-serif' # set the standard font type\n",
    "rcParams['font.size'] = 14 # and standard size\n",
    "rcParams['lines.linewidth'] = 1 # modify the line thickness\n",
    "rcParams['font.weight'] = 'light' # reduce the font weight\n",
    "\n",
    "\n",
    "# set up figure and axes\n",
    "fig, axes = plt.subplots(ncols = 2, sharey=True, figsize=(10,6))\n",
    "\n",
    "\n",
    "# defining the limits of the plotted figure:\n",
    "x_min = 0.2\n",
    "x_max = 1.73\n",
    "y_min = 0\n",
    "y_max = 20\n",
    "\n",
    "\n",
    "# plot the first dataset on the first set of axes\n",
    "axes[0].plot(DSS['X'], DSS['New Y'], 'b-')\n",
    "axes[0].set_title('DSS on TiO2', fontsize = 20)\n",
    "axes[0].legend(labels=['DSS'], loc=4)\n",
    "\n",
    "# and the second dataset on the second axes\n",
    "axes[1].plot(DDD['X'], DDD['New Y'], 'b-')\n",
    "axes[1].set_title('DDD on TiO2', fontsize = 20)\n",
    "axes[1].legend(labels=['DDD'], loc=4)\n",
    "\n",
    "\n",
    "#Common formatting for both axes:\n",
    "for ax in axes:\n",
    "    # x-axis and y-axis limits\n",
    "    ax.set_ylim(y_min, y_max)\n",
    "    ax.set_xlim(x_min, x_max)\n",
    "    # create shaded regions\n",
    "    ax.axvspan(0.45, 1, alpha=0.25, color='#d62728')\n",
    "    ax.axvspan(1.2, 1.7, alpha=0.25, color='blue')\n",
    "\n",
    "\n",
    "# apply labels as figure texts so they can be common to both subplots (can it be done any other way?)\n",
    "fig.text(0.5, 0.0, 'Peptide-Surface Separation Distance (nm)', ha='center')\n",
    "fig.text(0.0, 0.5, 'Free Energy (kJ/mol)', va='center', rotation='vertical')\n",
    "\n",
    "# tight layout, show results\n",
    "plt.tight_layout()\n",
    "plt.show()\n",
    "\n",
    "# save the figure as requested\n",
    "fig.savefig('plot_danshea.pdf', bbox_inches = 'tight')\n"
   ]
  },
  {
   "cell_type": "code",
   "execution_count": null,
   "metadata": {},
   "outputs": [],
   "source": []
  }
 ],
 "metadata": {
  "anaconda-cloud": {},
  "kernelspec": {
   "display_name": "Python 3",
   "language": "python",
   "name": "python3"
  },
  "language_info": {
   "codemirror_mode": {
    "name": "ipython",
    "version": 3
   },
   "file_extension": ".py",
   "mimetype": "text/x-python",
   "name": "python",
   "nbconvert_exporter": "python",
   "pygments_lexer": "ipython3",
   "version": "3.6.5"
  }
 },
 "nbformat": 4,
 "nbformat_minor": 1
}
