{
 "cells": [
  {
   "cell_type": "code",
   "execution_count": 1,
   "metadata": {},
   "outputs": [],
   "source": [
    "import numpy as np\n",
    "import matplotlib.pyplot as plt\n",
    "%matplotlib inline\n",
    "from IPython.display import HTML\n",
    "from scipy.spatial import distance_matrix\n",
    "from md_orion import Atom, molecular_dynamics, optimize_geometry\n",
    "from mdplot_orion import plot_md_frame, animate_md_traj\n",
    "from random import randint\n",
    "\n",
    "np.random.seed(7)"
   ]
  },
  {
   "cell_type": "markdown",
   "metadata": {},
   "source": [
    "# One atom \"MD\" simulation "
   ]
  },
  {
   "cell_type": "code",
   "execution_count": null,
   "metadata": {},
   "outputs": [],
   "source": [
    "# first atom\n",
    "pos = [0, 0, 0]  # position (nm)\n",
    "velocity = [2, 1.5, 0]  #\n",
    "argon_atom = Atom('Ar0', 'Ar', pos, velocity)\n",
    "\n",
    "atoms = [argon_atom]\n",
    "\n",
    "# box\n",
    "box_len = 2.5  # nm\n",
    "box = (\n",
    "    [-box_len / 2, box_len / 2],  # x_min, x_max\n",
    "    [-box_len / 2, box_len / 2],  # y_min, y_max\n",
    "    [0, 0]  # operating on the x-y plane\n",
    ")\n",
    "\n",
    "# run md\n",
    "positions, velocities = molecular_dynamics(\n",
    "    atoms, box, dt=0.002, t_max=2.0,\n",
    ")\n",
    "\n",
    "# check out initial configuration and generate movie\n",
    "movie = animate_md_traj(positions, atoms, box, speed=5)"
   ]
  },
  {
   "cell_type": "code",
   "execution_count": null,
   "metadata": {},
   "outputs": [],
   "source": [
    "HTML(movie.to_html5_video())"
   ]
  },
  {
   "cell_type": "markdown",
   "metadata": {},
   "source": [
    "# system of atoms \"MD\" simulation (no forces)"
   ]
  },
  {
   "cell_type": "code",
   "execution_count": null,
   "metadata": {},
   "outputs": [],
   "source": [
    "# first larger system\n",
    "n_atoms = 50\n",
    "velocity_scalar = 0.3\n",
    "distance_cutoff = 0.4\n",
    "\n",
    "# create box\n",
    "box_len = 5.0  # nm\n",
    "box = (\n",
    "    [-box_len / 2, box_len / 2],  # x_min, x_max\n",
    "    [-box_len / 2, box_len / 2],  # y_min, y_max\n",
    "    [0, 0]  # operating on the x-y plane\n",
    ")\n",
    "\n",
    "# add atoms with random positions and velocities\n",
    "atoms = []\n",
    "for atom_id in range(n_atoms):\n",
    "    pos = np.array([\n",
    "        np.random.uniform(low=box[0][0], high=box[0][1]),\n",
    "        np.random.uniform(low=box[1][0], high=box[1][1]),\n",
    "        0\n",
    "    ])\n",
    "    vel = np.array([\n",
    "        np.random.uniform(low=-1, high=1),\n",
    "        np.random.uniform(low=-1, high=1),\n",
    "        0\n",
    "    ]) * velocity_scalar\n",
    "    atoms.append(Atom(f'atom{atom_id}', 'Ar', pos, vel))\n",
    "\n",
    "# run md\n",
    "positions, velocities = molecular_dynamics(atoms, box, t_max=10.0)\n",
    "# checkout initial position and make movie\n",
    "movie = animate_md_traj(positions[::10, :, :], atoms, box, speed=5)"
   ]
  },
  {
   "cell_type": "code",
   "execution_count": null,
   "metadata": {},
   "outputs": [],
   "source": [
    "HTML(movie.to_html5_video())"
   ]
  },
  {
   "cell_type": "markdown",
   "metadata": {},
   "source": [
    "# simulation of argon atoms, with LJ"
   ]
  },
  {
   "cell_type": "code",
   "execution_count": null,
   "metadata": {
    "scrolled": true
   },
   "outputs": [],
   "source": [
    "# provide force field parameters for two atom types\n",
    "the_force = {\n",
    "    'Ar': {\n",
    "        'mass': 39.94,  # amu\n",
    "        'charge': 0.0,  # e\n",
    "        'sigma': 0.34,  # nm\n",
    "        'epsilon': 0.99,  # kJ/mol\n",
    "    },\n",
    "}\n",
    "\n",
    "# first larger system\n",
    "n_atoms = 50\n",
    "velocity_scalar = 0.3\n",
    "\n",
    "# create box\n",
    "box_len = 5.0  # nm\n",
    "box = (\n",
    "    [-box_len / 2, box_len / 2],  # x_min, x_max\n",
    "    [-box_len / 2, box_len / 2],  # y_min, y_max\n",
    "    [0, 0]  # operating on the x-y plane\n",
    ")\n",
    "\n",
    "# add atoms with random positions and velocities\n",
    "atoms = []\n",
    "for atom_id in range(n_atoms):\n",
    "    pos = np.array([\n",
    "        np.random.uniform(low=box[0][0], high=box[0][1]),\n",
    "        np.random.uniform(low=box[1][0], high=box[1][1]),\n",
    "        0\n",
    "    ])\n",
    "    vel = np.array([\n",
    "        np.random.uniform(low=-1, high=1),\n",
    "        np.random.uniform(low=-1, high=1),\n",
    "        0\n",
    "    ]) * velocity_scalar\n",
    "    atoms.append(Atom(f'atom{atom_id}', 'Ar', pos, vel, the_force))\n",
    "\n",
    "# run md\n",
    "positions, velocities = molecular_dynamics(atoms, box, t_max=1.0)\n",
    "# checkout initial position and make movie\n",
    "movie = animate_md_traj(positions, atoms, box, speed=10)"
   ]
  },
  {
   "cell_type": "markdown",
   "metadata": {},
   "source": [
    "### overlapping atoms cause \"exploding\" system!"
   ]
  },
  {
   "cell_type": "code",
   "execution_count": null,
   "metadata": {},
   "outputs": [],
   "source": [
    "HTML(movie.to_html5_video())"
   ]
  },
  {
   "cell_type": "markdown",
   "metadata": {},
   "source": [
    "### optimizing the starting geometry allows physical simulation"
   ]
  },
  {
   "cell_type": "code",
   "execution_count": null,
   "metadata": {},
   "outputs": [],
   "source": [
    "# first larger system\n",
    "n_atoms = 50\n",
    "velocity_scalar = 0.3\n",
    "\n",
    "# create box\n",
    "box_len = 5.0  # nm\n",
    "\n",
    "box = (\n",
    "    [-box_len / 2, box_len / 2],  # x_min, x_max\n",
    "    [-box_len / 2, box_len / 2],  # y_min, y_max\n",
    "    [0, 0]  # operating on the x-y plane\n",
    ")\n",
    "\n",
    "# add atoms with random positions and velocities\n",
    "atoms = []\n",
    "for atom_id in range(n_atoms):\n",
    "    pos = np.array([\n",
    "        np.random.uniform(low=box[0][0], high=box[0][1]),\n",
    "        np.random.uniform(low=box[1][0], high=box[1][1]),\n",
    "        0\n",
    "    ])\n",
    "    vel = np.array([\n",
    "        np.random.uniform(low=-1, high=1),\n",
    "        np.random.uniform(low=-1, high=1),\n",
    "        0\n",
    "    ]) * velocity_scalar\n",
    "    atoms.append(Atom(f'atom{atom_id}', 'Ar', pos, vel, the_force))"
   ]
  },
  {
   "cell_type": "code",
   "execution_count": null,
   "metadata": {},
   "outputs": [],
   "source": [
    "distance_cutoff = 0.4  # slightly larger than Argon sigma\n",
    "# rearrange overlapping atoms\n",
    "optimize_geometry(atoms, box, distance_cutoff)"
   ]
  },
  {
   "cell_type": "code",
   "execution_count": null,
   "metadata": {},
   "outputs": [],
   "source": [
    "# run md\n",
    "positions, velocities = molecular_dynamics(atoms, box, t_max=10.0)\n",
    "# checkout initial position and make movie\n",
    "movie = animate_md_traj(positions[::10, :, :], atoms, box, speed=5)"
   ]
  },
  {
   "cell_type": "code",
   "execution_count": null,
   "metadata": {
    "scrolled": true
   },
   "outputs": [],
   "source": [
    "HTML(movie.to_html5_video())"
   ]
  },
  {
   "cell_type": "markdown",
   "metadata": {},
   "source": [
    "# Homework Assignment:\n",
    "---\n",
    "\n",
    "Update the `f_coulomb` function in `md.py` to calculate atomic forces due to electrostatic interactions. With your updated force calculations, simulate a heterogeneous system with `Ar`, `Na`, and `Cl` atoms, and animate the trajectory. \n",
    "\n",
    "    (psssssttttt... updating the visualization functions in \n",
    "    `mdplot.py` so that atoms are colored by charge should \n",
    "    help you distinguish between different atom types)"
   ]
  },
  {
   "cell_type": "code",
   "execution_count": 2,
   "metadata": {
    "scrolled": true
   },
   "outputs": [
    {
     "name": "stdout",
     "output_type": "stream",
     "text": [
      "[0. 0. 0.]\n",
      "[0. 0. 0.]\n",
      "[0. 0. 0.]\n",
      "[0. 0. 0.]\n",
      "[0. 0. 0.]\n",
      "[0. 0. 0.]\n",
      "[0. 0. 0.]\n",
      "[0. 0. 0.]\n",
      "[0. 0. 0.]\n",
      "[0. 0. 0.]\n",
      "[0. 0. 0.]\n",
      "[0. 0. 0.]\n",
      "[0. 0. 0.]\n",
      "[0. 0. 0.]\n",
      "[0. 0. 0.]\n",
      "[0. 0. 0.]\n",
      "[0. 0. 0.]\n",
      "[0. 0. 0.]\n",
      "[0. 0. 0.]\n",
      "[0. 0. 0.]\n",
      "[0. 0. 0.]\n",
      "[0. 0. 0.]\n",
      "[0. 0. 0.]\n",
      "[0. 0. 0.]\n",
      "[0. 0. 0.]\n",
      "[0. 0. 0.]\n",
      "[0. 0. 0.]\n",
      "[0. 0. 0.]\n",
      "[0. 0. 0.]\n",
      "[0. 0. 0.]\n",
      "[-0.00081739  0.01649119  0.        ]\n",
      "[0.00408845 0.00549709 0.        ]\n",
      "[-0.00146546 -0.01437863  0.        ]\n",
      "[0.0059228  0.01085187 0.        ]\n",
      "[-0.00522793 -0.00357322  0.        ]\n",
      "[ 0.00961097 -0.0141683   0.        ]\n",
      "[-0.01795569  0.01209834  0.        ]\n",
      "[ 0.00170895 -0.01426318  0.        ]\n",
      "[ 0.00395597 -0.00270243  0.        ]\n",
      "[-0.00336256  0.0021868   0.        ]\n",
      "[-0.00046481 -0.00059766  0.        ]\n",
      "[ 0.00715511 -0.00472948  0.        ]\n",
      "[0.00241067 0.01390971 0.        ]\n",
      "[ 0.02081192 -0.01017084  0.        ]\n",
      "[-0.01229958 -0.00162384  0.        ]\n",
      "[-0.01204118  0.01048855  0.        ]\n",
      "[0.00660401 0.01470416 0.        ]\n",
      "[-0.00941398 -0.00759572  0.        ]\n",
      "[ 0.00218304 -0.02722087  0.        ]\n",
      "[-0.00140331  0.01479645  0.        ]\n",
      "lj\n",
      "[-0.21130313  0.79341093  0.        ]\n",
      "lj\n",
      "[ 0.30831097 -0.9357165   0.        ]\n",
      "lj\n",
      "[-0.29760102  1.21272555  0.        ]\n",
      "lj\n",
      "[1.13048525 0.27163976 0.        ]\n",
      "lj\n",
      "[ 0.23212882 -0.67908981  0.        ]\n",
      "lj\n",
      "[0.49175761 0.42614824 0.        ]\n",
      "lj\n",
      "[0.31051408 1.15257043 0.        ]\n",
      "lj\n",
      "[ 0.19916446 -0.78734282  0.        ]\n",
      "lj\n",
      "[-0.1675027   1.16818082  0.        ]\n",
      "lj\n",
      "[-0.64660324 -0.2558121   0.        ]\n",
      "lj\n",
      "[ 0.79087615 -1.49948183  0.        ]\n",
      "lj\n",
      "[ 1.13022863 -0.8298975   0.        ]\n",
      "lj\n",
      "[-1.50149455 -0.3943644   0.        ]\n",
      "lj\n",
      "[0.30247535 0.22182773 0.        ]\n",
      "lj\n",
      "[-0.72375142 -0.09386752  0.        ]\n",
      "lj\n",
      "[-0.14110126 -1.15476841  0.        ]\n",
      "lj\n",
      "[ 0.02821382 -0.73932048  0.        ]\n",
      "lj\n",
      "[-0.67712734  0.10015797  0.        ]\n",
      "lj\n",
      "[-2.84348118  0.84543298  0.        ]\n",
      "lj\n",
      "[-0.8549477   0.82984504  0.        ]\n",
      "lj\n",
      "[-0.66136825 -0.29853052  0.        ]\n",
      "lj\n",
      "[ 0.19956773 -0.09767055  0.        ]\n",
      "lj\n",
      "[-0.05536761 -0.56460399  0.        ]\n",
      "lj\n",
      "[0.56113531 0.2552588  0.        ]\n",
      "lj\n",
      "[2.22941265 1.13634264 0.        ]\n",
      "lj\n",
      "[ 0.09385482 -0.34054945  0.        ]\n",
      "lj\n",
      "[1.00956579 1.41167288 0.        ]\n",
      "lj\n",
      "[ 2.22887085 -1.24536917  0.        ]\n",
      "lj\n",
      "[-0.45406097  0.34352292  0.        ]\n",
      "lj\n",
      "[-0.04465722 -0.07158587  0.        ]\n",
      "lj\n",
      "[-0.34524415 -0.97908685  0.        ]\n",
      "lj\n",
      "[1.83696561 1.93837697 0.        ]\n",
      "lj\n",
      "[-0.86167673  1.32912992  0.        ]\n",
      "lj\n",
      "[-0.58794389 -1.15406888  0.        ]\n",
      "lj\n",
      "[-0.24773915 -0.20830687  0.        ]\n",
      "lj\n",
      "[1.0755618  0.90555207 0.        ]\n",
      "lj\n",
      "[-0.65618744  0.65034072  0.        ]\n",
      "lj\n",
      "[-0.0793171  -1.04239702  0.        ]\n",
      "lj\n",
      "[1.52114784 1.46839091 0.        ]\n",
      "lj\n",
      "[-0.62309645 -1.01650002  0.        ]\n",
      "lj\n",
      "[0.83597114 0.692376   0.        ]\n",
      "lj\n",
      "[-1.47859922  1.37543837  0.        ]\n",
      "lj\n",
      "[2.19510608 2.57897597 0.        ]\n",
      "lj\n",
      "[-0.12486512  0.0634971   0.        ]\n",
      "lj\n",
      "[-0.54224577  0.5152148   0.        ]\n",
      "lj\n",
      "[-0.07068104  0.15095116  0.        ]\n",
      "lj\n",
      "[-1.84398692  0.074177    0.        ]\n",
      "lj\n",
      "[-0.91760188 -0.06618642  0.        ]\n",
      "lj\n",
      "[ 0.25734689 -1.43422239  0.        ]\n",
      "lj\n",
      "[-0.69553203 -0.03770497  0.        ]\n"
     ]
    },
    {
     "data": {
      "image/png": "[encoded data removed]",
      "text/plain": [
       "<Figure size 360x360 with 1 Axes>"
      ]
     },
     "metadata": {
      "needs_background": "light"
     },
     "output_type": "display_data"
    }
   ],
   "source": [
    "# provide force field parameters for two atom types\n",
    "the_force = {\n",
    "    'Ar': {\n",
    "        'mass': 39.95,  # amu\n",
    "        'charge': 0.0,  # e\n",
    "        'sigma': 3.4e-01,  # nm\n",
    "        'epsilon': 9.94e-01,  # kJ/mol\n",
    "    },\n",
    "    'Na': {\n",
    "        'mass': 22.99,\n",
    "        'charge': 1.00,\n",
    "        'sigma': 3.32840e-01,\n",
    "        'epsilon': 1.15897e-02,\n",
    "    },\n",
    "    'Cl': {\n",
    "        'mass': 35.45,  \n",
    "        'charge': -1.00,  \n",
    "        'sigma': 4.40104e-01,  \n",
    "        'epsilon': 4.18400e-01,  \n",
    "    },\n",
    "}\n",
    "\n",
    "# create system\n",
    "n_atoms = 50\n",
    "velocity_scalar = 0.3\n",
    "\n",
    "# create box\n",
    "box_len = 5.0   # nm\n",
    "\n",
    "box = (\n",
    "    [-box_len / 2, box_len / 2],  # x_min, x_max\n",
    "    [-box_len / 2, box_len / 2],  # y_min, y_max\n",
    "    [0, 0]  # operating on the x-y plane\n",
    ")\n",
    "\n",
    "# add atoms with random positions and velocities\n",
    "atoms = []\n",
    "elements = ['Ar','Na','Cl']\n",
    "for atom_id in range(n_atoms):\n",
    "    pos = np.array([\n",
    "        np.random.uniform(low=box[0][0], high=box[0][1]),\n",
    "        np.random.uniform(low=box[1][0], high=box[1][1]),\n",
    "        0\n",
    "    ])\n",
    "    vel = np.array([\n",
    "        np.random.uniform(low=-1, high=1),\n",
    "        np.random.uniform(low=-1, high=1),\n",
    "        0\n",
    "    ]) * velocity_scalar\n",
    "    element_id = randint(0,2)\n",
    "    if atom_id <= 29:\n",
    "        atoms.append(Atom(f'atom{atom_id}', elements[0], pos, vel, the_force))\n",
    "    elif atom_id <= 39:\n",
    "        atoms.append(Atom(f'atom{atom_id}', elements[1], pos, vel, the_force))\n",
    "    else:\n",
    "        atoms.append(Atom(f'atom{atom_id}', elements[2], pos, vel, the_force))\n",
    "    \n",
    "distance_cutoff = 0.5  # slightly larger than Chloride sigma\n",
    "# rearrange overlapping atoms\n",
    "optimize_geometry(atoms, box, distance_cutoff)\n",
    "\n",
    "# run md\n",
    "positions, velocities = molecular_dynamics(atoms, box, t_max=10.0)\n",
    "# checkout initial position and make movie\n",
    "# blue is argon, red is positive sodium ions, yellow is negative chloride ions\n",
    "movie = animate_md_traj(positions[::10, :, :], atoms, box, speed=5)"
   ]
  },
  {
   "cell_type": "code",
   "execution_count": null,
   "metadata": {
    "scrolled": true
   },
   "outputs": [],
   "source": [
    "HTML(movie.to_html5_video())"
   ]
  },
  {
   "cell_type": "markdown",
   "metadata": {},
   "source": [
    "### Challenges:\n",
    "    1. Extend to 3 dimensions\n",
    "    2. Implement periodic boundary conditions\n",
    "    3. Create molecules by adding bonded forces"
   ]
  },
  {
   "cell_type": "code",
   "execution_count": null,
   "metadata": {},
   "outputs": [],
   "source": []
  },
  {
   "cell_type": "code",
   "execution_count": null,
   "metadata": {},
   "outputs": [],
   "source": []
  }
 ],
 "metadata": {
  "kernelspec": {
   "display_name": "Python 3",
   "language": "python",
   "name": "python3"
  },
  "language_info": {
   "codemirror_mode": {
    "name": "ipython",
    "version": 3
   },
   "file_extension": ".py",
   "mimetype": "text/x-python",
   "name": "python",
   "nbconvert_exporter": "python",
   "pygments_lexer": "ipython3",
   "version": "3.7.1"
  }
 },
 "nbformat": 4,
 "nbformat_minor": 2
}
