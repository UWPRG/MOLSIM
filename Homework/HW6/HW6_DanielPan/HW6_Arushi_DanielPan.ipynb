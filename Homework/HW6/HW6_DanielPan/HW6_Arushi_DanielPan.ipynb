{
 "cells": [
  {
   "cell_type": "markdown",
   "metadata": {},
   "source": [
    "# Forcefield"
   ]
  },
  {
   "cell_type": "markdown",
   "metadata": {},
   "source": [
    "### 1. aminoacids.arn:\n",
    "* The .arn database is used to translate the atom names in the coordinate file to the force field names. Atoms that are not listed keep their names. \n",
    "* The file has three columns: the building block name, the old atom name, and the new atom name, respectively.\n",
    "* No units."
   ]
  },
  {
   "cell_type": "markdown",
   "metadata": {},
   "source": [
    "### 2. aminoacids.c.tbd:\n",
    "* The termini databases are stored in `aminoacids.n.tdb` and `aminoacids.c.tdb` for the N-\n",
    "and C-termini respectively. They contain information for the `pdb2gmx` program on how to connect new atoms to existing ones, which atoms should be removed or changed, and which bonded interactions should be added.\n",
    "* [Name of blocks], options: [replace], [add], [delete], [bonds], [angles], [dihedrals], [impropers].\n",
    "* No units."
   ]
  },
  {
   "cell_type": "markdown",
   "metadata": {},
   "source": [
    "### 3.aminoacids.hdb:\n",
    "* The hydrogen database is stored in .hdb files. It contains information for the pdb2gmx program on how to connect hydrogen atoms to existing atoms.\n",
    "* Residue name, number of kinds of hydrogen atoms that may be added to this residue by the hydrogen database, number of H atoms added, the method for adding H atoms, name of the new H atom, three or four control atoms (i,j,k,l).\n",
    "* No units."
   ]
  },
  {
   "cell_type": "markdown",
   "metadata": {},
   "source": [
    "### 4. aminoacids.n.tbd:\n",
    "* See 2. `aminoacids.c.tbd`"
   ]
  },
  {
   "cell_type": "markdown",
   "metadata": {},
   "source": [
    "### 5. aminoacids.r2b:\n",
    "* The `.r2b` files are used to convert standard residue names to the force field build block names. If no `.r2b` is present in the force field directory or a residue is not listed, the building block name is assumed to be identical to the residue name.\n",
    "* The `.r2b` can contain 2 or 5 columns. The 2-column format has the residue name in the first column and the building block name in the second. The 5-column format has 3 additional columns with the building block for the residue occurring in the N-terminus, C-terminus and both termini at the same time (single residue molecule).\n",
    "* No units."
   ]
  },
  {
   "cell_type": "markdown",
   "metadata": {},
   "source": [
    "### 6. aminoacids.rtp:\n",
    "* The files holding the residue databases have the extension `.rtp`. The residue database file contains information (bonds, charges, charge groups, and improper dihedrals) for a frequently-used building block.\n",
    "* The file is free format; the only restriction is that there can be at most one entry on a line. [ bondedtypes ], [ Name ], [ atoms ], [ bonds ], [ exclusions ], [ angles ], [ dihedrals ], [ impropers ]\n",
    "* No units."
   ]
  },
  {
   "cell_type": "markdown",
   "metadata": {},
   "source": [
    "### 7. aminoacids.vsd:\n",
    "* The files decide the geometries and parameters with which to add virtual site hydrogens, and also have information about the equilibrium bond lengths and angles for all atoms in the side chain.\n",
    "* The first couple of sections specify which mass centers (typically called MCH3/MNH3) to use for CH3, NH3, and NH2 groups. For each of these we expect three columns. The first column is the atom type bound to the 2/3 hydrogens, the second column is the next heavy atom type which this is bound, and the third column the type of mass center to use. As a special case, in the [ NH2 ] section it is also possible to specify planar in the second column, which will use a different construction without mass center. The second part of the virtual site database contains explicit equilibrium bond lengths and angles for pairs/triplets of atoms in aromatic side chains.\n",
    "* Bond length: nm ; Bond angle: degree."
   ]
  },
  {
   "cell_type": "markdown",
   "metadata": {},
   "source": [
    "### 8. atomtypes.atp:\n",
    "* Each force field defines a set of atom types, which have a characteristic name or number, and mass. These listings are found in the `.atp` file.\n",
    "* Name or number, and mass.\n",
    "* Mass: amu."
   ]
  },
  {
   "cell_type": "markdown",
   "metadata": {},
   "source": [
    "### 9. dna.arn:\n",
    "See 1.`aminoacids.arn`"
   ]
  },
  {
   "cell_type": "markdown",
   "metadata": {},
   "source": [
    "### 10. dna.hdb:\n",
    "See 3.`aminoacids.hdb`"
   ]
  },
  {
   "cell_type": "markdown",
   "metadata": {},
   "source": [
    "### 11. dna.r2b:\n",
    "See 5.`aminoacids.r2b`"
   ]
  },
  {
   "cell_type": "markdown",
   "metadata": {},
   "source": [
    "### 12. dna.rtp:\n",
    "See 6.`aminoacids.rtp`"
   ]
  },
  {
   "cell_type": "markdown",
   "metadata": {},
   "source": [
    "### 13. ffbonded.itp:\n",
    "* The bonded parameters (i.e. bonds, bond angles, improper and proper dihedrals) are listed in `ffbonded.itp`.\n",
    "* [ bondtypes ], [ angletypes ], [ dihedraltypes ], [ dihedraltypes ]\n",
    "* Bond distance: nm, bond angle: degree."
   ]
  },
  {
   "cell_type": "markdown",
   "metadata": {},
   "source": [
    "### 14. ffnonbonded.itp:\n",
    "* The non-bonded parameters consist of the van der Waals parameters V (c6 or σ, depending on the combination rule) and W (c12 or ε), as listed in the file `ffnonbonded.itp`.\n",
    "* [ atomtypes ], [ nonbond_params ]\n",
    "* mass: amu."
   ]
  },
  {
   "cell_type": "markdown",
   "metadata": {},
   "source": [
    "### 15. forcefield.doc:\n",
    "* Its first line will be used by pdb2gmx to present a short description to the user to help in choosing a force field."
   ]
  },
  {
   "cell_type": "markdown",
   "metadata": {},
   "source": [
    "### 16. forcefield.itp:\n",
    "* Force fields are recognized from the file `forcefield.itp` in a directory with the extension `.ff`."
   ]
  },
  {
   "cell_type": "markdown",
   "metadata": {},
   "source": [
    "### 17. gbsa.itp:\n",
    "* Implicit solvation parameters.\n",
    "* Values in columns 1-3 are not currently used. They pertain to more elaborate surface area algorithms. Column 4 contains the atomic van der Waals radii, which are used in computing the Born radii. The dielectric offset is specified in the *.mdp file, and gets subtracted from the input van der Waals radii for the different Born radii methods. Column 5 is the scale factor for the HCT and OBC models. The values are taken from the Tinker implementation of the HCT pairwise scaling method. This method has been modified such that the scaling factors have been adjusted to minimize differences between analytical surface areas and GB using the HCT algorithm. The scaling is further modified in that it is not applied pairwise, but on a per-atom (rather than a per-pair) basis."
   ]
  },
  {
   "cell_type": "markdown",
   "metadata": {},
   "source": [
    "### 18. ions.itp:\n",
    "*  The `.itp` file extension stands for include toplogy. These files are included in topology files ( with the top extension).\n",
    "* [ moleculetype ], [ atoms ], [ settles ] , [ exlusions ] , [ bonds ], [ angles ]."
   ]
  },
  {
   "cell_type": "markdown",
   "metadata": {},
   "source": [
    "### 19. rna.arn:\n",
    "See 1.`aminoacids.arn`"
   ]
  },
  {
   "cell_type": "markdown",
   "metadata": {},
   "source": [
    "### 20. rna.hdb:\n",
    "See 3.`aminoacids.hdb`"
   ]
  },
  {
   "cell_type": "markdown",
   "metadata": {},
   "source": [
    "### 21. rna.r2b:\n",
    "See 5.`aminoacids.r2b`"
   ]
  },
  {
   "cell_type": "markdown",
   "metadata": {},
   "source": [
    "### 22. rna.rtp:\n",
    "See 6.`aminoacids.rtp`"
   ]
  },
  {
   "cell_type": "markdown",
   "metadata": {},
   "source": [
    "### 23. spc.itp:\n",
    "See 18. `ions.itp`."
   ]
  },
  {
   "cell_type": "markdown",
   "metadata": {},
   "source": [
    "### 24. spce.itp:\n",
    "See 18. `ions.itp`."
   ]
  },
  {
   "cell_type": "markdown",
   "metadata": {},
   "source": [
    "### 25. tip3p.itp:\n",
    "See 18. `ions.itp`."
   ]
  },
  {
   "cell_type": "markdown",
   "metadata": {},
   "source": [
    "### 26. tip4p.itp:\n",
    "See 18. `ions.itp`."
   ]
  },
  {
   "cell_type": "markdown",
   "metadata": {},
   "source": [
    "### 27. tip4pew.itp:\n",
    "See 18. `ions.itp`."
   ]
  },
  {
   "cell_type": "markdown",
   "metadata": {},
   "source": [
    "### 28. tip5p.itp:\n",
    "See 18. `ions.itp`."
   ]
  },
  {
   "cell_type": "markdown",
   "metadata": {},
   "source": [
    "### 29. urea.itp:\n",
    "See 18. `ions.itp`."
   ]
  },
  {
   "cell_type": "markdown",
   "metadata": {},
   "source": [
    "### 30. watermodels.dat:\n",
    "* Have all the different water models."
   ]
  },
  {
   "cell_type": "code",
   "execution_count": null,
   "metadata": {
    "collapsed": true
   },
   "outputs": [],
   "source": []
  }
 ],
 "metadata": {
  "anaconda-cloud": {},
  "kernelspec": {
   "display_name": "Python [default]",
   "language": "python",
   "name": "python3"
  },
  "language_info": {
   "codemirror_mode": {
    "name": "ipython",
    "version": 3
   },
   "file_extension": ".py",
   "mimetype": "text/x-python",
   "name": "python",
   "nbconvert_exporter": "python",
   "pygments_lexer": "ipython3",
   "version": "3.5.2"
  }
 },
 "nbformat": 4,
 "nbformat_minor": 2
}
