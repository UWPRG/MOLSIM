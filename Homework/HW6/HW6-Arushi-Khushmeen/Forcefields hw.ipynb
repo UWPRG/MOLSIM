{
 "cells": [
  {
   "cell_type": "markdown",
   "metadata": {},
   "source": [
    "## The various files for the .rtp extensions and their descriptions are as follows: "
   ]
  },
  {
   "cell_type": "markdown",
   "metadata": {},
   "source": [
    "The files holding the residue databases have the **extension .rtp**  The 'aminoacids.rtp', 'rna.rtp' and 'dna.rtp' shows various residues. These residues contain 3 categories broadly :   \n",
    "**atoms,bonds and impropers**.  \n",
    "Each of these have 8 columns:  \n",
    "1 : default bondtype  \n",
    "2 : default angletype  \n",
    "3 : default proper dihedraltype  \n",
    "4 : default improper dihedraltype  \n",
    "5 : This controls the generation of dihedrals from the bonding. All possible dihedrals are generated automatically. A value of 1 here means that all these are retained. A value of 0 here requires generated dihedrals be removed if there are any dihedrals on the same central atoms specified in the residue topology or there are other identical generated dihedral sharing the same central atoms, or there are other generated dihedrals sharing the same central bond that have fewer hydrogen atoms\n",
    "6 : number of neighbors to exclude from non-bonded interactions  \n",
    "7 : 1 = generate 1,4 interactions between pairs of hydrogen atoms; 0 = do not generate such  \n",
    "8 : 1 = remove proper dihedrals if found centered on the same bond as an improper dihedral; 0 = do not generate such\n"
   ]
  },
  {
   "cell_type": "markdown",
   "metadata": {},
   "source": [
    "## The various files for the .r2b extension and their descriptions are as follows: "
   ]
  },
  {
   "cell_type": "markdown",
   "metadata": {},
   "source": [
    "The .r2b files are used to convert standard residue names to the force-field build block names.  \n",
    "Each force field has its own naming convention for residues. Most residues have consistent naming,\n",
    "but some can have many different names.  \n",
    " If no .r2b is present in the force-field directory or a residue is not listed, the building block name is\n",
    "assumed to be identical to the residue name. \n",
    "\n",
    "The 'dna.r2b' and 'rna.r2b' have two columns:  \n",
    "1- Contains the residue name  \n",
    "2-Building block name  \n",
    "\n",
    "The 'aminoacids.r2b' has 5 columns:  \n",
    "1- Contains the residue name  \n",
    "2-Building block name  \n",
    "3- Building block for residue in the N-terminus  \n",
    "4- Building block for residue in the C-terminus  \n",
    "5- Building block in both termini at the same time  "
   ]
  },
  {
   "cell_type": "markdown",
   "metadata": {},
   "source": [
    "## The various files for .hdb and their descriptions are as follows: "
   ]
  },
  {
   "cell_type": "markdown",
   "metadata": {},
   "source": [
    "The hydrogen database is stored in .hdb files. Hence 'aminoacids.hdb' , 'dna.hdb' ,'rna.hdb' contains information on ways to connect hydrogen atoms to existing atoms.  \n",
    "On the first line we see the residue name and the number of kinds of hydrogen atoms that may be added to this residue by the hydrogen database. After that follows one line for each addition, on which we see:  \n",
    "* The number of H atoms added\n",
    "* The method for adding H atoms, which can be any of:\n",
    "* The name of the new H atom or its prefix\n",
    "* Three or four control atoms (i,j,k,l), where the first always is the atom to which the H atoms\n",
    "are connected. The other two or three depend on the code selected. "
   ]
  },
  {
   "cell_type": "markdown",
   "metadata": {},
   "source": [
    "## The various files for .tdb and their descriptions are as follows: "
   ]
  },
  {
   "cell_type": "markdown",
   "metadata": {},
   "source": [
    "The termini databases are stored in aminoacids.n.tdb and aminoacids.c.tdb for the Nand\n",
    "C-termini respectively. They contain information for the pdb2gmx program on how to connect\n",
    "new atoms to existing ones, which atoms should be removed or changed, and which bonded\n",
    "interactions should be added.  \n",
    "The .tdb files are empty in this folder."
   ]
  },
  {
   "cell_type": "markdown",
   "metadata": {},
   "source": [
    "## atomtypes.atp\n",
    "In the **'atomtypes.atp'** file the force field defines a set of atom types, which have a characteristic name or number, and mass(in a.m.u.). These listings are found in the atomtypes.atp file (.atp = atom type parameter\n",
    "file). Therefore, it is in this file that you can begin to change and/or add an atom type.  \n",
    "\n",
    "This file has 3 columns:  \n",
    "1- The symbol of the atom type  \n",
    "2- The mass in a.m.u (Atomic Mass Units)  \n",
    "3- The atom description  "
   ]
  },
  {
   "cell_type": "markdown",
   "metadata": {},
   "source": [
    "## ffnonbonded.itp\n",
    "In the **'ffnonbonded.itp'** The non-bonded parameters consist of the van der Waals parameters V (c6 or σ, depending on the\n",
    "combination rule) and W (c12 or \u000f), as listed in the file ffnonbonded.itp, where ptype is\n",
    "the particle type  \n",
    "This file has 7 columns:  \n",
    "1-Name of the atomtype  \n",
    "2-Atomic number  \n",
    "3-Atomic weight in g/mol  \n",
    "4-Charge of the atom   \n",
    "5-ptype or particle type   \n",
    "6-vander waals parameters (C6)  \n",
    "7-vander waals parameters (C12)  \n"
   ]
  },
  {
   "cell_type": "markdown",
   "metadata": {},
   "source": [
    "## ffbonded.itp\n",
    "The bonded parameters are listed in **ffbonded.itp**.The entries in this database describe, respectively, the atom types in the interactions,the type of the interaction, and the parameters associated with that interaction\n",
    "\n",
    "For bondtypes  \n",
    "For angle types  \n",
    "For dihedral types  \n",
    "\n",
    "\n",
    "This file has 5 columns:  \n",
    "1- atoms   \n",
    "2- atoms \n",
    "3-bonded function type.   \n",
    "4- equilibrium bond distance (nm).  \n",
    "5-bond spring constant (kJ/mol/nm^2).  "
   ]
  },
  {
   "cell_type": "markdown",
   "metadata": {},
   "source": [
    "## forcefield.itp\n",
    "From the **forcefield.itp**, force fields are recognized. \n",
    "\n",
    "• nbfunc is the non-bonded function type. Use 1 (Lennard-Jones) or 2 (Buckingham)  \n",
    "• comb-rule is the number of the combination rule  \n",
    "• gen-pairs is for pair generation. The default is ‘no’, i.e. get 1-4 parameters from the pairtypes list. When parameters are not present in the list, stop with a fatal error. Setting\n",
    "‘yes’ generates 1-4 parameters that are not present in the pair list from normal LennardJones\n",
    "parameters using fudgeLJ  \n",
    "• fudgeLJ is the factor by which to multiply Lennard-Jones 1-4 interactions, default 1  \n",
    "• fudgeQQ is the factor by which to multiply electrostatic 1-4 interactions, default 1  "
   ]
  },
  {
   "cell_type": "markdown",
   "metadata": {},
   "source": [
    "## forcefield.doc\n",
    "The file **forcefield.doc**\n",
    "may be present, and if so, its first line will be used by pdb2gmx to present a short description to\n",
    "the user to help in choosing a force field."
   ]
  },
  {
   "cell_type": "markdown",
   "metadata": {},
   "source": [
    "## The various files for .arn and their descriptions are as follows: "
   ]
  },
  {
   "cell_type": "markdown",
   "metadata": {},
   "source": [
    "Force fields often use atom names that do not follow IUPAC or PDB convention. The .arn\n",
    "database is used to translate the atom names in the coordinate file to the force-field names. 'aminoacids.arn','dna.arn' and 'rna.arn' have the renamed databases. Atoms\n",
    "that are not listed keep their names.\n",
    "\n",
    "The file has three columns:  \n",
    "1-the building block name  \n",
    "2-the old atom name  \n",
    "3-the new atom name  "
   ]
  },
  {
   "cell_type": "markdown",
   "metadata": {
    "collapsed": true
   },
   "source": [
    "## urea.itp and .itp files\n",
    "'urea.itp'\n",
    "If you construct a topology file you will use frequently (like the water molecule, tip3p.itp,\n",
    "which is already constructed for you) it is good to make a molecule.itp file. This only lists\n",
    "the information of one particular molecule and allows you to re-use the [ moleculetype ]\n",
    "in multiple systems without re-invoking pdb2gmx or manually copying and pasting. An example\n",
    "urea.itp"
   ]
  },
  {
   "cell_type": "markdown",
   "metadata": {},
   "source": [
    "## aminoacids.vsd\n",
    "Since we cannot rely on the positions of hydrogens in input files, we need a special input file\n",
    "to decide the geometries and parameters with which to add virtual site hydrogens. For more\n",
    "complex virtual site constructs (e.g. when entire aromatic side chains are made rigid) we also need\n",
    "information about the equilibrium bond lengths and angles for all atoms in the side chain. This\n",
    "information is specified in the .vsd file for each force field. \n",
    "The virtual site database is not really a very simple list of information. The first couple of sections\n",
    "specify which mass centers (typically called MCH3/MNH3) to use for CH3, NH3, and NH2 groups.\n",
    "Depending on the equilibrium bond lengths and angles between the hydrogens and heavy atoms\n",
    "we need to apply slightly different constraint distances between these mass centers. Note that we\n",
    "do not have to specify the actual parameters (that is automatic), just the type of mass center to use.\n",
    "To accomplish this, there are three sections names [ CH3 ], [ NH3 ], and [ NH2 ]. For each\n",
    "of these we expect three columns.   \n",
    "\n",
    "* The first column is the atom type bound to the 2/3 hydrogens,\n",
    "\n",
    "* The second column is the next heavy atom type which this is bound, * * The third column the typeof mass center to use.\n",
    "\n",
    "The second part of the virtual site database contains explicit equilibrium bond lengths and angles\n",
    "for pairs/triplets of atoms in aromatic side chains.  These sections are named after the short amino\n",
    "acid names ([ PHE ], [ TYR ], [ TRP ], [ HID ], [ HIE ], [ HIP ]), and simply\n",
    "contain 2 or 3 columns with atom names, followed by a number specifying the bond length (in\n",
    "nm) or angle (in degrees)."
   ]
  },
  {
   "cell_type": "markdown",
   "metadata": {},
   "source": [
    "## Watermodels.dat\n",
    "It specifies all the water models available\n",
    "These include:  \n",
    "* 'tip3p.itp' \n",
    "* 'tip4p.itp'  \n",
    "* 'tip4pew.itp'  \n",
    "* 'tip5p.itp'  \n",
    "* 'spc.itp'  \n",
    "* 'spce.itp'  "
   ]
  },
  {
   "cell_type": "markdown",
   "metadata": {},
   "source": [
    "## tip3p.itp\n",
    "\n",
    "The molecule type SOL is defined in the tip3p.itp file.  \n",
    "Each name here must\n",
    "correspond to a name given with [ moleculetype ] earlier in the topology. The order of the\n",
    "blocks of molecule types and the numbers of such molecules must match the coordinate file that\n",
    "accompanies the topology when supplied to grompp.  \n",
    "The columns are :  \n",
    "1- ID for each atom  \n",
    "2- atom type  \n",
    "3- residue number  \n",
    "4- residue name  \n",
    "5- atom name  \n",
    "6- charge number  \n",
    "7- charge of the atoms  \n",
    "8- atomic mass  \n",
    "the other tip files are similar.\n"
   ]
  },
  {
   "cell_type": "markdown",
   "metadata": {},
   "source": []
  }
 ],
 "metadata": {
  "kernelspec": {
   "display_name": "Python 3",
   "language": "python",
   "name": "python3"
  },
  "language_info": {
   "codemirror_mode": {
    "name": "ipython",
    "version": 3
   },
   "file_extension": ".py",
   "mimetype": "text/x-python",
   "name": "python",
   "nbconvert_exporter": "python",
   "pygments_lexer": "ipython3",
   "version": "3.5.2"
  }
 },
 "nbformat": 4,
 "nbformat_minor": 2
}
