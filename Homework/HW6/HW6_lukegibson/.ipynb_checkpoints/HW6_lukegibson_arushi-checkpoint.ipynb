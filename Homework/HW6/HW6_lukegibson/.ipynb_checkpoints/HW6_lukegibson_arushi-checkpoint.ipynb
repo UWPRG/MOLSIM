{
 "cells": [
  {
   "cell_type": "markdown",
   "metadata": {},
   "source": [
    "# MOLSIM - HW6: Defining forcefield files\n",
    "## Luke Gibson"
   ]
  },
  {
   "cell_type": "code",
   "execution_count": null,
   "metadata": {
    "collapsed": true
   },
   "outputs": [],
   "source": [
    "File types:\n",
    "\n",
    ".arn\n",
    ".c.tdb\n",
    ".hdb\n",
    ".n.tdb\n",
    ".r2b\n",
    ".rtp\n",
    ".vsd\n",
    ".atp\n",
    ".itp\n",
    ".doc\n",
    ".dat"
   ]
  },
  {
   "cell_type": "markdown",
   "metadata": {},
   "source": [
    "## < filename >.arn\n",
    "- aminoacis.arn\n",
    "- dna.arn\n",
    "- rna.arn\n",
    "\n",
    "### Purpose\n",
    "- Translates atom names in coordinate file to the names in the forcefield\n",
    "\n",
    "### Contents\n",
    "- 3 columns:\n",
    "    - Building block name\n",
    "    - Old atom name\n",
    "    - New atom name\n",
    "\n",
    "### Units\n",
    "- None\n",
    "\n",
    "---"
   ]
  },
  {
   "cell_type": "markdown",
   "metadata": {},
   "source": [
    "## < filename >.c.tdb / < filename >.n.tdb\n",
    "- aminoacids.c.tdb\n",
    "- aminoacids.n.tdb\n",
    "\n",
    "### Purpose\n",
    "- Termini database (C-termini and N-termini)\n",
    "- Contains information on how to connect new atoms to existing ones, which atoms should be removed or changed, and which bonded interactions should be added\n",
    "\n",
    "### Contents\n",
    "- Organized in blocks\n",
    "    - replace\n",
    "    - add\n",
    "    - delete\n",
    "    - bonds\n",
    "    - angles\n",
    "    - dihedrals\n",
    "    - impropers\n",
    "\n",
    "### Units\n",
    "- None\n",
    "\n",
    "---"
   ]
  },
  {
   "cell_type": "markdown",
   "metadata": {},
   "source": [
    "## < filename >.hdb\n",
    "- aminoacids.hdb\n",
    "- dna.hdb\n",
    "- rna.hdb\n",
    "\n",
    "### Purpose\n",
    "- Hydrogen database\n",
    "- Contains information on how to connect hydrogen atoms to existing atoms\n",
    "\n",
    "### Contents\n",
    "- Residue name and number of types of hydrogen atoms that can be added by the database\n",
    "- 9 different types of hydrogens\n",
    "- Hydrogen renaming scheme\n",
    "\n",
    "### Units\n",
    "- None\n",
    "\n",
    "---"
   ]
  },
  {
   "cell_type": "markdown",
   "metadata": {},
   "source": [
    "## < filename >.r2b\n",
    "- aminoacids.r2b\n",
    "- dna.r2b\n",
    "- rna.r2b\n",
    "\n",
    "### Purpose\n",
    "- Converts standard residue names to the forcefield building block names\n",
    "\n",
    "### Contents\n",
    "- Contains 2 or 5 columns\n",
    "- 2 Columns:\n",
    "    - Residue name\n",
    "    - Building block name\n",
    "- 5 columns (3 additional columns):\n",
    "    - Building block for the residue occurring in the N-terminus, C-terminus, and both termini at the same time\n",
    "\n",
    "### Units\n",
    "- None\n",
    "\n",
    "---"
   ]
  },
  {
   "cell_type": "markdown",
   "metadata": {},
   "source": [
    "## < filename >.rtp\n",
    "- aminoacids.rtp\n",
    "- dna.rtp\n",
    "- rna.rtp\n",
    "\n",
    "### Purpose\n",
    "- Residue topology parameter file\n",
    "\n",
    "### Contents\n",
    "- Contains the topologies of the building blocks\n",
    "    - bonds\n",
    "    - charges of atoms\n",
    "    - charge groups\n",
    "    - improper dihedrals\n",
    "- First field defines the interaction type for bonds, angles, dihedrals, and improper dihedrals\n",
    "\n",
    "### Units\n",
    "- None\n",
    "\n",
    "---"
   ]
  },
  {
   "cell_type": "markdown",
   "metadata": {},
   "source": [
    "## < filename >.vsd\n",
    "- aminoacids.vsd\n",
    "\n",
    "### Purpose\n",
    "- Virtual site database\n",
    "\n",
    "### Contents\n",
    "- First section specifies mass centers to use for $CH_3$, $NH_3$, and $NH_2$ in 3 columns\n",
    "    - Atom type bound to the 2/3 hydrogens\n",
    "    - Next heavy atom type\n",
    "    - Mass center\n",
    "- Second section contains explicit equilibrium bond lengths and angles for pairs/triplets of atoms in aromatic side chains (2 or 3 columns)\n",
    "    - Atom names\n",
    "    - Bond length (nm)\n",
    "    - Bond Angle (degrees)\n",
    "\n",
    "---"
   ]
  },
  {
   "cell_type": "markdown",
   "metadata": {},
   "source": [
    "## < filename >.atp\n",
    "- atomtypes.atp\n",
    "\n",
    "### Purpose\n",
    "- Atom type parameter file\n",
    "\n",
    "### Contents\n",
    "- Defines atom types\n",
    "- First column: characteristic name or number\n",
    "- Second column: mass (a.m.u.)\n",
    "\n",
    "---"
   ]
  },
  {
   "cell_type": "markdown",
   "metadata": {},
   "source": [
    "## < filename >.itp\n",
    "- gbsa.itp\n",
    "- ions.itp\n",
    "- spc.itp\n",
    "- spce.itp\n",
    "- tip3p.itp\n",
    "- tip4p.itp\n",
    "- tip4pew.itp\n",
    "- tip5p.itp\n",
    "- urea.itp\n",
    "\n",
    "### Purpose\n",
    "- Include topology files\n",
    "- Lists information for a particular molecule for reuse\n",
    "\n",
    "### Contents\n",
    "- Contains atom types + names\n",
    "- Residue number + name\n",
    "- Atom charge\n",
    "- Atom mass (a.m.u.)\n",
    "- Nature of bonds\n",
    "\n",
    "---"
   ]
  },
  {
   "cell_type": "markdown",
   "metadata": {},
   "source": [
    "## < filename >.doc\n",
    "- forcefield.doc\n",
    "\n",
    "### Purpose\n",
    "- Read in by pdb2gmx to present a short description to the user to help in choosing a force field\n",
    "\n",
    "---"
   ]
  },
  {
   "cell_type": "markdown",
   "metadata": {},
   "source": [
    "## < filename >.dat\n",
    "- watermodels.dat\n",
    "\n",
    "### Purpose\n",
    "- Determines which residue names are considered protein, DNA, RNA, water, and ions\n",
    "\n",
    "### Contents\n",
    "- 3 columns\n",
    "    - Water model name\n",
    "    - Official water model name\n",
    "    - Water model description"
   ]
  }
 ],
 "metadata": {
  "anaconda-cloud": {},
  "kernelspec": {
   "display_name": "Python [conda root]",
   "language": "python",
   "name": "conda-root-py"
  },
  "language_info": {
   "codemirror_mode": {
    "name": "ipython",
    "version": 2
   },
   "file_extension": ".py",
   "mimetype": "text/x-python",
   "name": "python",
   "nbconvert_exporter": "python",
   "pygments_lexer": "ipython2",
   "version": "2.7.12"
  }
 },
 "nbformat": 4,
 "nbformat_minor": 1
}
