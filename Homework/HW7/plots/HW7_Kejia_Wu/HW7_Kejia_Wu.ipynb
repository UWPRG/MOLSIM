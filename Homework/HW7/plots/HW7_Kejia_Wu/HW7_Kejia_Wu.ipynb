{
 "cells": [
  {
   "cell_type": "markdown",
   "metadata": {},
   "source": [
    "## Part 1. Plots"
   ]
  },
  {
   "cell_type": "markdown",
   "metadata": {},
   "source": [
    "1.CH-CH  \n",
    "\n",
    "<img src=\"CH-CH with 3-21G.png\">\n",
    "<img src=\"CH-CH with 6-31Gd.png\">\n",
    "<img src=\"CH-CH with 6-31Gdp.png\">\n",
    "<img src=\"CH-CH with LANL2DZ.png\">\n",
    "<img src=\"CH-CH with STO-3G.png\">  \n",
    "2.CH2-CH2  \n",
    "\n",
    "<img src=\"CH2-CH2 with 3-21G.png\">\n",
    "<img src=\"CH2-CH2 with 6-31Gd.png\">\n",
    "<img src=\"CH2-CH2 with 6-31Gdp.png\">\n",
    "<img src=\"CH2-CH2 with LANL2DZ.png\">\n",
    "<img src=\"CH2-CH2 with STO-3G.png\">  \n",
    "3.CH3-CH3  \n",
    "\n",
    "<img src=\"CH3-CH3 with 3-21G.png\">\n",
    "<img src=\"CH3-CH3 with 6-31Gd.png\">\n",
    "<img src=\"CH3-CH3 with 6-31Gdp.png\">\n",
    "<img src=\"CH3-CH3 with LANL2DZ.png\">\n",
    "<img src=\"CH3-CH3 with STO-3G.png\">  \n",
    "4.H2-H2\n",
    "\n",
    "<img src=\"H2-H2 with 3-21G.png\">\n",
    "<img src=\"H2-H2 with 6-31Gd.png\">\n",
    "<img src=\"H2-H2 with 6-31Gdp.png\">\n",
    "<img src=\"H2-H2 with LANL2DZ.png\">\n",
    "<img src=\"H2-H2 with STO-3G.png\">"
   ]
  },
  {
   "cell_type": "markdown",
   "metadata": {},
   "source": [
    "## Part 2. Tables\n",
    "\n",
    "### From Avogadro"
   ]
  },
  {
   "cell_type": "markdown",
   "metadata": {},
   "source": [
    "Molecule |Bond    | GAFF  | UFF   |Experiment\n",
    "---------|--------|-------|-------|----------\n",
    "H-H      | R(H-H) | 1.1   | 0.708 |0.741\n",
    "H3C-CH3  | R(C-C) | 1.537 | 1.519 |1.526\n",
    "         | R(C-H) | 1.092 | 1.11  |1.088\n",
    "H2C-CH2  | R(C-C) | 1.325 | 1.331 |1.339\n",
    "         | R(C-H) | 1.087 | 1.085 |1.085\n",
    "HC-CH    | R(C-C) | 1.205 | 1.205 |1.203\n",
    "         | R(C-H) | 1.058 | 1.058 |1.061"
   ]
  },
  {
   "cell_type": "markdown",
   "metadata": {},
   "source": [
    "### From Gaussian\n",
    "\n",
    "1.B3LYP\n",
    "\n",
    "Molecule |Bond    |6-31Gd |6-31Gdp|LANL2DZ|STO-3G |3-21G  |Experiment\n",
    "---------|--------|-------|-------|-------|-------|-------|-------------\n",
    "H-H      | R(H-H) |0.74279|0.74280|0.74348|0.72838|0.74623|0.741\n",
    "Time     |        |15.4 s |18.5 s |14.7 s |13.7 s |14.0 s |\n",
    "H3C-CH3  | R(C-C) |1.53109|1.53050|1.54351|1.55121|1.53148|1.526\n",
    "         | R(C-H) |1.09629|1.09513|1.09795|1.10097|1.09592|1.088\n",
    "Time     |        |1min 40|41.1 s |31.6 s |21.3 s |1min 4s|\n",
    "H2C-CH2  | R(C-C) |1.32451|1.32451|1.32451|1.32451|1.32451|1.339\n",
    "         | R(C-H) |1.08726|1.08726|1.08726|1.08726|1.08726|1.085\n",
    "Time     |        |41.8 s |46.6 s |29.9 s |22.4 s |30.1 s |\n",
    "HC-CH    | R(C-C) |1.20498|1.20535|1.22228|1.20055|1.20366|1.203\n",
    "         | R(C-H) |1.06664|1.06572|1.06783|1.08084|1.06224|1.061\n",
    "Time     |        |29.5 s |26.8 s |21.0 s |26.2 s |19.7 s |\n",
    "\n",
    "2.CCSD\n",
    " \n",
    " Molecule| Bond   | 6-31Gd|6-31Gdp|LANL2DZ|STO-3G |3-21G  |Experiment\n",
    "---------|--------|-------|-------|-------|-------|-------|-------------\n",
    "H-H      | R(H-H) |0.74621|0.73845|0.74730|0.70800|0.74981|0.741\n",
    "Time     |        |23.3 s |35.1 s |36.3 s |3.5 s  |22.2 s |  \n",
    "H3C-CH3  | R(C-C) |1.52559|1.52530|1.53917|1.54104|1.54307|1.526\n",
    "         | R(C-H) |1.09390|1.09315|1.09493|1.09571|1.09420|1.088\n",
    "Time     |        |3min 26|8min 12|1min 17|1min 2s|1min 32| \n",
    "H2C-CH2  | R(C-C) |1.33790|1.33646|1.36970|1.35490|1.34387|1.339\n",
    "         | R(C-H) |1.08803|1.08188|1.09782|1.10609|1.08976|1.085\n",
    "Time     |        |2min 30|5min 34|1min 15|51.3 s |1min 12| \n",
    "HC-CH    | R(C-C) |1.20498|1.20535|1.22228|1.20055|1.20366|1.203\n",
    "         | R(C-H) |1.06664|1.06572|1.06783|1.08084|1.06224|1.061\n",
    "Time     |        |2min 1s|2min 28|1min 30|1min 19|1min 54| \n",
    "         \n",
    "3.MP2\n",
    "\n",
    "Molecule |Bond    |6-31Gd |6-31Gdp|LANL2DZ|STO-3G |3-21G  |Experiment\n",
    "---------|--------|-------|-------|-------|-------|-------|-------------\n",
    "H-H      | R(H-H) |0.73752|0.73393|0.73835|0.72374|0.74136|0.741\n",
    "Time     |        |15.2 s |19.1 s |15.9 s |15.4 s |11.5 s |\n",
    "H3C-CH3  | R(C-C) |1.52527|1.52345|1.56173|1.55541|1.55083|1.526\n",
    "         | R(C-H) |1.09327|1.08872|1.10492|1.10309|1.09481|1.088\n",
    "Time     |        |33.6 s |38.1 s |26.1 s |31.2 s |24.1 s |\n",
    "H2C-CH2  | R(C-C) |1.33662|1.33535|1.36762|1.34498|1.34115|1.339\n",
    "         | R(C-H) |1.08505|1.08065|1.09414|1.09840|1.08560|1.085\n",
    "Time     |        |32.9 s |35.5 s |25.8 s |30.3 s |23.1 s |\n",
    "HC-CH    | R(C-C) |1.21768|1.21855|1.24606|1.21829|1.22169|1.203\n",
    "         | R(C-H) |1.06614|1.06245|1.07186|1.08070|1.06429|1.061\n",
    "Time     |        |33.1 s |36.2 s |25.4 s |30.5 s |23.7 s |\n",
    "\n",
    "4.M062X\n",
    "\n",
    "Molecule |Bond    |6-31Gd |6-31Gdp|LANL2DZ|STO-3G |3-21G  |Experiment\n",
    "---------|--------|-------|-------|-------|-------|-------|-------------\n",
    "H-H      | R(H-H) |0.73653|0.73649|0.73747|0.72207|0.74145|0.741\n",
    "Time     |        |17.0 s |14.4 s |14.6 s |17.1 s |10.5 s |\n",
    "H3C-CH3  | R(C-C) |1.52559|1.52530|1.53917|1.54104|1.54307|1.526\n",
    "         | R(C-H) |1.09390|1.09315|1.09493|1.09571|1.09403|1.088\n",
    "Time     |        |38.0 s |44.0 s |35.1 s |28.5 s |45.3 s |\n",
    "H2C-CH2  | R(C-C) |1.32744|1.32687|1.34311|1.32245|1.32751|1.339\n",
    "         | R(C-H) |1.08590|1.08541|1.08628|1.09227|1.08471|1.085\n",
    "Time     |        |40.2 s |45.9 s |37.8 s |29.9 s |28.8 s | \n",
    "HC-CH    | R(C-C) |1.20193|1.20235|1.21687|1.19260|1.20226|1.203\n",
    "         | R(C-H) |1.06712|1.06643|1.06706|1.07782|1.06209|1.061\n",
    "Time     |        |26.2 s |27.6 s |21.8 s |27.8 s |22.1 s |"
   ]
  },
  {
   "cell_type": "markdown",
   "metadata": {},
   "source": [
    "Questions:\n",
    "* What level of theory and basis set gave the best values, compared with the experimental one?\n",
    "Based on the tables above, 6-31Gd would be the one which is closest to the experimental results.  \n",
    "\n",
    "\n",
    "* What was the fastest calculation?  \n",
    "B3LYP is almost the fastest theory and 3-21G is the fastest basis set in most cases (However, in CCSD theory STO-3G is much faster than 3-21G)."
   ]
  },
  {
   "cell_type": "markdown",
   "metadata": {},
   "source": [
    "## Part 3. Explanations"
   ]
  },
  {
   "cell_type": "markdown",
   "metadata": {},
   "source": [
    "### Thoeries\n",
    "1.B3LYP  \n",
    "\n",
    "B3 is Becke's 3 paramater exchange correlation functional which uses 3 parameters to mix in the exact Hartree-Fock exchange correlation and LYP is the Lee Yang and Parr correlation functional that recovers dynamic electron correlation.  \n",
    "\n",
    "B3LYP is popular for many reasons:\n",
    "* one of the first DFT methods that was a significant improvement over Hartree-Fock.  \n",
    "* generally faster than most Post Hartree-Fock techniques and usually yields comparable results.  \n",
    "* fairly robust for a DFT method. "
   ]
  },
  {
   "cell_type": "markdown",
   "metadata": {},
   "source": [
    "2.CCSD  \n",
    "\n",
    "It means Coupled Cluster for Single and Double excitations. This theory takes a basic Hartree Fock molecular orbital method and includes multi-electron wavefunctions using exponential cluster operator to account for electrom correlation. Some of the most accurate calculations for small to medium sized molecules use this method."
   ]
  },
  {
   "cell_type": "markdown",
   "metadata": {},
   "source": [
    "3.MP2  \n",
    "\n",
    "MP2 is a post-Hartree-Fock method and stems from Moller-Plesset perturbation theory, which improves on Hartree-Fock methods by adding the effects of electron-electron interactions. This is a higher level of theory than DFT that produces more accurate results, but is more computationally expensive."
   ]
  },
  {
   "cell_type": "markdown",
   "metadata": {},
   "source": [
    "4.M06-2X  \n",
    "\n",
    "M06-2X is of the Minnesota functionals family. Published in 2006 by Prof. Donald Truhlar at the University of Minesota. This functional contains 54% Hartree-Fock exchange and is therefore a hybrid functional. The 2x becomes apparent when it is compared to its 'little brother', the M06 functional that contains 27% Hartree-Fock exchange."
   ]
  },
  {
   "cell_type": "markdown",
   "metadata": {},
   "source": [
    "### Basis sets\n",
    "In quantum chemistry, the “basis set” often refers to any set of (usually nonorthogonal) one-particle functions used to build molecular orbitals.  \n",
    "\n",
    "1.3-21G  \n",
    "\n",
    "3-21G is a split valence basis set where core orbitals are a contraction on 3 GTO’s, the inner part of the valence AOs is a contraction of 2 GTO’s and the outer part is given by 1 GTO.  \n",
    "\n",
    "2.6-31G  \n",
    "\n",
    "6-31G* [or 6-31G(d)] is 6-31G with added d polarization functions on non-hydrogen atoms; 6- 31G** [or 6-31G(d,p)] is 6-31G* plus p polarization functions for hydrogen.\n",
    "\n",
    "3.6-31Gdp  \n",
    "\n",
    "Similar to the basis set above, but allows for polarization in the p-shell as well.  \n",
    "\n",
    "4.STO-3G  \n",
    "\n",
    "STO-nG are minimal basis sets in which each AO is represented by n Gaussians, chosen to mimic the behavior of a STO."
   ]
  },
  {
   "cell_type": "code",
   "execution_count": null,
   "metadata": {
    "collapsed": true
   },
   "outputs": [],
   "source": []
  }
 ],
 "metadata": {
  "kernelspec": {
   "display_name": "Python [default]",
   "language": "python",
   "name": "python3"
  },
  "language_info": {
   "codemirror_mode": {
    "name": "ipython",
    "version": 3
   },
   "file_extension": ".py",
   "mimetype": "text/x-python",
   "name": "python",
   "nbconvert_exporter": "python",
   "pygments_lexer": "ipython3",
   "version": "3.5.2"
  }
 },
 "nbformat": 4,
 "nbformat_minor": 2
}
