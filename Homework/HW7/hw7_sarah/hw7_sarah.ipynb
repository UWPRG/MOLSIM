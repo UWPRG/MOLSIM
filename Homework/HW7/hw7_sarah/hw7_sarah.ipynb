{
 "cells": [
  {
   "cell_type": "code",
   "execution_count": 3,
   "metadata": {
    "collapsed": false
   },
   "outputs": [],
   "source": [
    "from astropy.table import Table, Column\n",
    "import numpy as np"
   ]
  },
  {
   "cell_type": "code",
   "execution_count": 19,
   "metadata": {
    "collapsed": false
   },
   "outputs": [],
   "source": [
    "mol=['h-h','h3c-ch3','h3c-ch3','h2c-ch2','h2c-ch2','hc-ch','hc-ch'] \n",
    "bond=['R(H-H)','R(C-C)','R(C-H)','R(C-C)','R(C-H)','R(C-C)','R(C-H)']\n",
    "gaff=[1.100,1.537,1.092,1.325,1.087,1.181,1.066] #angstroms\n",
    "uff=[0.708,1.519, 1.110,1.331,1.085,1.205,1.058] #angstroms\n",
    "exp=[0.741, 1.526,1.088,1.339,1.085,1.203,1.061] #angstroms"
   ]
  },
  {
   "cell_type": "code",
   "execution_count": 154,
   "metadata": {
    "collapsed": false
   },
   "outputs": [],
   "source": [
    "calctime= np.loadtxt('calctime.txt')\n",
    "h2_calctime=np.loadtxt('h2_time.txt')\n",
    "ccbonds= np.loadtxt('ccbonds.txt')\n",
    "chbonds= np.loadtxt('chbonds.txt')\n",
    "hhbonds= np.loadtxt('h2_bond.txt')\n",
    "cbond=['R(C-C)','R(C-C)','R(C-C)','R(C-C)']\n",
    "hbond=['R(C-H)','R(C-H)','R(C-H)','R(C-H)']\n",
    "hhbond=['R(H-H)','R(H-H)','R(H-H)','R(H-H)']\n",
    "titles=['XC Function','bond','dist (A)','bond ','dist (A) ', 'calc time (m)', 'calc time (s)']\n",
    "titles2=['XC Function','bond','dist(A)','calc time (m)', 'calc time (s)']\n",
    "xc=['B3LYP','MP2','CCSD','M062X',]"
   ]
  },
  {
   "cell_type": "code",
   "execution_count": 155,
   "metadata": {
    "collapsed": false
   },
   "outputs": [],
   "source": [
    "#setting up tables\n",
    "ch3_basis1 = Table([xc,cbond,ccbonds[0:4],hbond,chbonds[0:4],calctime[0:4,1],calctime[0:4,2]], names=titles)\n",
    "ch3_basis2 = Table([xc,cbond,ccbonds[4:8],hbond,chbonds[4:8],calctime[4:8,1],calctime[4:8,2]], names=titles)\n",
    "ch3_basis3 = Table([xc,cbond,ccbonds[8:12],hbond,chbonds[8:12],calctime[8:12,1],calctime[8:12,2]], names=titles)\n",
    "ch3_basis4 = Table([xc,cbond,ccbonds[12:16],hbond,chbonds[12:16],calctime[12:16,1],calctime[12:16,2]], names=titles)\n",
    "ch3_basis5 = Table([xc,cbond,ccbonds[16:20],hbond,chbonds[16:20],calctime[16:20,1],calctime[16:20,2]], names=titles)\n",
    "ch2_basis1 = Table([xc,cbond,ccbonds[20:24],hbond,chbonds[20:24],calctime[20:24,1],calctime[20:24,2]], names=titles)\n",
    "ch2_basis2 = Table([xc,cbond,ccbonds[24:28],hbond,chbonds[24:28],calctime[24:28,1],calctime[24:28,2]], names=titles)\n",
    "ch2_basis3 = Table([xc,cbond,ccbonds[28:32],hbond,chbonds[28:32],calctime[28:32,1],calctime[28:32,2]], names=titles)\n",
    "ch2_basis4 = Table([xc,cbond,ccbonds[32:36],hbond,chbonds[32:36],calctime[32:36,1],calctime[32:36,2]], names=titles)\n",
    "ch2_basis5 = Table([xc,cbond,ccbonds[36:40],hbond,chbonds[36:40],calctime[36:40,1],calctime[36:40,2]], names=titles)\n",
    "ch_basis1 = Table([xc,cbond,ccbonds[40:44],hbond,chbonds[40:44],calctime[40:44,1],calctime[40:44,2]], names=titles)\n",
    "ch_basis2 = Table([xc,cbond,ccbonds[44:48],hbond,chbonds[44:48],calctime[44:48,1],calctime[44:48,2]], names=titles)\n",
    "ch_basis3 = Table([xc,cbond,ccbonds[48:52],hbond,chbonds[48:52],calctime[48:52,1],calctime[48:52,2]], names=titles)\n",
    "ch_basis4 = Table([xc,cbond,ccbonds[52:56],hbond,chbonds[52:56],calctime[52:56,1],calctime[52:56,2]], names=titles)\n",
    "ch_basis5 = Table([xc,cbond,ccbonds[56:60],hbond,chbonds[56:60],calctime[56:60,1],calctime[56:60,2]], names=titles)\n",
    "h2_basis1 = Table([xc,hhbond,hhbonds[0:4],h2_calctime[0:4,1],h2_calctime[0:4,2]], names=titles2)\n",
    "h2_basis2 = Table([xc,hhbond,hhbonds[4:8],h2_calctime[4:8,1],h2_calctime[4:8,2]], names=titles2)\n",
    "h2_basis3 = Table([xc,hhbond,hhbonds[8:12],h2_calctime[8:12,1],h2_calctime[8:12,2]], names=titles2)\n",
    "h2_basis4 = Table([xc,hhbond,hhbonds[12:16],h2_calctime[12:16,1],h2_calctime[12:16,2]], names=titles2)\n",
    "h2_basis5 = Table([xc,hhbond,hhbonds[16:20],h2_calctime[16:20,1],h2_calctime[16:20,2]], names=titles2)\n"
   ]
  },
  {
   "cell_type": "code",
   "execution_count": 146,
   "metadata": {
    "collapsed": false
   },
   "outputs": [],
   "source": [
    "avogadro = Table([mol,bond,gaff,uff,exp], names=('Molecules','Bond','GAFF (A)','UFF (A)','Experimental (A)'))"
   ]
  },
  {
   "cell_type": "markdown",
   "metadata": {},
   "source": [
    "## Part 1: Using Avogadro to Measure Bond Distances\n",
    "- Use GAFF, UFF\n",
    "- Use conjugate gradient algorithm"
   ]
  },
  {
   "cell_type": "code",
   "execution_count": 147,
   "metadata": {
    "collapsed": false
   },
   "outputs": [
    {
     "name": "stdout",
     "output_type": "stream",
     "text": [
      "Molecules  Bond  GAFF (A) UFF (A) Experimental (A)\n",
      "--------- ------ -------- ------- ----------------\n",
      "      h-h R(H-H)      1.1   0.708            0.741\n",
      "  h3c-ch3 R(C-C)    1.537   1.519            1.526\n",
      "  h3c-ch3 R(C-H)    1.092    1.11            1.088\n",
      "  h2c-ch2 R(C-C)    1.325   1.331            1.339\n",
      "  h2c-ch2 R(C-H)    1.087   1.085            1.085\n",
      "    hc-ch R(C-C)    1.181   1.205            1.203\n",
      "    hc-ch R(C-H)    1.066   1.058            1.061\n"
     ]
    }
   ],
   "source": [
    "print (avogadro)"
   ]
  },
  {
   "cell_type": "markdown",
   "metadata": {},
   "source": [
    "## Part 2: Perform optimization in Gaussian and compare to experimental results in a table "
   ]
  },
  {
   "cell_type": "markdown",
   "metadata": {},
   "source": [
    "### CH3\n",
    "Experimental values were 1.526 and 1.088 for the C-C and C-H bond, respectively. "
   ]
  },
  {
   "cell_type": "markdown",
   "metadata": {},
   "source": [
    "#### STO-3G"
   ]
  },
  {
   "cell_type": "code",
   "execution_count": 156,
   "metadata": {
    "collapsed": false
   },
   "outputs": [
    {
     "name": "stdout",
     "output_type": "stream",
     "text": [
      "XC Function  bond  dist (A) bond   dist (A)  calc time (m) calc time (s)\n",
      "----------- ------ -------- ------ --------- ------------- -------------\n",
      "      B3LYP R(C-C)   1.5516 R(C-H)    1.1008           0.0          42.1\n",
      "        MP2 R(C-C)   1.5559 R(C-H)    1.1033           0.0          24.1\n",
      "       CCSD R(C-C)   1.5634 R(C-H)    1.1118           0.0          53.7\n",
      "      M062X R(C-C)    1.541 R(C-H)    1.0955           0.0          41.1\n"
     ]
    }
   ],
   "source": [
    "print(ch3_basis1)"
   ]
  },
  {
   "cell_type": "markdown",
   "metadata": {},
   "source": [
    "#### 3-21G"
   ]
  },
  {
   "cell_type": "code",
   "execution_count": 157,
   "metadata": {
    "collapsed": false
   },
   "outputs": [
    {
     "name": "stdout",
     "output_type": "stream",
     "text": [
      "XC Function  bond  dist (A) bond   dist (A)  calc time (m) calc time (s)\n",
      "----------- ------ -------- ------ --------- ------------- -------------\n",
      "      B3LYP R(C-C)   1.5433 R(C-H)    1.0955           0.0          47.5\n",
      "        MP2 R(C-C)   1.5506 R(C-H)    1.0948           0.0          46.2\n",
      "       CCSD R(C-C)   1.5561 R(C-H)    1.0992           1.0          59.0\n",
      "      M062X R(C-C)   1.5418 R(C-H)    1.0939           0.0          42.6\n"
     ]
    }
   ],
   "source": [
    "print(ch3_basis2)"
   ]
  },
  {
   "cell_type": "markdown",
   "metadata": {},
   "source": [
    "#### 6-31G(d)"
   ]
  },
  {
   "cell_type": "code",
   "execution_count": 158,
   "metadata": {
    "collapsed": false
   },
   "outputs": [
    {
     "name": "stdout",
     "output_type": "stream",
     "text": [
      "XC Function  bond  dist (A) bond   dist (A)  calc time (m) calc time (s)\n",
      "----------- ------ -------- ------ --------- ------------- -------------\n",
      "      B3LYP R(C-C)   1.5315 R(C-H)    1.0959           0.0          38.3\n",
      "        MP2 R(C-C)   1.5263 R(C-H)     1.093           0.0          43.1\n",
      "       CCSD R(C-C)   1.5298 R(C-H)    1.0964           3.0          38.6\n",
      "      M062X R(C-C)   1.5269 R(C-H)    1.0936           0.0          52.9\n"
     ]
    }
   ],
   "source": [
    "print(ch3_basis3)"
   ]
  },
  {
   "cell_type": "markdown",
   "metadata": {},
   "source": [
    "#### 6-31G(d,p)"
   ]
  },
  {
   "cell_type": "code",
   "execution_count": 159,
   "metadata": {
    "collapsed": false
   },
   "outputs": [
    {
     "name": "stdout",
     "output_type": "stream",
     "text": [
      "XC Function  bond  dist (A) bond   dist (A)  calc time (m) calc time (s)\n",
      "----------- ------ -------- ------ --------- ------------- -------------\n",
      "      B3LYP R(C-C)    1.531 R(C-H)    1.0948           0.0          45.1\n",
      "        MP2 R(C-C)   1.5237 R(C-H)    1.0887           0.0          40.0\n",
      "       CCSD R(C-C)   1.5272 R(C-H)    1.0904          12.0           4.1\n",
      "      M062X R(C-C)   1.5267 R(C-H)    1.0929           1.0           4.1\n"
     ]
    }
   ],
   "source": [
    "print(ch3_basis4)"
   ]
  },
  {
   "cell_type": "markdown",
   "metadata": {},
   "source": [
    "#### LANL2DZ"
   ]
  },
  {
   "cell_type": "code",
   "execution_count": 160,
   "metadata": {
    "collapsed": false
   },
   "outputs": [
    {
     "name": "stdout",
     "output_type": "stream",
     "text": [
      "XC Function  bond  dist (A) bond   dist (A)  calc time (m) calc time (s)\n",
      "----------- ------ -------- ------ --------- ------------- -------------\n",
      "      B3LYP R(C-C)    1.544 R(C-H)    1.0979           0.0          31.9\n",
      "        MP2 R(C-C)   1.5613 R(C-H)    1.1049           0.0          41.6\n",
      "       CCSD R(C-C)   1.5646 R(C-H)    1.1092           1.0          40.1\n",
      "      M062X R(C-C)   1.5386 R(C-H)    1.0947           1.0           7.5\n"
     ]
    }
   ],
   "source": [
    "print(ch3_basis5)"
   ]
  },
  {
   "cell_type": "markdown",
   "metadata": {},
   "source": [
    "### CH2\n",
    "Experimental values were 1.339 and 1.085 for the C-C and C-H bond, respectively."
   ]
  },
  {
   "cell_type": "markdown",
   "metadata": {},
   "source": [
    "#### STO-3G"
   ]
  },
  {
   "cell_type": "code",
   "execution_count": 161,
   "metadata": {
    "collapsed": false
   },
   "outputs": [
    {
     "name": "stdout",
     "output_type": "stream",
     "text": [
      "XC Function  bond  dist (A) bond   dist (A)  calc time (m) calc time (s)\n",
      "----------- ------ -------- ------ --------- ------------- -------------\n",
      "      B3LYP R(C-C)   1.3328 R(C-H)    1.0973           0.0          23.1\n",
      "        MP2 R(C-C)    1.345 R(C-H)    1.0984           0.0          29.4\n",
      "       CCSD R(C-C)   1.3549 R(C-H)    1.1061           0.0          58.8\n",
      "      M062X R(C-C)   1.3225 R(C-H)    1.0923           0.0          38.9\n"
     ]
    }
   ],
   "source": [
    "print(ch2_basis1)"
   ]
  },
  {
   "cell_type": "markdown",
   "metadata": {},
   "source": [
    "#### 3-21G"
   ]
  },
  {
   "cell_type": "code",
   "execution_count": 162,
   "metadata": {
    "collapsed": false
   },
   "outputs": [
    {
     "name": "stdout",
     "output_type": "stream",
     "text": [
      "XC Function  bond  dist (A) bond   dist (A)  calc time (m) calc time (s)\n",
      "----------- ------ -------- ------ --------- ------------- -------------\n",
      "      B3LYP R(C-C)   1.3293 R(C-H)    1.0857           0.0          23.9\n",
      "        MP2 R(C-C)   1.3409 R(C-H)    1.0856           0.0          39.0\n",
      "       CCSD R(C-C)   1.3435 R(C-H)    1.0898           1.0          19.5\n",
      "      M062X R(C-C)   1.3275 R(C-H)    1.0848           0.0          34.5\n"
     ]
    }
   ],
   "source": [
    "print(ch2_basis2)"
   ]
  },
  {
   "cell_type": "markdown",
   "metadata": {},
   "source": [
    "#### 6-31G(d)"
   ]
  },
  {
   "cell_type": "code",
   "execution_count": 163,
   "metadata": {
    "collapsed": false
   },
   "outputs": [
    {
     "name": "stdout",
     "output_type": "stream",
     "text": [
      "XC Function  bond  dist (A) bond   dist (A)  calc time (m) calc time (s)\n",
      "----------- ------ -------- ------ --------- ------------- -------------\n",
      "      B3LYP R(C-C)   1.3308 R(C-H)    1.0874           0.0          52.4\n",
      "        MP2 R(C-C)   1.3364 R(C-H)    1.0851           0.0          44.3\n",
      "       CCSD R(C-C)   1.3375 R(C-H)    1.0881           3.0          19.4\n",
      "      M062X R(C-C)   1.3271 R(C-H)     1.086           0.0          44.2\n"
     ]
    }
   ],
   "source": [
    "print(ch2_basis3)"
   ]
  },
  {
   "cell_type": "markdown",
   "metadata": {},
   "source": [
    "#### 6-31G(d,p)"
   ]
  },
  {
   "cell_type": "code",
   "execution_count": 164,
   "metadata": {
    "collapsed": false
   },
   "outputs": [
    {
     "name": "stdout",
     "output_type": "stream",
     "text": [
      "XC Function  bond  dist (A) bond   dist (A)  calc time (m) calc time (s)\n",
      "----------- ------ -------- ------ --------- ------------- -------------\n",
      "      B3LYP R(C-C)     1.33 R(C-H)    1.0866           0.0          37.6\n",
      "        MP2 R(C-C)   1.3353 R(C-H)    1.0807           0.0          50.4\n",
      "       CCSD R(C-C)   1.3363 R(C-H)    1.0819           6.0          54.9\n",
      "      M062X R(C-C)   1.3266 R(C-H)    1.0856           0.0          49.9\n"
     ]
    }
   ],
   "source": [
    "print(ch2_basis4)"
   ]
  },
  {
   "cell_type": "markdown",
   "metadata": {},
   "source": [
    "#### LANL2DZ"
   ]
  },
  {
   "cell_type": "code",
   "execution_count": 165,
   "metadata": {
    "collapsed": false
   },
   "outputs": [
    {
     "name": "stdout",
     "output_type": "stream",
     "text": [
      "XC Function  bond  dist (A) bond   dist (A)  calc time (m) calc time (s)\n",
      "----------- ------ -------- ------ --------- ------------- -------------\n",
      "      B3LYP R(C-C)   1.3481 R(C-H)    1.0884           0.0          33.3\n",
      "        MP2 R(C-C)   1.3678 R(C-H)    1.0941           0.0          33.6\n",
      "       CCSD R(C-C)   1.3696 R(C-H)    1.0979           1.0          30.2\n",
      "      M062X R(C-C)   1.3429 R(C-H)    1.0863           0.0          47.9\n"
     ]
    }
   ],
   "source": [
    "print(ch2_basis5)"
   ]
  },
  {
   "cell_type": "markdown",
   "metadata": {},
   "source": [
    "### CH\n",
    "Experimental values were 1.203 and 1.061 for the C-C and C-H bond, respectively."
   ]
  },
  {
   "cell_type": "markdown",
   "metadata": {},
   "source": [
    "#### 3-21G"
   ]
  },
  {
   "cell_type": "code",
   "execution_count": 166,
   "metadata": {
    "collapsed": false
   },
   "outputs": [
    {
     "name": "stdout",
     "output_type": "stream",
     "text": [
      "XC Function  bond  dist (A) bond   dist (A)  calc time (m) calc time (s)\n",
      "----------- ------ -------- ------ --------- ------------- -------------\n",
      "      B3LYP R(C-C)   1.2005 R(C-H)    1.0808           0.0          25.6\n",
      "        MP2 R(C-C)   1.2183 R(C-H)    1.0807           0.0          29.7\n",
      "       CCSD R(C-C)   1.2126 R(C-H)    1.0878           0.0          57.9\n",
      "      M062X R(C-C)   1.1926 R(C-H)    1.0778           0.0          26.6\n"
     ]
    }
   ],
   "source": [
    "print(ch_basis1)"
   ]
  },
  {
   "cell_type": "markdown",
   "metadata": {},
   "source": [
    "#### STO-3G"
   ]
  },
  {
   "cell_type": "code",
   "execution_count": 167,
   "metadata": {
    "collapsed": false
   },
   "outputs": [
    {
     "name": "stdout",
     "output_type": "stream",
     "text": [
      "XC Function  bond  dist (A) bond   dist (A)  calc time (m) calc time (s)\n",
      "----------- ------ -------- ------ --------- ------------- -------------\n",
      "      B3LYP R(C-C)   1.2037 R(C-H)    1.0622           0.0          21.2\n",
      "        MP2 R(C-C)   1.2217 R(C-H)    1.0643           0.0          24.8\n",
      "       CCSD R(C-C)   1.2168 R(C-H)    1.0684           1.0           8.2\n",
      "      M062X R(C-C)   1.2023 R(C-H)    1.0621           0.0          20.9\n"
     ]
    }
   ],
   "source": [
    "print(ch_basis2)"
   ]
  },
  {
   "cell_type": "markdown",
   "metadata": {},
   "source": [
    "#### 6-31G(d)"
   ]
  },
  {
   "cell_type": "code",
   "execution_count": 168,
   "metadata": {
    "collapsed": false
   },
   "outputs": [
    {
     "name": "stdout",
     "output_type": "stream",
     "text": [
      "XC Function  bond  dist (A) bond   dist (A)  calc time (m) calc time (s)\n",
      "----------- ------ -------- ------ --------- ------------- -------------\n",
      "      B3LYP R(C-C)    1.205 R(C-H)    1.0666           0.0          26.1\n",
      "        MP2 R(C-C)   1.2177 R(C-H)    1.0661           0.0          33.1\n",
      "       CCSD R(C-C)   1.2115 R(C-H)    1.0687           1.0          42.4\n",
      "      M062X R(C-C)   1.2019 R(C-H)    1.0671           0.0          27.3\n"
     ]
    }
   ],
   "source": [
    "print(ch_basis3)"
   ]
  },
  {
   "cell_type": "markdown",
   "metadata": {},
   "source": [
    "#### 6-31G(d,p)"
   ]
  },
  {
   "cell_type": "code",
   "execution_count": 169,
   "metadata": {
    "collapsed": false
   },
   "outputs": [
    {
     "name": "stdout",
     "output_type": "stream",
     "text": [
      "XC Function  bond  dist (A) bond   dist (A)  calc time (m) calc time (s)\n",
      "----------- ------ -------- ------ --------- ------------- -------------\n",
      "      B3LYP R(C-C)   1.2054 R(C-H)    1.0657           0.0          30.3\n",
      "        MP2 R(C-C)   1.2186 R(C-H)    1.0624           0.0          35.7\n",
      "       CCSD R(C-C)   1.2121 R(C-H)    1.0636           2.0          12.9\n",
      "      M062X R(C-C)   1.2024 R(C-H)    1.0664           0.0          29.0\n"
     ]
    }
   ],
   "source": [
    "print(ch_basis4)"
   ]
  },
  {
   "cell_type": "markdown",
   "metadata": {},
   "source": [
    "#### LANL2DZ"
   ]
  },
  {
   "cell_type": "code",
   "execution_count": 170,
   "metadata": {
    "collapsed": false
   },
   "outputs": [
    {
     "name": "stdout",
     "output_type": "stream",
     "text": [
      "XC Function  bond  dist (A) bond   dist (A)  calc time (m) calc time (s)\n",
      "----------- ------ -------- ------ --------- ------------- -------------\n",
      "      B3LYP R(C-C)   1.2223 R(C-H)    1.0678           0.0          21.5\n",
      "        MP2 R(C-C)   1.2461 R(C-H)    1.0719           0.0          25.3\n",
      "       CCSD R(C-C)   1.2394 R(C-H)    1.0754           1.0          22.7\n",
      "      M062X R(C-C)   1.2169 R(C-H)    1.0671           0.0          23.3\n"
     ]
    }
   ],
   "source": [
    "print(ch_basis5)"
   ]
  },
  {
   "cell_type": "markdown",
   "metadata": {},
   "source": [
    "### H2\n",
    "Experimental value was 0.741"
   ]
  },
  {
   "cell_type": "markdown",
   "metadata": {},
   "source": [
    "#### STO-3G"
   ]
  },
  {
   "cell_type": "code",
   "execution_count": 171,
   "metadata": {
    "collapsed": false
   },
   "outputs": [
    {
     "name": "stdout",
     "output_type": "stream",
     "text": [
      "XC Function  bond  dist(A) calc time (m) calc time (s)\n",
      "----------- ------ ------- ------------- -------------\n",
      "      B3LYP R(H-H)  0.7284           0.0          13.5\n",
      "        MP2 R(H-H)  0.7237           0.0          14.9\n",
      "       CCSD R(H-H)   0.708           0.0           3.5\n",
      "      M062X R(H-H)  0.7221           0.0          13.3\n"
     ]
    }
   ],
   "source": [
    "print(h2_basis1)"
   ]
  },
  {
   "cell_type": "markdown",
   "metadata": {},
   "source": [
    "#### 3-21G"
   ]
  },
  {
   "cell_type": "code",
   "execution_count": 172,
   "metadata": {
    "collapsed": false
   },
   "outputs": [
    {
     "name": "stdout",
     "output_type": "stream",
     "text": [
      "XC Function  bond  dist(A) calc time (m) calc time (s)\n",
      "----------- ------ ------- ------------- -------------\n",
      "      B3LYP R(H-H)  0.7462           0.0          13.7\n",
      "        MP2 R(H-H)  0.7414           0.0          11.0\n",
      "       CCSD R(H-H)  0.7498           0.0          23.2\n",
      "      M062X R(H-H)  0.7415           0.0          10.8\n"
     ]
    }
   ],
   "source": [
    "print(h2_basis2)"
   ]
  },
  {
   "cell_type": "markdown",
   "metadata": {},
   "source": [
    "#### 6-31G(d)"
   ]
  },
  {
   "cell_type": "code",
   "execution_count": 173,
   "metadata": {
    "collapsed": false
   },
   "outputs": [
    {
     "name": "stdout",
     "output_type": "stream",
     "text": [
      "XC Function  bond  dist(A) calc time (m) calc time (s)\n",
      "----------- ------ ------- ------------- -------------\n",
      "      B3LYP R(H-H)  0.7428           0.0          13.8\n",
      "        MP2 R(H-H)  0.7375           0.0          15.1\n",
      "       CCSD R(H-H)  0.7462           0.0          22.6\n",
      "      M062X R(H-H)  0.7365           0.0          14.2\n"
     ]
    }
   ],
   "source": [
    "print(h2_basis3)"
   ]
  },
  {
   "cell_type": "markdown",
   "metadata": {},
   "source": [
    "#### 6-31G(d,p)"
   ]
  },
  {
   "cell_type": "code",
   "execution_count": 174,
   "metadata": {
    "collapsed": false
   },
   "outputs": [
    {
     "name": "stdout",
     "output_type": "stream",
     "text": [
      "XC Function  bond  dist(A) calc time (m) calc time (s)\n",
      "----------- ------ ------- ------------- -------------\n",
      "      B3LYP R(H-H)  0.7428           0.0          21.3\n",
      "        MP2 R(H-H)  0.7339           0.0          16.1\n",
      "       CCSD R(H-H)  0.7385           0.0          36.7\n",
      "      M062X R(H-H)  0.7365           0.0          13.9\n"
     ]
    }
   ],
   "source": [
    "print(h2_basis4)"
   ]
  },
  {
   "cell_type": "markdown",
   "metadata": {},
   "source": [
    "#### LANL2DZ"
   ]
  },
  {
   "cell_type": "code",
   "execution_count": 175,
   "metadata": {
    "collapsed": false
   },
   "outputs": [
    {
     "name": "stdout",
     "output_type": "stream",
     "text": [
      "XC Function  bond  dist(A) calc time (m) calc time (s)\n",
      "----------- ------ ------- ------------- -------------\n",
      "      B3LYP R(H-H)  0.7435           0.0          14.1\n",
      "        MP2 R(H-H)  0.7384           0.0          18.0\n",
      "       CCSD R(H-H)  0.7473           0.0          22.6\n",
      "      M062X R(H-H)  0.7375           0.0          14.5\n"
     ]
    }
   ],
   "source": [
    "print(h2_basis5)"
   ]
  },
  {
   "cell_type": "markdown",
   "metadata": {},
   "source": [
    "### Questions: \n",
    "<b> 1. <b>What level of theory and basis set gave the best values, compared with the experimental one?</b>\n",
    "\n",
    "MP2 and B3LYP gave values closest to the experimental ones. 6-31G(d) and \n",
    "6-31G(d,p) were the more accurate basis sets. \n",
    "\n",
    "<b> 2. What was the fastest calculation?</b>\n",
    "\n",
    "H2 calculations were overall the fasest, probably because they were optimizing less bonds. "
   ]
  },
  {
   "cell_type": "markdown",
   "metadata": {},
   "source": [
    "## Part 3: Plot the Optimization Energies using gnuplot\n",
    " \n",
    "Here is the method I used to change the style, color, thickness, and points on my plots, as well as the commands I used to change the titles and axis lables: \n",
    "\n",
    "```html\n",
    "gnuplot > \n",
    "set style line 1 lc rgb '#0025ad' lt 1 lw 1.5 pt 5  ps 3; set style line 2 lc rgb '#007cad' lt 1 lw 1.5 pt 5 ps 3 ; set style line 3 lc rgb '#00ad6b' lt 1 lw 1.5 pt 5 ps 3 ; set style line 4 lc rgb '#00ad14' lt 1 lw 1.5 pt 5 ps 3; set key right center ; set xlabel 'steps' ; set ylabel 'energy(kcal/mol)' ; set title 'H2 Basis 6-31G(d)’\n",
    "```\n",
    "\n",
    "These are plots of total Energy, not relative energy. (my bad)"
   ]
  },
  {
   "cell_type": "markdown",
   "metadata": {},
   "source": [
    "## CH3\n",
    "\n",
    "![title](ch3_basis1.png)\n",
    "![title](ch3_basis2.png)\n",
    "![title](ch3_basis3.png)\n",
    "![title](ch3_basis4.png)\n",
    "![title](ch3_basis5.png)"
   ]
  },
  {
   "cell_type": "markdown",
   "metadata": {},
   "source": [
    "## CH2\n",
    "\n",
    "![title](ch2_basis1.png)\n",
    "![title](ch2_basis2.png)\n",
    "![title](ch2_basis3.png)\n",
    "![title](ch2_basis4.png)\n",
    "![title](ch2_basis5.png)"
   ]
  },
  {
   "cell_type": "markdown",
   "metadata": {},
   "source": [
    "## CH\n",
    "![title](ch_basis1.png)\n",
    "![title](ch_basis2.png)\n",
    "![title](ch_basis3.png)\n",
    "![title](ch_basis4.png)\n",
    "![title](ch_basis5.png)\n"
   ]
  },
  {
   "cell_type": "markdown",
   "metadata": {},
   "source": [
    "## H2\n",
    "![title](h2_basis1.png)\n",
    "![title](h2_basis2.png)\n",
    "![title](h2_basis3.png)\n",
    "![title](h2_basis4.png)\n",
    "![title](h2_basis5.png)\n"
   ]
  },
  {
   "cell_type": "markdown",
   "metadata": {},
   "source": [
    "## Part 4: Prepare a list of all acronyms used in this HW and their meanings\n",
    "### Force Fields\n",
    "GAFF - General Amber force field<br>\n",
    "UFF - Universal force field<br>\n",
    "### Exchange Correlation Functionals\n",
    "B3LYP - Becke, three-parameter, Lee-Yang-Parr <br>\n",
    "MP2 - second-order Møller-Plesset perturbation theory<br>\n",
    "CCSD - Coupled Cluster Singles and Doubles <br>\n",
    "M062X - Minnesota Global hybrid functional (with 54% HF exchange)<br>\n",
    "### Basis Sets\n",
    "STO-3G - Slater-type orbital (STO), 3 Gaussian<br>\n",
    "3-21G - 3 primitive Gaussians -  The 2 and 1 indicate that the valence orbitals are composed of two basis functions each, the first one composed of a linear combination of 2 primitive Gaussian functions, the other composed of a linear combination of Z primitive Gaussian functions.<br>\n",
    "6-31G(d) - 6 primitive Gaussians -  two basis functions, the first one composed of a linear combination of 3 primitive Gaussian functions, the other composed of a linear combination of Z primitive Gaussian functions. (with added d polarization\n",
    "functions on non-hydrogen atoms) <br>\n",
    "6-31G(d,p) - same as 6-31G(d) plus p polarization functions for hydrogen <br>\n",
    "LANL2DZ - Los Alamos National Laboratory with a valence set of double zeta (DZ) quality<br>\n"
   ]
  }
 ],
 "metadata": {
  "anaconda-cloud": {},
  "kernelspec": {
   "display_name": "Python [default]",
   "language": "python",
   "name": "python3"
  },
  "language_info": {
   "codemirror_mode": {
    "name": "ipython",
    "version": 3
   },
   "file_extension": ".py",
   "mimetype": "text/x-python",
   "name": "python",
   "nbconvert_exporter": "python",
   "pygments_lexer": "ipython3",
   "version": "3.5.2"
  }
 },
 "nbformat": 4,
 "nbformat_minor": 1
}
