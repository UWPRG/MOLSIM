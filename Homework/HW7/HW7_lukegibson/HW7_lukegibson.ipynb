{
 "cells": [
  {
   "cell_type": "markdown",
   "metadata": {},
   "source": [
    "# MOLSIM - HW7: A Tale of 80 Gaussian Calculations\n",
    "# Luke Gibson"
   ]
  },
  {
   "cell_type": "code",
   "execution_count": 3,
   "metadata": {
    "collapsed": false
   },
   "outputs": [],
   "source": [
    "import numpy as np\n",
    "from astropy.table import Table"
   ]
  },
  {
   "cell_type": "code",
   "execution_count": 44,
   "metadata": {
    "collapsed": false,
    "scrolled": true
   },
   "outputs": [
    {
     "name": "stdout",
     "output_type": "stream",
     "text": [
      "Basis set: STO-3G\n",
      "Time in seconds, Distance in Angstroms\n",
      " \n",
      "Molecule  Bond   GAFF  UFF  B3LYP  Time1  MP2   Time2 M062X  Time3  CCSD  Time4\n",
      "-------- ------ ----- ----- ------ ----- ------ ----- ------ ----- ------ -----\n",
      "     H-H R(H-H) 1.100 0.708 0.7284  23.3 0.7237  18.3 0.7221  15.9      -     -\n",
      " H3C-CH3 R(C-C) 1.537 1.519 1.5511    59 1.5551    51 1.5411  45.5 1.5629  68.7\n",
      " H3C-CH3 R(C-H) 1.092 1.110 1.1011    59 1.1036    51 1.0957  45.5 1.1115  68.7\n",
      " H2C-CH2 R(C-C) 1.325 1.331  1.333  84.1 1.3453  67.9 1.3229  89.2 1.3553  39.5\n",
      " H2C-CH2 R(C-H) 1.087 1.085 1.0973  84.1 1.0984  67.9 1.0925  89.2 1.1061  39.5\n",
      "   HC-CH R(C-C) 1.181 1.205 1.2007    55 1.2183  33.5 1.1928  23.8 1.2127    61\n",
      "   HC-CH R(C-H) 1.066 1.058 1.0809    55 1.0807  33.5  1.078  23.8 1.0878    61\n"
     ]
    }
   ],
   "source": [
    "basis0 = np.genfromtxt('basis/basis0.txt',delimiter=' ',dtype='str')\n",
    "basis1 = np.genfromtxt('basis/basis1.txt',delimiter=' ',dtype='str')\n",
    "basis2 = np.genfromtxt('basis/basis2.txt',delimiter=' ',dtype='str')\n",
    "basis3 = np.genfromtxt('basis/basis3.txt',delimiter=' ',dtype='str')\n",
    "basis4 = np.genfromtxt('basis/basis4.txt',delimiter=' ',dtype='str')\n",
    "\n",
    "t0 = Table(rows=basis0, names=('Molecule','Bond','GAFF','UFF','B3LYP','Time1','MP2','Time2','M062X','Time3','CCSD','Time4'))\n",
    "\n",
    "print \"Basis set: STO-3G\"\n",
    "print \"Time in seconds, Distance in Angstroms\"\n",
    "print \" \"\n",
    "print t0"
   ]
  },
  {
   "cell_type": "code",
   "execution_count": 45,
   "metadata": {
    "collapsed": false
   },
   "outputs": [
    {
     "name": "stdout",
     "output_type": "stream",
     "text": [
      "Basis set: 3-21G\n",
      "Time in seconds, Distance in Angstroms\n",
      " \n",
      "Molecule  Bond  B3LYP  Time1  MP2   Time2 M062X  Time3  CCSD  Time4\n",
      "-------- ------ ------ ----- ------ ----- ------ ----- ------ -----\n",
      "     H-H R(H-H) 0.7462  16.1 0.7414  13.1 0.7415  12.9 0.7498    24\n",
      " H3C-CH3 R(C-C) 1.5437  37.9 1.5508  39.5 1.5422    55 1.5563 146.3\n",
      " H3C-CH3 R(C-H) 1.0956  37.9 1.0947  39.5 1.0941    55 1.0992 146.3\n",
      " H2C-CH2 R(C-C) 1.3295  27.8 1.3409  34.3 1.3277  36.7 1.3435 125.3\n",
      " H2C-CH2 R(C-H) 1.0859  27.8 1.0856  34.3 1.0848  36.7 1.0898 125.3\n",
      "   HC-CH R(C-C) 1.2037  27.8 1.2217    28 1.2022  23.9 1.2168 104.8\n",
      "   HC-CH R(C-H) 1.0622  27.8 1.0644    28 1.0621  23.9 1.0684 104.8\n"
     ]
    }
   ],
   "source": [
    "t1 = Table(rows=basis1, names=('Molecule','Bond','B3LYP','Time1','MP2','Time2','M062X','Time3','CCSD','Time4'))\n",
    "\n",
    "print \"Basis set: 3-21G\"\n",
    "print \"Time in seconds, Distance in Angstroms\"\n",
    "print \" \"\n",
    "print t1"
   ]
  },
  {
   "cell_type": "code",
   "execution_count": 46,
   "metadata": {
    "collapsed": false
   },
   "outputs": [
    {
     "name": "stdout",
     "output_type": "stream",
     "text": [
      "Basis set: 6-31G(d)\n",
      "Time in seconds, Distance in Angstroms\n",
      " \n",
      "Molecule  Bond  B3LYP  Time1  MP2   Time2 M062X  Time3  CCSD  Time4\n",
      "-------- ------ ------ ----- ------ ----- ------ ----- ------ -----\n",
      "     H-H R(H-H) 0.7462  16.1 0.7414  13.1 0.7415  12.9 0.7498    24\n",
      " H3C-CH3 R(C-C) 1.5437  37.9 1.5508  39.5 1.5422    55 1.5563 146.3\n",
      " H3C-CH3 R(C-H) 1.0956  37.9 1.0947  39.5 1.0941    55 1.0992 146.3\n",
      " H2C-CH2 R(C-C) 1.3295  27.8 1.3409  34.3 1.3277  36.7 1.3435 125.3\n",
      " H2C-CH2 R(C-H) 1.0859  27.8 1.0856  34.3 1.0848  36.7 1.0898 125.3\n",
      "   HC-CH R(C-C) 1.2037  27.8 1.2217    28 1.2022  23.9 1.2168 104.8\n",
      "   HC-CH R(C-H) 1.0622  27.8 1.0644    28 1.0621  23.9 1.0684 104.8\n"
     ]
    }
   ],
   "source": [
    "t2 = Table(rows=basis1, names=('Molecule','Bond','B3LYP','Time1','MP2','Time2','M062X','Time3','CCSD','Time4'))\n",
    "\n",
    "print \"Basis set: 6-31G(d)\"\n",
    "print \"Time in seconds, Distance in Angstroms\"\n",
    "print \" \"\n",
    "print t2"
   ]
  },
  {
   "cell_type": "code",
   "execution_count": 47,
   "metadata": {
    "collapsed": false
   },
   "outputs": [
    {
     "name": "stdout",
     "output_type": "stream",
     "text": [
      "Basis set: 6-31G(d,p)\n",
      "Time in seconds, Distance in Angstroms\n",
      " \n",
      "Molecule  Bond  B3LYP  Time1  MP2   Time2 M062X  Time3  CCSD  Time4\n",
      "-------- ------ ------ ----- ------ ----- ------ ----- ------ -----\n",
      "     H-H R(H-H) 0.7462  16.1 0.7414  13.1 0.7415  12.9 0.7498    24\n",
      " H3C-CH3 R(C-C) 1.5437  37.9 1.5508  39.5 1.5422    55 1.5563 146.3\n",
      " H3C-CH3 R(C-H) 1.0956  37.9 1.0947  39.5 1.0941    55 1.0992 146.3\n",
      " H2C-CH2 R(C-C) 1.3295  27.8 1.3409  34.3 1.3277  36.7 1.3435 125.3\n",
      " H2C-CH2 R(C-H) 1.0859  27.8 1.0856  34.3 1.0848  36.7 1.0898 125.3\n",
      "   HC-CH R(C-C) 1.2037  27.8 1.2217    28 1.2022  23.9 1.2168 104.8\n",
      "   HC-CH R(C-H) 1.0622  27.8 1.0644    28 1.0621  23.9 1.0684 104.8\n"
     ]
    }
   ],
   "source": [
    "t3 = Table(rows=basis1, names=('Molecule','Bond','B3LYP','Time1','MP2','Time2','M062X','Time3','CCSD','Time4'))\n",
    "\n",
    "print \"Basis set: 6-31G(d,p)\"\n",
    "print \"Time in seconds, Distance in Angstroms\"\n",
    "print \" \"\n",
    "print t3"
   ]
  },
  {
   "cell_type": "code",
   "execution_count": 48,
   "metadata": {
    "collapsed": false
   },
   "outputs": [
    {
     "name": "stdout",
     "output_type": "stream",
     "text": [
      "Basis set: LANL2DZ\n",
      "Time in seconds, Distance in Angstroms\n",
      " \n",
      "Molecule  Bond  B3LYP  Time1  MP2   Time2 M062X  Time3  CCSD  Time4\n",
      "-------- ------ ------ ----- ------ ----- ------ ----- ------ -----\n",
      "     H-H R(H-H) 0.7462  16.1 0.7414  13.1 0.7415  12.9 0.7498    24\n",
      " H3C-CH3 R(C-C) 1.5437  37.9 1.5508  39.5 1.5422    55 1.5563 146.3\n",
      " H3C-CH3 R(C-H) 1.0956  37.9 1.0947  39.5 1.0941    55 1.0992 146.3\n",
      " H2C-CH2 R(C-C) 1.3295  27.8 1.3409  34.3 1.3277  36.7 1.3435 125.3\n",
      " H2C-CH2 R(C-H) 1.0859  27.8 1.0856  34.3 1.0848  36.7 1.0898 125.3\n",
      "   HC-CH R(C-C) 1.2037  27.8 1.2217    28 1.2022  23.9 1.2168 104.8\n",
      "   HC-CH R(C-H) 1.0622  27.8 1.0644    28 1.0621  23.9 1.0684 104.8\n"
     ]
    }
   ],
   "source": [
    "t4 = Table(rows=basis1, names=('Molecule','Bond','B3LYP','Time1','MP2','Time2','M062X','Time3','CCSD','Time4'))\n",
    "\n",
    "print \"Basis set: LANL2DZ\"\n",
    "print \"Time in seconds, Distance in Angstroms\"\n",
    "print \" \"\n",
    "print t4"
   ]
  },
  {
   "cell_type": "markdown",
   "metadata": {},
   "source": [
    "# Hydrogen\n",
    "![](energyplots/hydrogen.png)"
   ]
  },
  {
   "cell_type": "markdown",
   "metadata": {},
   "source": [
    "# Ethane\n",
    "![](energyplots/ethane.png)"
   ]
  },
  {
   "cell_type": "markdown",
   "metadata": {},
   "source": [
    "# Ethene\n",
    "![](energyplots/ethene.png)"
   ]
  },
  {
   "cell_type": "markdown",
   "metadata": {},
   "source": [
    "# Ethyne\n",
    "![](energyplots/ethyne.png)"
   ]
  },
  {
   "cell_type": "markdown",
   "metadata": {
    "collapsed": true
   },
   "source": [
    "# DFT Explanations\n",
    "\n",
    "###  Exchange-correlation functional\n",
    "An exchange correlation functional defines the interactions between electrons in a given structure when solving the Kohn-Sham equation, which replaces the Schrodinger equation in DFT.\n",
    "\n",
    "#### B3LYP (Becke, 3-parameter, Lee-Yang-Parr)\n",
    "One of the most popular functionals. B3LYP is a hybrid functional that combines an exchange-correlation density functional (DFT functional) with a Hartree-Fock exchange functional. \n",
    "\n",
    "#### MP2 (Moller-Plesset 2nd-order)\n",
    "MP2 is a post-Hartree-Fock method and stems from Moller-Plesset perturbation theory, which improves on Hartree-Fock methods by adding the effects of electron-electron interactions. This is a higher level of theory than DFT that produces more accurate results, but is more computationally expensive.\n",
    "\n",
    "#### M06-2X (Minnesota '06 - 2x)\n",
    "M06-2X is of the Minnesota functionals family. Published in 2006 by Prof. Donald Truhlar at the University of Minesota. This functional contains 54% Hartree-Fock exchange and is therefore a hybrid functional. The 2x becomes apparent when it is compared to its 'little brother', the M06 functional that contains 27% Hartree-Fock exchange.\n",
    "\n",
    "#### CCSD (Coupled-Cluster Singlet/Doublet)\n",
    "Coupled cluster theory is another level of theory higher than DFT and is a post-Hartree-Fock method. This method takes Hartree-Fock molecular orbital theory and includes electron-electron interactions using multi-electron wavefunctions.\n",
    "\n",
    "---\n",
    "\n",
    "### Basis Sets\n",
    "Basis sets are used to describe molecular orbitals of a molecule, atom, or solid.\n",
    "\n",
    "#### STO-3G (Slater-Type Orbital, 3-Gaussian functions)\n",
    "One of the most commonly used lower level basis set that uses a linear combination of 3 Gaussian functions to describe each orbital. Uses the same number of Gaussian functions for the core and valence shells.\n",
    "\n",
    "#### 3-21G (3-Gaussian functions for core, 2- and 1-Gaussian functions for valence shell)\n",
    "3-21G is a basis set that splits the core and valence shell basis functions (which are linear combinations of Gaussian functions). They take the form Z-XYg, where Z is the number of Gaussians in the core basis function, X and Y are the number of the Gaussians in each basis function for the valence shell.\n",
    "\n",
    "#### 6-31G(d) (6-Gaussian functions for core, 3- and 1-Gaussian functions for valence shell, polarization in the d-shell)\n",
    "Similar to the basis set above, but has a different number of Gaussians descrbing each basis function and has d-shell polarization\n",
    "\n",
    "#### 6-31G(d,p) (6-Gaussian functions for core, 3- and 1-Gaussian functions for valence shell, polarization in the d-shell and p-shell)\n",
    "Similar to the basis set above, but allows for polarization in the p-shell as well\n",
    "\n",
    "#### LANL2DZ (Los Alamos National Lab, Double Zeta)\n",
    "Basis set that was defined at the Los Alamos National Lab and uses a double zeta to describe the valence shell, which means that it uses two basis functions to describe the valence shell\n"
   ]
  },
  {
   "cell_type": "code",
   "execution_count": null,
   "metadata": {
    "collapsed": true
   },
   "outputs": [],
   "source": []
  }
 ],
 "metadata": {
  "anaconda-cloud": {},
  "kernelspec": {
   "display_name": "Python [conda root]",
   "language": "python",
   "name": "conda-root-py"
  },
  "language_info": {
   "codemirror_mode": {
    "name": "ipython",
    "version": 2
   },
   "file_extension": ".py",
   "mimetype": "text/x-python",
   "name": "python",
   "nbconvert_exporter": "python",
   "pygments_lexer": "ipython2",
   "version": "2.7.12"
  }
 },
 "nbformat": 4,
 "nbformat_minor": 1
}
