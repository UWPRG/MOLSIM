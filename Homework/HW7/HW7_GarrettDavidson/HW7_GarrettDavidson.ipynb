{
 "cells": [
  {
   "cell_type": "markdown",
   "metadata": {},
   "source": [
    "Molecule |Bond    | GAFF  | UFF   |Experiment\n",
    "---------|--------|-------|-------|----------\n",
    "H-H      | R(H-H) | 1.1   | 0.708 |0.741\n",
    "H3C-CH3  | R(C-C) | 1.537 | 1.519 |1.526\n",
    "         | R(C-H) | 1.092 | 1.11  |1.088\n",
    "H2C-CH2  | R(C-C) | 1.325 | 1.331 |1.339\n",
    "         | R(C-H) | 1.087 | 1.085 |1.085\n",
    "HC-CH    | R(C-C) | 1.205 | 1.205 |1.203\n",
    "         | R(C-H) | 1.058 | 1.058 |1.061"
   ]
  },
  {
   "cell_type": "markdown",
   "metadata": {},
   "source": [
    " ## CCSD\n",
    " \n",
    " Molecule| Bond   | 6-31Gd|6-31Gdp|LANL2DZ|STO-3G |3-21G  |Experiment\n",
    "---------|--------|-------|-------|-------|-------|-------|-------------\n",
    "H-H      | R(H-H) |0.74621|0.73845|0.74730|0.70800|0.74981|0.741\n",
    "Time     |        |23.3 s |35.1 s |36.3 s |3.5 s  |22.2 s |  \n",
    "H3C-CH3  | R(C-C) |1.52559|1.52530|1.53917|1.54104|1.54307|1.526\n",
    "         | R(C-H) |1.09390|1.09315|1.09493|1.09571|1.09420|1.088\n",
    "Time     |        |3min 26|8min 12|1min 17|1min 2s|1min 32| \n",
    "H2C-CH2  | R(C-C) |1.33790|1.33646|1.36970|1.35490|1.34387|1.339\n",
    "         | R(C-H) |1.08803|1.08188|1.09782|1.10609|1.08976|1.085\n",
    "Time     |        |2min 30|5min 34|1min 15|51.3 s |1min 12| \n",
    "HC-CH    | R(C-C) |1.20498|1.20535|1.22228|1.20055|1.20366|1.203\n",
    "         | R(C-H) |1.06664|1.06572|1.06783|1.08084|1.06224|1.061\n",
    "Time     |        |2min 1s|2min 28|1min 30|1min 19|1min 54| \n",
    "         \n"
   ]
  },
  {
   "cell_type": "markdown",
   "metadata": {},
   "source": [
    "## MP2\n",
    "Molecule |Bond    |6-31Gd |6-31Gdp|LANL2DZ|STO-3G |3-21G  |Experiment\n",
    "---------|--------|-------|-------|-------|-------|-------|-------------\n",
    "H-H      | R(H-H) |0.73752|0.73393|0.73835|0.72374|0.74136|0.741\n",
    "Time     |        |15.2 s |19.1 s |15.9 s |15.4 s |11.5 s |\n",
    "H3C-CH3  | R(C-C) |1.52527|1.52345|1.56173|1.55541|1.55083|1.526\n",
    "         | R(C-H) |1.09327|1.08872|1.10492|1.10309|1.09481|1.088\n",
    "Time     |        |33.6 s |38.1 s |26.1 s |31.2 s |24.1 s |\n",
    "H2C-CH2  | R(C-C) |1.33662|1.33535|1.36762|1.34498|1.34115|1.339\n",
    "         | R(C-H) |1.08505|1.08065|1.09414|1.09840|1.08560|1.085\n",
    "Time     |        |32.9 s |35.5 s |25.8 s |30.3 s |23.1 s |\n",
    "HC-CH    | R(C-C) |1.21768|1.21855|1.24606|1.21829|1.22169|1.203\n",
    "         | R(C-H) |1.06614|1.06245|1.07186|1.08070|1.06429|1.061\n",
    "Time     |        |33.1 s |36.2 s |25.4 s |30.5 s |23.7 s |"
   ]
  },
  {
   "cell_type": "markdown",
   "metadata": {},
   "source": [
    "## M062X\n",
    "Molecule |Bond    |6-31Gd |6-31Gdp|LANL2DZ|STO-3G |3-21G  |Experiment\n",
    "---------|--------|-------|-------|-------|-------|-------|-------------\n",
    "H-H      | R(H-H) |0.73653|0.73649|0.73747|0.72207|0.74145|0.741\n",
    "Time     |        |17.0 s |14.4 s |14.6 s |17.1 s |10.5 s |\n",
    "H3C-CH3  | R(C-C) |1.52559|1.52530|1.53917|1.54104|1.54307|1.526\n",
    "         | R(C-H) |1.09390|1.09315|1.09493|1.09571|1.09403|1.088\n",
    "Time     |        |38.0 s |44.0 s |35.1 s |28.5 s |45.3 s |\n",
    "H2C-CH2  | R(C-C) |1.32744|1.32687|1.34311|1.32245|1.32751|1.339\n",
    "         | R(C-H) |1.08590|1.08541|1.08628|1.09227|1.08471|1.085\n",
    "Time     |        |40.2 s |45.9 s |37.8 s |29.9 s |28.8 s | \n",
    "HC-CH    | R(C-C) |1.20193|1.20235|1.21687|1.19260|1.20226|1.203\n",
    "         | R(C-H) |1.06712|1.06643|1.06706|1.07782|1.06209|1.061\n",
    "Time     |        |26.2 s |27.6 s |21.8 s |27.8 s |22.1 s |"
   ]
  },
  {
   "cell_type": "markdown",
   "metadata": {},
   "source": [
    "## B3LYP\n",
    "\n",
    "Molecule |Bond    |6-31Gd |6-31Gdp|LANL2DZ|STO-3G |3-21G  |Experiment\n",
    "---------|--------|-------|-------|-------|-------|-------|-------------\n",
    "H-H      | R(H-H) |0.74279|0.74280|0.74348|0.72838|0.74623|0.741\n",
    "Time     |        |15.4 s |18.5 s |14.7 s |13.7 s |14.0 s |\n",
    "H3C-CH3  | R(C-C) |1.53109|1.53050|1.54351|1.55121|1.53148|1.526\n",
    "         | R(C-H) |1.09629|1.09513|1.09795|1.10097|1.09592|1.088\n",
    "Time     |        |1min 40|41.1 s |31.6 s |21.3 s |1min 4s|\n",
    "H2C-CH2  | R(C-C) |1.32451|1.32451|1.32451|1.32451|1.32451|1.339\n",
    "         | R(C-H) |1.08726|1.08726|1.08726|1.08726|1.08726|1.085\n",
    "Time     |        |41.8 s |46.6 s |29.9 s |22.4 s |30.1 s |\n",
    "HC-CH    | R(C-C) |1.20498|1.20535|1.22228|1.20055|1.20366|1.203\n",
    "         | R(C-H) |1.06664|1.06572|1.06783|1.08084|1.06224|1.061\n",
    "Time     |        |29.5 s |26.8 s |21.0 s |26.2 s |19.7 s |"
   ]
  },
  {
   "cell_type": "markdown",
   "metadata": {},
   "source": [
    "Normally, 3-21G is the fastest basis set and MP2 is consistently the slowest theory.\n",
    "6-31-Gd is the slowest basis set and CCSD is the slowest theory.\n",
    "\n",
    "I think 6-31Gd is the one that is the consistently the closest to the experimental values (?)"
   ]
  },
  {
   "cell_type": "markdown",
   "metadata": {},
   "source": [
    "# ETHANE\n",
    "\n",
    "![ ](./Ethane/Ethane_3-21G.png)\n",
    "![ ](./Ethane/Ethane_6-31Gd.png)\n",
    "![ ](./Ethane/Ethane_6-31Gdp.png)\n",
    "![ ](./Ethane/Ethane_LANL2DZ.png)\n",
    "![ ](./Ethane/Ethane_STO-3G.png)\n",
    "\n",
    "\n",
    "# ETHENE\n",
    "![ ](./Ethene/Ethene_3-21G.png)\n",
    "![ ](./Ethene/Ethene_6-31Gd.png)\n",
    "![ ](./Ethene/Ethene_6-31Gdp.png)\n",
    "![ ](./Ethene/Ethene_LANL2DZ.png)\n",
    "![ ](./Ethene/Ethene_STO-3G.png)\n",
    "\n",
    "# ETHYNE\n",
    "![ ](./Ethyne/Ethyne_3-21G.png)\n",
    "![ ](./Ethyne/Ethyne_6-31Gd.png)\n",
    "![ ](./Ethyne/Ethyne_6-31Gdp.png)\n",
    "![ ](./Ethyne/Ethyne_LANL2DZ.png)\n",
    "![ ](./Ethyne/Ethyne_STO-3G.png)\n",
    "\n",
    "# HYDROGEN\n",
    "![ ](./Hydrogen/Hydrogen_3-21G.png)\n",
    "![ ](./Hydrogen/Hydrogen_6-31Gd.png)\n",
    "![ ](./Hydrogen/Hydrogen_6-31Gdp.png)\n",
    "![ ](./Hydrogen/Hydrogen_LANL2DZ.png)\n",
    "![ ](./Hydrogen/Hydrogen_STO-3G.png)\n"
   ]
  },
  {
   "cell_type": "code",
   "execution_count": null,
   "metadata": {
    "collapsed": true
   },
   "outputs": [],
   "source": []
  },
  {
   "cell_type": "code",
   "execution_count": null,
   "metadata": {
    "collapsed": true
   },
   "outputs": [],
   "source": []
  },
  {
   "cell_type": "markdown",
   "metadata": {
    "collapsed": true
   },
   "source": [
    "## CCSD Theory\n",
    "   Coupled Cluster for Single and Double excitations. Takes a basic Hartree Fock molecular orbital method and construck multi-electron wavefunctions using exponential cluster operator to account for electrom correlation. Some of the most accurate calculations for small to medium sized molecules use this method.\n",
    "       Truncates the excitations to some level (the second in CCSD).\n",
    "\n",
    "## MP2 Theory\n",
    "   Moller-Plesset perturbation theory. Improves on the Hartree Fock method by adding electron correlations to the second order and using a shifted Fock operator. It looks at the true electron-electron interaction and the mean field approximations.\n",
    "   \n",
    "## M062X Theory\n",
    "   Minnesota Functionals. Global hybrid functional with 54% HF exchange. Used for Kinetics.\n",
    "   \n",
    "## B3LYP Theory\n",
    "    Becke, Three parameter, Lee-Yang-Parr exchange correlation functional. Uses three parameters to mix in the exact Hartree-Fock exchange correlation and LYP correlation function to recover dynamic electron correlation. Not as heavily parameterized as other hybrid functionals\n",
    "    \n",
    "    \n",
    "    \n",
    "Basis sets are a set of functions which are combined in linear combinations to create molecular orbitals.\n",
    "\n",
    "## 6-31Gd Basis Set\n",
    "    Defined for atoms H through Zn. A valence double-zeta polarized basis set that adds to the 6-31G set: six d-type Cartesian Gaussian polarization functions on each atom Li through Ca and ten f-type Cartesian Gaussian polarization functions on each of the aatoms Sc through Zn.\n",
    "    It is common to represent valence orbitals by more than on basis function. Since the different orbitals of the split have different spatial extents, the combination allows the electron density to adjust its spatial extent apporpriate to the particular molecular environment. The d notation mean that one set of d-type polarization function is added to all non-hydrogens\n",
    "    \n",
    "## 6-31Gdp Basis Set\n",
    "    The d and p notation mean that one set of d-type polarization function is added to all non-hydrogens and one set of p-type polarization function is added to all hydrogen atoms. see above as well\n",
    "    \n",
    "## STO-3G\n",
    "    Slater Type Orbitals. The 3 represents the number of Gaussian primitive functions comprising a single-basis function. In these basis sets, the same number of gaussian primitives comprise core and valence orbitals.\n",
    "    \n",
    "    \n",
    "## LANL2DZ\n",
    "    Los Alamos National Laboratory 2 Double Zeta potential. Have not been defined for elements H to Ne. The parameters have been derived for Na to Kr have been derived from atomic wavefunctions obtained in calculations.\n",
    "    \n",
    "## 3-21G\n",
    "    Has two (or more) sizes of basis functions for each valence orbital. \n",
    "    \n",
    "    \n"
   ]
  },
  {
   "cell_type": "markdown",
   "metadata": {},
   "source": [
    "<h3 align=\"center\">Basis Sets</h3>\n",
    "![Basis Sets](./Basis_Sets.png)"
   ]
  },
  {
   "cell_type": "code",
   "execution_count": null,
   "metadata": {
    "collapsed": true
   },
   "outputs": [],
   "source": []
  }
 ],
 "metadata": {
  "kernelspec": {
   "display_name": "Python 3",
   "language": "python",
   "name": "python3"
  },
  "language_info": {
   "codemirror_mode": {
    "name": "ipython",
    "version": 3
   },
   "file_extension": ".py",
   "mimetype": "text/x-python",
   "name": "python",
   "nbconvert_exporter": "python",
   "pygments_lexer": "ipython3",
   "version": "3.5.2"
  }
 },
 "nbformat": 4,
 "nbformat_minor": 2
}
