{
 "cells": [
  {
   "cell_type": "markdown",
   "metadata": {
    "nbpresent": {
     "id": "5983156a-1081-498b-b64f-ffea5a049485"
    }
   },
   "source": [
    "# MOLSIM, Week 5 - VMD\n",
    "## Luke Gibson"
   ]
  },
  {
   "cell_type": "markdown",
   "metadata": {
    "nbpresent": {
     "id": "41146cff-fee0-4df0-90b4-7c2bbbde8dfc"
    }
   },
   "source": [
    "## First picture:\n",
    "\n",
    "- Acidic and polar residues are transparent gold\n",
    "- All ionic liquid within 8 A of the protein\n",
    "\n",
    "![](firstpicture_dat.jpg)"
   ]
  },
  {
   "cell_type": "markdown",
   "metadata": {
    "nbpresent": {
     "id": "9c5558bd-91d2-4fd0-b8f0-b000971ab8c4"
    }
   },
   "source": [
    "## Second picture:\n",
    "\n",
    "- Colored by secondary structure\n",
    "- Reduced VDW spheres\n",
    "- Surf drawing style around helices\n",
    "\n",
    "![](secondpicture_dat.jpg)"
   ]
  },
  {
   "cell_type": "markdown",
   "metadata": {
    "nbpresent": {
     "id": "81421f5e-a38f-4cbe-8b1d-780d077ad845"
    }
   },
   "source": [
    "## Third picture:\n",
    "\n",
    "- Ribbon drawing style\n",
    "- Transparent protein, except for beta sheets that are red\n",
    "\n",
    "![](thirdpicture_dat.jpg)"
   ]
  },
  {
   "cell_type": "code",
   "execution_count": null,
   "metadata": {
    "collapsed": true,
    "nbpresent": {
     "id": "f26467af-6227-43de-ae12-1b23ebe7d264"
    }
   },
   "outputs": [],
   "source": []
  }
 ],
 "metadata": {
  "anaconda-cloud": {},
  "kernelspec": {
   "display_name": "Python [conda root]",
   "language": "python",
   "name": "conda-root-py"
  },
  "language_info": {
   "codemirror_mode": {
    "name": "ipython",
    "version": 2
   },
   "file_extension": ".py",
   "mimetype": "text/x-python",
   "name": "python",
   "nbconvert_exporter": "python",
   "pygments_lexer": "ipython2",
   "version": "2.7.12"
  },
  "nbpresent": {
   "slides": {
    "3471a5a0-a9bb-48e8-bf8b-1142d58c5e80": {
     "id": "3471a5a0-a9bb-48e8-bf8b-1142d58c5e80",
     "prev": "d27d6a0e-7e2c-4db1-b57a-69e314df44f7",
     "regions": {
      "41212964-068d-4bfe-8547-e771533159ca": {
       "attrs": {
        "height": 0.8,
        "width": 0.8,
        "x": 0.1,
        "y": 0.1
       },
       "content": {
        "cell": "9c5558bd-91d2-4fd0-b8f0-b000971ab8c4",
        "part": "whole"
       },
       "id": "41212964-068d-4bfe-8547-e771533159ca"
      }
     }
    },
    "96c9cc3c-6e6a-48a6-84e8-ff3b4fd73d8b": {
     "id": "96c9cc3c-6e6a-48a6-84e8-ff3b4fd73d8b",
     "prev": "3471a5a0-a9bb-48e8-bf8b-1142d58c5e80",
     "regions": {
      "173b3b34-41e1-4c57-9f3a-b534ee9e3bb0": {
       "attrs": {
        "height": 0.8,
        "width": 0.8,
        "x": 0.1,
        "y": 0.1
       },
       "content": {
        "cell": "81421f5e-a38f-4cbe-8b1d-780d077ad845",
        "part": "whole"
       },
       "id": "173b3b34-41e1-4c57-9f3a-b534ee9e3bb0"
      }
     }
    },
    "b7bd35ff-fbde-4c9d-83f9-6c84aa32a35e": {
     "id": "b7bd35ff-fbde-4c9d-83f9-6c84aa32a35e",
     "prev": null,
     "regions": {
      "97ab042c-5df3-4f76-b874-d58516a91298": {
       "attrs": {
        "height": 0.8,
        "width": 0.8,
        "x": 0.1,
        "y": 0.1
       },
       "content": {
        "cell": "5983156a-1081-498b-b64f-ffea5a049485",
        "part": "whole"
       },
       "id": "97ab042c-5df3-4f76-b874-d58516a91298"
      }
     }
    },
    "baf03cc0-25fb-4e32-92a4-4679a19d6d88": {
     "id": "baf03cc0-25fb-4e32-92a4-4679a19d6d88",
     "prev": "96c9cc3c-6e6a-48a6-84e8-ff3b4fd73d8b",
     "regions": {}
    },
    "d27d6a0e-7e2c-4db1-b57a-69e314df44f7": {
     "id": "d27d6a0e-7e2c-4db1-b57a-69e314df44f7",
     "prev": "b7bd35ff-fbde-4c9d-83f9-6c84aa32a35e",
     "regions": {
      "50c93f55-6bf2-488a-9eab-8a798eebd317": {
       "attrs": {
        "height": 0.8,
        "width": 0.8,
        "x": 0.1,
        "y": 0.1
       },
       "content": {
        "cell": "41146cff-fee0-4df0-90b4-7c2bbbde8dfc",
        "part": "whole"
       },
       "id": "50c93f55-6bf2-488a-9eab-8a798eebd317"
      }
     }
    }
   },
   "themes": {}
  }
 },
 "nbformat": 4,
 "nbformat_minor": 1
}
