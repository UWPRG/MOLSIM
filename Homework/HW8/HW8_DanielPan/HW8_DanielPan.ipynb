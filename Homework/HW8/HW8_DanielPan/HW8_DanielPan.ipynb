{
 "cells": [
  {
   "cell_type": "markdown",
   "metadata": {},
   "source": [
    "# HW8"
   ]
  },
  {
   "cell_type": "markdown",
   "metadata": {},
   "source": [
    "### 1. Silica $\\alpha$-quartz\n",
    "* COD ID: 9011494\n",
    "* Space group: P 31 2 1\n",
    "* a = b = 4.775 A\n",
    "* c = 5.3046 A\n",
    "* Size: 34 x 34 nm\n",
    "<img src=\"files/SiO2.png\">"
   ]
  },
  {
   "cell_type": "markdown",
   "metadata": {},
   "source": [
    "### 2. Rutile TiO$_2$\n",
    "* COD ID: 9004141\n",
    "* Space group: P42/mnm\n",
    "* a = b = 4.593 A\n",
    "* c = 2.959 A\n",
    "* Size:  40 x 6.49548 x 2.95900 A$^3$\n",
    "<img src=\"files/TiO2.png\">"
   ]
  },
  {
   "cell_type": "code",
   "execution_count": null,
   "metadata": {
    "collapsed": true
   },
   "outputs": [],
   "source": []
  }
 ],
 "metadata": {
  "anaconda-cloud": {},
  "kernelspec": {
   "display_name": "Python [default]",
   "language": "python",
   "name": "python3"
  },
  "language_info": {
   "codemirror_mode": {
    "name": "ipython",
    "version": 3
   },
   "file_extension": ".py",
   "mimetype": "text/x-python",
   "name": "python",
   "nbconvert_exporter": "python",
   "pygments_lexer": "ipython3",
   "version": "3.5.2"
  }
 },
 "nbformat": 4,
 "nbformat_minor": 2
}
