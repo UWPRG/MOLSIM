{
 "cells": [
  {
   "cell_type": "markdown",
   "metadata": {},
   "source": [
    "# MOLSIM - HW8: Building Surfaces\n",
    "# Luke Gibson\n",
    "\n",
    "### Crystallography Open Database\n",
    "- Quartz: http://www.crystallography.net/cod/9013321.html\n",
    "- Rutile: http://www.crystallography.net/cod/9004141.html"
   ]
  },
  {
   "cell_type": "markdown",
   "metadata": {},
   "source": [
    "## $\\alpha$-Quartz\n",
    "\n",
    "- Space group: P 32 2 1\n",
    "- a = b = 4.913437 A\n",
    "- c = 5.405118 A\n",
    "- Size: 34 x 34 nm\n",
    "\n",
    "![](quartz.png)\n",
    "\n"
   ]
  },
  {
   "cell_type": "markdown",
   "metadata": {},
   "source": [
    "---"
   ]
  },
  {
   "cell_type": "markdown",
   "metadata": {},
   "source": [
    "## Rutile TiO$_2$\n",
    "\n",
    "- Space group: P42/mnm\n",
    "- a = b = 4.593 A\n",
    "- c = 2.959 A\n",
    "- Size: 18 x 18 x 5 A\n",
    "\n",
    "![](rutile.png)"
   ]
  },
  {
   "cell_type": "code",
   "execution_count": null,
   "metadata": {
    "collapsed": true
   },
   "outputs": [],
   "source": []
  }
 ],
 "metadata": {
  "anaconda-cloud": {},
  "kernelspec": {
   "display_name": "Python [conda root]",
   "language": "python",
   "name": "conda-root-py"
  },
  "language_info": {
   "codemirror_mode": {
    "name": "ipython",
    "version": 2
   },
   "file_extension": ".py",
   "mimetype": "text/x-python",
   "name": "python",
   "nbconvert_exporter": "python",
   "pygments_lexer": "ipython2",
   "version": "2.7.12"
  }
 },
 "nbformat": 4,
 "nbformat_minor": 1
}
