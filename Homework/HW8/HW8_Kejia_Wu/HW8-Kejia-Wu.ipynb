{
 "cells": [
  {
   "cell_type": "markdown",
   "metadata": {},
   "source": [
    "## Homework 8  \n",
    "\n",
    "Make the following slabs and upload the pdb file.\n",
    "\n",
    "1. Silica α-quartz (100) plane, approximately ~3.5×3.5 nm$^2$,cleave the Si on the surface and add H to O atom.\n",
    "\n",
    "Space Group: P 31 2 1  \n",
    "Cell Parameters: 4.775; 4.775; 5.3046; 90; 90; 120  \n",
    "COD ID: 9011494  \n",
    "\n",
    "<img src=\"Silica.png\">\n",
    "\n",
    "\n",
    "2. Rutile TiO$_2$ , P42/mnm, with lattice parameters a = b = 4.594 Å and c = 2.959 Å (110) plane. Specify the size of the slab you made.  \n",
    "\n",
    "Space Group: P 42/m n m  \n",
    "Cell Parameters: 4.593; 4.593; 2.959; 90; 90; 90  \n",
    "COD ID: 9004141  \n",
    "\n",
    "<img src=\"TiO2.png\">"
   ]
  },
  {
   "cell_type": "code",
   "execution_count": null,
   "metadata": {
    "collapsed": true
   },
   "outputs": [],
   "source": []
  }
 ],
 "metadata": {
  "anaconda-cloud": {},
  "kernelspec": {
   "display_name": "Python [conda root]",
   "language": "python",
   "name": "conda-root-py"
  },
  "language_info": {
   "codemirror_mode": {
    "name": "ipython",
    "version": 3
   },
   "file_extension": ".py",
   "mimetype": "text/x-python",
   "name": "python",
   "nbconvert_exporter": "python",
   "pygments_lexer": "ipython3",
   "version": "3.5.2"
  }
 },
 "nbformat": 4,
 "nbformat_minor": 2
}
