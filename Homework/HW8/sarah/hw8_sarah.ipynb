{
 "cells": [
  {
   "cell_type": "markdown",
   "metadata": {},
   "source": [
    "### 1. Silica α-quartz (100) plane, approximately ~3.5×3.5 nm$^2$,cleave the Si on the surface and add H to O atom.\n"
   ]
  },
  {
   "cell_type": "markdown",
   "metadata": {},
   "source": [
    "From database:<br>\n",
    "Formula: SiO$_2$ <br>\n",
    "Space Group: P3$_2$1 <br>\n",
    "a= 4.91344 A <br>\n",
    "b= 4.68097 A <br>\n",
    "c= 5.256 A <br>\n",
    "\n",
    "![alt text](sio2.png)"
   ]
  },
  {
   "cell_type": "markdown",
   "metadata": {},
   "source": [
    "### 2. Rutile TiO$_2$ , P42/mnm, with lattice parameters a = b = 4.594 Å and c = 2.959 Å (110) plane. Specify the size of the slab you made."
   ]
  },
  {
   "cell_type": "markdown",
   "metadata": {},
   "source": [
    "From database:<br>\n",
    "Formula: SiO$_2$ <br>\n",
    "Space Group: P3$_2$1 <br>\n",
    "a=b=c = 10.0 A <br>\n",
    "\n",
    "![alt text](rutile.png)\n"
   ]
  }
 ],
 "metadata": {
  "anaconda-cloud": {},
  "kernelspec": {
   "display_name": "Python [default]",
   "language": "python",
   "name": "python2"
  },
  "language_info": {
   "codemirror_mode": {
    "name": "ipython",
    "version": 2
   },
   "file_extension": ".py",
   "mimetype": "text/x-python",
   "name": "python",
   "nbconvert_exporter": "python",
   "pygments_lexer": "ipython2",
   "version": "2.7.12"
  }
 },
 "nbformat": 4,
 "nbformat_minor": 1
}
