{
 "cells": [
  {
   "cell_type": "markdown",
   "metadata": {},
   "source": [
    "# Rutile TiO_2\n",
    "\n",
    "![alt text](./Rutile_TiO2.png)\n",
    "\n",
    "Parameters: \n",
    "    x-direction = 1 cell repeat\n",
    "    y-direction = 4 cell repeats\n",
    "    z-direction = 13 Angstroms\n",
    "    \n",
    "# Silica Quartz\n",
    "\n",
    "![alt text](./Silica_Quartz.png)\n"
   ]
  },
  {
   "cell_type": "code",
   "execution_count": null,
   "metadata": {
    "collapsed": true
   },
   "outputs": [],
   "source": []
  }
 ],
 "metadata": {
  "kernelspec": {
   "display_name": "Python 3",
   "language": "python",
   "name": "python3"
  },
  "language_info": {
   "codemirror_mode": {
    "name": "ipython",
    "version": 3
   },
   "file_extension": ".py",
   "mimetype": "text/x-python",
   "name": "python",
   "nbconvert_exporter": "python",
   "pygments_lexer": "ipython3",
   "version": "3.5.2"
  }
 },
 "nbformat": 4,
 "nbformat_minor": 2
}
