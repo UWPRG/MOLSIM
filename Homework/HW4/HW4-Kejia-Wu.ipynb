{
 "cells": [
  {
   "cell_type": "markdown",
   "metadata": {},
   "source": [
    "## Part 1. Hypothesis\n",
    "** I would like to examine the relationships between partial density and pressure/box size in NVT simulation (as the default settings in the input.inp file).**  \n",
    "1. Considering the relative vigorous fluctuations of pressure in NVT ensemble (as we discussed in the last lecture, typically reached >100 Bar fluctuation range) and no barostat, I assumed the pressure would not exert a major influence on the density except when the pressure is set at 1000 Bar.\n",
    "2. Considering both the constant volume in NVT simulation and the inverse relationship between density and volume, I assumed an inverse relationship between the density and the box diameters similarly."
   ]
  },
  {
   "cell_type": "markdown",
   "metadata": {},
   "source": [
    "## Part 2. Wrapper and analysis\n",
    "* Pressure iteration"
   ]
  },
  {
   "cell_type": "code",
   "execution_count": 1,
   "metadata": {
    "collapsed": false
   },
   "outputs": [
    {
     "name": "stderr",
     "output_type": "stream",
     "text": [
      "sed: can't read nptber.mdp: No such file or directory\n",
      "cp: cannot stat ‘input.inp’: No such file or directory\n",
      "bash: line 8: master.sh: No such file or directory\n",
      "sed: can't read nptber.mdp: No such file or directory\n",
      "cp: cannot stat ‘input.inp’: No such file or directory\n",
      "bash: line 8: master.sh: No such file or directory\n",
      "sed: can't read nptber.mdp: No such file or directory\n",
      "cp: cannot stat ‘input.inp’: No such file or directory\n",
      "bash: line 8: master.sh: No such file or directory\n"
     ]
    }
   ],
   "source": [
    "%%bash\n",
    "\n",
    "declare -a Press=(-100 100 1000)\n",
    "declare -a name=(water_1 water_2 water_3)\n",
    "\n",
    "for (( i=0 ; i<${#Press[*]} ; i++ )) ; do\n",
    "  sed -i \"58s/.*/ref_p                   = ${Press[i]}/\" nptber.mdp\n",
    "  cp input.inp ${name[i]}.inp\n",
    "  source master.sh ${name[i]} > ${name[i]}.log &\n",
    "done"
   ]
  },
  {
   "cell_type": "code",
   "execution_count": null,
   "metadata": {
    "collapsed": true
   },
   "outputs": [],
   "source": [
    "#Density\n",
    "if [ ! -f density.xvg ] ; then\n",
    "  echo \"calculating density for ${name}\"\n",
    "  echo 0 | gmx_8c density\n",
    "fi\n",
    "#*****************************************************************"
   ]
  },
  {
   "cell_type": "markdown",
   "metadata": {},
   "source": [
    "* Diameter iteration"
   ]
  },
  {
   "cell_type": "code",
   "execution_count": null,
   "metadata": {
    "collapsed": true
   },
   "outputs": [],
   "source": [
    "%%bash\n",
    "\n",
    "declare -a Diameter=(5.00081 7.00081 9.00081)\n",
    "declare -a name=(water_4 water_5 water_6)\n",
    "\n",
    "for (( i=0 ; i<${#Diameter[*]} ; i++ )) ; do\n",
    "  sed -i \"2655s/.*/3.00081                   = ${Diameter[i]}/\" conf.gro\n",
    "  cp input.inp ${name[i]}.inp\n",
    "  source master.sh ${name[i]} > ${name[i]}.log &\n",
    "done"
   ]
  },
  {
   "cell_type": "code",
   "execution_count": null,
   "metadata": {
    "collapsed": true
   },
   "outputs": [],
   "source": [
    "#Density\n",
    "if [ ! -f density.xvg ] ; then\n",
    "  echo \"calculating density for ${name}\"\n",
    "  echo 0 | gmx_8c density\n",
    "fi\n",
    "#*****************************************************************"
   ]
  },
  {
   "cell_type": "markdown",
   "metadata": {},
   "source": [
    "## Part 3. Plots"
   ]
  },
  {
   "cell_type": "code",
   "execution_count": 1,
   "metadata": {
    "collapsed": true
   },
   "outputs": [],
   "source": [
    "import pandas as pd\n",
    "import matplotlib.pyplot as plt"
   ]
  },
  {
   "cell_type": "code",
   "execution_count": 6,
   "metadata": {
    "collapsed": false
   },
   "outputs": [
    {
     "data": {
      "text/html": [
       "<div>\n",
       "<table border=\"1\" class=\"dataframe\">\n",
       "  <thead>\n",
       "    <tr style=\"text-align: right;\">\n",
       "      <th></th>\n",
       "      <th>Coordinate-Z(nm)</th>\n",
       "      <th>Density(kg/m3)</th>\n",
       "    </tr>\n",
       "  </thead>\n",
       "  <tbody>\n",
       "    <tr>\n",
       "      <th>0</th>\n",
       "      <td>0.030016</td>\n",
       "      <td>1053.920</td>\n",
       "    </tr>\n",
       "    <tr>\n",
       "      <th>1</th>\n",
       "      <td>0.090047</td>\n",
       "      <td>1156.300</td>\n",
       "    </tr>\n",
       "    <tr>\n",
       "      <th>2</th>\n",
       "      <td>0.150079</td>\n",
       "      <td>860.652</td>\n",
       "    </tr>\n",
       "    <tr>\n",
       "      <th>3</th>\n",
       "      <td>0.210110</td>\n",
       "      <td>906.550</td>\n",
       "    </tr>\n",
       "    <tr>\n",
       "      <th>4</th>\n",
       "      <td>0.270141</td>\n",
       "      <td>1043.610</td>\n",
       "    </tr>\n",
       "  </tbody>\n",
       "</table>\n",
       "</div>"
      ],
      "text/plain": [
       "   Coordinate-Z(nm)  Density(kg/m3)\n",
       "0          0.030016        1053.920\n",
       "1          0.090047        1156.300\n",
       "2          0.150079         860.652\n",
       "3          0.210110         906.550\n",
       "4          0.270141        1043.610"
      ]
     },
     "execution_count": 6,
     "metadata": {},
     "output_type": "execute_result"
    }
   ],
   "source": [
    "pf1 = pd.read_csv(\"density_1.xvg\", skiprows=23, delim_whitespace=True, names=[\"Coordinate-Z(nm)\", \"Density(kg/m3)\"])\n",
    "pf1.head()"
   ]
  },
  {
   "cell_type": "code",
   "execution_count": 35,
   "metadata": {
    "collapsed": false
   },
   "outputs": [],
   "source": [
    "pf2 = pd.read_csv(\"density_2.xvg\", skiprows=23, delim_whitespace=True, names=[\"Coordinate-Z(nm)\", \"Density(kg/m3)\"])\n",
    "pf3 = pd.read_csv(\"density_3.xvg\", skiprows=23, delim_whitespace=True, names=[\"Coordinate-Z(nm)\", \"Density(kg/m3)\"])\n",
    "pf4 = pd.read_csv(\"density_4.xvg\", skiprows=23, delim_whitespace=True, names=[\"Coordinate-Z(nm)\", \"Density(kg/m3)\"])\n",
    "pf5 = pd.read_csv(\"density_5.xvg\", skiprows=23, delim_whitespace=True, names=[\"Coordinate-Z(nm)\", \"Density(kg/m3)\"])\n",
    "pf6 = pd.read_csv(\"density_6.xvg\", skiprows=23, delim_whitespace=True, names=[\"Coordinate-Z(nm)\", \"Density(kg/m3)\"])\n",
    "pf7 = pd.read_csv(\"density.xvg\", skiprows=23, delim_whitespace=True, names=[\"Coordinate-Z(nm)\", \"Density(kg/m3)\"])"
   ]
  },
  {
   "cell_type": "code",
   "execution_count": 36,
   "metadata": {
    "collapsed": false
   },
   "outputs": [
    {
     "data": {
      "text/html": [
       "<div>\n",
       "<table border=\"1\" class=\"dataframe\">\n",
       "  <thead>\n",
       "    <tr style=\"text-align: right;\">\n",
       "      <th></th>\n",
       "      <th>Coordinate-Z(nm)</th>\n",
       "      <th>Density(kg/m3)</th>\n",
       "    </tr>\n",
       "  </thead>\n",
       "  <tbody>\n",
       "    <tr>\n",
       "      <th>0</th>\n",
       "      <td>0.029990</td>\n",
       "      <td>991.932</td>\n",
       "    </tr>\n",
       "    <tr>\n",
       "      <th>1</th>\n",
       "      <td>0.089969</td>\n",
       "      <td>969.419</td>\n",
       "    </tr>\n",
       "    <tr>\n",
       "      <th>2</th>\n",
       "      <td>0.149949</td>\n",
       "      <td>1013.540</td>\n",
       "    </tr>\n",
       "    <tr>\n",
       "      <th>3</th>\n",
       "      <td>0.209929</td>\n",
       "      <td>902.653</td>\n",
       "    </tr>\n",
       "    <tr>\n",
       "      <th>4</th>\n",
       "      <td>0.269908</td>\n",
       "      <td>1108.000</td>\n",
       "    </tr>\n",
       "  </tbody>\n",
       "</table>\n",
       "</div>"
      ],
      "text/plain": [
       "   Coordinate-Z(nm)  Density(kg/m3)\n",
       "0          0.029990         991.932\n",
       "1          0.089969         969.419\n",
       "2          0.149949        1013.540\n",
       "3          0.209929         902.653\n",
       "4          0.269908        1108.000"
      ]
     },
     "execution_count": 36,
     "metadata": {},
     "output_type": "execute_result"
    }
   ],
   "source": [
    "pf7.head()"
   ]
  },
  {
   "cell_type": "code",
   "execution_count": 38,
   "metadata": {
    "collapsed": false
   },
   "outputs": [
    {
     "name": "stdout",
     "output_type": "stream",
     "text": [
      "In pressure iteration:\n",
      "Pressure = -100Bar:  977.9444199999999\n",
      "Pressure = 100Bar:  981.1871800000002\n",
      "Pressure = 1000Bar:  983.5871 \n",
      "\n",
      "In box size iteration:\n",
      "Diameter = 5.009nm:  983.4649800000001\n",
      "Diameter = 7.009nm:  974.6092599999996\n",
      "Diameter = 9.009nm:  982.7725800000001 \n",
      "\n",
      "Reference Value:\n",
      "Pressure = 1Bar, Diameter = 3.009nm:  981.41576\n"
     ]
    }
   ],
   "source": [
    "density1 = pf1[\"Density(kg/m3)\"].mean()\n",
    "density2 = pf2[\"Density(kg/m3)\"].mean()\n",
    "density3 = pf3[\"Density(kg/m3)\"].mean()\n",
    "density4 = pf4[\"Density(kg/m3)\"].mean()\n",
    "density5 = pf5[\"Density(kg/m3)\"].mean()\n",
    "density6 = pf6[\"Density(kg/m3)\"].mean()\n",
    "density = pf7[\"Density(kg/m3)\"].mean()\n",
    "\n",
    "print(\"In pressure iteration:\")\n",
    "print(\"Pressure = -100Bar: \",density1)\n",
    "print(\"Pressure = 100Bar: \",density2)\n",
    "print(\"Pressure = 1000Bar: \",density3,\"\\n\")\n",
    "print(\"In box size iteration:\")\n",
    "print(\"Diameter = 5.009nm: \",density4)\n",
    "print(\"Diameter = 7.009nm: \",density5)\n",
    "print(\"Diameter = 9.009nm: \",density6,\"\\n\")\n",
    "print(\"Reference Value:\")\n",
    "print(\"Pressure = 1Bar, Diameter = 3.009nm: \", density)"
   ]
  },
  {
   "cell_type": "code",
   "execution_count": 42,
   "metadata": {
    "collapsed": false
   },
   "outputs": [
    {
     "data": {
      "image/png": "[encoded data removed]",
      "text/plain": [
       "<matplotlib.figure.Figure at 0x11a43c470>"
      ]
     },
     "metadata": {},
     "output_type": "display_data"
    }
   ],
   "source": [
    "%matplotlib inline\n",
    "\n",
    "fig = plt.figure(figsize=(10, 5))\n",
    "plt.rcParams.update({'font.size': 10})\n",
    "\n",
    "axes = fig.add_subplot(121)\n",
    "axes.plot([-100, 100, 1000], [density1, density2, density3], 'rs')\n",
    "axes.plot([1], [density], 'bo')\n",
    "axes.set_ylim([900, 1000])\n",
    "axes.set_ylabel('Density(kg/m3)')\n",
    "axes.set_xlabel('Pressure(Bar)')\n",
    "axes.set_title('Density vs. Pressure')\n",
    "axes.grid()\n",
    "\n",
    "axes = fig.add_subplot(122)\n",
    "axes.plot([5.009, 7.009, 9.009], [density4, density5, density6], 'rs')\n",
    "axes.plot([3.009], [density], 'bo')\n",
    "axes.set_ylim([900, 1000])\n",
    "axes.set_ylabel('Density(kg/m3)')\n",
    "axes.set_xlabel('Diameter(nm)')\n",
    "axes.set_title('Density vs. Diameter of Box')\n",
    "axes.grid()\n"
   ]
  },
  {
   "cell_type": "markdown",
   "metadata": {},
   "source": [
    "** Unfortunately, as can be seen from the above plots, the partial density remains relatively stable compared to the reference value regardless of different pressures as well as diameters. The hypothesis, therefore, seems unreasonable. In other words, even if the pressure was set as high as 1000 Bar, the density only showed minor increase in response to it.**\n",
    "\n",
    "* Q: I'm confused about why there is no direct relationship between the box size and the density? Surprisingly, there is even a drop in density as the diameter of box increase to 7nm."
   ]
  },
  {
   "cell_type": "markdown",
   "metadata": {},
   "source": [
    "## Part 4. Future work\n",
    "Given more time, I'd like to write another loop to switch on the NPT simulation first, so that I can analyze the total density of the system which is calculated along the time. Also, I'd like to add pressure analysis in my spAnalysis file in order to check the dynamic pressure values, which I suppose could offer more necessary information for an accurate analysis. \n",
    "\n",
    "As for the box size iteration, I have no clear idea of how to improve it right now.. the only thing I'm considering is increasing the scale of the box. However, I'm worried about the side effects of a too large box in our result of MD simulation."
   ]
  },
  {
   "cell_type": "code",
   "execution_count": null,
   "metadata": {
    "collapsed": true
   },
   "outputs": [],
   "source": []
  }
 ],
 "metadata": {
  "anaconda-cloud": {},
  "kernelspec": {
   "display_name": "Python 2",
   "language": "python",
   "name": "python2"
  },
  "language_info": {
   "codemirror_mode": {
    "name": "ipython",
    "version": 2
   },
   "file_extension": ".py",
   "mimetype": "text/x-python",
   "name": "python",
   "nbconvert_exporter": "python",
   "pygments_lexer": "ipython2",
   "version": "2.7.11"
  }
 },
 "nbformat": 4,
 "nbformat_minor": 2
}
