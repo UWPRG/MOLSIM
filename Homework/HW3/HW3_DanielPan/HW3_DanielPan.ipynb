{
 "cells": [
  {
   "cell_type": "markdown",
   "metadata": {},
   "source": [
    "## Simulation Class HW3"
   ]
  },
  {
   "cell_type": "markdown",
   "metadata": {},
   "source": [
    "### Part 1 : NVT simulation"
   ]
  },
  {
   "cell_type": "markdown",
   "metadata": {},
   "source": [
    "####  T plot\n",
    "<img src=\"files/NVT_T.png\" width=\"500\" height=\"500\">"
   ]
  },
  {
   "cell_type": "markdown",
   "metadata": {},
   "source": [
    "#### P plot\n",
    "<img src=\"files/NVT_P.png\" width=\"500\" height=\"500\">"
   ]
  },
  {
   "cell_type": "markdown",
   "metadata": {},
   "source": [
    "#### Avg. and RMSD for T, P\n",
    "<img src=\"files/NVT.png\" width=\"600\" height=\"600\">"
   ]
  },
  {
   "cell_type": "markdown",
   "metadata": {},
   "source": [
    "### PART 2 : NPT simulation\n",
    "#### Avg. and RMSD for T, P at 0.1 tau\n",
    "<img src=\"files/NPT_0.1.png\" width=\"600\" height=\"600\">\n",
    "#### Avg. and RMSD for T, P at 1 tau\n",
    "<img src=\"files/NPT_1.png\" width=\"600\" height=\"600\">\n",
    "#### Avg. and RMSD for T, P at 10 tau\n",
    "<img src=\"files/NPT_10.png\" width=\"600\" height=\"600\">\n",
    "#### Avg. and RMSD for T, P at 100 tau\n",
    "<img src=\"files/NPT_100.png\" width=\"600\" height=\"600\">"
   ]
  },
  {
   "cell_type": "markdown",
   "metadata": {},
   "source": [
    "|      | Avg. | RMSD |\n",
    "|------|---|---|\n",
    "|0.1 tau|   |   | \n",
    "|   T  | 349.678 | 6.70511 | \n",
    "|   P  | 13.8661 | 414.228 | \n",
    "|1 tau|   |   | \n",
    "|   T  | 350.155 | 7.05799 | \n",
    "|   P  | -15.8568 | 396.554 |\n",
    "|10 tau|   |   | \n",
    "|   T  | 352.387 | 9.22815 | \n",
    "|   P  | 15.2105 | 397.27 |\n",
    "|100 tau|   |   | \n",
    "|   T  | 352.582 | 19.7874 | \n",
    "|   P  | -36.267 | 398.827 | "
   ]
  },
  {
   "cell_type": "markdown",
   "metadata": {},
   "source": [
    "##### P plot at 0.1 tau\n",
    "<img src=\"files/NPT_P_0.1.png\" width=\"500\" height=\"500\">"
   ]
  },
  {
   "cell_type": "markdown",
   "metadata": {},
   "source": [
    "#### T plot in NVT for differnent tau\n",
    "<img src=\"files/NPT_T.png\" width=\"500\" height=\"500\">"
   ]
  },
  {
   "cell_type": "markdown",
   "metadata": {
    "collapsed": true
   },
   "source": [
    "### Part 3 : Discussion\n",
    "* It has the lowest T RMSD when tau = 0.1.\n",
    "* P in NVT system fluctuates at about 1000 bar, and P in NPT system(tau = 0.1) fluctuates at reference pressure 1 bar.\n",
    "* As shown in T plot in NVT for differnet tau, when tau=0.1 and tau=1, they get response quickly and fluctuate at reference temperature 350K, and have RMSD around 7, whick means tau=1 and tau=0.1 are reliable. When tau=10, it gets a slower response and slightly larger RMSD about 9, but sitll fluctuate at 350K. When tau increases to 100, it takes about 300 ps to achieve 350K and even go over fluctuating at 360K,and also has a larger RMSD about 20, which means tau=100 is unreliable.\n",
    "* V-rescale thermostat is used in both NVT and NPT system.  There is no barostat in NVT, and Parrinello-Rahman barostat is used in NPT system."
   ]
  },
  {
   "cell_type": "markdown",
   "metadata": {
    "collapsed": true
   },
   "source": [
    "### Some understanding of mine (may not be correct)\n",
    "* V-rescale thermostat is similiar to Berendsen, but add a stochastic term to re-scale the velocities of particles to generate a proper canonical ensemble, while Berendsen suppresses fluctuations of the kinetic energy of the system and therefore cannot produce trajectories consistent with the canonical ensemble.\n",
    "* RMSD is  something like level of oscillations. In NVT system, T has fluctuaction between 340K and 360K, so has RMSD about 7, while P fluctuates actutely between 500K and 1500 K and has RMSD about 400.\n",
    "* tau-t is a time constant for coupling to reference temperature, so smaller the tau-t is, quicker the response is for sure. However, if tau-t is too large, the system will get a over response.(I think it will still get to reference T after a longer period of time, though it doesn't show in this homework.)"
   ]
  },
  {
   "cell_type": "markdown",
   "metadata": {},
   "source": [
    "### Question:\n",
    "* In these cases, P has more acute oscillation (larger RMSD) than T does, no matter barostat is used or not. Is this a phenomenon of P? Or it is related to the system we use (water in these cases)? "
   ]
  },
  {
   "cell_type": "code",
   "execution_count": null,
   "metadata": {
    "collapsed": true
   },
   "outputs": [],
   "source": []
  }
 ],
 "metadata": {
  "anaconda-cloud": {},
  "kernelspec": {
   "display_name": "Python [default]",
   "language": "python",
   "name": "python3"
  },
  "language_info": {
   "codemirror_mode": {
    "name": "ipython",
    "version": 3
   },
   "file_extension": ".py",
   "mimetype": "text/x-python",
   "name": "python",
   "nbconvert_exporter": "python",
   "pygments_lexer": "ipython3",
   "version": "3.5.2"
  }
 },
 "nbformat": 4,
 "nbformat_minor": 2
}
