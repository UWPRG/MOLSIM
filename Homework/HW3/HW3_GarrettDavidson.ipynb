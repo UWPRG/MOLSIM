{
 "cells": [
  {
   "cell_type": "markdown",
   "metadata": {},
   "source": [
    "Run        ||Temperature Average|Temperature RMSD||Pressure Average|Pressure RMSD\n",
    "-----------||-------------------|----------------||----------------|-------------\n",
    "NVT        ||350.768            |6.72956         ||950.655         |395.805\n",
    "NPT 0.1 tau||350.185            |7.364           ||12.839          |381.753\n",
    "NPT 1 tau  ||350.652            |7.57997         ||-11.9762        |384.039\n",
    "NPT 10 tau ||348.401            |9.8206          ||-14.1741        |397.941\n",
    "NPT 100 tau||354.748            |24.2904         ||10.0619         |379.765\n",
    "\n",
    "The lowest temperature RMSD occured in the NVT ensemble."
   ]
  },
  {
   "cell_type": "markdown",
   "metadata": {},
   "source": [
    "<h3 align=\"center\">NVT Pressure Diagram</h3>\n",
    "![NVT Pressure Diagram](./NVT_pressure.png)\n",
    "\n",
    "<h3 align=\"center\">NPT 0.1 tau Pressure Diagram</h3>\n",
    "![NPT 0.1 Tau Pressure Diagram](./NPT_0.1tau_pressure.png)\n",
    "\n",
    "The average pressure in the NVT ensemble is much larger than the pressure in the NPT ensemble. The barostat used in the NPT ensemble holds the pressure at a reference pressure of 1.0. "
   ]
  },
  {
   "cell_type": "markdown",
   "metadata": {},
   "source": [
    "<h3 align=\"center\">Temperature vs. Time in all NPT ensembles</h3>\n",
    "![NPT Temperature Comparison](./NPT_temperaturecomparison.png)\n",
    "\n",
    "As you increase tau, the RMSD increases as well meaning there is greater variability in the measurements. In this case, I would think that a tau above 10 would be unreliable due to the large jump in RMSD. However, this could be due to the longer time it takes for the system to reach its equilibrium temperature."
   ]
  },
  {
   "cell_type": "markdown",
   "metadata": {},
   "source": [
    "Thermostat and Barostats:\n",
    "\n",
    "In the NVT ensemble, the thermostat used is v-rescale. There is no barostat used because pressure is not controlled\n",
    "\n",
    "In the NPT ensmeble, the thermostat used is v-rescale. The barostat used is parrinello-rahman and also berendsen for equilibration only."
   ]
  }
 ],
 "metadata": {
  "anaconda-cloud": {},
  "kernelspec": {
   "display_name": "Python [default]",
   "language": "python",
   "name": "python3"
  },
  "language_info": {
   "codemirror_mode": {
    "name": "ipython",
    "version": 3
   },
   "file_extension": ".py",
   "mimetype": "text/x-python",
   "name": "python",
   "nbconvert_exporter": "python",
   "pygments_lexer": "ipython3",
   "version": "3.5.2"
  }
 },
 "nbformat": 4,
 "nbformat_minor": 2
}
