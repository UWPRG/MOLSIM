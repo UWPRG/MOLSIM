{
 "cells": [
  {
   "cell_type": "markdown",
   "metadata": {},
   "source": [
    "### Part 1 NVT\n",
    "** 1. average & RMSD **  \n",
    "\n",
    "For Temperature: \n",
    "average = 349.779K  \n",
    "RMSD = 7.25284K   \n",
    "\n",
    "For Pressure:\n",
    "average = 937.069Bar  \n",
    "RMSD = 410.993Bar\n",
    "\n",
    "** 2. Plots **  \n",
    "NVT_pressure:"
   ]
  },
  {
   "cell_type": "markdown",
   "metadata": {},
   "source": [
    "<img src=\"files/NVT_pressure.png\">"
   ]
  },
  {
   "cell_type": "markdown",
   "metadata": {},
   "source": [
    "NVT_temperature:\n",
    "\n",
    "<img src=\"files/NVT_temp.png\">"
   ]
  },
  {
   "cell_type": "markdown",
   "metadata": {
    "collapsed": true
   },
   "source": [
    "### Part 2 NPT\n",
    "** 1. average & RMSD **  \n",
    "\n",
    "For Temperature:  \n",
    "\n",
    "0.1_tau:  \n",
    "average = 349.9K  \n",
    "RMSD = 6.92711K   \n",
    "1_tau:  \n",
    "average = 349.566K\n",
    "RMSD = 7.31906K\n",
    "10_tau:  \n",
    "average = 350.016K  \n",
    "RMSD = 8.89549K  \n",
    "100_tau:\n",
    "average = 356.386K  \n",
    "RMSD = 21.6787K  \n",
    "\n",
    "* Therefore, when tau=0.1ps the simulation has the lowest temperature RMSD (6.92711K). *\n",
    "\n",
    "For Pressure:\n",
    "\n",
    "0.1_tau:  \n",
    "average = 15.0625Bar  \n",
    "RMSD = 389.598Bar  \n",
    "1_tau:  \n",
    "average = 21.2419Bar  \n",
    "RMSD = 395.571Bar  \n",
    "10_tau:  \n",
    "average = -15.2327Bar  \n",
    "RMSD = 397.382Bar  \n",
    "100_tau:  \n",
    "average = -15.7812Bar  \n",
    "RMSD = 390.99Bar\n",
    "\n",
    "** 2. Plots **  \n",
    "a. Plot the pressure for 0.1_tau simulation. How does the pressure differ from the NVT simulation above?"
   ]
  },
  {
   "cell_type": "markdown",
   "metadata": {},
   "source": [
    "NPT_0.1_tau_temperature:\n",
    "\n",
    "<img src=\"files/NVT_NPT_pressure.png\">"
   ]
  },
  {
   "cell_type": "markdown",
   "metadata": {},
   "source": [
    "As is shown in the above plot, the fluctuation shapes of pressure plots of NVT and NPT (tau=0.1ps) systems were pretty similar, except that the average pressure of NPT was kept around 1 bar according to the relevant parameter in .mdp file."
   ]
  },
  {
   "cell_type": "markdown",
   "metadata": {},
   "source": [
    "b. Plot Temperature vs. time for all 4 NPT simulations (see README.txt for help). At what values of tau seem to be unreliable? Explain qualitatively why this is the case."
   ]
  },
  {
   "cell_type": "markdown",
   "metadata": {},
   "source": [
    "NPT_temperature:\n",
    "\n",
    "<img src=\"files/NPT_temp.png\">"
   ]
  },
  {
   "cell_type": "markdown",
   "metadata": {},
   "source": [
    "As is shown in the above plot, tau=100ps seems unreliable since the temperature in this case took a lot more time to keep increasing until the final moment of simulation. In other words, it didn't reach equilibrium at last and also reached a relatively higher temperature than the initial setting. Similarly, tau=10ps seems also problematic due to the longer relaxation time but not that severe as the former one."
   ]
  },
  {
   "cell_type": "markdown",
   "metadata": {},
   "source": [
    "### Part 3. Miscellaneous.\n",
    "1. What thermostat and barostat are used in the NVT simulation?  \n",
    "thermostat: v-rescale.  \n",
    "barostat: none (no pressure coupling).  \n",
    "2. What thermostat and barostat are used in the NPT simulation?  \n",
    "thermostat: v-rescale.  \n",
    "barostat: parrinello-rahman berendsen."
   ]
  },
  {
   "cell_type": "markdown",
   "metadata": {
    "collapsed": true
   },
   "source": [
    "### Questions:\n",
    "1. What can we get from different RMSD values? I mean, I know that it indicates Root mean square deviations in structure and even somehow implies the molecular transformation (maybe?), but still not clear about its implication in our simulation, especially when our system is just made up of water.  \n",
    "2. Why would the pressure get very similar fluctuations and paces of changing no matter with or without pressure-coupling mechanism?  \n",
    "3. Are we choosing thermostat and barostat just out of convention in most cases?"
   ]
  },
  {
   "cell_type": "code",
   "execution_count": null,
   "metadata": {
    "collapsed": true
   },
   "outputs": [],
   "source": []
  }
 ],
 "metadata": {
  "anaconda-cloud": {},
  "kernelspec": {
   "display_name": "Python [conda root]",
   "language": "python",
   "name": "conda-root-py"
  },
  "language_info": {
   "codemirror_mode": {
    "name": "ipython",
    "version": 3
   },
   "file_extension": ".py",
   "mimetype": "text/x-python",
   "name": "python",
   "nbconvert_exporter": "python",
   "pygments_lexer": "ipython3",
   "version": "3.5.2"
  }
 },
 "nbformat": 4,
 "nbformat_minor": 2
}
