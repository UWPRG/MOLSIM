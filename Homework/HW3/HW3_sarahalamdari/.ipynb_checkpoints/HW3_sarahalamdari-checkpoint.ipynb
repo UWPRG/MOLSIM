{
 "cells": [
  {
   "cell_type": "markdown",
   "metadata": {},
   "source": [
    "### 1.) NVT simulation. \n",
    "#### - Set up and run the NVT simulation as described in README.txt. - Record the average and RMSD for both temperature and pressure over the course of your simulation. "
   ]
  },
  {
   "cell_type": "markdown",
   "metadata": {},
   "source": [
    "Energy \t\tAverage\t\t RMSD\t\t Units \n",
    "--------------------------------------------\n",
    "Temperature\t350.014\t\t 7.4179 \t (K)\n",
    "Pressure \t937.416\t\t 392.801\t (bar)"
   ]
  },
  {
   "cell_type": "markdown",
   "metadata": {},
   "source": [
    " #### - Save plots (screenshots are fine) of both temperature and pressure."
   ]
  },
  {
   "cell_type": "markdown",
   "metadata": {},
   "source": [
    "![alt text](1_nvt_temp.png)\n",
    "![alt text](1_nvt_pressure.png)"
   ]
  },
  {
   "cell_type": "markdown",
   "metadata": {},
   "source": [
    "### 2) NPT simulation. Set up and run NPT simulations as described in README.txt \n",
    "#### - Record average and RMSD for temperature and pressure in each case. Which simulation has the lowest temperature RMSD."
   ]
  },
  {
   "cell_type": "markdown",
   "metadata": {},
   "source": [
    "Tau \tEnergy          Average          RMSD\t\tUnits\n",
    "---------------------------------------------------------------\n",
    "0.1\t    Temperature     349.74           7.32913    (K)\n",
    "0.1\t    Pressure\t    0.0740447\t     379.522    (bar)\n",
    "\n",
    "1\t    Temperature\t    349.995\t\t     7.30635    (K)   \n",
    "1       Pressure\t    31.1724\t\t     398.051\t(bar)\n",
    "\n",
    "10      Temperature \t351.273\t\t     9.35626    (K)\n",
    "10 \t    Pressure\t    -4.52579\t     406.649    (bar)\n",
    "\n",
    "100\t    Temperature\t    349.469\t\t     18.5341\t(K)\n",
    "100 \tPressure\t    5.07168\t\t     403.288\t(bar)"
   ]
  },
  {
   "cell_type": "markdown",
   "metadata": {},
   "source": [
    "#### - Plot the pressure for 0.1_tau simulation. How does the pressure differ from the NVT simulation above?"
   ]
  },
  {
   "cell_type": "markdown",
   "metadata": {},
   "source": [
    "<center>tau = 0.1</center>\n",
    "![alt text](2_0.1tau_pressure.png)\n",
    "\n",
    "The pressure range is larger than the NVT simulation, and fluctuates around 1 bar.\n"
   ]
  },
  {
   "cell_type": "markdown",
   "metadata": {},
   "source": [
    "#### - Plot Temperature vs. time for all 4 NPT simulations (see README.txt for help). At what values of tau seem to be unreliable? Explain qualitatively why this is the case."
   ]
  },
  {
   "cell_type": "markdown",
   "metadata": {},
   "source": [
    "![alt text](2_temp.png)\n",
    "\n",
    "Tau is unreliable when > 10. Looking at the graph temperature becomes unstable (rapidly increasing, not equilibriating) at these values, and from the table above RMSD begins to increase"
   ]
  },
  {
   "cell_type": "markdown",
   "metadata": {},
   "source": [
    "### 3) Miscellaneous. \n",
    "#### - What thermostat and barostat are used in the NVT simulation?\n",
    " "
   ]
  },
  {
   "cell_type": "markdown",
   "metadata": {},
   "source": [
    "- thermostat: v-rescale\n",
    "- barostat: none"
   ]
  },
  {
   "cell_type": "markdown",
   "metadata": {},
   "source": [
    "#### - What thermostat and barostat are used in the NPT simulation?"
   ]
  },
  {
   "cell_type": "markdown",
   "metadata": {},
   "source": [
    "- thermostat: v-rescale \n",
    "- barostat: parrinello-rahman (parrinello-rahman berendsen for equilibration)"
   ]
  }
 ],
 "metadata": {
  "anaconda-cloud": {},
  "kernelspec": {
   "display_name": "Python [default]",
   "language": "python",
   "name": "python3"
  },
  "language_info": {
   "codemirror_mode": {
    "name": "ipython",
    "version": 3
   },
   "file_extension": ".py",
   "mimetype": "text/x-python",
   "name": "python",
   "nbconvert_exporter": "python",
   "pygments_lexer": "ipython3",
   "version": "3.5.2"
  }
 },
 "nbformat": 4,
 "nbformat_minor": 1
}
