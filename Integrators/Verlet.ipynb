{
 "cells": [
  {
   "cell_type": "code",
   "execution_count": 1,
   "metadata": {
    "collapsed": false
   },
   "outputs": [],
   "source": [
    "import numpy as np\n",
    "import scipy as sp\n",
    "import pandas as pd\n",
    "import matplotlib.pyplot as plt\n"
   ]
  },
  {
   "cell_type": "markdown",
   "metadata": {},
   "source": [
    "## MD Program - Verlet Algorithm\n",
    "### Note this is a unitless system (m and k are set to be 1)\n",
    "\n",
    "1) Initialize System\n",
    "\n",
    "* Set initial positions\n",
    "\n",
    "* Generate random initial velocities\n",
    "\n",
    "* Re-scale velocities 3/2*m*v^2=1/2*kT (for 3-D system)\n",
    "\n",
    "2) Evaluate Forces At Current Position\n",
    "\n",
    "* E = U(x)\n",
    "\n",
    "* F = -dU/dx\n",
    "\n",
    "3) Integrate EOM one step in time (Verlet Algorithm)\n",
    "\n",
    "* x_i+1 = 2 * x_i - x_i-1 + dt^2 * F\n",
    "\n",
    "4) Repeat Steps 2 & 3 until number of steps fulfilled\n",
    "\n",
    "5) Analyze Trajectory (RMSD, Cv, etc.)"
   ]
  },
  {
   "cell_type": "code",
   "execution_count": 2,
   "metadata": {
    "collapsed": false
   },
   "outputs": [],
   "source": [
    "def init(temp,dt):\n",
    "    \n",
    "    xi=np.random.rand(1) # generate random configuration\n",
    "    vi=np.random.randn(1) # generate random velocity\n",
    "    sumv=vi\n",
    "    sumv2=vi**2\n",
    "    scale_factor=np.sqrt(1*temp/sumv2) # calculate scale factor for temperature\n",
    "    vi=vi*scale_factor # re-scale velocity to temperature (via equipartition theorem)\n",
    "    xprev=xi-vi*dt # estimate previous location using velocity\n",
    "    return xi,xprev,vi"
   ]
  },
  {
   "cell_type": "code",
   "execution_count": 3,
   "metadata": {
    "collapsed": false
   },
   "outputs": [],
   "source": [
    "def calcforce(xi):\n",
    "    ener=0.5*(xi-1)**2# calculate energy (harmonic oscillator)\n",
    "    force=(-1*xi+1) # -dU/dx\n",
    "    return ener,force"
   ]
  },
  {
   "cell_type": "code",
   "execution_count": 12,
   "metadata": {
    "collapsed": false
   },
   "outputs": [],
   "source": [
    "def integrate(xi,xprev,force,epot,delt):\n",
    "    newx=xi*2-xprev+force*delt**2 # verlet algorithm\n",
    "    newv=(newx-xprev)/(2*delt) # estimate new velocity \n",
    "    temp=newv**2 # calculate temperature assume m,k=1 and 1-D so 1/2T=1/2v^2\n",
    "    etot=calcforce(newx)[0]+0.5*newv**2 # Total = Potential + Kinetic\n",
    "    kin=0.5*newv**2 # Kinetic Energy = 1/2v^2\n",
    "    return newx,temp,etot,kin"
   ]
  },
  {
   "cell_type": "code",
   "execution_count": 13,
   "metadata": {
    "collapsed": false
   },
   "outputs": [],
   "source": [
    "# Initialize\n",
    "%matplotlib inline\n",
    "base=np.arange(-5,5,0.01)\n",
    "positions=np.zeros(50000)\n",
    "temp=np.zeros(len(positions))\n",
    "etot=np.zeros(len(positions))\n",
    "eptot=np.zeros(len(positions))\n",
    "ekin=np.zeros(len(positions))\n",
    "\n",
    "temp[0]=1 #change\n",
    "dt=0.001 #change\n",
    "#npdb.set_trace()\n",
    "x0,xp,v0=init(temp[0],dt)\n",
    "velocities=np.zeros(len(positions))\n",
    "\n",
    "#positions[0]=xp\n",
    "positions[0]=x0\n",
    "velocities[0]=v0\n",
    "\n",
    "eptot[0]=calcforce(xp)[0]\n",
    "ekin[0]=v0**2*0.5\n",
    "etot[0]= eptot[0]+ekin[0]\n",
    "\n",
    "for i in range(0,len(positions)-1):\n",
    "    enp,fc=calcforce(positions[i]) \n",
    "    #pdb.set_trace()\n",
    "    eptot[i]=enp\n",
    "    if i==0:\n",
    "        newx,newtemp,newetot,newkin=integrate(positions[i],xp,fc,enp,dt)\n",
    "    else:\n",
    "        newx,newtemp,newetot,newkin=integrate(positions[i],positions[i-1],fc,enp,dt)\n",
    "    positions[i+1]=newx\n",
    "    ekin[i+1]=newkin\n",
    "    etot[i+1]=newetot\n",
    "    temp[i+1]=newtemp\n",
    "#     plt.clf()\n",
    "#     plt.plot(base,0.5*(base-1)**2)\n",
    "#     plt.plot(newx,calcforce(newx)[0])\n",
    "#     plt.draw()\n",
    "#     plt.pause(1)\n",
    "eptot[-1]=calcforce(positions[-1])[0]"
   ]
  },
  {
   "cell_type": "code",
   "execution_count": 18,
   "metadata": {
    "collapsed": false,
    "scrolled": true
   },
   "outputs": [
    {
     "data": {
      "text/plain": [
       "<matplotlib.legend.Legend at 0x118542d10>"
      ]
     },
     "execution_count": 18,
     "metadata": {},
     "output_type": "execute_result"
    },
    {
     "data": {
      "image/png": "[encoded data removed]",
      "text/plain": [
       "<matplotlib.figure.Figure at 0x1180eca50>"
      ]
     },
     "metadata": {},
     "output_type": "display_data"
    }
   ],
   "source": [
    "%matplotlib inline\n",
    "plt.plot(eptot[:3000],'r',label='Ep')\n",
    "plt.plot(ekin[:3000],'b',label='Ek')\n",
    "plt.plot(etot,'g',label='Etot')\n",
    "plt.legend()"
   ]
  },
  {
   "cell_type": "markdown",
   "metadata": {},
   "source": []
  },
  {
   "cell_type": "code",
   "execution_count": 15,
   "metadata": {
    "collapsed": false
   },
   "outputs": [
    {
     "data": {
      "text/plain": [
       "<matplotlib.text.Text at 0x117f65990>"
      ]
     },
     "execution_count": 15,
     "metadata": {},
     "output_type": "execute_result"
    },
    {
     "data": {
      "image/png": "[encoded data removed]",
      "text/plain": [
       "<matplotlib.figure.Figure at 0x117cc60d0>"
      ]
     },
     "metadata": {},
     "output_type": "display_data"
    }
   ],
   "source": [
    "plt.plot(positions[:10000],eptot[:10000],'o')\n",
    "plt.xlabel('position x')\n",
    "plt.ylabel('Potential Energy')"
   ]
  },
  {
   "cell_type": "code",
   "execution_count": 16,
   "metadata": {
    "collapsed": false
   },
   "outputs": [
    {
     "data": {
      "text/plain": [
       "<matplotlib.text.Text at 0x117f71150>"
      ]
     },
     "execution_count": 16,
     "metadata": {},
     "output_type": "execute_result"
    },
    {
     "data": {
      "image/png": "[encoded data removed]",
      "text/plain": [
       "<matplotlib.figure.Figure at 0x1180ec910>"
      ]
     },
     "metadata": {},
     "output_type": "display_data"
    }
   ],
   "source": [
    "plt.plot(positions,'o')\n",
    "plt.ylabel('position x')\n",
    "plt.xlabel('Time (steps)')"
   ]
  },
  {
   "cell_type": "code",
   "execution_count": 17,
   "metadata": {
    "collapsed": false
   },
   "outputs": [
    {
     "data": {
      "text/plain": [
       "array([ 0.6880618 ,  0.68714304,  0.68714367,  0.6871443 ,  0.68714493,\n",
       "        0.68714557,  0.68714621,  0.68714685,  0.68714749,  0.68714814])"
      ]
     },
     "execution_count": 17,
     "metadata": {},
     "output_type": "execute_result"
    }
   ],
   "source": [
    "etot[:10]"
   ]
  },
  {
   "cell_type": "markdown",
   "metadata": {
    "collapsed": true
   },
   "source": [
    "## Key Questions\n",
    "\n",
    "1) Change the timestep (increase &  decrease), what happens?\n",
    "\n",
    "2) Change the temperature (increase & decrease, what happens?\n",
    "\n",
    "3) As currently setup this integrator acting on an analytical potential will not break. \n",
    "But the potential energy function is a harmonic oscillator, which is an actual representation\n",
    "of the energy between bonded atoms. Does this mean that this integrator will always work for\n",
    "this potential (no drift, never crash)? \n",
    "\n",
    "4) What is missing in this representation which would cause problems? TO rephrase: what is the difference between this model, analytical potential and REAL molecular system?"
   ]
  },
  {
   "cell_type": "markdown",
   "metadata": {},
   "source": []
  },
  {
   "cell_type": "code",
   "execution_count": 9,
   "metadata": {
    "collapsed": false
   },
   "outputs": [
    {
     "data": {
      "text/plain": [
       "array([ 0.62814789,  0.62789479,  0.62789479,  0.62789479,  0.62789479,\n",
       "        0.62789479,  0.62789479,  0.62789479,  0.62789479,  0.62789479])"
      ]
     },
     "execution_count": 9,
     "metadata": {},
     "output_type": "execute_result"
    }
   ],
   "source": [
    "etot[:10]"
   ]
  },
  {
   "cell_type": "markdown",
   "metadata": {
    "collapsed": true
   },
   "source": [
    "## Calculate Cv\n",
    "\n",
    "Cv = dE/dT\n",
    "\n",
    "For NVE, E is constant but fluctuations of kinetic and potential energy are the same.\n",
    "\n",
    "Cv can be evaluated from the fluations in kinetic energy. \n",
    "\n",
    "Ave(dK^2) = (ave(K^2) - ave(K)^2) = 3/2 * N * k^2 * T^2 * (1 - 3/2 * N * k / Cv)\n",
    "\n",
    "Cv = (3 k /2) / (1 - (ave(K^2) - ave(K)^2)* (2/3) * N / (k^2 T^2))"
   ]
  },
  {
   "cell_type": "code",
   "execution_count": null,
   "metadata": {
    "collapsed": true
   },
   "outputs": [],
   "source": []
  }
 ],
 "metadata": {
  "kernelspec": {
   "display_name": "Python 2",
   "language": "python",
   "name": "python2"
  },
  "language_info": {
   "codemirror_mode": {
    "name": "ipython",
    "version": 2
   },
   "file_extension": ".py",
   "mimetype": "text/x-python",
   "name": "python",
   "nbconvert_exporter": "python",
   "pygments_lexer": "ipython2",
   "version": "2.7.12"
  }
 },
 "nbformat": 4,
 "nbformat_minor": 0
}
