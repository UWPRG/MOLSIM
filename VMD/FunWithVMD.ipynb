{
 "cells": [
  {
   "cell_type": "markdown",
   "metadata": {},
   "source": [
    "# Fun With VMD! \n",
    "\n",
    "## Topics\n",
    "\n",
    "* Setup\n",
    "* Loading files into VMD\n",
    "* RMSD Trajectory Tool for alignment/analysis\n",
    "* Atomselect Command\n",
    "* Scripting in VMD\n",
    "* Movie-making and snapshot rendering\n",
    "* Homework"
   ]
  },
  {
   "cell_type": "markdown",
   "metadata": {},
   "source": [
    "<hr>\n",
    "## Setup\n",
    "\n",
    "### Copy/paste into your .login file:\n",
    "\n",
    "* alias vmd='/gscratch/pfaendtner/codes/vmd/vmd'\n",
    "* export PATH=\\$PATH:/gscratch/pfaendtner/codes/vmd/vmd\n",
    "* export LD_LIBRARY_PATH=$LD_LIBRARY_PATH:/gscratch/pfaendtner/codes/vmd/libcudart.so.2\n",
    "\n",
    "### .vmdrc file\n",
    "<img src=\"vmdrc.png\" />\n"
   ]
  },
  {
   "cell_type": "markdown",
   "metadata": {},
   "source": [
    "<hr>\n",
    "## Loading Files into VMD\n",
    "\n",
    "### Pulling directly from the Protein Data Bank (PDB)\n",
    "\n",
    "\n",
    "\\> mol new 1ECE \n",
    "\n",
    "OR\n",
    "\n",
    "\\> mol pdbload 1ECE\n",
    "\n",
    "### Loading in and visualizing a simulation trajectory\n",
    "\n",
    "Must load in a coordinate file and a trajectory file together: \n",
    "\n",
    "    > vmd conf.gro trajout.trr\n",
    "\n",
    "Must have the same number of coordinates!!\n",
    "\n",
    "\n",
    "Notes: \n",
    "    1. In Graphical Representations, type your selection, then tap on the VMD display and press \"=\" to \n",
    "       center selection on screen! \n",
    "    2. Control-z to put VMD in the background. \"fg\" to bring it back up. "
   ]
  },
  {
   "cell_type": "markdown",
   "metadata": {},
   "source": [
    "<hr>\n",
    "## RMSD Trajectory Tool for Alignment and Analysis\n",
    "\n",
    "Go to Extensions >> Analysis >> RMSD Trajectory Tool\n",
    "\n",
    "Type your selection, press \"Align\", then \"Plot\" and \"RMSD\" "
   ]
  },
  {
   "cell_type": "markdown",
   "metadata": {},
   "source": [
    "<hr>\n",
    "## Atomselect Command\n",
    "\n",
    "### Graphical versus command line use\n",
    "\n",
    "Atomselect is a way to access information about the atoms, molecules, residues, in the system. \n",
    "\n",
    "For example, you can move certain selections, get coordinates or resids, calculate distances, save files, etc. \n",
    "\n",
    "Saving a trajectory frame as a single pdb file: \n",
    "\n",
    "    > set sel [atomselect top \"all and not water\"]\n",
    "\n",
    "    > $sel writepdb protein.pdb\n",
    "\n",
    "### Useful functions\n",
    "http://www.ks.uiuc.edu/Research/vmd/vmd-1.7.1/ug/node181.html\n",
    "### Saving pdb files\n",
    "\n",
    "Merging multiple pdb files\n",
    "    > set sel1 [atomselect 0 \"all\"]\n",
    "    \n",
    "    > set sel2 [atomselect 1 \"all\"]\n",
    "    \n",
    "    > set sel3 [::TopoTools::selections2mol \"$sel1 $sel2\"]\n",
    "    \n",
    "    > animate write pdb $sel3 merged.pdb\n",
    "    \n",
    "http://www.ks.uiuc.edu/Research/vmd/mailing_list/vmd-l/15568.html\n",
    "\n",
    "Saving rotated coordinates\n",
    "\n",
    "http://www.ks.uiuc.edu/Research/vmd/mailing_list/vmd-l/21427.html\n"
   ]
  },
  {
   "cell_type": "markdown",
   "metadata": {},
   "source": [
    "<hr>\n",
    "## Scripting in VMD\n",
    "\n",
    "Everything you can do in VMD interactively can also be done with Tcl commands\n",
    "\n",
    "There is even an interface for Python!\n",
    "\n",
    "My sample scripts: /suppscr/pfaendtner/vanouk/scripts/*.tcl\n",
    "\n",
    "For example, \n",
    "    > source /suppscr/pfaendtner/vanouk/scripts/getresid.tcl\n",
    "This will create a file in the working directory called \"resid.txt\" that, for every frame, writes out the residue number of protein residues within 4 Angstroms of IL cations (\"BMI\").\n",
    "\n",
    "Great resource: http://www.ks.uiuc.edu/Training/Tutorials/vmd/tutorial-html/node4.html\n"
   ]
  },
  {
   "cell_type": "markdown",
   "metadata": {},
   "source": [
    "<hr>\n",
    "## Movie-Making and Snapshot Rendering   \n",
    "### Snapshot Rendering   \n",
    "\n",
    "Go to File > Render, and switch to \"Tachyon\"\n",
    "\n",
    "\n",
    "\n",
    "Orthographic versus Perspective (In \"Display\")\n",
    "\n",
    "Occult Lighting: https://ourphysics.org/wiki/index.php/How_to_make_images_for_publication_using_VMD\n",
    "\n",
    "\n",
    "Animate secondary structure: http://www.ks.uiuc.edu/Research/vmd/vmd-1.3/ug/node256.html\n",
    "\n",
    "    In Graphical Representations, set \"Coloring Method\" to \"Secondary Structure\" and \"Drawing Method\" \n",
    "    to \"NewCartoon\"\n",
    "\n",
    "    Copy/paste into the console:\n",
    "\n",
    "        proc structure_trace {name index op} {\n",
    "\n",
    "              vmd_calculate_structure $index\n",
    "        }\n",
    "\n",
    "        trace variable vmd_frame w structure_trace\n",
    "\n",
    "Go to the \"Trajectory\" tab in Graphical Representations to align multiple frames (e.g., mutation snapshot)\n",
    "\n",
    "### Movie-Making\n",
    "\n",
    "Go to Extensions > Visualization > Movie Maker\n",
    "\n",
    "Good practice to do a \"Dry-Run\" under \"Renderer\", and make sure to set the correct working directory!\n",
    "\n",
    "Good default choices:\n",
    "    * Renderer = \"Snapshot\" for quick-made movies, \"Tachyon\" is best (IMO)\n",
    "    * Movie Settings = \"Rotation about y axis\" or \"Trajectory\"\n",
    "    * Format = \"Animated GIF\"\n",
    "\n",
    "Resources: \n",
    "\n",
    "    1. Movie-making tutorial:\n",
    "\n",
    "http://www.ks.uiuc.edu/Training/Tutorials/vmd/tutorial-html/node3.html\n",
    "    2. General Tutorial: \n",
    "http://www.ks.uiuc.edu/Training/Tutorials/vmd/tutorial-html/\n",
    "\n",
    "Notes:\n",
    "    1. Beware of surf!\n",
    "    2. Movie rendering must be done on an interactive node or your own computer\n",
    "    3. Snapshot rendering is typically okay on the login node\n",
    "    4. Loading trajectories below 1 GB is typically okay on the login node\n",
    "    5. .gif files work really well in Safari!"
   ]
  },
  {
   "cell_type": "markdown",
   "metadata": {
    "collapsed": true
   },
   "source": [
    "## Homework\n",
    "\n",
    "Make three uniquely rendered images of lipase in [BMI][CHL] from different frames in the simulation."
   ]
  },
  {
   "cell_type": "code",
   "execution_count": null,
   "metadata": {
    "collapsed": true
   },
   "outputs": [],
   "source": []
  }
 ],
 "metadata": {
  "anaconda-cloud": {},
  "kernelspec": {
   "display_name": "Python 3",
   "language": "python",
   "name": "python3"
  },
  "language_info": {
   "codemirror_mode": {
    "name": "ipython",
    "version": 3
   },
   "file_extension": ".py",
   "mimetype": "text/x-python",
   "name": "python",
   "nbconvert_exporter": "python",
   "pygments_lexer": "ipython3",
   "version": "3.5.1"
  }
 },
 "nbformat": 4,
 "nbformat_minor": 0
}
