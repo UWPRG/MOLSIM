{
 "cells": [
  {
   "cell_type": "code",
   "execution_count": 3,
   "metadata": {
    "collapsed": true
   },
   "outputs": [],
   "source": [
    "import matplotlib.pyplot as plt\n",
    "import numpy as np\n",
    "from matplotlib.legend_handler import HandlerLine2D\n",
    "import matplotlib.lines as mlines\n",
    "from scipy.optimize import curve_fit\n",
    "from scipy.misc import factorial\n",
    "from scipy.stats import ks_2samp\n",
    "from scipy import stats\n",
    "import sys\n",
    "import pdb"
   ]
  },
  {
   "cell_type": "code",
   "execution_count": 6,
   "metadata": {
    "collapsed": false
   },
   "outputs": [
    {
     "name": "stdout",
     "output_type": "stream",
     "text": [
      "[  3.13990000e-02   6.10990000e-02   3.22990000e-02   7.60990000e-02\n",
      "   1.16399000e-01   1.93990000e-02   2.25990000e-02   3.76990000e-02\n",
      "   6.53990000e-02   2.00699000e-01   4.97990000e-02   3.49990000e-02\n",
      "   1.29900000e-03   6.02990000e-02   6.42990000e-02   1.59990000e-02\n",
      "   8.03990000e-02   5.33990000e-02   6.76990000e-02   2.42990000e-02\n",
      "   9.09900000e-03   7.19900000e-03   4.42990000e-02   1.59900000e-03\n",
      "   6.29900000e-03   2.59900000e-03   2.25990000e-02   1.35199000e-01\n",
      "   1.90990000e-02   4.21990000e-02   3.07990000e-02   1.96990000e-02\n",
      "   3.09990000e-02   1.09990000e-02   1.28990000e-02   6.88990000e-02\n",
      "   8.19900000e-03   2.48990000e-02   1.13990000e-02   5.75990000e-02\n",
      "   1.39900000e-03   7.89900000e-03   1.63990000e-02   1.29899000e-01\n",
      "   3.77990000e-02   6.69900000e-03   5.36990000e-02   7.05990000e-02\n",
      "   1.71990000e-02   2.79900000e-03   9.90000000e-05   1.94990000e-02\n",
      "   1.33990000e-02   8.79900000e-03   2.52990000e-02   4.59990000e-02\n",
      "   2.69900000e-03   1.89900000e-03   5.99000000e-04   2.58990000e-02]\n"
     ]
    }
   ],
   "source": [
    "#load data from terminal [time(ns),effective time(t*acceleration factor)]\n",
    "datain=np.genfromtxt('md_1200/allevents_np.txt', delimiter=\" \")\n",
    "\n",
    "data=datain[: ,1] #grabs effective time\n",
    "\n",
    "#define some key parameters of the data set\n",
    "min=np.min(data)\n",
    "max=np.max(data)\n",
    "bins=10*np.size(data) #defines bins for histogram\n",
    "\n",
    "time=np.logspace(np.log10(min),np.log10(max),num=bins)\n",
    "mu=np.mean(data)\n",
    "\n",
    "time_centers = np.r_[0.5 * (time[:-1] + time[1:])] #averages the first/last values in each bin\n",
    "print (data)"
   ]
  },
  {
   "cell_type": "code",
   "execution_count": 48,
   "metadata": {
    "collapsed": false
   },
   "outputs": [
    {
     "name": "stdout",
     "output_type": "stream",
     "text": [
      "mu (ns)\t\t 0.036179\n",
      "taufit (ns)\t 0.0348538945913\n"
     ]
    },
    {
     "name": "stderr",
     "output_type": "stream",
     "text": [
      "//anaconda/lib/python3.5/site-packages/ipykernel/__main__.py:17: VisibleDeprecationWarning: using a non-integer number instead of an integer will result in an error in the future\n"
     ]
    }
   ],
   "source": [
    "def analyticalCDF(times,tau):  #function that creates an analytical CDF\n",
    "    return 1-np.exp(-times/tau)\n",
    "\n",
    "#print (np.std(data))\n",
    "#print (stats.sem(data)) \n",
    "\n",
    "hist, bins2=np.histogram(data,bins=time,density=False)\n",
    "cdf=np.cumsum(hist)*1.0/data.size\n",
    "\n",
    "#Fit the CDF\n",
    "taufit, pcov = curve_fit(analyticalCDF,time_centers, cdf,mu)\n",
    "print (\"mu (ns)\\t\\t\" ,mu)\n",
    "print (\"taufit (ns)\\t\" ,taufit[0])\n",
    "\n",
    "\n",
    "points=1e5\n",
    "randdata=np.random.gamma(1,taufit,np.size(data)*points)"
   ]
  },
  {
   "cell_type": "code",
   "execution_count": 50,
   "metadata": {
    "collapsed": false
   },
   "outputs": [
    {
     "name": "stdout",
     "output_type": "stream",
     "text": [
      "mu: 0.036179\n",
      "mu_sem: 0.00490385228485\n",
      "sigma: 0.037985076463\n",
      "t_m: 0.024599\n",
      "tau: [ 0.03485389]\n",
      "mu_sigma_ratio: 0.952452999147\n",
      "log2mu_median_ratio: 1.0194468005\n",
      "tau_mu_ratio: [ 0.96337363]\n",
      "p-value: 0.896794315499\n",
      "ks-stat: 0.072834\n",
      "events recorded: 60\n"
     ]
    }
   ],
   "source": [
    "#perfrom the KS test to see if the data points from MetaD are statistically\n",
    "#the same as the data points from the analytical fit\n",
    "stat,p=ks_2samp(data,randdata)\n",
    "\n",
    "print (\"mu:\" , np.mean(data))\n",
    "print (\"mu_sem:\", stats.sem(data))\n",
    "print (\"sigma:\", np.std(data,ddof=1))\n",
    "print (\"t_m:\", np.median(data))\n",
    "print (\"tau:\", taufit)\n",
    "print (\"mu_sigma_ratio:\", np.mean(data)/np.std(data,ddof=1))\n",
    "print (\"log2mu_median_ratio:\", np.log(2)*np.mean(data)/np.median(data))\n",
    "print (\"tau_mu_ratio:\", taufit/np.mean(data))\n",
    "print (\"p-value:\" , p)\n",
    "print (\"ks-stat:\" , stat)\n",
    "print (\"events recorded:\" ,  np.size(data))"
   ]
  },
  {
   "cell_type": "code",
   "execution_count": 58,
   "metadata": {
    "collapsed": false
   },
   "outputs": [
    {
     "name": "stderr",
     "output_type": "stream",
     "text": [
      "//anaconda/lib/python3.5/site-packages/ipykernel/__main__.py:26: VisibleDeprecationWarning: using a non-integer number instead of an integer will result in an error in the future\n"
     ]
    },
    {
     "name": "stdout",
     "output_type": "stream",
     "text": [
      "0.0\n"
     ]
    }
   ],
   "source": [
    "##random sampling on data set\n",
    "def sampling(data,num_iters,sampsize):\n",
    "    #if sampsize > 100\n",
    "    #sampsize = 100\n",
    "\n",
    "\n",
    "    means=np.array([0.0])\n",
    "    pvals=np.array([0.0])\n",
    "    points=1e4 #number of sampling points for p-val\n",
    "    alpha=0.05\n",
    "    reject=0.0\n",
    "    #for i in range((num_iters)):\n",
    "    while np.size(means) <= num_iters:\n",
    "        smalldata=np.random.choice(data,sampsize,replace=True)\n",
    "        #hist / CDF fit / etc\n",
    "        min=np.min(smalldata)\n",
    "        max=np.max(smalldata)\n",
    "        bins=10*np.size(smalldata)\n",
    "        time=np.logspace(np.log10(min),np.log10(max),num=bins)\n",
    "        mu=np.mean(smalldata)\n",
    "        time_centers = np.r_[0.5 * (time[:-1] + time[1:])]\n",
    "        hist, bins2=np.histogram(smalldata,bins=time,density=False)\n",
    "        cdf=np.cumsum(hist)*1.0/smalldata.size\n",
    "        taufit, pcov = curve_fit(analyticalCDF,time_centers, cdf,mu)\n",
    "        #analysis\n",
    "        randdata=np.random.gamma(1,taufit,np.size(smalldata)*points)\n",
    "        stat,p=ks_2samp(smalldata,randdata)\n",
    "        if p > alpha:\n",
    "            means[means.size-1]=mu\n",
    "            pvals[pvals.size-1]=p\n",
    "            #debugprint p, mu\n",
    "            means.resize(means.size+1)\n",
    "            pvals.resize(pvals.size+1)\n",
    "        if p < alpha:\n",
    "            reject=reject+1\n",
    "    #this is just book keeping to remove the last 0 element\n",
    "    means=means[:(means.size-1)]\n",
    "    pvals=pvals[:(pvals.size-1)]\n",
    "    return means, pvals, reject\n",
    "\n",
    "\n",
    "print (sampling(data,100,50)[2])"
   ]
  },
  {
   "cell_type": "code",
   "execution_count": 55,
   "metadata": {
    "collapsed": false
   },
   "outputs": [
    {
     "data": {
      "image/png": "[encoded data removed]",
      "text/plain": [
       "<matplotlib.figure.Figure at 0x10c698a20>"
      ]
     },
     "metadata": {},
     "output_type": "display_data"
    }
   ],
   "source": [
    "#lets make some plots\n",
    "fig = plt.figure(figsize=(6,6))\n",
    "fig.subplots_adjust(left=None, bottom=None, right=None, top=None, wspace=None, hspace=0.2)\n",
    "\n",
    "axes = fig.add_subplot(111)\n",
    "axes.plot(bins2[1:bins],cdf,label='$CDF$')\n",
    "axes.set_xscale('log')\n",
    "axes.plot(time_centers,analyticalCDF(time_centers,taufit),label='$analytical\\ CDF$')\n",
    "first_legend = plt.legend(loc=0)\n",
    "axes.set_xlabel('$log\\ time\\ (ns)$')\n",
    "axes.set_ylabel('$P_{n\\geq1}$')\n",
    "plt.show()"
   ]
  },
  {
   "cell_type": "code",
   "execution_count": null,
   "metadata": {
    "collapsed": true
   },
   "outputs": [],
   "source": []
  }
 ],
 "metadata": {
  "anaconda-cloud": {},
  "kernelspec": {
   "display_name": "Python [default]",
   "language": "python",
   "name": "python3"
  },
  "language_info": {
   "codemirror_mode": {
    "name": "ipython",
    "version": 3
   },
   "file_extension": ".py",
   "mimetype": "text/x-python",
   "name": "python",
   "nbconvert_exporter": "python",
   "pygments_lexer": "ipython3",
   "version": "3.5.2"
  }
 },
 "nbformat": 4,
 "nbformat_minor": 1
}
