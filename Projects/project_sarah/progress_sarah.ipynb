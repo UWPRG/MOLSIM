{
 "cells": [
  {
   "cell_type": "markdown",
   "metadata": {},
   "source": [
    "# Characterization of S$_N$2 Reaction in CP2K"
   ]
  },
  {
   "cell_type": "markdown",
   "metadata": {},
   "source": [
    "## Introduction\n",
    "\n",
    "### Reaction Mechanism\n",
    "\n",
    "- SN2 is a nucleophilic subsitiution reaction\n",
    "- The CH3Cl+Cl reaction was chosen as a model system due to its simplicity, symmetry, and low energy barrier (and because that is what Kelly chose to model in her paper)\n",
    "\n",
    "***include movie here***\n",
    "\n",
    "### Enhanced Sampling Methods \n",
    "\n",
    "Enhanced sampling methods are necessary to overcome the high energy barriers associated with chemical reactions. Using these methods allows us to extend accesible simulation time of unbiased MD. These simulations were biased using MetaD framework<br> \n",
    "\n",
    "![alt text](\"bias_wtmetad.png\")\n",
    "\n",
    "#### Well-Tempered MetaD\n",
    "Metadynamics (MetaD) is a method for probing complex free energy surfaces, by depositing a history dependent bias potential as a function of the collective variables (CV). <br> ***Well-tempered*** MetaD is a \"flavor\" ~Chris voice~ of MetaD which uses a progressively damped bias.  In well-tempered metadynamics the rate of bias deposition decreases as a function of time. In turn, this more efficiently deals with the fluctuating course of MD.  <br> \n",
    "\n",
    "- \n",
    "- This method is implemented in Plumed\n",
    "- Can easily calculate unbiased estimates of dynamics from biased simulations\n",
    "\n",
    "\n",
    "\n",
    "### Post processing "
   ]
  },
  {
   "cell_type": "markdown",
   "metadata": {},
   "source": [
    "## Method\n",
    "\n",
    "### Regular MD runs\n",
    "### Metadynamics"
   ]
  },
  {
   "cell_type": "markdown",
   "metadata": {},
   "source": [
    "## Results \n",
    "\n",
    "### calculation time"
   ]
  },
  {
   "cell_type": "markdown",
   "metadata": {},
   "source": [
    "## Further Work\n",
    "\n",
    "- Finish 300K and 450K metaD runs, troubleshoot failure issues \n",
    "- Run MD to convergence to extract Free Energy Surface (FES)\n",
    "- Reweigh FES to calculate PES\n"
   ]
  },
  {
   "cell_type": "markdown",
   "metadata": {},
   "source": [
    "#### References"
   ]
  },
  {
   "cell_type": "code",
   "execution_count": null,
   "metadata": {
    "collapsed": true
   },
   "outputs": [],
   "source": []
  }
 ],
 "metadata": {
  "anaconda-cloud": {},
  "kernelspec": {
   "display_name": "Python [default]",
   "language": "python",
   "name": "python3"
  },
  "language_info": {
   "codemirror_mode": {
    "name": "ipython",
    "version": 3
   },
   "file_extension": ".py",
   "mimetype": "text/x-python",
   "name": "python",
   "nbconvert_exporter": "python",
   "pygments_lexer": "ipython3",
   "version": "3.5.2"
  }
 },
 "nbformat": 4,
 "nbformat_minor": 1
}
