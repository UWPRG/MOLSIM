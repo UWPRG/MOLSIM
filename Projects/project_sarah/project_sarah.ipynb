{
 "cells": [
  {
   "cell_type": "markdown",
   "metadata": {},
   "source": [
    "# Characterization of S$_N$2 Reaction in CP2K\""
   ]
  },
  {
   "cell_type": "markdown",
   "metadata": {},
   "source": [
    "\n",
    "## Introduction\n",
    "\n",
    "This study aims to:\n",
    " - Characterize SN2 reaction of CH3Cl + Cl in vaccum *using different levels of theory* \n",
    " - Reproduce the results from \"New Approach for Investigating Reaction Dynamics and Rates with Ab Initio Calculations\" Kelly L. Flemming using CP2K\n",
    " - Benchmark CP2K performance\n",
    "\n",
    "#### Reaction Mechanism\n",
    "\n",
    "S$_N$2 is a nucleophilic substitution reaction was chosen for this model due to its simplicity. The CH$_3$Cl +Cl- <->  CH$_3$Cl +Cl- reaction mechanism was chosen specifically for its symmetry, simplicity, and low reaction energy barrier. (And because that is what Kelly chose for her paper) <br> \n",
    "\n",
    "<img src='sn2.png' width=\"700\"/>\n",
    "\n",
    "\n",
    "#### Enhanced Sampling Methods \n",
    "\n",
    "Enhanced sampling methods are necessary to overcome the high energy barriers associated with chemical reactions. The use of these methods allows us to extend accesible simulation time of unbiased MD. <br> <br> An example of such is MetaDynamics (MetaD), which deposits a history dependent bias potential as a function of the chosen collective variables (CV). This bias allows for the exploration of high energy states in a controllable manner, within an accessible simulation time. \n",
    "- In the long time limit, MetaDyanmics provides an estimate of the underlying free-energy surface (FES) <br> \n",
    "\n",
    "Recent extensions of this method show it is possible to uncover dynamic information from biased MetaD simulations \n",
    "\n",
    "<img src='FES.png' width=\"700\"/>\n",
    "<img src='PES.png' width=\"1000\"/>\n",
    "\n",
    "#### Well-Tempered MetaD\n",
    "\n",
    "Well-tempered MetaD is a ~flavor~ *chris voice* of MetaDynamics, which uses a progressively damped bias. In well tempered MetaD the rate of bias deposition decreases as a function of time, as follows: <br>\n",
    "<img src='wtmd2.png' width=\"200\"/>\n",
    "The use of a this converging bias, implies convergence, reducing the need to manually observe differences between free energies of separate basins to check for overall convergence of the FES. <br>\n",
    "\n",
    "\n",
    "- This is the Metadynamics method currently implemented in PLUMED, the program chosen to do the analysis on this system. \n",
    "\n"
   ]
  },
  {
   "cell_type": "markdown",
   "metadata": {},
   "source": [
    "## Methods\n",
    "\n",
    "Software: CP2K<br>\n",
    "Theory: PM6<br>\n",
    "\n",
    "The variables chosen for MetaD runs, were based upon those provided in the Flemming[1] paper, using the two C-Cl bond distances as CV's, using a 1fs timestep until the occurance of a rare event <br>\n",
    "The following parameters were used from Kelly's paper to perform the biased simulations:\n",
    "- Bias factor = 9 \n",
    "- sigma = 0.0025 nm\n",
    "- stride = 20 ps\n",
    "- hill height = 0.3kJ/mol\n",
    "\n"
   ]
  },
  {
   "cell_type": "markdown",
   "metadata": {},
   "source": [
    "## Results \n",
    "\n",
    "#### Post processing with Infrequent MetaD\n",
    "\n",
    "The simulations were postprocessed by a method coined by Flemming[1] as *Infrequent MetaD* to extract dynamic information (reaction rates) from the biased simulations <br><br> Under the assumption that no bias is deposited in the Transition state region, and that the dynamics are Markovian in nature, the following acceleration factor can be calculated from:\n",
    "<img src='imd2.png' width=\"200\"/>\n",
    "Where Z$_0$ is the partition function for the system confined to the first basin, and Z$_M$ is the partition function in the first basin, sampled using the time dependent probability density of MetaD\n",
    "- Extracting this factor can be easily implemented in PLUMED using the keyword: ACCELERATION in a MetaD run\n",
    "\n",
    "Transition time over an energy barrier can then by calculated by using :\n",
    "<img src='imd4.png' width=\"200\"/>\n",
    "\n",
    "Where $\\Delta$t refers to the timestep in the biased MetaD simulation\n",
    "\n",
    "The transition rate $\\nu$, is then the inverse of the ensemble average computed from a set of individual transition times\n",
    "\n",
    "#### Error Analysis\n",
    "Error = standard deviation of the mean through bootstrapping<br>\n",
    "\n",
    "Bootstrapping method, over the 60 simulations performed at each Temperature\n",
    "- pick 50% of the sample size \n",
    "- reject samples with p values < 0.05\n",
    "\n"
   ]
  },
  {
   "cell_type": "code",
   "execution_count": 124,
   "metadata": {
    "collapsed": false
   },
   "outputs": [
    {
     "name": "stdout",
     "output_type": "stream",
     "text": [
      " T(K)   T_eff(ns)   Error   p-value  events t_eff_kelly (Error) \n",
      "------ ----------- ------- --------- ------ --------------------\n",
      "   300         n/a     n/a       n/a    n/a            184(25.0)\n",
      "   450         n/a     n/a       n/a    n/a         3.21(2.7e−1)\n",
      "   600       0.266 6.29e-2     0.884     64        0.457(2.7e−2)\n",
      "  600*       0.463 1.01e-1     0.912     62        0.457(2.7e-2)\n",
      "   900       0.074 8.93e-3     0.159    126       0.116(7.3 e−3)\n",
      "  1200       0.025 6.68e-3     0.896     60       0.0427(1.9e-3)\n"
     ]
    }
   ],
   "source": [
    "import numpy as np\n",
    "from astropy.table import Table, Column\n",
    "from decimal import Decimal\n",
    "\n",
    "T = [300, 450, 600,'600*', 900, 1200] #star for metad run\n",
    "t_eff =['n/a','n/a',0.266,0.463,0.074,0.025]\n",
    "error = ['n/a','n/a','6.29e-2','1.01e-1','8.93e-3','6.68e-3']\n",
    "p = ['n/a','n/a',0.884,0.912,0.159,0.896]\n",
    "events=['n/a','n/a',64,62,126,60]\n",
    "t_kelly = ['184(25.0)','3.21(2.7e−1)','0.457(2.7e−2)','0.457(2.7e-2)',' 0.116(7.3 e−3)','0.0427(1.9e-3)']\n",
    "titles=[' T(K) ',' T_eff(ns) ',' Error ',' p-value ','events','t_eff_kelly (Error) ']\n",
    "\n",
    "\n",
    "table_1= Table([T,t_eff,error,p,events,t_kelly,], names=titles)\n",
    "print (table_1)\n",
    "\n",
    "#star denotes a biased MD run\n",
    "#kellys data is all from biased MD"
   ]
  },
  {
   "cell_type": "markdown",
   "metadata": {},
   "source": [
    "\n",
    "In this work many individual escape times are collected from independent simulations. The ensemble of escape times should be uncorrelated, which can be measured by seeing if the data follows a Poisson distribution.<br><br>\n",
    "This was quantified in this study by performing a Kolmogorov-Smirnov analysis \n",
    "- p-value > 0.05 signifies a Poisson distribution\n",
    "\n",
    "The following shows two cumulative distribution functions (CDFs), the blue line represents the theoretical CDF, and the orange line represents the analytical CDF. <br>"
   ]
  },
  {
   "cell_type": "markdown",
   "metadata": {},
   "source": [
    "\n",
    "For the unbiased simulations at 1200K ,900K (top), and 600K (bottom):<br>\n",
    "<img src='md_1200.png' style=\"float: left; width: 50%/\"> <th>\n",
    "<img src='md_900.png' style=\"float: left; width: 50%/\">\n",
    "<img src='md_600.png'style=\"float: left; width: 50%/\"> "
   ]
  },
  {
   "cell_type": "markdown",
   "metadata": {},
   "source": [
    "For biased simulations at 600 <br>\n",
    "<img src='metad_600.png' style=\"float: left; width: 50%/\">"
   ]
  },
  {
   "cell_type": "code",
   "execution_count": 127,
   "metadata": {
    "collapsed": false
   },
   "outputs": [
    {
     "data": {
      "image/png": "[encoded data removed]",
      "text/plain": [
       "<matplotlib.figure.Figure at 0x10f7ddb00>"
      ]
     },
     "metadata": {},
     "output_type": "display_data"
    }
   ],
   "source": [
    "i_temp_md=(1.67,1.11,0.83) #md\n",
    "i_temp_metad=(1.67) #metad\n",
    "rate_md=(8.233,9.51,10.61)\n",
    "rate_metad=(7.678)\n",
    "\n",
    "import matplotlib.pyplot as plt\n",
    "\n",
    "plt.figure(figsize=(6.3, 3))\n",
    "plt.plot(i_temp_metad, ln_rate_metad, 'g^', label='biased MD')\n",
    "plt.plot(i_temp_md,ln_rate_md, 'bs', label='unbiased MD')\n",
    "plt.title('Arrhenius Plot ')\n",
    "plt.xlabel('$10\\ ^3/T(K)$')\n",
    "plt.ylabel('ln(v)')\n",
    "plt.ylim(0,12)\n",
    "plt.xlim(0.5,3.5)\n",
    "plt.gca().xaxis.grid(True)\n",
    "plt.gca().yaxis.grid(True)\n",
    "plt.legend(numpoints=1)\n",
    "plt.show()"
   ]
  },
  {
   "cell_type": "markdown",
   "metadata": {},
   "source": [
    "From Kelly's paper: where Blue squares are unbiased MD, red circles are biased MD with a 100 ps stride, and green triangles are biased MD with a 20 ps stride.\n",
    "<img src='kelly_arrhen2.png'width=\"600\"/>"
   ]
  },
  {
   "cell_type": "markdown",
   "metadata": {},
   "source": [
    "## Further Work (for this week)\n",
    "\n",
    "- Finish 300K and 450K metaD runs\n",
    "- Determine why biased and unbiased runs are not in agreement\n",
    "- Extract FES\n",
    "- Reweigh FES to calculate PES\n"
   ]
  }
 ],
 "metadata": {
  "anaconda-cloud": {},
  "kernelspec": {
   "display_name": "Python [default]",
   "language": "python",
   "name": "python3"
  },
  "language_info": {
   "codemirror_mode": {
    "name": "ipython",
    "version": 3
   },
   "file_extension": ".py",
   "mimetype": "text/x-python",
   "name": "python",
   "nbconvert_exporter": "python",
   "pygments_lexer": "ipython3",
   "version": "3.5.2"
  }
 },
 "nbformat": 4,
 "nbformat_minor": 1
}
