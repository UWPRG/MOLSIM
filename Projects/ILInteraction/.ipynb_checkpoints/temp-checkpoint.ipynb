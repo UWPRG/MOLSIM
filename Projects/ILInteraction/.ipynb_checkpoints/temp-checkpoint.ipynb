{
 "cells": [
  {
   "cell_type": "code",
   "execution_count": 6,
   "metadata": {
    "collapsed": true
   },
   "outputs": [],
   "source": [
    "import numpy as np\n",
    "import pandas as pd\n",
    "import matplotlib.pyplot as plt\n",
    "%matplotlib inline"
   ]
  },
  {
   "cell_type": "code",
   "execution_count": 8,
   "metadata": {
    "collapsed": false
   },
   "outputs": [
    {
     "name": "stdout",
     "output_type": "stream",
     "text": [
      "       SALT\n",
      "0   BAM_FOR\n",
      "1   BMI_ACE\n",
      "2   BMI_MTS\n",
      "3   BMI_TF2\n",
      "4   EAM_FOR\n",
      "5   EMI_ACE\n",
      "6   EMI_ETS\n",
      "7   EMI_FMS\n",
      "8   EMI_TF2\n",
      "9   EPY_ETS\n",
      "10  EPY_TF2\n",
      "11  HMI_CHL\n",
      "12  HMI_TF2\n",
      "13  HPY_TF2\n",
      "14  OMI_CHL\n",
      "15  OMI_FMS\n",
      "16  OMI_TF2\n",
      "17  PAM_FOR\n",
      "18  PPY_TF2\n"
     ]
    }
   ],
   "source": [
    "BAM_FOR_BAM= pd.read_table('./data_PE/PE_BAM_FOR_BAM.xvg',skiprows=23,delim_whitespace= True,names=['Step','cation'])\n",
    "BAM_FOR_FOR= pd.read_table('./data_PE/PE_BAM_FOR_FOR.xvg',skiprows=23,delim_whitespace= True,names=['Step','anion'])\n",
    "BAM_FOR_SALT=pd.read_table('./data_PE/PE_BAM_FOR_SALT.xvg',skiprows=23,delim_whitespace= True,names=['Step','SALT'])\n",
    "BAM_FOR = pd.concat([BAM_FOR_BAM['Step'],BAM_FOR_BAM['cation'],BAM_FOR_FOR['anion'],BAM_FOR_SALT['SALT']], axis=1)\n",
    "\n",
    "BMI_ACE_ACE= pd.read_table('./data_PE/PE_BMI_ACE_ACE.xvg',skiprows=23,delim_whitespace= True,names=['Step','cation'])\n",
    "BMI_ACE_BMI= pd.read_table('./data_PE/PE_BMI_ACE_BMI.xvg',skiprows=23,delim_whitespace= True,names=['Step','anion'])\n",
    "BMI_ACE_SALT=pd.read_table('./data_PE/PE_BMI_ACE_SALT.xvg',skiprows=23,delim_whitespace= True,names=['Step','SALT'])\n",
    "BMI_ACE = pd.concat([BMI_ACE_ACE['Step'],BMI_ACE_ACE['cation'],BMI_ACE_BMI['anion'],BMI_ACE_SALT['SALT']], axis=1)\n",
    "\n",
    "BMI_MTS_BMI=pd.read_table('./data_PE/PE_BMI_MTS_BMI.xvg',skiprows=23,delim_whitespace= True,names=['Step','cation'])\n",
    "BMI_MTS_MTS=pd.read_table('./data_PE/PE_BMI_MTS_MTS.xvg',skiprows=23,delim_whitespace= True,names=['Step','anion'])\n",
    "BMI_MTS_SALT=pd.read_table('./data_PE/PE_BMI_MTS_SALT.xvg',skiprows=23,delim_whitespace= True,names=['Step','SALT'])\n",
    "BMI_MTS = pd.concat([BMI_MTS_BMI['Step'],BMI_MTS_BMI['cation'],BMI_MTS_MTS['anion'],BMI_MTS_SALT['SALT']], axis=1)\n",
    "\n",
    "BMI_TF2_BMI=pd.read_table('./data_PE/PE_BMI_TF2_BMI.xvg',skiprows=23,delim_whitespace= True,names=['Step','cation'])\n",
    "BMI_TF2_TF2=pd.read_table('./data_PE/PE_BMI_TF2_TF2.xvg',skiprows=23,delim_whitespace= True,names=['Step','anion'])\n",
    "BMI_TF2_SALT=pd.read_table('./data_PE/PE_BMI_TF2_SALT.xvg',skiprows=23,delim_whitespace= True,names=['Step','SALT'])\n",
    "BMI_TF2 = pd.concat([BMI_TF2_BMI['Step'],BMI_TF2_BMI['cation'],BMI_TF2_TF2['anion'],BMI_TF2_SALT['SALT']], axis=1)\n",
    "\n",
    "EAM_FOR_EAM=pd.read_table('./data_PE/PE_EAM_FOR_EAM.xvg',skiprows=23,delim_whitespace= True,names=['Step','cation'])\n",
    "EAM_FOR_FOR=pd.read_table('./data_PE/PE_EAM_FOR_FOR.xvg',skiprows=23,delim_whitespace= True,names=['Step','anion'])\n",
    "EAM_FOR_SALT=pd.read_table('./data_PE/PE_EAM_FOR_SALT.xvg',skiprows=23,delim_whitespace= True,names=['Step','SALT'])\n",
    "EAM_FOR = pd.concat([EAM_FOR_EAM['Step'],EAM_FOR_EAM['cation'],EAM_FOR_FOR['anion'],EAM_FOR_SALT['SALT']], axis=1)\n",
    "\n",
    "EMI_ACE_EMI=pd.read_table('./data_PE/PE_EMI_ACE_EMI.xvg',skiprows=23,delim_whitespace= True,names=['Step','cation'])\n",
    "EMI_ACE_ACE=pd.read_table('./data_PE/PE_EMI_ACE_ACE.xvg',skiprows=23,delim_whitespace= True,names=['Step','anion'])\n",
    "EMI_ACE_SALT=pd.read_table('./data_PE/PE_EMI_ACE_SALT.xvg',skiprows=23,delim_whitespace= True,names=['Step','SALT'])\n",
    "EMI_ACE = pd.concat([EMI_ACE_EMI['Step'],EMI_ACE_EMI['cation'],EMI_ACE_ACE['anion'],EMI_ACE_SALT['SALT']], axis=1)\n",
    "\n",
    "EMI_ETS_EMI=pd.read_table('./data_PE/PE_EMI_ETS_EMI.xvg',skiprows=23,delim_whitespace= True,names=['Step','cation'])\n",
    "EMI_ETS_ETS=pd.read_table('./data_PE/PE_EMI_ETS_ETS.xvg',skiprows=23,delim_whitespace= True,names=['Step','anion'])\n",
    "EMI_ETS_SALT=pd.read_table('./data_PE/PE_EMI_ETS_SALT.xvg',skiprows=23,delim_whitespace= True,names=['Step','SALT'])\n",
    "EMI_ETS = pd.concat([EMI_ETS_EMI['Step'],EMI_ETS_EMI['cation'],EMI_ETS_ETS['anion'],EMI_ETS_SALT['SALT']], axis=1)\n",
    "\n",
    "EMI_FMS_EMI=pd.read_table('./data_PE/PE_EMI_FMS_EMI.xvg',skiprows=23,delim_whitespace= True,names=['Step','cation'])\n",
    "EMI_FMS_FMS=pd.read_table('./data_PE/PE_EMI_FMS_FMS.xvg',skiprows=23,delim_whitespace= True,names=['Step','anion'])\n",
    "EMI_FMS_SALT=pd.read_table('./data_PE/PE_EMI_FMS_SALT.xvg',skiprows=23,delim_whitespace= True,names=['Step','SALT'])\n",
    "EMI_FMS = pd.concat([EMI_FMS_EMI['Step'],EMI_FMS_EMI['cation'],EMI_FMS_FMS['anion'],EMI_FMS_SALT['SALT']], axis=1)\n",
    "\n",
    "EMI_TF2_EMI=pd.read_table('./data_PE/PE_EMI_TF2_EMI.xvg',skiprows=23,delim_whitespace= True,names=['Step','cation'])\n",
    "EMI_TF2_TF2=pd.read_table('./data_PE/PE_EMI_TF2_TF2.xvg',skiprows=23,delim_whitespace= True,names=['Step','anion'])\n",
    "EMI_TF2_SALT=pd.read_table('./data_PE/PE_EMI_TF2_SALT.xvg',skiprows=23,delim_whitespace= True,names=['Step','SALT'])\n",
    "EMI_TF2 = pd.concat([EMI_TF2_EMI['Step'],EMI_TF2_EMI['cation'],EMI_TF2_TF2['anion'],EMI_TF2_SALT['SALT']], axis=1)\n",
    "\n",
    "EPY_ETS_EPY=pd.read_table('./data_PE/PE_EPY_ETS_EPY.xvg',skiprows=23,delim_whitespace= True,names=['Step','cation'])\n",
    "EPY_ETS_ETS=pd.read_table('./data_PE/PE_EPY_ETS_ETS.xvg',skiprows=23,delim_whitespace= True,names=['Step','anion'])\n",
    "EPY_ETS_SALT=pd.read_table('./data_PE/PE_EPY_ETS_SALT.xvg',skiprows=23,delim_whitespace= True,names=['Step','SALT'])\n",
    "EPY_ETS = pd.concat([EPY_ETS_EPY['Step'],EPY_ETS_EPY['cation'],EPY_ETS_ETS['anion'],EPY_ETS_SALT['SALT']], axis=1)\n",
    "\n",
    "EPY_TF2_EPY=pd.read_table('./data_PE/PE_EPY_TF2_EPY.xvg',skiprows=23,delim_whitespace= True,names=['Step','cation'])\n",
    "EPY_TF2_TF2=pd.read_table('./data_PE/PE_EPY_TF2_TF2.xvg',skiprows=23,delim_whitespace= True,names=['Step','anion'])\n",
    "EPY_TF2_SALT=pd.read_table('./data_PE/PE_EPY_TF2_SALT.xvg',skiprows=23,delim_whitespace= True,names=['Step','SALT'])\n",
    "EPY_TF2 = pd.concat([EPY_TF2_EPY['Step'],EPY_TF2_EPY['cation'],EPY_TF2_TF2['anion'],EPY_TF2_SALT['SALT']], axis=1)\n",
    "\n",
    "HMI_CHL_HMI=pd.read_table('./data_PE/PE_HMI_CHL_HMI.xvg',skiprows=23,delim_whitespace= True,names=['Step','cation'])\n",
    "HMI_CHL_SALT=pd.read_table('./data_PE/PE_HMI_CHL_SALT.xvg',skiprows=23,delim_whitespace= True,names=['Step','SALT'])\n",
    "HMI_CHL_CHL=pd.DataFrame(data=np.zeros((len(HMI_CHL_HMI['cation']),1)),columns=['anion'])\n",
    "HMI_CHL = pd.concat([HMI_CHL_HMI['Step'],HMI_CHL_HMI['cation'],HMI_CHL_CHL['anion'],HMI_CHL_SALT['SALT']], axis=1)\n",
    "\n",
    "HMI_TF2_HMI=pd.read_table('./data_PE/PE_HMI_TF2_HMI.xvg',skiprows=23,delim_whitespace= True,names=['Step','cation'])\n",
    "HMI_TF2_TF2=pd.read_table('./data_PE/PE_HMI_TF2_TF2.xvg',skiprows=23,delim_whitespace= True,names=['Step','anion'])\n",
    "HMI_TF2_SALT=pd.read_table('./data_PE/PE_HMI_TF2_SALT.xvg',skiprows=23,delim_whitespace= True,names=['Step','SALT'])\n",
    "HMI_TF2 = pd.concat([HMI_TF2_HMI['Step'],HMI_TF2_HMI['cation'],HMI_TF2_TF2['anion'],HMI_TF2_SALT['SALT']], axis=1)\n",
    "\n",
    "HPY_TF2_HPY=pd.read_table('./data_PE/PE_HPY_TF2_HPY.xvg',skiprows=23,delim_whitespace= True,names=['Step','cation'])\n",
    "HPY_TF2_TF2=pd.read_table('./data_PE/PE_HPY_TF2_TF2.xvg',skiprows=23,delim_whitespace= True,names=['Step','anion'])\n",
    "HPY_TF2_SALT=pd.read_table('./data_PE/PE_HPY_TF2_SALT.xvg',skiprows=23,delim_whitespace= True,names=['Step','SALT'])\n",
    "HPY_TF2 = pd.concat([HPY_TF2_HPY['Step'],HPY_TF2_HPY['cation'],HPY_TF2_TF2['anion'],HPY_TF2_SALT['SALT']], axis=1)\n",
    "\n",
    "OMI_CHL_HMI=pd.read_table('./data_PE/PE_OMI_CHL_OMI.xvg',skiprows=23,delim_whitespace= True,names=['Step','cation'])\n",
    "OMI_CHL_SALT=pd.read_table('./data_PE/PE_OMI_CHL_SALT.xvg',skiprows=23,delim_whitespace= True,names=['Step','SALT'])\n",
    "OMI_CHL_CHL=pd.DataFrame(data=np.zeros((len(OMI_CHL_HMI['cation']),1)),columns=['anion'])\n",
    "OMI_CHL = pd.concat([OMI_CHL_HMI['Step'],OMI_CHL_HMI['cation'],OMI_CHL_CHL['anion'],OMI_CHL_SALT['SALT']], axis=1)\n",
    "\n",
    "OMI_FMS_OMI=pd.read_table('./data_PE/PE_OMI_FMS_OMI.xvg',skiprows=23,delim_whitespace= True,names=['Step','cation'])\n",
    "OMI_FMS_FMS=pd.read_table('./data_PE/PE_OMI_FMS_FMS.xvg',skiprows=23,delim_whitespace= True,names=['Step','anion'])\n",
    "OMI_FMS_SALT=pd.read_table('./data_PE/PE_OMI_FMS_SALT.xvg',skiprows=23,delim_whitespace= True,names=['Step','SALT'])\n",
    "OMI_FMS = pd.concat([OMI_FMS_OMI['Step'],OMI_FMS_OMI['cation'],OMI_FMS_FMS['anion'],OMI_FMS_SALT['SALT']], axis=1)\n",
    "\n",
    "OMI_TF2_OMI=pd.read_csv('./data_PE/PE_OMI_TF2_OMI.xvg',skiprows=23,delim_whitespace= True,names=['Step','cation'])\n",
    "OMI_TF2_TF2=pd.read_csv('./data_PE/PE_OMI_TF2_TF2.xvg',skiprows=23,delim_whitespace= True,names=['Step','anion'])\n",
    "OMI_TF2_SALT=pd.read_csv('./data_PE/PE_OMI_TF2_SALT.xvg',skiprows=23,delim_whitespace= True,names=['Step','SALT'])\n",
    "OMI_TF2 = pd.concat([OMI_TF2_OMI['Step'],OMI_TF2_OMI['cation'],OMI_TF2_TF2['anion'],OMI_TF2_SALT['SALT']], axis=1)\n",
    "\n",
    "PAM_FOR_PAM=pd.read_csv('./data_PE/PE_PAM_FOR_PAM.xvg',skiprows=23,delim_whitespace= True,names=['Step','cation'])\n",
    "PAM_FOR_FOR=pd.read_csv('./data_PE/PE_PAM_FOR_FOR.xvg',skiprows=23,delim_whitespace= True,names=['Step','anion'])\n",
    "PAM_FOR_SALT=pd.read_csv('./data_PE/PE_PAM_FOR_SALT.xvg',skiprows=23,delim_whitespace= True,names=['Step','SALT'])\n",
    "PAM_FOR = pd.concat([PAM_FOR_PAM['Step'],PAM_FOR_PAM['cation'],PAM_FOR_FOR['anion'],PAM_FOR_SALT['SALT']], axis=1)\n",
    "\n",
    "PPY_TF2_PPY=pd.read_csv('./data_PE/PE_PPY_TF2_PPY.xvg',skiprows=23,delim_whitespace= True,names=['Step','cation'])\n",
    "PPY_TF2_TF2=pd.read_csv('./data_PE/PE_PPY_TF2_TF2.xvg',skiprows=23,delim_whitespace= True,names=['Step','anion'])\n",
    "PPY_TF2_SALT=pd.read_csv('./data_PE/PE_PPY_TF2_SALT.xvg',skiprows=23,delim_whitespace= True,names=['Step','SALT'])\n",
    "PPY_TF2 = pd.concat([PPY_TF2_PPY['Step'],PPY_TF2_PPY['cation'],PPY_TF2_TF2['anion'],PPY_TF2_SALT['SALT']], axis=1)\n",
    "\n",
    "list_of_SALTs=[BAM_FOR,BMI_ACE,BMI_MTS,BMI_TF2,EAM_FOR,EMI_ACE,EMI_ETS,EMI_FMS,EMI_TF2,EPY_ETS,EPY_TF2,HMI_CHL,HMI_TF2,HPY_TF2,OMI_CHL,OMI_FMS,OMI_TF2,PAM_FOR,PPY_TF2]\n",
    "list_of_SALTs_b=np.array(['BAM_FOR','BMI_ACE','BMI_MTS','BMI_TF2','EAM_FOR','EMI_ACE','EMI_ETS','EMI_FMS','EMI_TF2','EPY_ETS','EPY_TF2','HMI_CHL','HMI_TF2','HPY_TF2','OMI_CHL','OMI_FMS','OMI_TF2','PAM_FOR','PPY_TF2'])\n",
    "df_of_SALTs_b=pd.DataFrame(['BAM_FOR','BMI_ACE','BMI_MTS','BMI_TF2','EAM_FOR','EMI_ACE','EMI_ETS','EMI_FMS','EMI_TF2','EPY_ETS','EPY_TF2','HMI_CHL','HMI_TF2','HPY_TF2','OMI_CHL','OMI_FMS','OMI_TF2','PAM_FOR','PPY_TF2'],columns=['SALT'])\n",
    "\n",
    "print(df_of_SALTs_b)"
   ]
  },
  {
   "cell_type": "code",
   "execution_count": 10,
   "metadata": {
    "collapsed": false
   },
   "outputs": [
    {
     "ename": "AttributeError",
     "evalue": "'DataFrame' object has no attribute 'salt'",
     "output_type": "error",
     "traceback": [
      "\u001b[1;31m---------------------------------------------------------------------------\u001b[0m",
      "\u001b[1;31mAttributeError\u001b[0m                            Traceback (most recent call last)",
      "\u001b[1;32m<ipython-input-10-3e5f0a20c75d>\u001b[0m in \u001b[0;36m<module>\u001b[1;34m()\u001b[0m\n\u001b[0;32m      5\u001b[0m \u001b[1;32mfor\u001b[0m \u001b[0msalts\u001b[0m \u001b[1;32min\u001b[0m \u001b[0mlist_of_SALTs\u001b[0m\u001b[1;33m:\u001b[0m\u001b[1;33m\u001b[0m\u001b[0m\n\u001b[0;32m      6\u001b[0m     \u001b[1;32mfor\u001b[0m \u001b[0mindex\u001b[0m \u001b[1;32min\u001b[0m \u001b[0mrange\u001b[0m\u001b[1;33m(\u001b[0m\u001b[0mlen\u001b[0m\u001b[1;33m(\u001b[0m\u001b[0mBAM_FOR\u001b[0m\u001b[1;33m)\u001b[0m\u001b[1;33m)\u001b[0m\u001b[1;33m:\u001b[0m\u001b[1;33m\u001b[0m\u001b[0m\n\u001b[1;32m----> 7\u001b[1;33m         \u001b[0mjust_salt\u001b[0m\u001b[1;33m.\u001b[0m\u001b[0mappend\u001b[0m\u001b[1;33m(\u001b[0m\u001b[0msalts\u001b[0m\u001b[1;33m.\u001b[0m\u001b[0msalt\u001b[0m\u001b[1;33m.\u001b[0m\u001b[0mloc\u001b[0m\u001b[1;33m[\u001b[0m\u001b[0mindex\u001b[0m\u001b[1;33m]\u001b[0m\u001b[1;33m-\u001b[0m\u001b[1;33m(\u001b[0m\u001b[0msalts\u001b[0m\u001b[1;33m.\u001b[0m\u001b[0mcation\u001b[0m\u001b[1;33m.\u001b[0m\u001b[0mloc\u001b[0m\u001b[1;33m[\u001b[0m\u001b[0mindex\u001b[0m\u001b[1;33m]\u001b[0m\u001b[1;33m+\u001b[0m\u001b[0msalts\u001b[0m\u001b[1;33m.\u001b[0m\u001b[0manion\u001b[0m\u001b[1;33m.\u001b[0m\u001b[0mloc\u001b[0m\u001b[1;33m[\u001b[0m\u001b[0mindex\u001b[0m\u001b[1;33m]\u001b[0m\u001b[1;33m)\u001b[0m\u001b[1;33m)\u001b[0m\u001b[1;33m\u001b[0m\u001b[0m\n\u001b[0m\u001b[0;32m      8\u001b[0m     \u001b[0msalt_array\u001b[0m\u001b[1;33m=\u001b[0m\u001b[1;33m[\u001b[0m\u001b[1;33m]\u001b[0m\u001b[1;33m\u001b[0m\u001b[0m\n\u001b[0;32m      9\u001b[0m     \u001b[0msalt_array\u001b[0m\u001b[1;33m=\u001b[0m\u001b[0mnp\u001b[0m\u001b[1;33m.\u001b[0m\u001b[0marray\u001b[0m\u001b[1;33m(\u001b[0m\u001b[0mjust_salt\u001b[0m\u001b[1;33m)\u001b[0m\u001b[1;33m\u001b[0m\u001b[0m\n",
      "\u001b[1;32m/home/wesley/anaconda3/envs/py27/lib/python2.7/site-packages/pandas/core/generic.pyc\u001b[0m in \u001b[0;36m__getattr__\u001b[1;34m(self, name)\u001b[0m\n\u001b[0;32m   2667\u001b[0m             \u001b[1;32mif\u001b[0m \u001b[0mname\u001b[0m \u001b[1;32min\u001b[0m \u001b[0mself\u001b[0m\u001b[1;33m.\u001b[0m\u001b[0m_info_axis\u001b[0m\u001b[1;33m:\u001b[0m\u001b[1;33m\u001b[0m\u001b[0m\n\u001b[0;32m   2668\u001b[0m                 \u001b[1;32mreturn\u001b[0m \u001b[0mself\u001b[0m\u001b[1;33m[\u001b[0m\u001b[0mname\u001b[0m\u001b[1;33m]\u001b[0m\u001b[1;33m\u001b[0m\u001b[0m\n\u001b[1;32m-> 2669\u001b[1;33m             \u001b[1;32mreturn\u001b[0m \u001b[0mobject\u001b[0m\u001b[1;33m.\u001b[0m\u001b[0m__getattribute__\u001b[0m\u001b[1;33m(\u001b[0m\u001b[0mself\u001b[0m\u001b[1;33m,\u001b[0m \u001b[0mname\u001b[0m\u001b[1;33m)\u001b[0m\u001b[1;33m\u001b[0m\u001b[0m\n\u001b[0m\u001b[0;32m   2670\u001b[0m \u001b[1;33m\u001b[0m\u001b[0m\n\u001b[0;32m   2671\u001b[0m     \u001b[1;32mdef\u001b[0m \u001b[0m__setattr__\u001b[0m\u001b[1;33m(\u001b[0m\u001b[0mself\u001b[0m\u001b[1;33m,\u001b[0m \u001b[0mname\u001b[0m\u001b[1;33m,\u001b[0m \u001b[0mvalue\u001b[0m\u001b[1;33m)\u001b[0m\u001b[1;33m:\u001b[0m\u001b[1;33m\u001b[0m\u001b[0m\n",
      "\u001b[1;31mAttributeError\u001b[0m: 'DataFrame' object has no attribute 'salt'"
     ]
    }
   ],
   "source": [
    "just_salt=[]\n",
    "indexer=0\n",
    "salts=[]\n",
    "average=[]\n",
    "for salts in list_of_SALTs:\n",
    "    for index in range(len(BAM_FOR)):\n",
    "        just_salt.append(salts.salt.loc[index]-(salts.cation.loc[index]+salts.anion.loc[index]))\n",
    "    salt_array=[]\n",
    "    salt_array=np.array(just_salt)\n",
    "    salt_array.transpose()\n",
    "    salts['just_salt']=pd.DataFrame(salt_array)\n",
    "    average.append(np.average(salt_array))\n",
    "    \n",
    "    #plt.figure(figsize=[7,5])\n",
    "    #plt.plot(salts['Step'],salts['cation'])\n",
    "    #plt.plot(salts['Step'],salts['anion'])\n",
    "    #plt.plot(salts['Step'],salts['salt'])\n",
    "    #plt.plot(salts['Step'],salts['just_salt'])\n",
    "    #plt.legend([list_of_salts_b[indexer][0:3:1],list_of_salts_b[indexer][4::],list_of_salts_b[indexer],'Subtracted'])\n",
    "    #plt.ylabel('Total Energy (kJ/mol)')\n",
    "    #plt.xlabel('Step')\n",
    "    #plt.title([list_of_salts_b[indexer],average])\n",
    "    indexer+=1\n",
    "\n",
    "df_of_SALTs_b['Average PE']=pd.DataFrame(average)\n",
    "\n",
    "df_of_SALTs_b.sort_values(by='Average PE')\n",
    "print(df_of_SALTs_b)"
   ]
  },
  {
   "cell_type": "code",
   "execution_count": null,
   "metadata": {
    "collapsed": true
   },
   "outputs": [],
   "source": []
  },
  {
   "cell_type": "code",
   "execution_count": null,
   "metadata": {
    "collapsed": true
   },
   "outputs": [],
   "source": []
  }
 ],
 "metadata": {
  "kernelspec": {
   "display_name": "Python 2",
   "language": "python",
   "name": "python2"
  },
  "language_info": {
   "codemirror_mode": {
    "name": "ipython",
    "version": 2
   },
   "file_extension": ".py",
   "mimetype": "text/x-python",
   "name": "python",
   "nbconvert_exporter": "python",
   "pygments_lexer": "ipython2",
   "version": "2.7.11"
  }
 },
 "nbformat": 4,
 "nbformat_minor": 2
}
