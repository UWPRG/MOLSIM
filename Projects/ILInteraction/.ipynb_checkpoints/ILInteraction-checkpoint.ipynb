{
 "cells": [
  {
   "cell_type": "markdown",
   "metadata": {},
   "source": [
    "# IL viscosity project: developing EOS models using interaction energies\n",
    "\n",
    "There has been a push to create a genome-like organization of materials knowledge to accelerate their discovery. Few publications and databases, however, have applied their efforts in the rational design of liquids and are largely restricted to involving data of crystalline solids. Liquid materials are becoming more relevant with the advent of pressing societal challenges such as renewable energy and climate change (think flow batteries, solvents for catalysis, liquid fuels, solar-thermal energy, etc.). To spearhead efforts to bring liquid/solvent design up to speed, we would like to demonstrate model training on an ionic liquid database coupled with MD to design solvents computationally in an iterative, automated approach. We will combine MD, experiment, and ML to design solvents with desired properties. In this case, we are using ionic liquids--candidates as solvents in flow batteries--to motivate the viability of this pipeline.\n",
    "\n",
    "In this particular branch of the project, we are designing an EOS model for ILs to predict their viscosity. This model includes an interaction energy parameter for every cation/anion pairing, the value of which is easily calculable in MD. \n",
    "\n",
    "**Further Reading:**\n",
    "\n",
    "[New Method for the Estimation of Viscosity of Pure and Mixtures of Ionic Liquids Based on the UNIFAC−VISCO Model](https://www.researchgate.net/publication/304957063_New_method_for_the_estimation_of_viscosity_of_pure_and_mixtures_of_ionic_liquids_based_on_the_UNIFAC-VISCO_Model)\n",
    "\n",
    "[Equation of state modelling of systems with ionic liquids: Literature review and application with the Cubic Plus Association (CPA) model](http://www.sciencedirect.com/science/article/pii/S0378381212002816)\n",
    "\n",
    "[Computer-aided reverse design for ionic liquids by QSPR using descriptors of group contribution type for ionic conductivities and viscosities](http://www.sciencedirect.com/science/article/pii/S0378381207003986)\n",
    "\n",
    "Wes has created a viscosity calculation pipeline for ionic liquids. We need to run them salts through it! The objectives for this project are:\n",
    "\n",
    "1. generate cation/anion systems in vacuum at 350K for the following salts:\n",
    "    \n",
    "    * BAM,FOR\n",
    "\n",
    "    * BMI,ACE\n",
    "\n",
    "    * BMI,TF2\n",
    "\n",
    "    * EMI,ACE\n",
    "\n",
    "    * EMI,ETS\n",
    "\n",
    "    * EMI,FMS\n",
    "\n",
    "    * EPY,ETS\n",
    "\n",
    "    * HMI,CHL\n",
    "\n",
    "    * HMI,TF2\n",
    "\n",
    "    * HPY,TF2\n",
    "\n",
    "    * OMI,CHL\n",
    "\n",
    "    * OMI,FMS\n",
    "\n",
    "    * OMI,TF2\n",
    "\n",
    "    * PAM,FOR\n",
    "\n",
    "    * PPY,TF2\n",
    "\n",
    "    * EAM,FOR\n",
    "\n",
    "    * BMI,MTS\n",
    "\n",
    "    * EMI,TF2\n",
    "\n",
    "    * EPY,TF2\n",
    "\n",
    "2. use GROMACS to calculate their interaction energies\n",
    "\n",
    "3. generate plot(s) of these interaction energies and note any trends to specific cations or anions\n",
    "\n",
    "4. make a judegement call. Should we address other kinds of salts? other temperatures? What are the influencial parameters on the calculated energies?\n",
    "\n",
    "You can use some of the scripts Wes has provided as a starting point. Otherwise you can handle the jobs as you see fit. "
   ]
  },
  {
   "cell_type": "code",
   "execution_count": null,
   "metadata": {
    "collapsed": true
   },
   "outputs": [],
   "source": []
  }
 ],
 "metadata": {
  "kernelspec": {
   "display_name": "Python 2",
   "language": "python",
   "name": "python2"
  },
  "language_info": {
   "codemirror_mode": {
    "name": "ipython",
    "version": 2
   },
   "file_extension": ".py",
   "mimetype": "text/x-python",
   "name": "python",
   "nbconvert_exporter": "python",
   "pygments_lexer": "ipython2",
   "version": "2.7.11"
  }
 },
 "nbformat": 4,
 "nbformat_minor": 0
}
