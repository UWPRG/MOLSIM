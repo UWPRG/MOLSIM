{
 "cells": [
  {
   "cell_type": "code",
   "execution_count": 15,
   "metadata": {
    "collapsed": true
   },
   "outputs": [],
   "source": [
    "import numpy as np\n",
    "import pandas as pd\n",
    "import matplotlib.pyplot as plt\n",
    "%matplotlib inline"
   ]
  },
  {
   "cell_type": "code",
   "execution_count": 16,
   "metadata": {
    "collapsed": false
   },
   "outputs": [
    {
     "ename": "IOError",
     "evalue": "File ./data_PE/PE_BMI_CHL_BMI.xvg does not exist",
     "output_type": "error",
     "traceback": [
      "\u001b[1;31m---------------------------------------------------------------------------\u001b[0m",
      "\u001b[1;31mIOError\u001b[0m                                   Traceback (most recent call last)",
      "\u001b[1;32m<ipython-input-16-2b1daa885f32>\u001b[0m in \u001b[0;36m<module>\u001b[1;34m()\u001b[0m\n\u001b[1;32m----> 1\u001b[1;33m \u001b[0mBMI_CHL_BMI\u001b[0m\u001b[1;33m=\u001b[0m\u001b[0mpd\u001b[0m\u001b[1;33m.\u001b[0m\u001b[0mread_table\u001b[0m\u001b[1;33m(\u001b[0m\u001b[1;34m'./data_PE/PE_BMI_CHL_BMI.xvg'\u001b[0m\u001b[1;33m,\u001b[0m\u001b[0mskiprows\u001b[0m\u001b[1;33m=\u001b[0m\u001b[1;36m23\u001b[0m\u001b[1;33m,\u001b[0m\u001b[0mdelim_whitespace\u001b[0m\u001b[1;33m=\u001b[0m \u001b[0mTrue\u001b[0m\u001b[1;33m,\u001b[0m\u001b[0mnames\u001b[0m\u001b[1;33m=\u001b[0m\u001b[1;33m[\u001b[0m\u001b[1;34m'Step'\u001b[0m\u001b[1;33m,\u001b[0m\u001b[1;34m'cation'\u001b[0m\u001b[1;33m]\u001b[0m\u001b[1;33m)\u001b[0m\u001b[1;33m\u001b[0m\u001b[0m\n\u001b[0m\u001b[0;32m      2\u001b[0m \u001b[0mBMI_CHL_SALT\u001b[0m\u001b[1;33m=\u001b[0m\u001b[0mpd\u001b[0m\u001b[1;33m.\u001b[0m\u001b[0mread_table\u001b[0m\u001b[1;33m(\u001b[0m\u001b[1;34m'./data_PE/PE_BMI_CHL_SALT.xvg'\u001b[0m\u001b[1;33m,\u001b[0m\u001b[0mskiprows\u001b[0m\u001b[1;33m=\u001b[0m\u001b[1;36m23\u001b[0m\u001b[1;33m,\u001b[0m\u001b[0mdelim_whitespace\u001b[0m\u001b[1;33m=\u001b[0m \u001b[0mTrue\u001b[0m\u001b[1;33m,\u001b[0m\u001b[0mnames\u001b[0m\u001b[1;33m=\u001b[0m\u001b[1;33m[\u001b[0m\u001b[1;34m'Step'\u001b[0m\u001b[1;33m,\u001b[0m\u001b[1;34m'SALT'\u001b[0m\u001b[1;33m]\u001b[0m\u001b[1;33m)\u001b[0m\u001b[1;33m\u001b[0m\u001b[0m\n\u001b[0;32m      3\u001b[0m \u001b[0mBMI_CHL_CHL\u001b[0m\u001b[1;33m=\u001b[0m\u001b[0mpd\u001b[0m\u001b[1;33m.\u001b[0m\u001b[0mDataFrame\u001b[0m\u001b[1;33m(\u001b[0m\u001b[0mdata\u001b[0m\u001b[1;33m=\u001b[0m\u001b[0mnp\u001b[0m\u001b[1;33m.\u001b[0m\u001b[0mzeros\u001b[0m\u001b[1;33m(\u001b[0m\u001b[1;33m(\u001b[0m\u001b[0mlen\u001b[0m\u001b[1;33m(\u001b[0m\u001b[0mBMI_CHL_BMI\u001b[0m\u001b[1;33m[\u001b[0m\u001b[1;34m'cation'\u001b[0m\u001b[1;33m]\u001b[0m\u001b[1;33m)\u001b[0m\u001b[1;33m,\u001b[0m\u001b[1;36m1\u001b[0m\u001b[1;33m)\u001b[0m\u001b[1;33m)\u001b[0m\u001b[1;33m,\u001b[0m\u001b[0mcolumns\u001b[0m\u001b[1;33m=\u001b[0m\u001b[1;33m[\u001b[0m\u001b[1;34m'anion'\u001b[0m\u001b[1;33m]\u001b[0m\u001b[1;33m)\u001b[0m\u001b[1;33m\u001b[0m\u001b[0m\n\u001b[0;32m      4\u001b[0m \u001b[0mBMI_CHL\u001b[0m \u001b[1;33m=\u001b[0m \u001b[0mpd\u001b[0m\u001b[1;33m.\u001b[0m\u001b[0mconcat\u001b[0m\u001b[1;33m(\u001b[0m\u001b[1;33m[\u001b[0m\u001b[0mBMI_CHL_BMI\u001b[0m\u001b[1;33m[\u001b[0m\u001b[1;34m'Step'\u001b[0m\u001b[1;33m]\u001b[0m\u001b[1;33m,\u001b[0m\u001b[0mBMI_CHL_BMI\u001b[0m\u001b[1;33m[\u001b[0m\u001b[1;34m'cation'\u001b[0m\u001b[1;33m]\u001b[0m\u001b[1;33m,\u001b[0m\u001b[0mBMI_CHL_CHL\u001b[0m\u001b[1;33m[\u001b[0m\u001b[1;34m'anion'\u001b[0m\u001b[1;33m]\u001b[0m\u001b[1;33m,\u001b[0m\u001b[0mBMI_CHL_SALT\u001b[0m\u001b[1;33m[\u001b[0m\u001b[1;34m'SALT'\u001b[0m\u001b[1;33m]\u001b[0m\u001b[1;33m]\u001b[0m\u001b[1;33m,\u001b[0m \u001b[0maxis\u001b[0m\u001b[1;33m=\u001b[0m\u001b[1;36m1\u001b[0m\u001b[1;33m)\u001b[0m\u001b[1;33m\u001b[0m\u001b[0m\n\u001b[0;32m      5\u001b[0m \u001b[1;33m\u001b[0m\u001b[0m\n",
      "\u001b[1;32m/home/wesley/anaconda3/envs/py27/lib/python2.7/site-packages/pandas/io/parsers.pyc\u001b[0m in \u001b[0;36mparser_f\u001b[1;34m(filepath_or_buffer, sep, delimiter, header, names, index_col, usecols, squeeze, prefix, mangle_dupe_cols, dtype, engine, converters, true_values, false_values, skipinitialspace, skiprows, skipfooter, nrows, na_values, keep_default_na, na_filter, verbose, skip_blank_lines, parse_dates, infer_datetime_format, keep_date_col, date_parser, dayfirst, iterator, chunksize, compression, thousands, decimal, lineterminator, quotechar, quoting, escapechar, comment, encoding, dialect, tupleize_cols, error_bad_lines, warn_bad_lines, skip_footer, doublequote, delim_whitespace, as_recarray, compact_ints, use_unsigned, low_memory, buffer_lines, memory_map, float_precision)\u001b[0m\n\u001b[0;32m    527\u001b[0m                     skip_blank_lines=skip_blank_lines)\n\u001b[0;32m    528\u001b[0m \u001b[1;33m\u001b[0m\u001b[0m\n\u001b[1;32m--> 529\u001b[1;33m         \u001b[1;32mreturn\u001b[0m \u001b[0m_read\u001b[0m\u001b[1;33m(\u001b[0m\u001b[0mfilepath_or_buffer\u001b[0m\u001b[1;33m,\u001b[0m \u001b[0mkwds\u001b[0m\u001b[1;33m)\u001b[0m\u001b[1;33m\u001b[0m\u001b[0m\n\u001b[0m\u001b[0;32m    530\u001b[0m \u001b[1;33m\u001b[0m\u001b[0m\n\u001b[0;32m    531\u001b[0m     \u001b[0mparser_f\u001b[0m\u001b[1;33m.\u001b[0m\u001b[0m__name__\u001b[0m \u001b[1;33m=\u001b[0m \u001b[0mname\u001b[0m\u001b[1;33m\u001b[0m\u001b[0m\n",
      "\u001b[1;32m/home/wesley/anaconda3/envs/py27/lib/python2.7/site-packages/pandas/io/parsers.pyc\u001b[0m in \u001b[0;36m_read\u001b[1;34m(filepath_or_buffer, kwds)\u001b[0m\n\u001b[0;32m    293\u001b[0m \u001b[1;33m\u001b[0m\u001b[0m\n\u001b[0;32m    294\u001b[0m     \u001b[1;31m# Create the parser.\u001b[0m\u001b[1;33m\u001b[0m\u001b[1;33m\u001b[0m\u001b[0m\n\u001b[1;32m--> 295\u001b[1;33m     \u001b[0mparser\u001b[0m \u001b[1;33m=\u001b[0m \u001b[0mTextFileReader\u001b[0m\u001b[1;33m(\u001b[0m\u001b[0mfilepath_or_buffer\u001b[0m\u001b[1;33m,\u001b[0m \u001b[1;33m**\u001b[0m\u001b[0mkwds\u001b[0m\u001b[1;33m)\u001b[0m\u001b[1;33m\u001b[0m\u001b[0m\n\u001b[0m\u001b[0;32m    296\u001b[0m \u001b[1;33m\u001b[0m\u001b[0m\n\u001b[0;32m    297\u001b[0m     \u001b[1;32mif\u001b[0m \u001b[1;33m(\u001b[0m\u001b[0mnrows\u001b[0m \u001b[1;32mis\u001b[0m \u001b[1;32mnot\u001b[0m \u001b[0mNone\u001b[0m\u001b[1;33m)\u001b[0m \u001b[1;32mand\u001b[0m \u001b[1;33m(\u001b[0m\u001b[0mchunksize\u001b[0m \u001b[1;32mis\u001b[0m \u001b[1;32mnot\u001b[0m \u001b[0mNone\u001b[0m\u001b[1;33m)\u001b[0m\u001b[1;33m:\u001b[0m\u001b[1;33m\u001b[0m\u001b[0m\n",
      "\u001b[1;32m/home/wesley/anaconda3/envs/py27/lib/python2.7/site-packages/pandas/io/parsers.pyc\u001b[0m in \u001b[0;36m__init__\u001b[1;34m(self, f, engine, **kwds)\u001b[0m\n\u001b[0;32m    610\u001b[0m             \u001b[0mself\u001b[0m\u001b[1;33m.\u001b[0m\u001b[0moptions\u001b[0m\u001b[1;33m[\u001b[0m\u001b[1;34m'has_index_names'\u001b[0m\u001b[1;33m]\u001b[0m \u001b[1;33m=\u001b[0m \u001b[0mkwds\u001b[0m\u001b[1;33m[\u001b[0m\u001b[1;34m'has_index_names'\u001b[0m\u001b[1;33m]\u001b[0m\u001b[1;33m\u001b[0m\u001b[0m\n\u001b[0;32m    611\u001b[0m \u001b[1;33m\u001b[0m\u001b[0m\n\u001b[1;32m--> 612\u001b[1;33m         \u001b[0mself\u001b[0m\u001b[1;33m.\u001b[0m\u001b[0m_make_engine\u001b[0m\u001b[1;33m(\u001b[0m\u001b[0mself\u001b[0m\u001b[1;33m.\u001b[0m\u001b[0mengine\u001b[0m\u001b[1;33m)\u001b[0m\u001b[1;33m\u001b[0m\u001b[0m\n\u001b[0m\u001b[0;32m    613\u001b[0m \u001b[1;33m\u001b[0m\u001b[0m\n\u001b[0;32m    614\u001b[0m     \u001b[1;32mdef\u001b[0m \u001b[0m_get_options_with_defaults\u001b[0m\u001b[1;33m(\u001b[0m\u001b[0mself\u001b[0m\u001b[1;33m,\u001b[0m \u001b[0mengine\u001b[0m\u001b[1;33m)\u001b[0m\u001b[1;33m:\u001b[0m\u001b[1;33m\u001b[0m\u001b[0m\n",
      "\u001b[1;32m/home/wesley/anaconda3/envs/py27/lib/python2.7/site-packages/pandas/io/parsers.pyc\u001b[0m in \u001b[0;36m_make_engine\u001b[1;34m(self, engine)\u001b[0m\n\u001b[0;32m    745\u001b[0m     \u001b[1;32mdef\u001b[0m \u001b[0m_make_engine\u001b[0m\u001b[1;33m(\u001b[0m\u001b[0mself\u001b[0m\u001b[1;33m,\u001b[0m \u001b[0mengine\u001b[0m\u001b[1;33m=\u001b[0m\u001b[1;34m'c'\u001b[0m\u001b[1;33m)\u001b[0m\u001b[1;33m:\u001b[0m\u001b[1;33m\u001b[0m\u001b[0m\n\u001b[0;32m    746\u001b[0m         \u001b[1;32mif\u001b[0m \u001b[0mengine\u001b[0m \u001b[1;33m==\u001b[0m \u001b[1;34m'c'\u001b[0m\u001b[1;33m:\u001b[0m\u001b[1;33m\u001b[0m\u001b[0m\n\u001b[1;32m--> 747\u001b[1;33m             \u001b[0mself\u001b[0m\u001b[1;33m.\u001b[0m\u001b[0m_engine\u001b[0m \u001b[1;33m=\u001b[0m \u001b[0mCParserWrapper\u001b[0m\u001b[1;33m(\u001b[0m\u001b[0mself\u001b[0m\u001b[1;33m.\u001b[0m\u001b[0mf\u001b[0m\u001b[1;33m,\u001b[0m \u001b[1;33m**\u001b[0m\u001b[0mself\u001b[0m\u001b[1;33m.\u001b[0m\u001b[0moptions\u001b[0m\u001b[1;33m)\u001b[0m\u001b[1;33m\u001b[0m\u001b[0m\n\u001b[0m\u001b[0;32m    748\u001b[0m         \u001b[1;32melse\u001b[0m\u001b[1;33m:\u001b[0m\u001b[1;33m\u001b[0m\u001b[0m\n\u001b[0;32m    749\u001b[0m             \u001b[1;32mif\u001b[0m \u001b[0mengine\u001b[0m \u001b[1;33m==\u001b[0m \u001b[1;34m'python'\u001b[0m\u001b[1;33m:\u001b[0m\u001b[1;33m\u001b[0m\u001b[0m\n",
      "\u001b[1;32m/home/wesley/anaconda3/envs/py27/lib/python2.7/site-packages/pandas/io/parsers.pyc\u001b[0m in \u001b[0;36m__init__\u001b[1;34m(self, src, **kwds)\u001b[0m\n\u001b[0;32m   1117\u001b[0m         \u001b[0mkwds\u001b[0m\u001b[1;33m[\u001b[0m\u001b[1;34m'allow_leading_cols'\u001b[0m\u001b[1;33m]\u001b[0m \u001b[1;33m=\u001b[0m \u001b[0mself\u001b[0m\u001b[1;33m.\u001b[0m\u001b[0mindex_col\u001b[0m \u001b[1;32mis\u001b[0m \u001b[1;32mnot\u001b[0m \u001b[0mFalse\u001b[0m\u001b[1;33m\u001b[0m\u001b[0m\n\u001b[0;32m   1118\u001b[0m \u001b[1;33m\u001b[0m\u001b[0m\n\u001b[1;32m-> 1119\u001b[1;33m         \u001b[0mself\u001b[0m\u001b[1;33m.\u001b[0m\u001b[0m_reader\u001b[0m \u001b[1;33m=\u001b[0m \u001b[0m_parser\u001b[0m\u001b[1;33m.\u001b[0m\u001b[0mTextReader\u001b[0m\u001b[1;33m(\u001b[0m\u001b[0msrc\u001b[0m\u001b[1;33m,\u001b[0m \u001b[1;33m**\u001b[0m\u001b[0mkwds\u001b[0m\u001b[1;33m)\u001b[0m\u001b[1;33m\u001b[0m\u001b[0m\n\u001b[0m\u001b[0;32m   1120\u001b[0m \u001b[1;33m\u001b[0m\u001b[0m\n\u001b[0;32m   1121\u001b[0m         \u001b[1;31m# XXX\u001b[0m\u001b[1;33m\u001b[0m\u001b[1;33m\u001b[0m\u001b[0m\n",
      "\u001b[1;32mpandas/parser.pyx\u001b[0m in \u001b[0;36mpandas.parser.TextReader.__cinit__ (pandas/parser.c:3246)\u001b[1;34m()\u001b[0m\n",
      "\u001b[1;32mpandas/parser.pyx\u001b[0m in \u001b[0;36mpandas.parser.TextReader._setup_parser_source (pandas/parser.c:6111)\u001b[1;34m()\u001b[0m\n",
      "\u001b[1;31mIOError\u001b[0m: File ./data_PE/PE_BMI_CHL_BMI.xvg does not exist"
     ]
    }
   ],
   "source": [
    "BMI_CHL_BMI=pd.read_table('./data_PE/PE_BMI_CHL_BMI.xvg',skiprows=23,delim_whitespace= True,names=['Step','cation'])\n",
    "BMI_CHL_SALT=pd.read_table('./data_PE/PE_BMI_CHL_SALT.xvg',skiprows=23,delim_whitespace= True,names=['Step','SALT'])\n",
    "BMI_CHL_CHL=pd.DataFrame(data=np.zeros((len(BMI_CHL_BMI['cation']),1)),columns=['anion'])\n",
    "BMI_CHL = pd.concat([BMI_CHL_BMI['Step'],BMI_CHL_BMI['cation'],BMI_CHL_CHL['anion'],BMI_CHL_SALT['SALT']], axis=1)\n",
    "\n",
    "BAM_FOR_BAM= pd.read_table('./data_PE/PE_BAM_FOR_BAM.xvg',skiprows=23,delim_whitespace= True,names=['Step','cation'])\n",
    "BAM_FOR_FOR= pd.read_table('./data_PE/PE_BAM_FOR_FOR.xvg',skiprows=23,delim_whitespace= True,names=['Step','anion'])\n",
    "BAM_FOR_SALT=pd.read_table('./data_PE/PE_BAM_FOR_SALT.xvg',skiprows=23,delim_whitespace= True,names=['Step','SALT'])\n",
    "BAM_FOR = pd.concat([BAM_FOR_BAM['Step'],BAM_FOR_BAM['cation'],BAM_FOR_FOR['anion'],BAM_FOR_SALT['SALT']], axis=1)\n",
    "\n",
    "BMI_ACE_ACE= pd.read_table('./data_PE/PE_BMI_ACE_ACE.xvg',skiprows=23,delim_whitespace= True,names=['Step','cation'])\n",
    "BMI_ACE_BMI= pd.read_table('./data_PE/PE_BMI_ACE_BMI.xvg',skiprows=23,delim_whitespace= True,names=['Step','anion'])\n",
    "BMI_ACE_SALT=pd.read_table('./data_PE/PE_BMI_ACE_SALT.xvg',skiprows=23,delim_whitespace= True,names=['Step','SALT'])\n",
    "BMI_ACE = pd.concat([BMI_ACE_ACE['Step'],BMI_ACE_ACE['cation'],BMI_ACE_BMI['anion'],BMI_ACE_SALT['SALT']], axis=1)\n",
    "\n",
    "BMI_MTS_BMI=pd.read_table('./data_PE/PE_BMI_MTS_BMI.xvg',skiprows=23,delim_whitespace= True,names=['Step','cation'])\n",
    "BMI_MTS_MTS=pd.read_table('./data_PE/PE_BMI_MTS_MTS.xvg',skiprows=23,delim_whitespace= True,names=['Step','anion'])\n",
    "BMI_MTS_SALT=pd.read_table('./data_PE/PE_BMI_MTS_SALT.xvg',skiprows=23,delim_whitespace= True,names=['Step','SALT'])\n",
    "BMI_MTS = pd.concat([BMI_MTS_BMI['Step'],BMI_MTS_BMI['cation'],BMI_MTS_MTS['anion'],BMI_MTS_SALT['SALT']], axis=1)\n",
    "\n",
    "BMI_TF2_BMI=pd.read_table('./data_PE/PE_BMI_TF2_BMI.xvg',skiprows=23,delim_whitespace= True,names=['Step','cation'])\n",
    "BMI_TF2_TF2=pd.read_table('./data_PE/PE_BMI_TF2_TF2.xvg',skiprows=23,delim_whitespace= True,names=['Step','anion'])\n",
    "BMI_TF2_SALT=pd.read_table('./data_PE/PE_BMI_TF2_SALT.xvg',skiprows=23,delim_whitespace= True,names=['Step','SALT'])\n",
    "BMI_TF2 = pd.concat([BMI_TF2_BMI['Step'],BMI_TF2_BMI['cation'],BMI_TF2_TF2['anion'],BMI_TF2_SALT['SALT']], axis=1)\n",
    "\n",
    "EAM_FOR_EAM=pd.read_table('./data_PE/PE_EAM_FOR_EAM.xvg',skiprows=23,delim_whitespace= True,names=['Step','cation'])\n",
    "EAM_FOR_FOR=pd.read_table('./data_PE/PE_EAM_FOR_FOR.xvg',skiprows=23,delim_whitespace= True,names=['Step','anion'])\n",
    "EAM_FOR_SALT=pd.read_table('./data_PE/PE_EAM_FOR_SALT.xvg',skiprows=23,delim_whitespace= True,names=['Step','SALT'])\n",
    "EAM_FOR = pd.concat([EAM_FOR_EAM['Step'],EAM_FOR_EAM['cation'],EAM_FOR_FOR['anion'],EAM_FOR_SALT['SALT']], axis=1)\n",
    "\n",
    "EMI_ACE_EMI=pd.read_table('./data_PE/PE_EMI_ACE_EMI.xvg',skiprows=23,delim_whitespace= True,names=['Step','cation'])\n",
    "EMI_ACE_ACE=pd.read_table('./data_PE/PE_EMI_ACE_ACE.xvg',skiprows=23,delim_whitespace= True,names=['Step','anion'])\n",
    "EMI_ACE_SALT=pd.read_table('./data_PE/PE_EMI_ACE_SALT.xvg',skiprows=23,delim_whitespace= True,names=['Step','SALT'])\n",
    "EMI_ACE = pd.concat([EMI_ACE_EMI['Step'],EMI_ACE_EMI['cation'],EMI_ACE_ACE['anion'],EMI_ACE_SALT['SALT']], axis=1)\n",
    "\n",
    "EMI_ETS_EMI=pd.read_table('./data_PE/PE_EMI_ETS_EMI.xvg',skiprows=23,delim_whitespace= True,names=['Step','cation'])\n",
    "EMI_ETS_ETS=pd.read_table('./data_PE/PE_EMI_ETS_ETS.xvg',skiprows=23,delim_whitespace= True,names=['Step','anion'])\n",
    "EMI_ETS_SALT=pd.read_table('./data_PE/PE_EMI_ETS_SALT.xvg',skiprows=23,delim_whitespace= True,names=['Step','SALT'])\n",
    "EMI_ETS = pd.concat([EMI_ETS_EMI['Step'],EMI_ETS_EMI['cation'],EMI_ETS_ETS['anion'],EMI_ETS_SALT['SALT']], axis=1)\n",
    "\n",
    "EMI_FMS_EMI=pd.read_table('./data_PE/PE_EMI_FMS_EMI.xvg',skiprows=23,delim_whitespace= True,names=['Step','cation'])\n",
    "EMI_FMS_FMS=pd.read_table('./data_PE/PE_EMI_FMS_FMS.xvg',skiprows=23,delim_whitespace= True,names=['Step','anion'])\n",
    "EMI_FMS_SALT=pd.read_table('./data_PE/PE_EMI_FMS_SALT.xvg',skiprows=23,delim_whitespace= True,names=['Step','SALT'])\n",
    "EMI_FMS = pd.concat([EMI_FMS_EMI['Step'],EMI_FMS_EMI['cation'],EMI_FMS_FMS['anion'],EMI_FMS_SALT['SALT']], axis=1)\n",
    "\n",
    "EMI_TF2_EMI=pd.read_table('./data_PE/PE_EMI_TF2_EMI.xvg',skiprows=23,delim_whitespace= True,names=['Step','cation'])\n",
    "EMI_TF2_TF2=pd.read_table('./data_PE/PE_EMI_TF2_TF2.xvg',skiprows=23,delim_whitespace= True,names=['Step','anion'])\n",
    "EMI_TF2_SALT=pd.read_table('./data_PE/PE_EMI_TF2_SALT.xvg',skiprows=23,delim_whitespace= True,names=['Step','SALT'])\n",
    "EMI_TF2 = pd.concat([EMI_TF2_EMI['Step'],EMI_TF2_EMI['cation'],EMI_TF2_TF2['anion'],EMI_TF2_SALT['SALT']], axis=1)\n",
    "\n",
    "EPY_ETS_EPY=pd.read_table('./data_PE/PE_EPY_ETS_EPY.xvg',skiprows=23,delim_whitespace= True,names=['Step','cation'])\n",
    "EPY_ETS_ETS=pd.read_table('./data_PE/PE_EPY_ETS_ETS.xvg',skiprows=23,delim_whitespace= True,names=['Step','anion'])\n",
    "EPY_ETS_SALT=pd.read_table('./data_PE/PE_EPY_ETS_SALT.xvg',skiprows=23,delim_whitespace= True,names=['Step','SALT'])\n",
    "EPY_ETS = pd.concat([EPY_ETS_EPY['Step'],EPY_ETS_EPY['cation'],EPY_ETS_ETS['anion'],EPY_ETS_SALT['SALT']], axis=1)\n",
    "\n",
    "EPY_TF2_EPY=pd.read_table('./data_PE/PE_EPY_TF2_EPY.xvg',skiprows=23,delim_whitespace= True,names=['Step','cation'])\n",
    "EPY_TF2_TF2=pd.read_table('./data_PE/PE_EPY_TF2_TF2.xvg',skiprows=23,delim_whitespace= True,names=['Step','anion'])\n",
    "EPY_TF2_SALT=pd.read_table('./data_PE/PE_EPY_TF2_SALT.xvg',skiprows=23,delim_whitespace= True,names=['Step','SALT'])\n",
    "EPY_TF2 = pd.concat([EPY_TF2_EPY['Step'],EPY_TF2_EPY['cation'],EPY_TF2_TF2['anion'],EPY_TF2_SALT['SALT']], axis=1)\n",
    "\n",
    "HMI_CHL_HMI=pd.read_table('./data_PE/PE_HMI_CHL_HMI.xvg',skiprows=23,delim_whitespace= True,names=['Step','cation'])\n",
    "HMI_CHL_SALT=pd.read_table('./data_PE/PE_HMI_CHL_SALT.xvg',skiprows=23,delim_whitespace= True,names=['Step','SALT'])\n",
    "HMI_CHL_CHL=pd.DataFrame(data=np.zeros((len(HMI_CHL_HMI['cation']),1)),columns=['anion'])\n",
    "HMI_CHL = pd.concat([HMI_CHL_HMI['Step'],HMI_CHL_HMI['cation'],HMI_CHL_CHL['anion'],HMI_CHL_SALT['SALT']], axis=1)\n",
    "\n",
    "HMI_TF2_HMI=pd.read_table('./data_PE/PE_HMI_TF2_HMI.xvg',skiprows=23,delim_whitespace= True,names=['Step','cation'])\n",
    "HMI_TF2_TF2=pd.read_table('./data_PE/PE_HMI_TF2_TF2.xvg',skiprows=23,delim_whitespace= True,names=['Step','anion'])\n",
    "HMI_TF2_SALT=pd.read_table('./data_PE/PE_HMI_TF2_SALT.xvg',skiprows=23,delim_whitespace= True,names=['Step','SALT'])\n",
    "HMI_TF2 = pd.concat([HMI_TF2_HMI['Step'],HMI_TF2_HMI['cation'],HMI_TF2_TF2['anion'],HMI_TF2_SALT['SALT']], axis=1)\n",
    "\n",
    "HPY_TF2_HPY=pd.read_table('./data_PE/PE_HPY_TF2_HPY.xvg',skiprows=23,delim_whitespace= True,names=['Step','cation'])\n",
    "HPY_TF2_TF2=pd.read_table('./data_PE/PE_HPY_TF2_TF2.xvg',skiprows=23,delim_whitespace= True,names=['Step','anion'])\n",
    "HPY_TF2_SALT=pd.read_table('./data_PE/PE_HPY_TF2_SALT.xvg',skiprows=23,delim_whitespace= True,names=['Step','SALT'])\n",
    "HPY_TF2 = pd.concat([HPY_TF2_HPY['Step'],HPY_TF2_HPY['cation'],HPY_TF2_TF2['anion'],HPY_TF2_SALT['SALT']], axis=1)\n",
    "\n",
    "OMI_CHL_HMI=pd.read_table('./data_PE/PE_OMI_CHL_OMI.xvg',skiprows=23,delim_whitespace= True,names=['Step','cation'])\n",
    "OMI_CHL_SALT=pd.read_table('./data_PE/PE_OMI_CHL_SALT.xvg',skiprows=23,delim_whitespace= True,names=['Step','SALT'])\n",
    "OMI_CHL_CHL=pd.DataFrame(data=np.zeros((len(OMI_CHL_HMI['cation']),1)),columns=['anion'])\n",
    "OMI_CHL = pd.concat([OMI_CHL_HMI['Step'],OMI_CHL_HMI['cation'],OMI_CHL_CHL['anion'],OMI_CHL_SALT['SALT']], axis=1)\n",
    "\n",
    "OMI_FMS_OMI=pd.read_table('./data_PE/PE_OMI_FMS_OMI.xvg',skiprows=23,delim_whitespace= True,names=['Step','cation'])\n",
    "OMI_FMS_FMS=pd.read_table('./data_PE/PE_OMI_FMS_FMS.xvg',skiprows=23,delim_whitespace= True,names=['Step','anion'])\n",
    "OMI_FMS_SALT=pd.read_table('./data_PE/PE_OMI_FMS_SALT.xvg',skiprows=23,delim_whitespace= True,names=['Step','SALT'])\n",
    "OMI_FMS = pd.concat([OMI_FMS_OMI['Step'],OMI_FMS_OMI['cation'],OMI_FMS_FMS['anion'],OMI_FMS_SALT['SALT']], axis=1)\n",
    "\n",
    "OMI_TF2_OMI=pd.read_csv('./data_PE/PE_OMI_TF2_OMI.xvg',skiprows=23,delim_whitespace= True,names=['Step','cation'])\n",
    "OMI_TF2_TF2=pd.read_csv('./data_PE/PE_OMI_TF2_TF2.xvg',skiprows=23,delim_whitespace= True,names=['Step','anion'])\n",
    "OMI_TF2_SALT=pd.read_csv('./data_PE/PE_OMI_TF2_SALT.xvg',skiprows=23,delim_whitespace= True,names=['Step','SALT'])\n",
    "OMI_TF2 = pd.concat([OMI_TF2_OMI['Step'],OMI_TF2_OMI['cation'],OMI_TF2_TF2['anion'],OMI_TF2_SALT['SALT']], axis=1)\n",
    "\n",
    "PAM_FOR_PAM=pd.read_csv('./data_PE/PE_PAM_FOR_PAM.xvg',skiprows=23,delim_whitespace= True,names=['Step','cation'])\n",
    "PAM_FOR_FOR=pd.read_csv('./data_PE/PE_PAM_FOR_FOR.xvg',skiprows=23,delim_whitespace= True,names=['Step','anion'])\n",
    "PAM_FOR_SALT=pd.read_csv('./data_PE/PE_PAM_FOR_SALT.xvg',skiprows=23,delim_whitespace= True,names=['Step','SALT'])\n",
    "PAM_FOR = pd.concat([PAM_FOR_PAM['Step'],PAM_FOR_PAM['cation'],PAM_FOR_FOR['anion'],PAM_FOR_SALT['SALT']], axis=1)\n",
    "\n",
    "PPY_TF2_PPY=pd.read_csv('./data_PE/PE_PPY_TF2_PPY.xvg',skiprows=23,delim_whitespace= True,names=['Step','cation'])\n",
    "PPY_TF2_TF2=pd.read_csv('./data_PE/PE_PPY_TF2_TF2.xvg',skiprows=23,delim_whitespace= True,names=['Step','anion'])\n",
    "PPY_TF2_SALT=pd.read_csv('./data_PE/PE_PPY_TF2_SALT.xvg',skiprows=23,delim_whitespace= True,names=['Step','SALT'])\n",
    "PPY_TF2 = pd.concat([PPY_TF2_PPY['Step'],PPY_TF2_PPY['cation'],PPY_TF2_TF2['anion'],PPY_TF2_SALT['SALT']], axis=1)\n",
    "\n",
    "list_of_SALTs=[BAM_FOR,BMI_ACE,BMI_MTS,BMI_TF2,EAM_FOR,EMI_ACE,EMI_ETS,EMI_FMS,EMI_TF2,EPY_ETS,EPY_TF2,HMI_CHL,HMI_TF2,HPY_TF2,OMI_CHL,OMI_FMS,OMI_TF2,PAM_FOR,PPY_TF2]\n",
    "list_of_SALTs_b=np.array(['BAM_FOR','BMI_ACE','BMI_MTS','BMI_TF2','EAM_FOR','EMI_ACE','EMI_ETS','EMI_FMS','EMI_TF2','EPY_ETS','EPY_TF2','HMI_CHL','HMI_TF2','HPY_TF2','OMI_CHL','OMI_FMS','OMI_TF2','PAM_FOR','PPY_TF2'])\n",
    "df_of_SALTs_b=pd.DataFrame(['BAM_FOR','BMI_ACE','BMI_MTS','BMI_TF2','EAM_FOR','EMI_ACE','EMI_ETS','EMI_FMS','EMI_TF2','EPY_ETS','EPY_TF2','HMI_CHL','HMI_TF2','HPY_TF2','OMI_CHL','OMI_FMS','OMI_TF2','PAM_FOR','PPY_TF2'],columns=['SALT'])\n",
    "\n",
    "print(df_of_SALTs_b)"
   ]
  },
  {
   "cell_type": "code",
   "execution_count": 5,
   "metadata": {
    "collapsed": false
   },
   "outputs": [
    {
     "name": "stdout",
     "output_type": "stream",
     "text": [
      "       SALT  Average PE\n",
      "0   BAM_FOR -183.608267\n",
      "18  PPY_TF2 -176.554844\n",
      "14  OMI_CHL -176.494798\n",
      "17  PAM_FOR -176.324974\n",
      "16  OMI_TF2 -176.314401\n",
      "15  OMI_FMS -174.148846\n",
      "13  HPY_TF2 -173.774485\n",
      "12  HMI_TF2 -172.508214\n",
      "4   EAM_FOR -170.237385\n",
      "11  HMI_CHL -170.058866\n",
      "10  EPY_TF2 -167.121191\n",
      "5   EMI_ACE -166.939350\n",
      "8   EMI_TF2 -165.535450\n",
      "3   BMI_TF2 -164.942409\n",
      "1   BMI_ACE -164.919041\n",
      "6   EMI_ETS -164.832193\n",
      "9   EPY_ETS -164.115071\n",
      "7   EMI_FMS -160.816237\n",
      "2   BMI_MTS -152.621678\n"
     ]
    }
   ],
   "source": [
    "just_SALT=[]\n",
    "indexer=0\n",
    "SALTs=[]\n",
    "average=[]\n",
    "for SALTs in list_of_SALTs:\n",
    "    for index in range(len(BAM_FOR)):\n",
    "        just_SALT.append(SALTs.SALT.loc[index]-(SALTs.cation.loc[index]+SALTs.anion.loc[index]))\n",
    "    SALT_array=[]\n",
    "    SALT_array=np.array(just_SALT)\n",
    "    SALT_array.transpose()\n",
    "    SALTs['just_SALT']=pd.DataFrame(SALT_array)\n",
    "    average.append(np.average(SALT_array))\n",
    "    \n",
    "    #plt.figure(figsize=[7,5])\n",
    "    #plt.plot(SALTs['Step'],SALTs['cation'])\n",
    "    #plt.plot(SALTs['Step'],SALTs['anion'])\n",
    "    #plt.plot(SALTs['Step'],SALTs['SALT'])\n",
    "    #plt.plot(SALTs['Step'],SALTs['just_SALT'])\n",
    "    #plt.legend([list_of_SALTs_b[indexer][0:3:1],list_of_SALTs_b[indexer][4::],list_of_SALTs_b[indexer],'Subtracted'])\n",
    "    #plt.ylabel('Total Energy (kJ/mol)')\n",
    "    #plt.xlabel('Step')\n",
    "    #plt.title([list_of_SALTs_b[indexer],average])\n",
    "    indexer+=1\n",
    "\n",
    "df_of_SALTs_b['Average PE']=pd.DataFrame(average)\n",
    "\n",
    "df_of_SALTs_b.sort_values(by='Average PE')\n",
    "print(df_of_SALTs_b.sort_values(by='Average PE'))"
   ]
  },
  {
   "cell_type": "code",
   "execution_count": null,
   "metadata": {
    "collapsed": true
   },
   "outputs": [],
   "source": []
  },
  {
   "cell_type": "code",
   "execution_count": null,
   "metadata": {
    "collapsed": true
   },
   "outputs": [],
   "source": []
  }
 ],
 "metadata": {
  "anaconda-cloud": {},
  "kernelspec": {
   "display_name": "Python 2",
   "language": "python",
   "name": "python2"
  },
  "language_info": {
   "codemirror_mode": {
    "name": "ipython",
    "version": 2
   },
   "file_extension": ".py",
   "mimetype": "text/x-python",
   "name": "python",
   "nbconvert_exporter": "python",
   "pygments_lexer": "ipython2",
   "version": "2.7.11"
  }
 },
 "nbformat": 4,
 "nbformat_minor": 2
}
