{
 "cells": [
  {
   "cell_type": "code",
   "execution_count": 2,
   "metadata": {
    "collapsed": true
   },
   "outputs": [],
   "source": [
    "import numpy as np\n",
    "import pandas as pd\n",
    "import matplotlib.pyplot as plt\n",
    "%matplotlib inline"
   ]
  },
  {
   "cell_type": "code",
   "execution_count": 3,
   "metadata": {
    "collapsed": false
   },
   "outputs": [
    {
     "name": "stdout",
     "output_type": "stream",
     "text": [
      "       SALT\n",
      "0   BMI_CHL\n",
      "1   BAM_FOR\n",
      "2   BMI_ACE\n",
      "3   BMI_MTS\n",
      "4   BMI_TF2\n",
      "5   EAM_FOR\n",
      "6   EMI_ACE\n",
      "7   EMI_ETS\n",
      "8   EMI_FMS\n",
      "9   EMI_TF2\n",
      "10  EPY_ETS\n",
      "11  EPY_TF2\n",
      "12  HMI_CHL\n",
      "13  HMI_TF2\n",
      "14  HPY_TF2\n",
      "15  OMI_CHL\n",
      "16  OMI_FMS\n",
      "17  OMI_TF2\n",
      "18  PAM_FOR\n",
      "19  PPY_TF2\n"
     ]
    }
   ],
   "source": [
    "BMI_CHL_BMI=pd.read_table('./data_PE/PE_BMI_CHL_BMI.xvg',skiprows=23,delim_whitespace= True,names=['Step','cation'])\n",
    "BMI_CHL_SALT=pd.read_table('./data_PE/PE_BMI_CHL_SALT.xvg',skiprows=23,delim_whitespace= True,names=['Step','SALT'])\n",
    "BMI_CHL_CHL=pd.DataFrame(data=np.zeros((len(BMI_CHL_BMI['cation']),1)),columns=['anion'])\n",
    "BMI_CHL = pd.concat([BMI_CHL_BMI['Step'],BMI_CHL_BMI['cation'],BMI_CHL_CHL['anion'],BMI_CHL_SALT['SALT']], axis=1)\n",
    "\n",
    "BAM_FOR_BAM= pd.read_table('./data_PE/PE_BAM_FOR_BAM.xvg',skiprows=23,delim_whitespace= True,names=['Step','cation'])\n",
    "BAM_FOR_FOR= pd.read_table('./data_PE/PE_BAM_FOR_FOR.xvg',skiprows=23,delim_whitespace= True,names=['Step','anion'])\n",
    "BAM_FOR_SALT=pd.read_table('./data_PE/PE_BAM_FOR_SALT.xvg',skiprows=23,delim_whitespace= True,names=['Step','SALT'])\n",
    "BAM_FOR = pd.concat([BAM_FOR_BAM['Step'],BAM_FOR_BAM['cation'],BAM_FOR_FOR['anion'],BAM_FOR_SALT['SALT']], axis=1)\n",
    "\n",
    "BMI_ACE_ACE= pd.read_table('./data_PE/PE_BMI_ACE_ACE.xvg',skiprows=23,delim_whitespace= True,names=['Step','cation'])\n",
    "BMI_ACE_BMI= pd.read_table('./data_PE/PE_BMI_ACE_BMI.xvg',skiprows=23,delim_whitespace= True,names=['Step','anion'])\n",
    "BMI_ACE_SALT=pd.read_table('./data_PE/PE_BMI_ACE_SALT.xvg',skiprows=23,delim_whitespace= True,names=['Step','SALT'])\n",
    "BMI_ACE = pd.concat([BMI_ACE_ACE['Step'],BMI_ACE_ACE['cation'],BMI_ACE_BMI['anion'],BMI_ACE_SALT['SALT']], axis=1)\n",
    "\n",
    "BMI_MTS_BMI=pd.read_table('./data_PE/PE_BMI_MTS_BMI.xvg',skiprows=23,delim_whitespace= True,names=['Step','cation'])\n",
    "BMI_MTS_MTS=pd.read_table('./data_PE/PE_BMI_MTS_MTS.xvg',skiprows=23,delim_whitespace= True,names=['Step','anion'])\n",
    "BMI_MTS_SALT=pd.read_table('./data_PE/PE_BMI_MTS_SALT.xvg',skiprows=23,delim_whitespace= True,names=['Step','SALT'])\n",
    "BMI_MTS = pd.concat([BMI_MTS_BMI['Step'],BMI_MTS_BMI['cation'],BMI_MTS_MTS['anion'],BMI_MTS_SALT['SALT']], axis=1)\n",
    "\n",
    "BMI_TF2_BMI=pd.read_table('./data_PE/PE_BMI_TF2_BMI.xvg',skiprows=23,delim_whitespace= True,names=['Step','cation'])\n",
    "BMI_TF2_TF2=pd.read_table('./data_PE/PE_BMI_TF2_TF2.xvg',skiprows=23,delim_whitespace= True,names=['Step','anion'])\n",
    "BMI_TF2_SALT=pd.read_table('./data_PE/PE_BMI_TF2_SALT.xvg',skiprows=23,delim_whitespace= True,names=['Step','SALT'])\n",
    "BMI_TF2 = pd.concat([BMI_TF2_BMI['Step'],BMI_TF2_BMI['cation'],BMI_TF2_TF2['anion'],BMI_TF2_SALT['SALT']], axis=1)\n",
    "\n",
    "EAM_FOR_EAM=pd.read_table('./data_PE/PE_EAM_FOR_EAM.xvg',skiprows=23,delim_whitespace= True,names=['Step','cation'])\n",
    "EAM_FOR_FOR=pd.read_table('./data_PE/PE_EAM_FOR_FOR.xvg',skiprows=23,delim_whitespace= True,names=['Step','anion'])\n",
    "EAM_FOR_SALT=pd.read_table('./data_PE/PE_EAM_FOR_SALT.xvg',skiprows=23,delim_whitespace= True,names=['Step','SALT'])\n",
    "EAM_FOR = pd.concat([EAM_FOR_EAM['Step'],EAM_FOR_EAM['cation'],EAM_FOR_FOR['anion'],EAM_FOR_SALT['SALT']], axis=1)\n",
    "\n",
    "EMI_ACE_EMI=pd.read_table('./data_PE/PE_EMI_ACE_EMI.xvg',skiprows=23,delim_whitespace= True,names=['Step','cation'])\n",
    "EMI_ACE_ACE=pd.read_table('./data_PE/PE_EMI_ACE_ACE.xvg',skiprows=23,delim_whitespace= True,names=['Step','anion'])\n",
    "EMI_ACE_SALT=pd.read_table('./data_PE/PE_EMI_ACE_SALT.xvg',skiprows=23,delim_whitespace= True,names=['Step','SALT'])\n",
    "EMI_ACE = pd.concat([EMI_ACE_EMI['Step'],EMI_ACE_EMI['cation'],EMI_ACE_ACE['anion'],EMI_ACE_SALT['SALT']], axis=1)\n",
    "\n",
    "EMI_ETS_EMI=pd.read_table('./data_PE/PE_EMI_ETS_EMI.xvg',skiprows=23,delim_whitespace= True,names=['Step','cation'])\n",
    "EMI_ETS_ETS=pd.read_table('./data_PE/PE_EMI_ETS_ETS.xvg',skiprows=23,delim_whitespace= True,names=['Step','anion'])\n",
    "EMI_ETS_SALT=pd.read_table('./data_PE/PE_EMI_ETS_SALT.xvg',skiprows=23,delim_whitespace= True,names=['Step','SALT'])\n",
    "EMI_ETS = pd.concat([EMI_ETS_EMI['Step'],EMI_ETS_EMI['cation'],EMI_ETS_ETS['anion'],EMI_ETS_SALT['SALT']], axis=1)\n",
    "\n",
    "EMI_FMS_EMI=pd.read_table('./data_PE/PE_EMI_FMS_EMI.xvg',skiprows=23,delim_whitespace= True,names=['Step','cation'])\n",
    "EMI_FMS_FMS=pd.read_table('./data_PE/PE_EMI_FMS_FMS.xvg',skiprows=23,delim_whitespace= True,names=['Step','anion'])\n",
    "EMI_FMS_SALT=pd.read_table('./data_PE/PE_EMI_FMS_SALT.xvg',skiprows=23,delim_whitespace= True,names=['Step','SALT'])\n",
    "EMI_FMS = pd.concat([EMI_FMS_EMI['Step'],EMI_FMS_EMI['cation'],EMI_FMS_FMS['anion'],EMI_FMS_SALT['SALT']], axis=1)\n",
    "\n",
    "EMI_TF2_EMI=pd.read_table('./data_PE/PE_EMI_TF2_EMI.xvg',skiprows=23,delim_whitespace= True,names=['Step','cation'])\n",
    "EMI_TF2_TF2=pd.read_table('./data_PE/PE_EMI_TF2_TF2.xvg',skiprows=23,delim_whitespace= True,names=['Step','anion'])\n",
    "EMI_TF2_SALT=pd.read_table('./data_PE/PE_EMI_TF2_SALT.xvg',skiprows=23,delim_whitespace= True,names=['Step','SALT'])\n",
    "EMI_TF2 = pd.concat([EMI_TF2_EMI['Step'],EMI_TF2_EMI['cation'],EMI_TF2_TF2['anion'],EMI_TF2_SALT['SALT']], axis=1)\n",
    "\n",
    "EPY_ETS_EPY=pd.read_table('./data_PE/PE_EPY_ETS_EPY.xvg',skiprows=23,delim_whitespace= True,names=['Step','cation'])\n",
    "EPY_ETS_ETS=pd.read_table('./data_PE/PE_EPY_ETS_ETS.xvg',skiprows=23,delim_whitespace= True,names=['Step','anion'])\n",
    "EPY_ETS_SALT=pd.read_table('./data_PE/PE_EPY_ETS_SALT.xvg',skiprows=23,delim_whitespace= True,names=['Step','SALT'])\n",
    "EPY_ETS = pd.concat([EPY_ETS_EPY['Step'],EPY_ETS_EPY['cation'],EPY_ETS_ETS['anion'],EPY_ETS_SALT['SALT']], axis=1)\n",
    "\n",
    "EPY_TF2_EPY=pd.read_table('./data_PE/PE_EPY_TF2_EPY.xvg',skiprows=23,delim_whitespace= True,names=['Step','cation'])\n",
    "EPY_TF2_TF2=pd.read_table('./data_PE/PE_EPY_TF2_TF2.xvg',skiprows=23,delim_whitespace= True,names=['Step','anion'])\n",
    "EPY_TF2_SALT=pd.read_table('./data_PE/PE_EPY_TF2_SALT.xvg',skiprows=23,delim_whitespace= True,names=['Step','SALT'])\n",
    "EPY_TF2 = pd.concat([EPY_TF2_EPY['Step'],EPY_TF2_EPY['cation'],EPY_TF2_TF2['anion'],EPY_TF2_SALT['SALT']], axis=1)\n",
    "\n",
    "HMI_CHL_HMI=pd.read_table('./data_PE/PE_HMI_CHL_HMI.xvg',skiprows=23,delim_whitespace= True,names=['Step','cation'])\n",
    "HMI_CHL_SALT=pd.read_table('./data_PE/PE_HMI_CHL_SALT.xvg',skiprows=23,delim_whitespace= True,names=['Step','SALT'])\n",
    "HMI_CHL_CHL=pd.DataFrame(data=np.zeros((len(HMI_CHL_HMI['cation']),1)),columns=['anion'])\n",
    "HMI_CHL = pd.concat([HMI_CHL_HMI['Step'],HMI_CHL_HMI['cation'],HMI_CHL_CHL['anion'],HMI_CHL_SALT['SALT']], axis=1)\n",
    "\n",
    "HMI_TF2_HMI=pd.read_table('./data_PE/PE_HMI_TF2_HMI.xvg',skiprows=23,delim_whitespace= True,names=['Step','cation'])\n",
    "HMI_TF2_TF2=pd.read_table('./data_PE/PE_HMI_TF2_TF2.xvg',skiprows=23,delim_whitespace= True,names=['Step','anion'])\n",
    "HMI_TF2_SALT=pd.read_table('./data_PE/PE_HMI_TF2_SALT.xvg',skiprows=23,delim_whitespace= True,names=['Step','SALT'])\n",
    "HMI_TF2 = pd.concat([HMI_TF2_HMI['Step'],HMI_TF2_HMI['cation'],HMI_TF2_TF2['anion'],HMI_TF2_SALT['SALT']], axis=1)\n",
    "\n",
    "HPY_TF2_HPY=pd.read_table('./data_PE/PE_HPY_TF2_HPY.xvg',skiprows=23,delim_whitespace= True,names=['Step','cation'])\n",
    "HPY_TF2_TF2=pd.read_table('./data_PE/PE_HPY_TF2_TF2.xvg',skiprows=23,delim_whitespace= True,names=['Step','anion'])\n",
    "HPY_TF2_SALT=pd.read_table('./data_PE/PE_HPY_TF2_SALT.xvg',skiprows=23,delim_whitespace= True,names=['Step','SALT'])\n",
    "HPY_TF2 = pd.concat([HPY_TF2_HPY['Step'],HPY_TF2_HPY['cation'],HPY_TF2_TF2['anion'],HPY_TF2_SALT['SALT']], axis=1)\n",
    "\n",
    "OMI_CHL_HMI=pd.read_table('./data_PE/PE_OMI_CHL_OMI.xvg',skiprows=23,delim_whitespace= True,names=['Step','cation'])\n",
    "OMI_CHL_SALT=pd.read_table('./data_PE/PE_OMI_CHL_SALT.xvg',skiprows=23,delim_whitespace= True,names=['Step','SALT'])\n",
    "OMI_CHL_CHL=pd.DataFrame(data=np.zeros((len(OMI_CHL_HMI['cation']),1)),columns=['anion'])\n",
    "OMI_CHL = pd.concat([OMI_CHL_HMI['Step'],OMI_CHL_HMI['cation'],OMI_CHL_CHL['anion'],OMI_CHL_SALT['SALT']], axis=1)\n",
    "\n",
    "OMI_FMS_OMI=pd.read_table('./data_PE/PE_OMI_FMS_OMI.xvg',skiprows=23,delim_whitespace= True,names=['Step','cation'])\n",
    "OMI_FMS_FMS=pd.read_table('./data_PE/PE_OMI_FMS_FMS.xvg',skiprows=23,delim_whitespace= True,names=['Step','anion'])\n",
    "OMI_FMS_SALT=pd.read_table('./data_PE/PE_OMI_FMS_SALT.xvg',skiprows=23,delim_whitespace= True,names=['Step','SALT'])\n",
    "OMI_FMS = pd.concat([OMI_FMS_OMI['Step'],OMI_FMS_OMI['cation'],OMI_FMS_FMS['anion'],OMI_FMS_SALT['SALT']], axis=1)\n",
    "\n",
    "OMI_TF2_OMI=pd.read_csv('./data_PE/PE_OMI_TF2_OMI.xvg',skiprows=23,delim_whitespace= True,names=['Step','cation'])\n",
    "OMI_TF2_TF2=pd.read_csv('./data_PE/PE_OMI_TF2_TF2.xvg',skiprows=23,delim_whitespace= True,names=['Step','anion'])\n",
    "OMI_TF2_SALT=pd.read_csv('./data_PE/PE_OMI_TF2_SALT.xvg',skiprows=23,delim_whitespace= True,names=['Step','SALT'])\n",
    "OMI_TF2 = pd.concat([OMI_TF2_OMI['Step'],OMI_TF2_OMI['cation'],OMI_TF2_TF2['anion'],OMI_TF2_SALT['SALT']], axis=1)\n",
    "\n",
    "PAM_FOR_PAM=pd.read_csv('./data_PE/PE_PAM_FOR_PAM.xvg',skiprows=23,delim_whitespace= True,names=['Step','cation'])\n",
    "PAM_FOR_FOR=pd.read_csv('./data_PE/PE_PAM_FOR_FOR.xvg',skiprows=23,delim_whitespace= True,names=['Step','anion'])\n",
    "PAM_FOR_SALT=pd.read_csv('./data_PE/PE_PAM_FOR_SALT.xvg',skiprows=23,delim_whitespace= True,names=['Step','SALT'])\n",
    "PAM_FOR = pd.concat([PAM_FOR_PAM['Step'],PAM_FOR_PAM['cation'],PAM_FOR_FOR['anion'],PAM_FOR_SALT['SALT']], axis=1)\n",
    "\n",
    "PPY_TF2_PPY=pd.read_csv('./data_PE/PE_PPY_TF2_PPY.xvg',skiprows=23,delim_whitespace= True,names=['Step','cation'])\n",
    "PPY_TF2_TF2=pd.read_csv('./data_PE/PE_PPY_TF2_TF2.xvg',skiprows=23,delim_whitespace= True,names=['Step','anion'])\n",
    "PPY_TF2_SALT=pd.read_csv('./data_PE/PE_PPY_TF2_SALT.xvg',skiprows=23,delim_whitespace= True,names=['Step','SALT'])\n",
    "PPY_TF2 = pd.concat([PPY_TF2_PPY['Step'],PPY_TF2_PPY['cation'],PPY_TF2_TF2['anion'],PPY_TF2_SALT['SALT']], axis=1)\n",
    "\n",
    "list_of_SALTs=[BMI_CHL,BAM_FOR,BMI_ACE,BMI_MTS,BMI_TF2,EAM_FOR,EMI_ACE,EMI_ETS,EMI_FMS,EMI_TF2,EPY_ETS,EPY_TF2,HMI_CHL,HMI_TF2,HPY_TF2,OMI_CHL,OMI_FMS,OMI_TF2,PAM_FOR,PPY_TF2]\n",
    "list_of_SALTs_b=np.array(['BMI_CHL', 'BAM_FOR','BMI_ACE','BMI_MTS','BMI_TF2','EAM_FOR','EMI_ACE','EMI_ETS','EMI_FMS','EMI_TF2','EPY_ETS','EPY_TF2','HMI_CHL','HMI_TF2','HPY_TF2','OMI_CHL','OMI_FMS','OMI_TF2','PAM_FOR','PPY_TF2'])\n",
    "df_of_SALTs_b=pd.DataFrame(['BMI_CHL', 'BAM_FOR','BMI_ACE','BMI_MTS','BMI_TF2','EAM_FOR','EMI_ACE','EMI_ETS','EMI_FMS','EMI_TF2','EPY_ETS','EPY_TF2','HMI_CHL','HMI_TF2','HPY_TF2','OMI_CHL','OMI_FMS','OMI_TF2','PAM_FOR','PPY_TF2'],columns=['SALT'])\n",
    "\n",
    "print(df_of_SALTs_b)"
   ]
  },
  {
   "cell_type": "code",
   "execution_count": 4,
   "metadata": {
    "collapsed": false
   },
   "outputs": [
    {
     "name": "stdout",
     "output_type": "stream",
     "text": [
      "       SALT  Average PE\n",
      "0   BMI_CHL -202.823668\n",
      "1   BAM_FOR -193.215968\n",
      "15  OMI_CHL -178.140352\n",
      "19  PPY_TF2 -177.868285\n",
      "17  OMI_TF2 -177.787138\n",
      "18  PAM_FOR -177.719642\n",
      "2   BMI_ACE -177.553917\n",
      "16  OMI_FMS -175.835601\n",
      "14  HPY_TF2 -175.711098\n",
      "5   EAM_FOR -175.668432\n",
      "13  HMI_TF2 -174.673604\n",
      "12  HMI_CHL -172.579236\n",
      "4   BMI_TF2 -172.518661\n",
      "6   EMI_ACE -172.065681\n",
      "11  EPY_TF2 -170.096397\n",
      "7   EMI_ETS -169.581127\n",
      "9   EMI_TF2 -169.264272\n",
      "10  EPY_ETS -167.634034\n",
      "8   EMI_FMS -165.483729\n",
      "3   BMI_MTS -165.172176\n"
     ]
    }
   ],
   "source": [
    "just_SALT=[]\n",
    "indexer=0\n",
    "SALTs=[]\n",
    "average=[]\n",
    "for SALTs in list_of_SALTs:\n",
    "    for index in range(len(BAM_FOR)):\n",
    "        just_SALT.append(SALTs.SALT.loc[index]-(SALTs.cation.loc[index]+SALTs.anion.loc[index]))\n",
    "    SALT_array=[]\n",
    "    SALT_array=np.array(just_SALT)\n",
    "    SALT_array.transpose()\n",
    "    SALTs['just_SALT']=pd.DataFrame(SALT_array)\n",
    "    average.append(np.average(SALT_array))\n",
    "    \n",
    "    #plt.figure(figsize=[7,5])\n",
    "    #plt.plot(SALTs['Step'],SALTs['cation'])\n",
    "    #plt.plot(SALTs['Step'],SALTs['anion'])\n",
    "    #plt.plot(SALTs['Step'],SALTs['SALT'])\n",
    "    #plt.plot(SALTs['Step'],SALTs['just_SALT'])\n",
    "    #plt.legend([list_of_SALTs_b[indexer][0:3:1],list_of_SALTs_b[indexer][4::],list_of_SALTs_b[indexer],'Subtracted'])\n",
    "    #plt.ylabel('Total Energy (kJ/mol)')\n",
    "    #plt.xlabel('Step')\n",
    "    #plt.title([list_of_SALTs_b[indexer],average])\n",
    "    indexer+=1\n",
    "\n",
    "df_of_SALTs_b['Average PE']=pd.DataFrame(average)\n",
    "\n",
    "df_of_SALTs_b.sort_values(by='Average PE')\n",
    "print(df_of_SALTs_b.sort_values(by='Average PE'))"
   ]
  },
  {
   "cell_type": "code",
   "execution_count": 5,
   "metadata": {
    "collapsed": false
   },
   "outputs": [
    {
     "data": {
      "text/plain": [
       "[<matplotlib.lines.Line2D at 0x7f757512ff10>]"
      ]
     },
     "execution_count": 5,
     "metadata": {},
     "output_type": "execute_result"
    },
    {
     "data": {
      "image/png": "[encoded data removed]",
      "text/plain": [
       "<matplotlib.figure.Figure at 0x7f75a04beb10>"
      ]
     },
     "metadata": {},
     "output_type": "display_data"
    }
   ],
   "source": [
    "md=[-202.823,-193.216,-165.172,-177.719, -202.824]\n",
    "qm=[-390.256,-495.905,-577.418,-452.720, 349.566]\n",
    "labels=['BMI_CHL','BAM_FOR','BMI_MTS','PAM_FOR', 'HMI_TF2']\n",
    "plt.plot(md,qm,linestyle='None',marker='*',label=labels)"
   ]
  },
  {
   "cell_type": "code",
   "execution_count": 7,
   "metadata": {
    "collapsed": false
   },
   "outputs": [
    {
     "ename": "SyntaxError",
     "evalue": "invalid syntax (<ipython-input-7-4ba9848698e2>, line 1)",
     "output_type": "error",
     "traceback": [
      "\u001b[1;36m  File \u001b[1;32m\"<ipython-input-7-4ba9848698e2>\"\u001b[1;36m, line \u001b[1;32m1\u001b[0m\n\u001b[1;33m    import afm-miner/afmMiner\u001b[0m\n\u001b[1;37m              ^\u001b[0m\n\u001b[1;31mSyntaxError\u001b[0m\u001b[1;31m:\u001b[0m invalid syntax\n"
     ]
    }
   ],
   "source": []
  }
 ],
 "metadata": {
  "anaconda-cloud": {},
  "kernelspec": {
   "display_name": "Python 2",
   "language": "python",
   "name": "python2"
  },
  "language_info": {
   "codemirror_mode": {
    "name": "ipython",
    "version": 2
   },
   "file_extension": ".py",
   "mimetype": "text/x-python",
   "name": "python",
   "nbconvert_exporter": "python",
   "pygments_lexer": "ipython2",
   "version": "2.7.11"
  }
 },
 "nbformat": 4,
 "nbformat_minor": 2
}
