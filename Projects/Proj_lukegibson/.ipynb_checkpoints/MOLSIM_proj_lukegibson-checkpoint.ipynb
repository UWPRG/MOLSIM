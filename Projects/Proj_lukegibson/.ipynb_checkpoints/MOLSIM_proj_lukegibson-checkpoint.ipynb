{
 "cells": [
  {
   "cell_type": "markdown",
   "metadata": {},
   "source": [
    "# MOLSIM - Project: Isobutenyl + O$_2$ in PM6 with CP2K\n",
    "## Assigned by Chris Fu\n",
    "## Luke \"Danger\" Gibson"
   ]
  },
  {
   "cell_type": "markdown",
   "metadata": {},
   "source": [
    "---"
   ]
  },
  {
   "cell_type": "markdown",
   "metadata": {},
   "source": [
    "# Objective:\n",
    "Use **PBMetaD+SPRINT** to investigate the complex reaction network of the **isobutenyl radical** and **molecular oxygen** in **PM6** using CP2K molecular dynamics software. Any discovered reactions are to be investigated further using **Gaussian 09** to quantify potential energy changes in PM6 and create a visual representation of the reaction network with potential energies at each stationary point."
   ]
  },
  {
   "cell_type": "markdown",
   "metadata": {},
   "source": [
    "<img src='isobutene.jpg' width=\"350\" align=\"right\">\n",
    "\n",
    "## Method: \n",
    "\n",
    "- PBMetaD + SPRINT\n",
    "- Ensemble: NVT\n",
    "- Temperature: 300 K\n",
    "- Run Time: 0.5 μs\n",
    "- Timestep: 1 fs\n",
    "- Level of Theory: PM6\n",
    "- Multiplicity: 2\n",
    "\n",
    "<br>\n",
    "\n",
    "\n",
    "## 3 Test Runs:\n",
    "### PBMetaD\n",
    "- 5 kJ/mol Gaussian hill height @ 300 K\n",
    "- 10 kJ/mol Gaussian hill height @ 300 K\n",
    "\n",
    "### High Temp MD\n",
    "- No MetaD @ 1000 K\n",
    "\n"
   ]
  },
  {
   "cell_type": "markdown",
   "metadata": {},
   "source": [
    "---"
   ]
  },
  {
   "cell_type": "markdown",
   "metadata": {},
   "source": [
    "## Parallel Bias MetaDynamics (PBMetaD)\n",
    "\n",
    "<img src='pbmetadyn.png' width=\"500\" align=\"right\">\n",
    "\n",
    "$$V_G(S,t) = \\int_0^t dt' \\omega(t')\\ exp\\bigg(-\\sum_{i=1}^d \\frac{(S_i(R)-S_i(R(t')))^2}{2\\sigma_i^2}\\bigg)$$\n",
    "\n",
    "$$V_{PB}(S_1,S_2,t) = -\\frac{1}{\\beta} log(exp(-\\beta V_G (S_1,t)) + exp(-\\beta V_G(S_2,t)))$$\n",
    "\n",
    "$$\\omega_1(t) = \\omega_1 exp\\bigg(-\\frac{V_G(S_1,t)}{k_B\\Delta T_1}\\bigg) P(\\eta = (1,0)|R)$$\n",
    "\n",
    "$$\\omega_2(t) = \\omega_2 exp\\bigg(-\\frac{V_G(S_2,t)}{k_B\\Delta T_2}\\bigg) P(\\eta = (0,1)|R)$$\n",
    "\n",
    "<div align=\"middle\">*(For a 2-dimensional system)*</div>\n",
    "<br>\n",
    "\n",
    "### Difference between PBMetaD and MetaD\n",
    "Converges to the free energy landscape of a system with high dimensionality by applying many low dimensional biases\n",
    "\n",
    "### Advantage\n",
    "- More efficiently samples systems with high dimensionality by avoiding the need for multidimensional Gaussian hills\n",
    "\n",
    "### Disadvantage\n",
    "- Not actually peanut butter\n",
    "\n",
    "<br>\n",
    "\n",
    "**Picture**: Pfaendtner, J.; Bonomi, M. Efficient Sampling of High-Dimensional Free-Energy Landscapes with Parallel Bias Metadynamics. *Journal of Chemical Theory and Computation* **2015**, *11* (11), 5062–5067."
   ]
  },
  {
   "cell_type": "markdown",
   "metadata": {},
   "source": [
    "## Social Permutation Invariant (SPRINT) Coordinates\n",
    "\n",
    "SPRINT coordinates uniquely describe any possible atom configuration using a contact matrix and its corresponding eigenvectors and eigenvalues. A contact matrix describes the connectivity of each atom to every other atom in the system $(a_{ij})$ using a switching function:\n",
    "\n",
    "$$a_{ij} = \\frac{1-(r_{ij}/r_0)^n}{1-(r_{ij}/r_0)^m}$$\n",
    "\n",
    "Where $r_{ij}$ is the distance between atoms *i* and *j*, $r_0$ is user defined as the cutoff distance for a bond, and *n* and *m* are also user defined to control the steepness of the switching function, typically 6 and 12, respectively. This matrix will be symmetric about its diagonal with non-negative values. From the contact matrix, the largest eigenvalue and corresponding eigenvector for each atom are used in the following equations:\n",
    "\n",
    "$$v_i^{max} = \\frac{1}{(\\lambda_{max})^M} \\sum_{j} a_{ij}^M v_j^{max}$$\n",
    "\n",
    "$$S_i = \\sqrt{N} \\lambda_{max} v_i^{max,sorted}$$\n",
    "\n",
    "Where $S_i$ is the SPRINT coordinate, $\\lambda^{max}$ is the largest eigenvalue, $v^{max}$ is the largest eigenvector, $a_{ij}^M$ is the number of walks between points *i* and *j* with length *M*, and *N* is the number of atoms in the system."
   ]
  },
  {
   "cell_type": "markdown",
   "metadata": {},
   "source": [
    "---\n",
    "\n",
    "## One \"Real\" Reaction with 5 kJ/mol Run (So Far)\n",
    "\n",
    "<img src='product2_dat.jpg' width=\"500\">\n"
   ]
  },
  {
   "cell_type": "markdown",
   "metadata": {},
   "source": [
    "# Gaussian\n",
    "### Transition State (TS) Location Procedure in Gaussian 09\n",
    "\n",
    "<img src='TS.gif' width=\"400\" align='left'>\n",
    "<br>\n",
    "1. Optimize starting structure\n",
    "2. Scan the desired bond distance\n",
    "3. From the scan, choose the structure with the highest energy\n",
    "4. Optimize chosen structure to saddle point using **```opt=TS```** or **```opt=QST3```** and verify with a frequency calculation that there is a single imaginary frequency\n",
    "5. With the optimized TS structure, run an intrinsic reaction coordinate (IRC) calculation that follows the reaction coordinate to verify that the discovered TS connects the reactant and product\n",
    "6. Optimize the endpoints from the IRC calculation to ensure that each structure is stable\n",
    "\n"
   ]
  },
  {
   "cell_type": "markdown",
   "metadata": {},
   "source": [
    "### Single Point Energies in Gaussian (PM6)\n",
    "<br>\n",
    "\n",
    "| PM6                          | Reactant  | Transition State | Product   |\n",
    "|-----                         |---------- |----              |------     |\n",
    "|Single Point Energy (kcal/mol)| 3.928616\\*  | 9.794668         | 5.45046   |\n",
    "\n",
    "<div align=\"middle\">\\*Multiplicity = 4</div>\n",
    "<br>\n",
    "<br>\n",
    "\n",
    "---"
   ]
  },
  {
   "cell_type": "markdown",
   "metadata": {},
   "source": [
    "## Potential Energy Diagram\n",
    "### MP2(full)/6-31g(d)   ( *B3LYP/6-31g(d)* )\n",
    "![](RXN_diagram.png)\n",
    "\n",
    "\n",
    "<br>\n",
    "\n",
    "**Picture**: Chen, C.-J.; Bozzelli, J. W. Thermochemical Property, Pathway and Kinetic Analysis on the Reactions of Allylic Isobutenyl Radical with O 2 :  an Elementary Reaction Mechanism for Isobutene Oxidation. *The Journal of Physical Chemistry A* **2000**, *104* (43), 9715–9732.\n",
    "\n",
    "---"
   ]
  },
  {
   "cell_type": "markdown",
   "metadata": {},
   "source": [
    "## Next Steps\n",
    "- Rerun Gaussian calculations with multiplicity of 4 (triplet oxygen + isobutenyl radical)\n",
    "- Explore more of the reaction network with more runs with 1 and 5 kJ/mol hill heights and a tighter upper wall on the radius of gyration (currently at 0.35 nm)\n",
    "    - Possibly increase temperature to 1000 K\n",
    "- Test different multiplicities in CP2K\n"
   ]
  },
  {
   "cell_type": "code",
   "execution_count": null,
   "metadata": {
    "collapsed": true
   },
   "outputs": [],
   "source": []
  }
 ],
 "metadata": {
  "anaconda-cloud": {},
  "kernelspec": {
   "display_name": "Python [conda root]",
   "language": "python",
   "name": "conda-root-py"
  },
  "language_info": {
   "codemirror_mode": {
    "name": "ipython",
    "version": 2
   },
   "file_extension": ".py",
   "mimetype": "text/x-python",
   "name": "python",
   "nbconvert_exporter": "python",
   "pygments_lexer": "ipython2",
   "version": "2.7.12"
  }
 },
 "nbformat": 4,
 "nbformat_minor": 1
}
