{
 "cells": [
  {
   "cell_type": "markdown",
   "metadata": {},
   "source": [
    "<small><i>This notebook was put together by [Wesley Beckner](http://wesleybeckner.github.io/).</i></small>"
   ]
  },
  {
   "cell_type": "code",
   "execution_count": 1,
   "metadata": {
    "collapsed": false
   },
   "outputs": [],
   "source": [
    "import openbabel as obabel\n",
    "import babel\n",
    "import pybel\n",
    "import pandas as pd\n",
    "import matplotlib.pyplot as plt\n",
    "import numpy as np\n",
    "import itertools as it\n",
    "from sklearn.linear_model import LassoLarsIC\n",
    "from sklearn.linear_model import Lasso\n",
    "import pychem \n",
    "from pychem.pychem import PyChem2d, PyChem3d\n",
    "from __future__ import print_function\n",
    "import numpy.linalg as LINA\n",
    "from rdkit import Chem\n",
    "from rdkit.Chem import AllChem\n",
    "from sklearn.preprocessing import StandardScaler\n",
    "%matplotlib inline\n",
    "\n",
    "plt.rc(\"figure\", facecolor=\"white\")\n",
    "\n",
    "params = {\n",
    "    'lines.markersize' : 10,\n",
    "    'axes.labelsize': 20,\n",
    "    'font.size': 20,\n",
    "    'legend.fontsize': 20,\n",
    "    'xtick.labelsize': 20,\n",
    "    'ytick.labelsize': 20,\n",
    "    'text.usetex': False,\n",
    "   }\n",
    "\n",
    "tableau20 = [(31, 119, 180), (174, 199, 232), (255, 127, 14), (255, 187, 120),    \n",
    "             (44, 160, 44), (152, 223, 138), (214, 39, 40), (255, 152, 150),    \n",
    "             (148, 103, 189), (197, 176, 213), (140, 86, 75), (196, 156, 148),    \n",
    "             (227, 119, 194), (247, 182, 210), (127, 127, 127), (199, 199, 199),    \n",
    "             (188, 189, 34), (219, 219, 141), (23, 190, 207), (158, 218, 229)]   \n"
   ]
  },
  {
   "cell_type": "markdown",
   "metadata": {},
   "source": [
    "# This notebook creates forcefield files for solvents simulated in GROMACS "
   ]
  },
  {
   "cell_type": "markdown",
   "metadata": {},
   "source": [
    "[rdDistGeom](http://www.rdkit.org/docs/api/rdkit.Chem.rdDistGeom-module.html#ETKDG)\n",
    "\n",
    "[rdForceFieldHelpers](http://www.rdkit.org/Python_Docs/rdkit.Chem.rdForceFieldHelpers-module.html)"
   ]
  },
  {
   "cell_type": "code",
   "execution_count": 4,
   "metadata": {
    "collapsed": false
   },
   "outputs": [],
   "source": [
    "from rdkit import Chem\n",
    "from rdkit.Chem import AllChem\n",
    "m = Chem.MolFromSmiles('CCCCN1C=C[N+](=C1)C') # create molecule from smiles\n",
    "m3=Chem.AddHs(m) #add hydrogens\n",
    "AllChem.EmbedMolecule(m3) # geom optimization\n",
    "AllChem.UFFOptimizeMolecule(m3) # ff optimization\n",
    "a = Chem.PDBWriter('BMIM.pdb') # write pdb\n",
    "a.write(m3)"
   ]
  },
  {
   "cell_type": "markdown",
   "metadata": {},
   "source": [
    "# To get RDKit up on Hyak\n",
    "\n",
    "1. qsub -I -q build -l walltime=4:00:00\n",
    "2. module load anaconda_2.4\n",
    "3. conda create -n my_root --clone=/sw/anaconda-2.4.0\n",
    "    * creates a copy of the anaconda install in the .conda directory in your home directory.\n",
    "4. source activate my_root\n",
    "    * allows you to activate your clone of the anaconda.\n",
    "5. conda install rdkit\n",
    "    * installs rdkit in your clone of anaconda.\n",
    "    \n",
    "Later, whenever you want to use dask using python at the command line or in your PBS scripts, issue below commands:\n",
    "\n",
    "1. module load anaconda_2.4\n",
    "\n",
    "2. source activate my_root"
   ]
  },
  {
   "cell_type": "markdown",
   "metadata": {},
   "source": [
    "# The cell below is for Chris, don't worry about it"
   ]
  },
  {
   "cell_type": "code",
   "execution_count": 8,
   "metadata": {
    "collapsed": false
   },
   "outputs": [
    {
     "data": {
      "text/plain": [
       "'[H]O[C]([H])[C]([H])[H]'"
      ]
     },
     "execution_count": 8,
     "metadata": {},
     "output_type": "execute_result"
    }
   ],
   "source": [
    "from rdkit import Chem\n",
    "from rdkit.Chem import AllChem\n",
    "m = Chem.MolFromSmiles('[CH2][CH][OH]') # create molecule from smiles\n",
    "m3=Chem.AddHs(m) #add hydrogens\n",
    "AllChem.EmbedMolecule(m3) # geom optimization\n",
    "AllChem.UFFOptimizeMolecule(m3) # ff optimization\n",
    "a = Chem.PDBWriter('CCO.pdb') # write pdb\n",
    "a.write(m3)\n",
    "m4 = Chem.MolFromPDBFile('CCO.pdb')\n",
    "m4=Chem.AddHs(m) #add hydrogens\n",
    "AllChem.EmbedMolecule(m4) # geom optimization\n",
    "AllChem.UFFOptimizeMolecule(m4) # ff optimization\n",
    "AllChem.MolToSmiles(m4)"
   ]
  }
 ],
 "metadata": {
  "kernelspec": {
   "display_name": "Python 2",
   "language": "python",
   "name": "python2"
  },
  "language_info": {
   "codemirror_mode": {
    "name": "ipython",
    "version": 2
   },
   "file_extension": ".py",
   "mimetype": "text/x-python",
   "name": "python",
   "nbconvert_exporter": "python",
   "pygments_lexer": "ipython2",
   "version": "2.7.12"
  }
 },
 "nbformat": 4,
 "nbformat_minor": 0
}
