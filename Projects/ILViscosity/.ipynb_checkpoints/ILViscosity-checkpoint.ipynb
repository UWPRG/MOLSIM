{
 "cells": [
  {
   "cell_type": "markdown",
   "metadata": {},
   "source": [
    "# IL Viscosity Project\n",
    "\n",
    "We would like to combine MD, experiment, and ML to design solvents with desired properties. In this case, we are using ionic liquids--candidates as solvents in flow batteries--to motivate the viability of this pipeline.\n",
    "\n",
    "Wes has created a viscosity calculation pipeline for ionic liquids. We need to run them salts through it! The objectives for this project are:\n",
    "\n",
    "1. generate topologies for a broad range of salts for which we have experimental values of viscosity for at 350K\n",
    "\n",
    "2. run these through the pipeline\n",
    "\n",
    "3. generate parity plot(s) of experimental viscosity versus our calculation\n",
    "\n",
    "4. identify patterns. Are some salts/cations/anions being calculated better than others? should we address other kinds of salts? other temperatures?"
   ]
  },
  {
   "cell_type": "code",
   "execution_count": null,
   "metadata": {
    "collapsed": true
   },
   "outputs": [],
   "source": []
  }
 ],
 "metadata": {
  "kernelspec": {
   "display_name": "Python 2",
   "language": "python",
   "name": "python2"
  },
  "language_info": {
   "codemirror_mode": {
    "name": "ipython",
    "version": 2
   },
   "file_extension": ".py",
   "mimetype": "text/x-python",
   "name": "python",
   "nbconvert_exporter": "python",
   "pygments_lexer": "ipython2",
   "version": "2.7.11"
  }
 },
 "nbformat": 4,
 "nbformat_minor": 0
}
