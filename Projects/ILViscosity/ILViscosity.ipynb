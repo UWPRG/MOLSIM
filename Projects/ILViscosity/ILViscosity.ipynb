{
 "cells": [
  {
   "cell_type": "markdown",
   "metadata": {},
   "source": [
    "# IL Viscosity Project\n",
    "\n",
    "There has been a push to create a genome-like organization of materials knowledge to accelerate their discovery. Few publications, however, have applied their efforts in the rational design of liquids and materials databases are largely restricted to crystalline solids. Liquid materials are becoming more relevant with the advent of pressing societal challenges such as renewable energy and climate change (think flow batteries, solvents for catalysis, liquid fuels, solar-thermal energy, etc.). To spearhead efforts to bring liquid/solvent design up to speed, we would like to demonstrate model training on an ionic liquid database coupled with MD to design solvents computationally in an iterative, automated approach. We will combine MD, experiment, and ML to design solvents with desired properties. In this case, we are using ionic liquids--candidates as solvents in flow batteries--to motivate the viability of this pipeline.\n",
    "\n",
    "Wes has created a viscosity calculation pipeline for ionic liquids. We need to run them salts through it! The objectives for this project are:\n",
    "\n",
    "1. generate topologies for a broad range of salts for which we have experimental values of viscosity for at 350K\n",
    "\n",
    "2. run these through the pipeline\n",
    "\n",
    "3. generate parity plot(s) of experimental viscosity versus our calculation\n",
    "\n",
    "4. identify patterns. Are some salts/cations/anions being calculated better than others? should we address other kinds of salts? other temperatures?"
   ]
  },
  {
   "cell_type": "code",
   "execution_count": null,
   "metadata": {
    "collapsed": true
   },
   "outputs": [],
   "source": []
  }
 ],
 "metadata": {
  "kernelspec": {
   "display_name": "Python 2",
   "language": "python",
   "name": "python2"
  },
  "language_info": {
   "codemirror_mode": {
    "name": "ipython",
    "version": 2
   },
   "file_extension": ".py",
   "mimetype": "text/x-python",
   "name": "python",
   "nbconvert_exporter": "python",
   "pygments_lexer": "ipython2",
   "version": "2.7.11"
  }
 },
 "nbformat": 4,
 "nbformat_minor": 0
}
