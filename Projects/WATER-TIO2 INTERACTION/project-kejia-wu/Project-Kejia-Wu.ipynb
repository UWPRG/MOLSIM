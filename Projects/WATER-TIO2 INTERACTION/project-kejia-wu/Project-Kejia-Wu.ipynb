{
 "cells": [
  {
   "cell_type": "markdown",
   "metadata": {},
   "source": [
    "## Project Overview  \n",
    "Analyze the contact angle, and water conformation on TiO2 slab in three different force fields :nonbonded and bonded by Lyubartsev and Machesky.  \n",
    "\n",
    "(Actually there are only two forcefields after double-checking the papers.)"
   ]
  },
  {
   "cell_type": "markdown",
   "metadata": {},
   "source": [
    "## Simulation to Do  \n",
    "Contact angles will be computed using MD simulation of 200 water molecules in the NVT ensemble at 298.15 K on TiO2 surfaces. Two different force fields will be employed. The water molecules will be initially placed in a cylindrical configuration. The dimensions of the surfaces are ~5×5 nm2 to allow spreading of water molecules and avoid interactions with periodic images. The total simulation time are 3 ns, of which the first 1 ns serves for equilibration and the last 2 ns are used to collect data. The obtained trajectories of superficial water will be visualized using the VMD graphical interface and superimposed to obtain a statistically averaged geometry of the water droplets formed. Contact angles will be graphically analyzed from rendered images."
   ]
  },
  {
   "cell_type": "markdown",
   "metadata": {},
   "source": [
    "## Generate Cylindrical Water  \n",
    "* First, I generate a box of water using \"gmx solvate\" to specify -cs spc216.gro and -box (5 5 5). After getting a cubic water box with radius=5nm, I put it into VMD to cut out a circular piece in the center of xy-plane and check the number of water molecules is around 200.  \n",
    "\n",
    "<img src=\"pictures/water_cubic.png\">\n",
    "\n",
    "<img src=\"pictures/water_cylinder.png\">\n",
    "\n",
    "Also, we can use packmol to generate a cylinder conveniently:  \n",
    "\n",
    "inside cylinder  a1  b1  c1  a2  b2  c2  d  l \n",
    "\n",
    "(a1 b1 c1) define the point where the cylinder starts. The orientation of the cylinder, parallel to which line is defined by the director vector (a2 b2 c2), the fourth, fifth and sixth parameters. And l defines the length of the cylinder. d defines de radius of the cylinder.  \n",
    "\n",
    "inside cylinder 0. 0. 0. 1. 0. 0. 10. 20. \n"
   ]
  },
  {
   "cell_type": "markdown",
   "metadata": {},
   "source": [
    "## Merge the Surface and Water  \n",
    "* First, I tried to put the water cylinder close to the surface and merged these two files using the command Kayla told us^^. So we got a new file called merged.pdb. Note that don't forget to modify the topol.top file to include the water molecules in [ molecules ] in the same order as that in merged.pdb.  \n",
    "\n",
    "<img src=\"pictures/merged.png\">\n",
    "\n",
    "<img src=\"pictures/topol.png\">"
   ]
  },
  {
   "cell_type": "markdown",
   "metadata": {},
   "source": [
    "## Run the Simulation\n",
    "\n",
    "### Do the energy minimization.\n",
    "\n",
    "#### 1. Error I got:\n",
    "\n",
    "After em, I got the state like this:\n",
    "\n",
    "<img src=\"pictures/em_nofreezing.png\">\n",
    "\n",
    "#### 2. Solutions I tried:\n",
    "\n",
    "- In light of the corruption of the surface layer, I tried freezing the surface in em.mdp file.  \n",
    "\n",
    "freezegrps     = TIO  \n",
    "freezedim      = Y Y Y"
   ]
  },
  {
   "cell_type": "markdown",
   "metadata": {},
   "source": [
    "### Do the NVT.\n",
    "\n",
    "I ran mdrun to simulate the system in NVT ensemble (since our simulation should be under vacuum conditions). However, I made a mistake here and I tried to find out and solve it as follows:\n",
    "\n",
    "#### 1. Error I got:\n",
    "\n",
    "while NVT simulation, it was interrupted and showed error below:\n",
    "\n",
    "<img src=\"pictures/LINCS_warnings.png\">\n",
    "\n",
    "and I googled and asked Coco and Wesley to find out that it was probably because ** the system energy was too high**.\n",
    "\n",
    "\n",
    "#### 2. Solutions I tried:\n",
    "\n",
    "- I first tried to move the water somehow away from the surface twice to see if the whole energy would be lower.  \n",
    "Failed :(\n",
    "\n",
    "\n",
    "- Then I tried to do the em for either water cube or water cylinder first and then merged the system.  \n",
    "Failed again :(\n",
    "\n",
    "\n",
    "- At last! Finally! I tried to visualize the em.gro file to check the status of the whole system after em. Surprisingly, the water got through the surface like this:\n",
    "\n",
    "<img src=\"pictures/error_em.png\">\n",
    "\n",
    "    And I used \"pbc box\" in vmd to see if my box was not big enough for the system.\n",
    "    \n",
    "    And I checked my merged.pdb file to find out that I didn't change the box size (especially the height) after combining the system. That's the problem."
   ]
  },
  {
   "cell_type": "markdown",
   "metadata": {},
   "source": [
    "** Note: It's different from the tutorial or what we have done before, which is, defining a box and filling it with solvent where the box size would remain.**"
   ]
  },
  {
   "cell_type": "markdown",
   "metadata": {},
   "source": [
    "### Do the NVT simulation. \n",
    "\n",
    "Change the nsteps in nvt.mdp file to set the whole simulation time as 3ns. When it's done, I used trjconv to account for any periodicity in the system.  \n",
    "（The protein will diffuse through the unit cell, and may appear to \"jump\" across to the other side of the box.）\n",
    "\n",
    "gmx trjconv -s nvt.tpr -f nvt.xtc -o nvt_noPBC.xtc -pbc mol -ur compact"
   ]
  },
  {
   "cell_type": "markdown",
   "metadata": {},
   "source": [
    "### Contact Angle.\n",
    "\n",
    "** Both are 0 for bonded and nonbonded forcefields!**\n",
    "\n",
    "I got an ideal representation of nonbonded forcefield, where the water just quickly spread out on the surface of TIO2 within the first 1ns. However, some weird phenomena were observed of bonded forcefield.\n",
    "\n",
    "** Bonded Forcefield**\n",
    "\n",
    "<img src=\"pictures/bonded_per.png\">"
   ]
  },
  {
   "cell_type": "markdown",
   "metadata": {},
   "source": [
    "Then, I tried to rise the height of the box from 7nm to 10nm and that worked!\n",
    "\n",
    "Buttt I'm still not pretty sure why LOL..\n",
    "\n",
    "<img src=\"pictures/bonded_done.png\">"
   ]
  },
  {
   "cell_type": "markdown",
   "metadata": {},
   "source": [
    "** Nonbonded Forcefield**\n",
    "\n",
    "<img src=\"pictures/nbonded_done.png\">"
   ]
  },
  {
   "cell_type": "markdown",
   "metadata": {},
   "source": [
    "### Another Question about # Frames"
   ]
  },
  {
   "cell_type": "markdown",
   "metadata": {},
   "source": [
    "Like, I got 77 frames at last in vmd and I wanted to generated more frames to show the whole simulation process more continuously. So I tried to shrink my \"nstxout\" (number of steps that elapse between writing coordinates to output trajectory file) and \"nstxtcout\" (frequency to write coordinates to xtc trajectory?) from 10000 to 100/from 20000 to 200 respectively. However the number of frames remains the same. \n",
    "\n",
    "<img src=\"pictures/output freq.png\">\n",
    "\n",
    "Then I tried to reduce a hundredfold of \"nstlog\" and \"nstenergy\" simultaneously. It worked! (Why?) But the number of frames seems just doubled or tripled actually..  \n",
    "\n",
    "Q: How to control # Frames accurately? "
   ]
  },
  {
   "cell_type": "markdown",
   "metadata": {},
   "source": [
    "## Future work  \n",
    "\n",
    "1. Even though both of our contact angles are zero, I want to find out if they're not, how to calculate them theoretically.  \n",
    "\n",
    "    Possible Methods: \"The contact angle was determined by computing water density maps in the plane of the center of mass of the drop. The curve with a density equal to half of Fb was then fit to a circle, and the angle between the tangent to this circle at zS = 7 Å and the horizontal axis was taken to be the contact angle.\"  \n",
    "\n",
    "    *Molecular Explanation for Why Talc Surfaces Can Be Both Hydrophilic and Hydrophobic Benjamin Rotenberg,*,† Amish J. Patel,‡ and David Chandler§*  \n",
    "\n",
    "2. Find some experimental results from papers to verify my simulation.\n",
    "\n",
    "3. Make a movie of the trajectories."
   ]
  },
  {
   "cell_type": "code",
   "execution_count": null,
   "metadata": {
    "collapsed": true
   },
   "outputs": [],
   "source": []
  }
 ],
 "metadata": {
  "anaconda-cloud": {},
  "kernelspec": {
   "display_name": "Python [conda root]",
   "language": "python",
   "name": "conda-root-py"
  },
  "language_info": {
   "codemirror_mode": {
    "name": "ipython",
    "version": 3
   },
   "file_extension": ".py",
   "mimetype": "text/x-python",
   "name": "python",
   "nbconvert_exporter": "python",
   "pygments_lexer": "ipython3",
   "version": "3.5.2"
  }
 },
 "nbformat": 4,
 "nbformat_minor": 2
}
