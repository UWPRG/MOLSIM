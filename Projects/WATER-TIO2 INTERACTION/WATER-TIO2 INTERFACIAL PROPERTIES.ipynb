{
 "cells": [
  {
   "cell_type": "markdown",
   "metadata": {},
   "source": [
    "# WATER-TIO2 INTERFACIAL PROPERTIES\n",
    "#### Analyze the contact angle, and water conformation on TiO2 slab in three different force fields :nonbonded and bonded by  Lyubartsev and Machesky"
   ]
  },
  {
   "cell_type": "markdown",
   "metadata": {},
   "source": [
    "## Paper to read\n",
    "[1] Pedota, M., Bandura, A. V, Cummings, P. T., Kubicki, J. D., Wesolowski, D. J., Chialvo, A. A., … Pr, M. (2004). Electric Double Layer at the Rutile ( 110 ) Surface . 1 . Structure of Surfaces and Interfacial Water from Molecular Dynamics by Use of ab Initio Potentials Electric Double Layer at the Rutile ( 110 ) Surface . 1 . Structure of Surfaces and Interfacial Wa. J. Phys. Chem. B, (110), 12049–12060. http://doi.org/10.1021/jp037197c  \n",
    "[2] Brandt, E. G., & Lyubartsev, A. P. (2015). Systematic Optimization of a Force Field for Classical Simulations of TiO<inf>2</inf>-Water Interfaces. Journal of Physical Chemistry C, 119(32), 18110–18125.   http://doi.org/10.1021/acs.jpcc.5b02669   \n",
    "[3] Emami, F. S., Puddu, V., Berry, R. J., Varshney, V., Patwardhan, S. V., Perry, C. C., & Heinz, H. (2014). Force field and a surface model database for silica to simulate interfacial properties in atomic resolution. Chemistry of Materials, 26(8), 2647–2658. http://doi.org/10.1021/cm500365c"
   ]
  },
  {
   "cell_type": "markdown",
   "metadata": {},
   "source": [
    "## Simulation to do\n",
    "Contact angles will be computed using MD simulation of 200 water molecules in the NVT ensemble at 298.15 K on TiO2 surfaces. 3 different force fields will be employed. The water molecules will be initially placed in a cylindrical configuration. The dimensions of the surfaces are ~5×5 nm2 to allow spreading of water molecules and avoid interactions with periodic images. The total simulation time are 3 ns, of which the first 1 ns serves for equilibration and the last 2 ns are used to collect data. The obtained trajectories of superficial water will be visualized using the VMD graphical interface and superimposed to obtain a statistically averaged geometry of the water droplets formed. Contact angles will be graphically analyzed from rendered images."
   ]
  },
  {
   "cell_type": "code",
   "execution_count": null,
   "metadata": {
    "collapsed": true
   },
   "outputs": [],
   "source": []
  }
 ],
 "metadata": {
  "anaconda-cloud": {},
  "kernelspec": {
   "display_name": "Python [conda root]",
   "language": "python",
   "name": "conda-root-py"
  },
  "language_info": {
   "codemirror_mode": {
    "name": "ipython",
    "version": 3
   },
   "file_extension": ".py",
   "mimetype": "text/x-python",
   "name": "python",
   "nbconvert_exporter": "python",
   "pygments_lexer": "ipython3",
   "version": "3.5.2"
  }
 },
 "nbformat": 4,
 "nbformat_minor": 1
}
