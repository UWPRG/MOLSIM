{
 "cells": [
  {
   "cell_type": "markdown",
   "metadata": {},
   "source": [
    "# Molecular Simulations and Supercomputing/Parallel Computing\n",
    "_Fundamentals of Molecular Simulations - Week 3 - 1/25/19_"
   ]
  },
  {
   "cell_type": "code",
   "execution_count": 1,
   "metadata": {
    "collapsed": true
   },
   "outputs": [],
   "source": [
    "import numpy as np\n",
    "import matplotlib.pyplot as plt\n",
    "\n",
    "%matplotlib inline"
   ]
  },
  {
   "cell_type": "markdown",
   "metadata": {},
   "source": [
    "# Amdahl's Law\n",
    "\n",
    "In the case of no parallelization, the execution time can be written as\n",
    "\n",
    "$$t_1 = S + P$$\n",
    "\n",
    "where $S$ is the execution time of serial code and $P$ is execution time of parallelizable code. $P$ can be reduced by adding more cores, i.e., divided by the number of cores to get\n",
    "\n",
    "$$t_N = S + \\frac{P}{N}$$\n",
    "\n",
    "where $N$ is the number of cores. If we let $t = S + P = 1$ such that $S$ and $P$ are now fractions of serial and parallelizable code, respectively, we can take the ratio of the first two equations to calculate the speed up from parallelization:\n",
    "\n",
    "$$Speed\\ up = \\frac{t_1}{t_N} = \\frac{S + P}{S + \\frac{P}{N}} = \\frac{1}{S + \\frac{P}{N}}$$\n",
    "\n",
    "Then let $N\\to\\infty$ and we get\n",
    "\n",
    "$$\\lim_{N\\to\\infty} \\Bigg(\\frac{1}{S + \\frac{P}{N}}\\Bigg) = \\frac{1}{S}$$\n",
    "\n",
    "Which just shows that the biggest speed up any code can achieve is heavily limited by the fraction of serial code."
   ]
  },
  {
   "cell_type": "markdown",
   "metadata": {},
   "source": [
    "## Let's code this example up!\n",
    "\n",
    "First, write the function that calculates the \"speed up\""
   ]
  },
  {
   "cell_type": "code",
   "execution_count": null,
   "metadata": {
    "collapsed": true
   },
   "outputs": [],
   "source": []
  },
  {
   "cell_type": "markdown",
   "metadata": {},
   "source": [
    "### What would the speed up be for a code that is 90% serial that is run on 4 cores?"
   ]
  },
  {
   "cell_type": "code",
   "execution_count": null,
   "metadata": {
    "collapsed": true
   },
   "outputs": [],
   "source": []
  },
  {
   "cell_type": "markdown",
   "metadata": {},
   "source": [
    "### How about 50%? 10%? 1%?"
   ]
  },
  {
   "cell_type": "code",
   "execution_count": null,
   "metadata": {
    "collapsed": true
   },
   "outputs": [],
   "source": []
  },
  {
   "cell_type": "markdown",
   "metadata": {},
   "source": [
    "### Now recreate this plot for N = 4, 16, and 100.\n",
    "\n",
    "Be sure to include a legend and label the axes.\n",
    "\n",
    "<img src='amdahl.png' width=500>\n",
    "\n",
    "**Hint:** You can pass a `np.array()` to `speed_up()` and it will return another array with the same shape."
   ]
  },
  {
   "cell_type": "code",
   "execution_count": null,
   "metadata": {
    "collapsed": true
   },
   "outputs": [],
   "source": []
  },
  {
   "cell_type": "markdown",
   "metadata": {},
   "source": [
    "# Scaling a simulation for production runs"
   ]
  },
  {
   "cell_type": "markdown",
   "metadata": {},
   "source": [
    "You always want to compare performance for many different parallel architectures. You take your full system and run it for a short amount of time to get an idea of the speed of the simulation.\n",
    "\n",
    "Here is a table that should be filled out for a production run on Ikt, where there are 16 cores/node:\n",
    "\n",
    "<img src=\"example_scaling.png\" width=800>\n",
    "<!---\n",
    "|Number of walkers|Nodes|MPI ranks/walker|OpenMP threads/rank|ns/day|\n",
    "|-- |-- |-- |-- |\n",
    "|1 |1 |16 |1 | ?|\n",
    "|1 |1 |8 |2 | ?|\n",
    "|1 |1 |4 |4 | ?|\n",
    "|1 |1 |2 |8 | ?|\n",
    "|1 |1 |1 |16 | ?|\n",
    "|2 |2 |32 |1 | ?|\n",
    "|2 |2 |16 |2 | ?|\n",
    "|2 |2 |8 |4 | ?|\n",
    "|2 |2 |4 |6 | ?|\n",
    "|2 |2 |2 |8 | ?|\n",
    "--->"
   ]
  }
 ],
 "metadata": {
  "kernelspec": {
   "display_name": "Python 3",
   "language": "python",
   "name": "python3"
  },
  "language_info": {
   "codemirror_mode": {
    "name": "ipython",
    "version": 3
   },
   "file_extension": ".py",
   "mimetype": "text/x-python",
   "name": "python",
   "nbconvert_exporter": "python",
   "pygments_lexer": "ipython3",
   "version": "3.6.2"
  }
 },
 "nbformat": 4,
 "nbformat_minor": 2
}
