{
 "cells": [
  {
   "cell_type": "markdown",
   "metadata": {},
   "source": [
    "# Linux and Coding Basics\n",
    "\n",
    "# Linux and Bash\n",
    "## 1. Useful command\n",
    "### pwd       \n",
    "Write full path of the current working directory  \n",
    "### ls           \n",
    "Show all major directories and files under a given file system  \n",
    "### cd          \n",
    "Change directory  \n",
    "### mv         \n",
    "Move  \n",
    "### mkdir    \n",
    "Make directory  \n",
    "### rm         \n",
    "Remove  \n",
    "### clear    \n",
    "Clear the screen  \n",
    "# More\n",
    "https://linuxconfig.org/bash-scripting-tutorial-for-beginners\n",
    "\n",
    "\n",
    "# Git and (version control)\n",
    "### git pull\n",
    "### nano HW1_YOURNAME.txt\n",
    "### git add HW1_YOURNAME.txt\n",
    "### git commit -m \"homework 1\"\n",
    "### git push\n",
    "### git rm HW1_YOURNAME.txt\n",
    "### git commit -m \"remove homework1 1\"\n",
    "![alt text](./fig1.png)\n",
    "# More:\n",
    "https://git-scm.com/about\n",
    "https://www.youtube.com/watch?v=0fKg7e37bQE\n",
    "\n",
    "\n",
    "# Now come back and play with more Bash!\n",
    "\n",
    "## tail and head\n",
    "### tail -2 conf.gro | head -1"
   ]
  },
  {
   "cell_type": "code",
   "execution_count": null,
   "metadata": {
    "collapsed": true
   },
   "outputs": [],
   "source": []
  },
  {
   "cell_type": "markdown",
   "metadata": {},
   "source": [
    "# Python Tutorial \n"
   ]
  },
  {
   "cell_type": "markdown",
   "metadata": {},
   "source": [
    "# More:\n",
    "## Python:\n",
    "https://docs.python.org/3/tutorial/\n",
    "https://python.swaroopch.com/\n",
    "## Numpy:\n",
    "http://www.numpy.org/\n",
    "## "
   ]
  }
 ],
 "metadata": {
  "anaconda-cloud": {},
  "kernelspec": {
   "display_name": "Python [conda env:anaconda3]",
   "language": "python",
   "name": "conda-env-anaconda3-py"
  },
  "language_info": {
   "codemirror_mode": {
    "name": "ipython",
    "version": 3
   },
   "file_extension": ".py",
   "mimetype": "text/x-python",
   "name": "python",
   "nbconvert_exporter": "python",
   "pygments_lexer": "ipython3",
   "version": "3.5.5"
  }
 },
 "nbformat": 4,
 "nbformat_minor": 1
}
