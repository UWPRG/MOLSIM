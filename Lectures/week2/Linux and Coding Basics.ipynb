{
 "cells": [
  {
   "cell_type": "markdown",
   "metadata": {},
   "source": [
    "# Linux and Coding Basics\n",
    "\n",
    "# Linux and Bash\n",
    "## 1. Useful command\n",
    "### pwd       \n",
    "Write full path of the current working directory  \n",
    "### ls           \n",
    "Show all major directories and files under a given file system  \n",
    "### cd          \n",
    "Change directory  \n",
    "### mv         \n",
    "Move  \n",
    "### mkdir    \n",
    "Make directory  \n",
    "### rm         \n",
    "Remove  \n",
    "### clear    \n",
    "Clear the screen  \n",
    "# More\n",
    "https://linuxconfig.org/bash-scripting-tutorial-for-beginners\n",
    "\n",
    "\n",
    "# Git and (version control)\n",
    "### git pull\n",
    "### nano HW1_YOURNAME.txt\n",
    "### git add HW1_YOURNAME.txt\n",
    "### git commit -m \"homework 1\"\n",
    "### git push\n",
    "### git rm HW1_YOURNAME.txt\n",
    "### git commit -m \"remove homework1 1\"\n",
    "![alt text](./fig1.png)\n",
    "# More:\n",
    "https://git-scm.com/about  \n",
    "https://www.youtube.com/watch?v=0fKg7e37bQE\n",
    "\n",
    "\n",
    "# Now come back and play with more Bash!\n",
    "\n",
    "## tail and head"
   ]
  },
  {
   "cell_type": "code",
   "execution_count": 97,
   "metadata": {
    "collapsed": false
   },
   "outputs": [
    {
     "name": "stdout",
     "output_type": "stream",
     "text": [
      "  856NA      NA 3726   1.598   0.573   4.909 -0.5019  0.1682  0.6325\n"
     ]
    }
   ],
   "source": [
    "%%bash\n",
    "tail -2 confout0.gro | head -1"
   ]
  },
  {
   "cell_type": "markdown",
   "metadata": {},
   "source": [
    "# Scripting\n",
    "## sed awk grep"
   ]
  },
  {
   "cell_type": "code",
   "execution_count": 113,
   "metadata": {
    "collapsed": false
   },
   "outputs": [
    {
     "name": "stdout",
     "output_type": "stream",
     "text": [
      "\n"
     ]
    }
   ],
   "source": [
    "%%bash\n",
    "nmol=`tail -2 confout0.gro | head -1 | awk '{print $2}' | sed \"s/[[:alpha:].-]/ /g\" | awk '{print $1}'`\n",
    "echo $nmol"
   ]
  },
  {
   "cell_type": "code",
   "execution_count": 106,
   "metadata": {
    "collapsed": false
   },
   "outputs": [
    {
     "name": "stdout",
     "output_type": "stream",
     "text": [
      "856\n"
     ]
    }
   ],
   "source": [
    "%%bash\n",
    "nmol=`tail -2 confout0.gro | head -1 | awk '{print $1}' | sed \"s/[[:alpha:].-]/ /g\"`\n",
    "echo $nmol"
   ]
  },
  {
   "cell_type": "markdown",
   "metadata": {},
   "source": [
    "# Break it down"
   ]
  },
  {
   "cell_type": "code",
   "execution_count": 111,
   "metadata": {
    "collapsed": false
   },
   "outputs": [
    {
     "name": "stdout",
     "output_type": "stream",
     "text": [
      "856NA\n",
      "856\n"
     ]
    }
   ],
   "source": []
  },
  {
   "cell_type": "markdown",
   "metadata": {},
   "source": [
    "# Python Tutorial \n"
   ]
  },
  {
   "cell_type": "code",
   "execution_count": 1,
   "metadata": {
    "collapsed": false
   },
   "outputs": [
    {
     "data": {
      "text/plain": [
       "6892"
      ]
     },
     "execution_count": 1,
     "metadata": {},
     "output_type": "execute_result"
    }
   ],
   "source": [
    "1234+(5678-20)"
   ]
  },
  {
   "cell_type": "code",
   "execution_count": 5,
   "metadata": {
    "collapsed": true
   },
   "outputs": [],
   "source": [
    "import numpy as np"
   ]
  },
  {
   "cell_type": "code",
   "execution_count": 7,
   "metadata": {
    "collapsed": false
   },
   "outputs": [
    {
     "data": {
      "text/plain": [
       "1.4142135623730951"
      ]
     },
     "execution_count": 7,
     "metadata": {},
     "output_type": "execute_result"
    }
   ],
   "source": [
    "numpy.sqrt(2)"
   ]
  },
  {
   "cell_type": "code",
   "execution_count": 8,
   "metadata": {
    "collapsed": false
   },
   "outputs": [
    {
     "data": {
      "text/plain": [
       "0.9092974268256817"
      ]
     },
     "execution_count": 8,
     "metadata": {},
     "output_type": "execute_result"
    }
   ],
   "source": [
    "numpy.sin(2)"
   ]
  },
  {
   "cell_type": "code",
   "execution_count": 9,
   "metadata": {
    "collapsed": false
   },
   "outputs": [
    {
     "data": {
      "text/plain": [
       "4"
      ]
     },
     "execution_count": 9,
     "metadata": {},
     "output_type": "execute_result"
    }
   ],
   "source": [
    "a = 1\n",
    "a = a + 3\n",
    "a"
   ]
  },
  {
   "cell_type": "code",
   "execution_count": 12,
   "metadata": {
    "collapsed": false
   },
   "outputs": [
    {
     "data": {
      "text/plain": [
       "[1, 3, 4, 5]"
      ]
     },
     "execution_count": 12,
     "metadata": {},
     "output_type": "execute_result"
    }
   ],
   "source": [
    "a = [1,3,4,5]\n",
    "a"
   ]
  },
  {
   "cell_type": "code",
   "execution_count": 17,
   "metadata": {
    "collapsed": false
   },
   "outputs": [
    {
     "data": {
      "text/plain": [
       "[1, 3, 4, 5, 3, 3, 2, 2, 2]"
      ]
     },
     "execution_count": 17,
     "metadata": {},
     "output_type": "execute_result"
    }
   ],
   "source": [
    "a.append(2)\n",
    "a"
   ]
  },
  {
   "cell_type": "code",
   "execution_count": 21,
   "metadata": {
    "collapsed": false
   },
   "outputs": [
    {
     "data": {
      "text/plain": [
       "[1, 3, 2, 2, 2]"
      ]
     },
     "execution_count": 21,
     "metadata": {},
     "output_type": "execute_result"
    }
   ],
   "source": [
    "a.pop(2)\n",
    "a"
   ]
  },
  {
   "cell_type": "code",
   "execution_count": 23,
   "metadata": {
    "collapsed": false
   },
   "outputs": [
    {
     "data": {
      "text/plain": [
       "array([1, 2, 3])"
      ]
     },
     "execution_count": 23,
     "metadata": {},
     "output_type": "execute_result"
    }
   ],
   "source": [
    "a = np.array([1,2,3])\n",
    "a"
   ]
  },
  {
   "cell_type": "code",
   "execution_count": 24,
   "metadata": {
    "collapsed": false
   },
   "outputs": [
    {
     "data": {
      "text/plain": [
       "array([1, 4, 9])"
      ]
     },
     "execution_count": 24,
     "metadata": {},
     "output_type": "execute_result"
    }
   ],
   "source": [
    "a * a"
   ]
  },
  {
   "cell_type": "code",
   "execution_count": 25,
   "metadata": {
    "collapsed": false
   },
   "outputs": [
    {
     "data": {
      "text/plain": [
       "14"
      ]
     },
     "execution_count": 25,
     "metadata": {},
     "output_type": "execute_result"
    }
   ],
   "source": [
    "a.dot(a)"
   ]
  },
  {
   "cell_type": "code",
   "execution_count": null,
   "metadata": {
    "collapsed": true
   },
   "outputs": [],
   "source": [
    "a = []"
   ]
  },
  {
   "cell_type": "code",
   "execution_count": 30,
   "metadata": {
    "collapsed": true
   },
   "outputs": [],
   "source": [
    "import pandas as pd"
   ]
  },
  {
   "cell_type": "code",
   "execution_count": 37,
   "metadata": {
    "collapsed": false
   },
   "outputs": [],
   "source": [
    "data = pd.read_csv('./HCEPD_100K.csv')"
   ]
  },
  {
   "cell_type": "code",
   "execution_count": 39,
   "metadata": {
    "collapsed": false
   },
   "outputs": [
    {
     "data": {
      "text/plain": [
       "(99999, 11)"
      ]
     },
     "execution_count": 39,
     "metadata": {},
     "output_type": "execute_result"
    }
   ],
   "source": [
    "data.shape"
   ]
  },
  {
   "cell_type": "code",
   "execution_count": 36,
   "metadata": {
    "collapsed": true
   },
   "outputs": [
    {
     "data": {
      "text/html": [
       "<div>\n",
       "<table border=\"1\" class=\"dataframe\">\n",
       "  <thead>\n",
       "    <tr style=\"text-align: right;\">\n",
       "      <th></th>\n",
       "      <th>id</th>\n",
       "      <th>SMILES_str</th>\n",
       "      <th>stoich_str</th>\n",
       "      <th>mass</th>\n",
       "      <th>pce</th>\n",
       "      <th>voc</th>\n",
       "      <th>jsc</th>\n",
       "      <th>e_homo_alpha</th>\n",
       "      <th>e_gap_alpha</th>\n",
       "      <th>e_lumo_alpha</th>\n",
       "      <th>tmp_smiles_str</th>\n",
       "    </tr>\n",
       "  </thead>\n",
       "  <tbody>\n",
       "    <tr>\n",
       "      <th>0</th>\n",
       "      <td>655365</td>\n",
       "      <td>C1C=CC=C1c1cc2[se]c3c4occc4c4nsnc4c3c2cn1</td>\n",
       "      <td>C18H9N3OSSe</td>\n",
       "      <td>394.3151</td>\n",
       "      <td>5.161953</td>\n",
       "      <td>0.867601</td>\n",
       "      <td>91.567575</td>\n",
       "      <td>-5.467601</td>\n",
       "      <td>2.022944</td>\n",
       "      <td>-3.444656</td>\n",
       "      <td>C1=CC=C(C1)c1cc2[se]c3c4occc4c4nsnc4c3c2cn1</td>\n",
       "    </tr>\n",
       "    <tr>\n",
       "      <th>1</th>\n",
       "      <td>1245190</td>\n",
       "      <td>C1C=CC=C1c1cc2[se]c3c(ncc4ccccc34)c2c2=C[SiH2]...</td>\n",
       "      <td>C22H15NSeSi</td>\n",
       "      <td>400.4135</td>\n",
       "      <td>5.261398</td>\n",
       "      <td>0.504824</td>\n",
       "      <td>160.401549</td>\n",
       "      <td>-5.104824</td>\n",
       "      <td>1.630750</td>\n",
       "      <td>-3.474074</td>\n",
       "      <td>C1=CC=C(C1)c1cc2[se]c3c(ncc4ccccc34)c2c2=C[SiH...</td>\n",
       "    </tr>\n",
       "    <tr>\n",
       "      <th>2</th>\n",
       "      <td>21847</td>\n",
       "      <td>C1C=c2ccc3c4c[nH]cc4c4c5[SiH2]C(=Cc5oc4c3c2=C1...</td>\n",
       "      <td>C24H17NOSi</td>\n",
       "      <td>363.4903</td>\n",
       "      <td>0.000000</td>\n",
       "      <td>0.000000</td>\n",
       "      <td>197.474780</td>\n",
       "      <td>-4.539526</td>\n",
       "      <td>1.462158</td>\n",
       "      <td>-3.077368</td>\n",
       "      <td>C1=CC=C(C1)C1=Cc2oc3c(c2[SiH2]1)c1c[nH]cc1c1cc...</td>\n",
       "    </tr>\n",
       "    <tr>\n",
       "      <th>3</th>\n",
       "      <td>65553</td>\n",
       "      <td>[SiH2]1C=CC2=C1C=C([SiH2]2)C1=Cc2[se]ccc2[SiH2]1</td>\n",
       "      <td>C12H12SeSi3</td>\n",
       "      <td>319.4448</td>\n",
       "      <td>6.138294</td>\n",
       "      <td>0.630274</td>\n",
       "      <td>149.887545</td>\n",
       "      <td>-5.230274</td>\n",
       "      <td>1.682250</td>\n",
       "      <td>-3.548025</td>\n",
       "      <td>C1=CC2=C([SiH2]1)C=C([SiH2]2)C1=Cc2[se]ccc2[Si...</td>\n",
       "    </tr>\n",
       "    <tr>\n",
       "      <th>4</th>\n",
       "      <td>720918</td>\n",
       "      <td>C1C=c2c3ccsc3c3[se]c4cc(oc4c3c2=C1)C1=CC=CC1</td>\n",
       "      <td>C20H12OSSe</td>\n",
       "      <td>379.3398</td>\n",
       "      <td>1.991366</td>\n",
       "      <td>0.242119</td>\n",
       "      <td>126.581347</td>\n",
       "      <td>-4.842119</td>\n",
       "      <td>1.809439</td>\n",
       "      <td>-3.032680</td>\n",
       "      <td>C1=CC=C(C1)c1cc2[se]c3c4sccc4c4=CCC=c4c3c2o1</td>\n",
       "    </tr>\n",
       "    <tr>\n",
       "      <th>5</th>\n",
       "      <td>1310744</td>\n",
       "      <td>C1C=CC=C1c1cc2[se]c3c(c4nsnc4c4ccncc34)c2c2ccc...</td>\n",
       "      <td>C24H13N3SSe</td>\n",
       "      <td>454.4137</td>\n",
       "      <td>5.605135</td>\n",
       "      <td>0.951911</td>\n",
       "      <td>90.622776</td>\n",
       "      <td>-5.551911</td>\n",
       "      <td>2.029717</td>\n",
       "      <td>-3.522194</td>\n",
       "      <td>C1=CC=C(C1)c1cc2[se]c3c(c4nsnc4c4ccncc34)c2c2c...</td>\n",
       "    </tr>\n",
       "    <tr>\n",
       "      <th>6</th>\n",
       "      <td>196637</td>\n",
       "      <td>C1C=CC=C1c1cc2[se]c3cc4ccsc4cc3c2[se]1</td>\n",
       "      <td>C17H10SSe2</td>\n",
       "      <td>404.2520</td>\n",
       "      <td>2.644436</td>\n",
       "      <td>0.587932</td>\n",
       "      <td>69.223461</td>\n",
       "      <td>-5.187932</td>\n",
       "      <td>2.201106</td>\n",
       "      <td>-2.986827</td>\n",
       "      <td>C1=CC=C(C1)c1cc2[se]c3cc4ccsc4cc3c2[se]1</td>\n",
       "    </tr>\n",
       "    <tr>\n",
       "      <th>7</th>\n",
       "      <td>262174</td>\n",
       "      <td>C1C=CC=C1c1cc2[se]c3c4occc4c4cscc4c3c2[se]1</td>\n",
       "      <td>C19H10OSSe2</td>\n",
       "      <td>444.2730</td>\n",
       "      <td>2.523057</td>\n",
       "      <td>0.397670</td>\n",
       "      <td>97.645325</td>\n",
       "      <td>-4.997670</td>\n",
       "      <td>1.982122</td>\n",
       "      <td>-3.015548</td>\n",
       "      <td>C1=CC=C(C1)c1cc2[se]c3c4occc4c4cscc4c3c2[se]1</td>\n",
       "    </tr>\n",
       "    <tr>\n",
       "      <th>8</th>\n",
       "      <td>393249</td>\n",
       "      <td>C1C=CC=C1c1cc2[se]c3cc4cccnc4cc3c2c2ccccc12</td>\n",
       "      <td>C24H15NSe</td>\n",
       "      <td>396.3495</td>\n",
       "      <td>3.115895</td>\n",
       "      <td>0.869140</td>\n",
       "      <td>55.174815</td>\n",
       "      <td>-5.469140</td>\n",
       "      <td>2.331815</td>\n",
       "      <td>-3.137325</td>\n",
       "      <td>C1=CC=C(C1)c1cc2[se]c3cc4cccnc4cc3c2c2ccccc12</td>\n",
       "    </tr>\n",
       "    <tr>\n",
       "      <th>9</th>\n",
       "      <td>35</td>\n",
       "      <td>C1C2=C([SiH2]C=C2)C=C1c1cc2occc2c2cscc12</td>\n",
       "      <td>C17H12OSSi</td>\n",
       "      <td>292.4328</td>\n",
       "      <td>2.743214</td>\n",
       "      <td>0.387106</td>\n",
       "      <td>109.062905</td>\n",
       "      <td>-4.987106</td>\n",
       "      <td>1.909966</td>\n",
       "      <td>-3.077141</td>\n",
       "      <td>C1=CC2=C([SiH2]1)C=C(C2)c1cc2occc2c2cscc12</td>\n",
       "    </tr>\n",
       "    <tr>\n",
       "      <th>10</th>\n",
       "      <td>1048612</td>\n",
       "      <td>C1C=CC=C1C1=Cc2sc3cc4C=C[SiH2]c4cc3c2C1</td>\n",
       "      <td>C18H14SSi</td>\n",
       "      <td>290.4606</td>\n",
       "      <td>2.408411</td>\n",
       "      <td>0.431315</td>\n",
       "      <td>85.937708</td>\n",
       "      <td>-5.031315</td>\n",
       "      <td>2.065850</td>\n",
       "      <td>-2.965465</td>\n",
       "      <td>C1=CC=C(C1)C1=Cc2sc3cc4C=C[SiH2]c4cc3c2C1</td>\n",
       "    </tr>\n",
       "    <tr>\n",
       "      <th>11</th>\n",
       "      <td>917542</td>\n",
       "      <td>C1C=c2ccc3[se]c4c5[se]c(cc5[se]c4c3c2=C1)C1=CC...</td>\n",
       "      <td>C20H12Se3</td>\n",
       "      <td>489.1948</td>\n",
       "      <td>2.843278</td>\n",
       "      <td>0.302591</td>\n",
       "      <td>144.614366</td>\n",
       "      <td>-4.902591</td>\n",
       "      <td>1.708198</td>\n",
       "      <td>-3.194393</td>\n",
       "      <td>C1=CC=C(C1)c1cc2[se]c3c([se]c4ccc5=CCC=c5c34)c...</td>\n",
       "    </tr>\n",
       "    <tr>\n",
       "      <th>12</th>\n",
       "      <td>1441831</td>\n",
       "      <td>C1C=CC=C1C1=Cc2ncc3c4[se]ccc4cnc3c2C1</td>\n",
       "      <td>C18H12N2Se</td>\n",
       "      <td>335.2668</td>\n",
       "      <td>2.687240</td>\n",
       "      <td>0.675497</td>\n",
       "      <td>61.225278</td>\n",
       "      <td>-5.275497</td>\n",
       "      <td>2.270953</td>\n",
       "      <td>-3.004544</td>\n",
       "      <td>C1=CC=C(C1)C1=Cc2ncc3c4[se]ccc4cnc3c2C1</td>\n",
       "    </tr>\n",
       "    <tr>\n",
       "      <th>13</th>\n",
       "      <td>1376296</td>\n",
       "      <td>C1C=CC=C1C1=Cc2c(C1)c1[se]c3ccc4cscc4c3c1c1=C[...</td>\n",
       "      <td>C24H16SSeSi</td>\n",
       "      <td>443.5024</td>\n",
       "      <td>2.844637</td>\n",
       "      <td>0.189206</td>\n",
       "      <td>231.387394</td>\n",
       "      <td>-4.789206</td>\n",
       "      <td>1.312334</td>\n",
       "      <td>-3.476872</td>\n",
       "      <td>C1=CC=C(C1)C1=Cc2c(C1)c1[se]c3ccc4cscc4c3c1c1=...</td>\n",
       "    </tr>\n",
       "    <tr>\n",
       "      <th>14</th>\n",
       "      <td>1638442</td>\n",
       "      <td>C1C=c2ccc3cnc4c5[SiH2]C(=Cc5c5nsnc5c4c3c2=C1)C...</td>\n",
       "      <td>C23H15N3SSi</td>\n",
       "      <td>393.5445</td>\n",
       "      <td>6.462512</td>\n",
       "      <td>0.602405</td>\n",
       "      <td>165.105179</td>\n",
       "      <td>-5.202405</td>\n",
       "      <td>1.603165</td>\n",
       "      <td>-3.599240</td>\n",
       "      <td>C1=CC=C(C1)C1=Cc2c([SiH2]1)c1ncc3ccc4=CCC=c4c3...</td>\n",
       "    </tr>\n",
       "    <tr>\n",
       "      <th>15</th>\n",
       "      <td>98350</td>\n",
       "      <td>C1C=CC=C1C1=Cc2ccc3c4CC=Cc4c4cscc4c3c2[SiH2]1</td>\n",
       "      <td>C22H16SSi</td>\n",
       "      <td>340.5204</td>\n",
       "      <td>2.631463</td>\n",
       "      <td>0.410851</td>\n",
       "      <td>98.573546</td>\n",
       "      <td>-5.010851</td>\n",
       "      <td>1.975707</td>\n",
       "      <td>-3.035144</td>\n",
       "      <td>C1=CC=C(C1)C1=Cc2ccc3c4CC=Cc4c4cscc4c3c2[SiH2]1</td>\n",
       "    </tr>\n",
       "    <tr>\n",
       "      <th>16</th>\n",
       "      <td>2162747</td>\n",
       "      <td>C1C=CC=C1C1=Cc2c([SiH2]1)c1c3c[nH]cc3c3ccc4=C[...</td>\n",
       "      <td>C27H19NOSi2</td>\n",
       "      <td>429.6251</td>\n",
       "      <td>2.039158</td>\n",
       "      <td>0.140744</td>\n",
       "      <td>222.981280</td>\n",
       "      <td>-4.740744</td>\n",
       "      <td>1.361137</td>\n",
       "      <td>-3.379607</td>\n",
       "      <td>C1=CC=C(C1)C1=Cc2c([SiH2]1)c1c3c[nH]cc3c3ccc4=...</td>\n",
       "    </tr>\n",
       "    <tr>\n",
       "      <th>17</th>\n",
       "      <td>557119</td>\n",
       "      <td>C1C=c2c3C=C(Cc3c3occc3c2=C1)C1=CC=CC1</td>\n",
       "      <td>C19H14O</td>\n",
       "      <td>258.3186</td>\n",
       "      <td>0.237205</td>\n",
       "      <td>0.024962</td>\n",
       "      <td>146.246545</td>\n",
       "      <td>-4.624962</td>\n",
       "      <td>1.700415</td>\n",
       "      <td>-2.924547</td>\n",
       "      <td>C1=CC=C(C1)C1=Cc2c(C1)c1occc1c1=CCC=c21</td>\n",
       "    </tr>\n",
       "    <tr>\n",
       "      <th>18</th>\n",
       "      <td>753728</td>\n",
       "      <td>C1C=CC=C1C1=Cc2c([SiH2]1)c1cc3ncccc3cc1c1c[nH]...</td>\n",
       "      <td>C22H16N2Si</td>\n",
       "      <td>336.4684</td>\n",
       "      <td>3.103831</td>\n",
       "      <td>0.409504</td>\n",
       "      <td>116.650708</td>\n",
       "      <td>-5.009504</td>\n",
       "      <td>1.863416</td>\n",
       "      <td>-3.146088</td>\n",
       "      <td>C1=CC=C(C1)C1=Cc2c([SiH2]1)c1cc3ncccc3cc1c1c[n...</td>\n",
       "    </tr>\n",
       "    <tr>\n",
       "      <th>19</th>\n",
       "      <td>819265</td>\n",
       "      <td>C1C=CC=C1C1=Cc2c([SiH2]1)c1c(c3cscc23)c2[se]cc...</td>\n",
       "      <td>C23H16SSeSi2</td>\n",
       "      <td>459.5774</td>\n",
       "      <td>5.385253</td>\n",
       "      <td>0.368606</td>\n",
       "      <td>224.848916</td>\n",
       "      <td>-4.968606</td>\n",
       "      <td>1.352309</td>\n",
       "      <td>-3.616298</td>\n",
       "      <td>C1=CC=C(C1)C1=Cc2c([SiH2]1)c1c(c3cscc23)c2[se]...</td>\n",
       "    </tr>\n",
       "    <tr>\n",
       "      <th>20</th>\n",
       "      <td>1278019</td>\n",
       "      <td>C1C=CC=C1C1=Cc2c([SiH2]1)c1c(c3[SiH2]C=Cc3c3=C...</td>\n",
       "      <td>C23H18OSi3</td>\n",
       "      <td>394.6522</td>\n",
       "      <td>5.489489</td>\n",
       "      <td>0.301242</td>\n",
       "      <td>280.455932</td>\n",
       "      <td>-4.901242</td>\n",
       "      <td>1.135619</td>\n",
       "      <td>-3.765623</td>\n",
       "      <td>C1=CC=C(C1)C1=Cc2c([SiH2]1)c1c(c3[SiH2]C=Cc3c3...</td>\n",
       "    </tr>\n",
       "    <tr>\n",
       "      <th>21</th>\n",
       "      <td>2096063</td>\n",
       "      <td>C1C=CC=C1c1cc2[se]c3c(c2c2cscc12)c1ccccc1c1ccc...</td>\n",
       "      <td>C27H14N2S2Se</td>\n",
       "      <td>509.5136</td>\n",
       "      <td>6.204093</td>\n",
       "      <td>0.570055</td>\n",
       "      <td>167.497914</td>\n",
       "      <td>-5.170055</td>\n",
       "      <td>1.593078</td>\n",
       "      <td>-3.576977</td>\n",
       "      <td>C1=CC=C(C1)c1cc2[se]c3c(c2c2cscc12)c1ccccc1c1c...</td>\n",
       "    </tr>\n",
       "    <tr>\n",
       "      <th>22</th>\n",
       "      <td>2752585</td>\n",
       "      <td>C1C=CC=C1C1=Cc2c(C1)c1c(c3c[nH]cc23)c2c3c[nH]c...</td>\n",
       "      <td>C28H20N2Si</td>\n",
       "      <td>412.5660</td>\n",
       "      <td>0.000000</td>\n",
       "      <td>0.000000</td>\n",
       "      <td>198.749914</td>\n",
       "      <td>-4.499447</td>\n",
       "      <td>1.457208</td>\n",
       "      <td>-3.042239</td>\n",
       "      <td>C1=CC=C(C1)C1=Cc2c(C1)c1c(c3c[nH]cc23)c2c3c[nH...</td>\n",
       "    </tr>\n",
       "    <tr>\n",
       "      <th>23</th>\n",
       "      <td>1572945</td>\n",
       "      <td>C1C=CC=C1C1=Cc2[se]c3c4sccc4c4ccccc4c3c2C1</td>\n",
       "      <td>C22H14SSe</td>\n",
       "      <td>389.3786</td>\n",
       "      <td>2.167252</td>\n",
       "      <td>0.330623</td>\n",
       "      <td>100.884304</td>\n",
       "      <td>-4.930623</td>\n",
       "      <td>1.961253</td>\n",
       "      <td>-2.969370</td>\n",
       "      <td>C1=CC=C(C1)C1=Cc2[se]c3c4sccc4c4ccccc4c3c2C1</td>\n",
       "    </tr>\n",
       "    <tr>\n",
       "      <th>24</th>\n",
       "      <td>2359381</td>\n",
       "      <td>C1C=CC=C1C1=Cc2c(C1)c1c3cscc3c3ccc4nsnc4c3c1c1...</td>\n",
       "      <td>C26H14N2OS2</td>\n",
       "      <td>434.5416</td>\n",
       "      <td>4.112982</td>\n",
       "      <td>0.299549</td>\n",
       "      <td>211.318161</td>\n",
       "      <td>-4.899549</td>\n",
       "      <td>1.409229</td>\n",
       "      <td>-3.490319</td>\n",
       "      <td>C1=CC=C(C1)C1=Cc2c(C1)c1c3cscc3c3ccc4nsnc4c3c1...</td>\n",
       "    </tr>\n",
       "    <tr>\n",
       "      <th>25</th>\n",
       "      <td>1540183</td>\n",
       "      <td>C1C=CC=C1c1cc2[se]c3c([se]c4ccc5cscc5c34)c2cn1</td>\n",
       "      <td>C20H11NSSe2</td>\n",
       "      <td>455.2999</td>\n",
       "      <td>3.212565</td>\n",
       "      <td>0.683568</td>\n",
       "      <td>72.329945</td>\n",
       "      <td>-5.283568</td>\n",
       "      <td>2.174712</td>\n",
       "      <td>-3.108856</td>\n",
       "      <td>C1=CC=C(C1)c1cc2[se]c3c([se]c4ccc5cscc5c34)c2cn1</td>\n",
       "    </tr>\n",
       "    <tr>\n",
       "      <th>26</th>\n",
       "      <td>1638500</td>\n",
       "      <td>C1C=CC=C1c1cc2[se]c3ccc4ccccc4c3c2c2cocc12</td>\n",
       "      <td>C23H14OSe</td>\n",
       "      <td>385.3226</td>\n",
       "      <td>3.088844</td>\n",
       "      <td>0.482262</td>\n",
       "      <td>98.573546</td>\n",
       "      <td>-5.082262</td>\n",
       "      <td>1.977235</td>\n",
       "      <td>-3.105027</td>\n",
       "      <td>C1=CC=C(C1)c1cc2[se]c3ccc4ccccc4c3c2c2cocc12</td>\n",
       "    </tr>\n",
       "    <tr>\n",
       "      <th>27</th>\n",
       "      <td>2621542</td>\n",
       "      <td>C1C=c2c3ccccc3c3c4ccccc4c4C=C(Cc4c3c2=C1)C1=CC...</td>\n",
       "      <td>C29H20</td>\n",
       "      <td>368.4770</td>\n",
       "      <td>2.552886</td>\n",
       "      <td>0.341115</td>\n",
       "      <td>115.180406</td>\n",
       "      <td>-4.941115</td>\n",
       "      <td>1.872759</td>\n",
       "      <td>-3.068355</td>\n",
       "      <td>C1=CC=C(C1)C1=Cc2c(C1)c1c(c3ccccc23)c2ccccc2c2...</td>\n",
       "    </tr>\n",
       "    <tr>\n",
       "      <th>28</th>\n",
       "      <td>98411</td>\n",
       "      <td>C1C=CC=C1c1cc2[se]c3cc4cccnc4cc3c2c2cscc12</td>\n",
       "      <td>C22H13NSSe</td>\n",
       "      <td>402.3777</td>\n",
       "      <td>4.247356</td>\n",
       "      <td>0.653960</td>\n",
       "      <td>99.957476</td>\n",
       "      <td>-5.253960</td>\n",
       "      <td>1.967245</td>\n",
       "      <td>-3.286715</td>\n",
       "      <td>C1=CC=C(C1)c1cc2[se]c3cc4cccnc4cc3c2c2cscc12</td>\n",
       "    </tr>\n",
       "    <tr>\n",
       "      <th>29</th>\n",
       "      <td>524398</td>\n",
       "      <td>C1C=c2c3C=C([SiH2]c3c3ncc4ccc5nsnc5c4c3c2=C1)C...</td>\n",
       "      <td>C23H15N3SSi</td>\n",
       "      <td>393.5445</td>\n",
       "      <td>5.860942</td>\n",
       "      <td>0.497394</td>\n",
       "      <td>181.348711</td>\n",
       "      <td>-5.097394</td>\n",
       "      <td>1.533947</td>\n",
       "      <td>-3.563447</td>\n",
       "      <td>C1=CC=C(C1)C1=Cc2c([SiH2]1)c1ncc3ccc4nsnc4c3c1...</td>\n",
       "    </tr>\n",
       "    <tr>\n",
       "      <th>...</th>\n",
       "      <td>...</td>\n",
       "      <td>...</td>\n",
       "      <td>...</td>\n",
       "      <td>...</td>\n",
       "      <td>...</td>\n",
       "      <td>...</td>\n",
       "      <td>...</td>\n",
       "      <td>...</td>\n",
       "      <td>...</td>\n",
       "      <td>...</td>\n",
       "      <td>...</td>\n",
       "    </tr>\n",
       "    <tr>\n",
       "      <th>70</th>\n",
       "      <td>426214</td>\n",
       "      <td>C1C=CC2=C1C=C([SiH2]2)c1cncs1</td>\n",
       "      <td>C10H9NSSi</td>\n",
       "      <td>203.3401</td>\n",
       "      <td>3.394500</td>\n",
       "      <td>0.795378</td>\n",
       "      <td>65.682564</td>\n",
       "      <td>-5.395378</td>\n",
       "      <td>2.233790</td>\n",
       "      <td>-3.161587</td>\n",
       "      <td>C1=CC2=C(C1)C=C([SiH2]2)c1cncs1</td>\n",
       "    </tr>\n",
       "    <tr>\n",
       "      <th>71</th>\n",
       "      <td>1114349</td>\n",
       "      <td>C1C=CC2=C1C=C(C2)c1cc2ccccc2c2cscc12</td>\n",
       "      <td>C20H14S</td>\n",
       "      <td>286.3966</td>\n",
       "      <td>1.790937</td>\n",
       "      <td>0.329567</td>\n",
       "      <td>83.634150</td>\n",
       "      <td>-4.929567</td>\n",
       "      <td>2.080275</td>\n",
       "      <td>-2.849292</td>\n",
       "      <td>C1=CC2=C(C1)C=C(C2)c1cc2ccccc2c2cscc12</td>\n",
       "    </tr>\n",
       "    <tr>\n",
       "      <th>72</th>\n",
       "      <td>1048817</td>\n",
       "      <td>C1C=CC=C1C1=Cc2sc3c4occc4c4cocc4c3c2C1</td>\n",
       "      <td>C20H12O2S</td>\n",
       "      <td>316.3788</td>\n",
       "      <td>1.513968</td>\n",
       "      <td>0.208218</td>\n",
       "      <td>111.904241</td>\n",
       "      <td>-4.808218</td>\n",
       "      <td>1.890338</td>\n",
       "      <td>-2.917880</td>\n",
       "      <td>C1=CC=C(C1)C1=Cc2sc3c4occc4c4cocc4c3c2C1</td>\n",
       "    </tr>\n",
       "    <tr>\n",
       "      <th>73</th>\n",
       "      <td>688371</td>\n",
       "      <td>C1C=CC=C1C1=Cc2c(C1)c1sc3ccc4c[nH]cc4c3c1c1cscc21</td>\n",
       "      <td>C24H15NS2</td>\n",
       "      <td>381.5215</td>\n",
       "      <td>0.240373</td>\n",
       "      <td>0.025508</td>\n",
       "      <td>145.026911</td>\n",
       "      <td>-4.625508</td>\n",
       "      <td>1.707600</td>\n",
       "      <td>-2.917909</td>\n",
       "      <td>C1=CC=C(C1)C1=Cc2c(C1)c1sc3ccc4c[nH]cc4c3c1c1c...</td>\n",
       "    </tr>\n",
       "    <tr>\n",
       "      <th>74</th>\n",
       "      <td>1868021</td>\n",
       "      <td>C1C=CC=C1c1cc2[se]c3cc4ccc5ccccc5c4cc3c2c2cscc12</td>\n",
       "      <td>C27H16SSe</td>\n",
       "      <td>451.4494</td>\n",
       "      <td>3.676538</td>\n",
       "      <td>0.574019</td>\n",
       "      <td>98.573546</td>\n",
       "      <td>-5.174019</td>\n",
       "      <td>1.977270</td>\n",
       "      <td>-3.196749</td>\n",
       "      <td>C1=CC=C(C1)c1cc2[se]c3cc4ccc5ccccc5c4cc3c2c2cs...</td>\n",
       "    </tr>\n",
       "    <tr>\n",
       "      <th>75</th>\n",
       "      <td>884983</td>\n",
       "      <td>C1C=CC=C1C1=Cc2c(C1)c1c3nsnc3c3cc[se]c3c1c1ccc...</td>\n",
       "      <td>C24H14N2SSe</td>\n",
       "      <td>441.4146</td>\n",
       "      <td>5.001624</td>\n",
       "      <td>0.510378</td>\n",
       "      <td>150.822679</td>\n",
       "      <td>-5.110378</td>\n",
       "      <td>1.676155</td>\n",
       "      <td>-3.434223</td>\n",
       "      <td>C1=CC=C(C1)C1=Cc2c(C1)c1c3nsnc3c3cc[se]c3c1c1c...</td>\n",
       "    </tr>\n",
       "    <tr>\n",
       "      <th>76</th>\n",
       "      <td>753912</td>\n",
       "      <td>C1C=CC=C1C1=Cc2c(C1)c1oc3ccc4ccccc4c3c1c1cocc21</td>\n",
       "      <td>C26H16O2</td>\n",
       "      <td>360.4104</td>\n",
       "      <td>2.032640</td>\n",
       "      <td>0.241480</td>\n",
       "      <td>129.547072</td>\n",
       "      <td>-4.841480</td>\n",
       "      <td>1.790209</td>\n",
       "      <td>-3.051270</td>\n",
       "      <td>C1=CC=C(C1)C1=Cc2c(C1)c1oc3ccc4ccccc4c3c1c1cocc21</td>\n",
       "    </tr>\n",
       "    <tr>\n",
       "      <th>77</th>\n",
       "      <td>2785529</td>\n",
       "      <td>C1C=CC=C1c1cc2[se]c3c(c4c[nH]cc4c4ccc5nsnc5c34...</td>\n",
       "      <td>C27H15N3SSe</td>\n",
       "      <td>492.4625</td>\n",
       "      <td>4.650975</td>\n",
       "      <td>0.507717</td>\n",
       "      <td>140.983873</td>\n",
       "      <td>-5.107717</td>\n",
       "      <td>1.731285</td>\n",
       "      <td>-3.376432</td>\n",
       "      <td>C1=CC=C(C1)c1cc2[se]c3c(c4c[nH]cc4c4ccc5nsnc5c...</td>\n",
       "    </tr>\n",
       "    <tr>\n",
       "      <th>78</th>\n",
       "      <td>721147</td>\n",
       "      <td>C1C=c2c3C=CCc3c3c4cscc4c4C=C([SiH2]c4c3c2=C1)C...</td>\n",
       "      <td>C25H18SSi</td>\n",
       "      <td>378.5692</td>\n",
       "      <td>1.230484</td>\n",
       "      <td>0.082314</td>\n",
       "      <td>230.065847</td>\n",
       "      <td>-4.682314</td>\n",
       "      <td>1.324394</td>\n",
       "      <td>-3.357920</td>\n",
       "      <td>C1=CC=C(C1)C1=Cc2c([SiH2]1)c1c(c3CC=Cc3c3=CCC=...</td>\n",
       "    </tr>\n",
       "    <tr>\n",
       "      <th>79</th>\n",
       "      <td>622844</td>\n",
       "      <td>C1C=CC=C1C1=Cc2c(C1)c1c3nsnc3c3C=CCc3c1c1=C[Si...</td>\n",
       "      <td>C23H16N2SSi</td>\n",
       "      <td>380.5454</td>\n",
       "      <td>5.217558</td>\n",
       "      <td>0.268149</td>\n",
       "      <td>299.459871</td>\n",
       "      <td>-4.868149</td>\n",
       "      <td>1.041835</td>\n",
       "      <td>-3.826314</td>\n",
       "      <td>C1=CC=C(C1)C1=Cc2c(C1)c1c3nsnc3c3C=CCc3c1c1=C[...</td>\n",
       "    </tr>\n",
       "    <tr>\n",
       "      <th>80</th>\n",
       "      <td>835626</td>\n",
       "      <td>C1C=CC=C1C1=Cc2ncc3c(cnc4ccc5=C[SiH2]C=c5c34)c...</td>\n",
       "      <td>C21H16N2Si2</td>\n",
       "      <td>352.5434</td>\n",
       "      <td>8.078063</td>\n",
       "      <td>0.752999</td>\n",
       "      <td>165.105179</td>\n",
       "      <td>-5.352999</td>\n",
       "      <td>1.603238</td>\n",
       "      <td>-3.749761</td>\n",
       "      <td>C1=CC=C(C1)C1=Cc2ncc3c(cnc4ccc5=C[SiH2]C=c5c34...</td>\n",
       "    </tr>\n",
       "    <tr>\n",
       "      <th>81</th>\n",
       "      <td>1114377</td>\n",
       "      <td>C1C=CC=C1C1=Cc2ncc3cc4C=C[SiH2]c4cc3c2C1</td>\n",
       "      <td>C19H15NSi</td>\n",
       "      <td>285.4205</td>\n",
       "      <td>2.657526</td>\n",
       "      <td>0.618525</td>\n",
       "      <td>66.125349</td>\n",
       "      <td>-5.218525</td>\n",
       "      <td>2.228104</td>\n",
       "      <td>-2.990420</td>\n",
       "      <td>C1=CC=C(C1)C1=Cc2ncc3cc4C=C[SiH2]c4cc3c2C1</td>\n",
       "    </tr>\n",
       "    <tr>\n",
       "      <th>82</th>\n",
       "      <td>1048842</td>\n",
       "      <td>C1C=c2c3ccccc3c3cc4CC(=Cc4cc3c2=C1)C1=CC=CC1</td>\n",
       "      <td>C25H18</td>\n",
       "      <td>318.4172</td>\n",
       "      <td>1.972011</td>\n",
       "      <td>0.441307</td>\n",
       "      <td>68.772742</td>\n",
       "      <td>-5.041307</td>\n",
       "      <td>2.205998</td>\n",
       "      <td>-2.835308</td>\n",
       "      <td>C1=CC=C(C1)C1=Cc2cc3c(cc2C1)c1ccccc1c1=CCC=c31</td>\n",
       "    </tr>\n",
       "    <tr>\n",
       "      <th>83</th>\n",
       "      <td>1343757</td>\n",
       "      <td>C1C=c2ccc3[se]c4c5[SiH2]C(=Cc5sc4c3c2=C1)C1=CC...</td>\n",
       "      <td>C20H14SSeSi</td>\n",
       "      <td>393.4426</td>\n",
       "      <td>2.903089</td>\n",
       "      <td>0.261537</td>\n",
       "      <td>170.833884</td>\n",
       "      <td>-4.861537</td>\n",
       "      <td>1.578308</td>\n",
       "      <td>-3.283230</td>\n",
       "      <td>C1=CC=C(C1)C1=Cc2sc3c([se]c4ccc5=CCC=c5c34)c2[...</td>\n",
       "    </tr>\n",
       "    <tr>\n",
       "      <th>84</th>\n",
       "      <td>1540367</td>\n",
       "      <td>C1C=CC=C1c1cc2[se]c3c4[SiH2]C=Cc4c4cscc4c3c2c2...</td>\n",
       "      <td>C23H15NSSeSi</td>\n",
       "      <td>444.4905</td>\n",
       "      <td>1.626984</td>\n",
       "      <td>0.152541</td>\n",
       "      <td>164.150991</td>\n",
       "      <td>-4.752541</td>\n",
       "      <td>1.606907</td>\n",
       "      <td>-3.145635</td>\n",
       "      <td>C1=CC=C(C1)c1cc2[se]c3c4[SiH2]C=Cc4c4cscc4c3c2...</td>\n",
       "    </tr>\n",
       "    <tr>\n",
       "      <th>85</th>\n",
       "      <td>1147152</td>\n",
       "      <td>C1C=CC=C1C1=Cc2c([SiH2]1)c1c3nsnc3c3ccoc3c1c1n...</td>\n",
       "      <td>C19H10N4OS2Si</td>\n",
       "      <td>402.5330</td>\n",
       "      <td>9.485843</td>\n",
       "      <td>0.696607</td>\n",
       "      <td>209.573064</td>\n",
       "      <td>-5.296607</td>\n",
       "      <td>1.415900</td>\n",
       "      <td>-3.880707</td>\n",
       "      <td>C1=CC=C(C1)C1=Cc2c([SiH2]1)c1c3nsnc3c3ccoc3c1c...</td>\n",
       "    </tr>\n",
       "    <tr>\n",
       "      <th>86</th>\n",
       "      <td>393489</td>\n",
       "      <td>C1C=CC=C1C1=Cc2c(C1)c1c3ccccc3c3cccnc3c1c1cocc21</td>\n",
       "      <td>C27H17NO</td>\n",
       "      <td>371.4373</td>\n",
       "      <td>2.785640</td>\n",
       "      <td>0.356879</td>\n",
       "      <td>120.130116</td>\n",
       "      <td>-4.956879</td>\n",
       "      <td>1.843585</td>\n",
       "      <td>-3.113294</td>\n",
       "      <td>C1=CC=C(C1)C1=Cc2c(C1)c1c3ccccc3c3cccnc3c1c1co...</td>\n",
       "    </tr>\n",
       "    <tr>\n",
       "      <th>87</th>\n",
       "      <td>1605678</td>\n",
       "      <td>[SiH2]1C=CC2=C1C=C([SiH2]2)c1cc2sccc2s1</td>\n",
       "      <td>C12H10S2Si2</td>\n",
       "      <td>274.5150</td>\n",
       "      <td>5.290782</td>\n",
       "      <td>0.703994</td>\n",
       "      <td>115.664106</td>\n",
       "      <td>-5.303994</td>\n",
       "      <td>1.869364</td>\n",
       "      <td>-3.434630</td>\n",
       "      <td>C1=CC2=C([SiH2]1)C=C([SiH2]2)c1cc2sccc2s1</td>\n",
       "    </tr>\n",
       "    <tr>\n",
       "      <th>88</th>\n",
       "      <td>33047</td>\n",
       "      <td>C1C=c2ccc3ncc4c5[SiH2]C(=Cc5c5c[nH]cc5c4c3c2=C...</td>\n",
       "      <td>C25H18N2Si</td>\n",
       "      <td>374.5172</td>\n",
       "      <td>2.786956</td>\n",
       "      <td>0.318392</td>\n",
       "      <td>134.714952</td>\n",
       "      <td>-4.918392</td>\n",
       "      <td>1.763619</td>\n",
       "      <td>-3.154772</td>\n",
       "      <td>C1=CC=C(C1)C1=Cc2c([SiH2]1)c1cnc3ccc4=CCC=c4c3...</td>\n",
       "    </tr>\n",
       "    <tr>\n",
       "      <th>89</th>\n",
       "      <td>1852748</td>\n",
       "      <td>C1C=CC=C1c1cc2[se]c3c(c4c[nH]cc4c4ccc5nsnc5c34...</td>\n",
       "      <td>C25H14N4SSe</td>\n",
       "      <td>481.4396</td>\n",
       "      <td>1.653149</td>\n",
       "      <td>0.129718</td>\n",
       "      <td>196.136899</td>\n",
       "      <td>-4.729718</td>\n",
       "      <td>1.467964</td>\n",
       "      <td>-3.261754</td>\n",
       "      <td>C1=CC=C(C1)c1cc2[se]c3c(c4c[nH]cc4c4ccc5nsnc5c...</td>\n",
       "    </tr>\n",
       "    <tr>\n",
       "      <th>90</th>\n",
       "      <td>879322</td>\n",
       "      <td>C1C=c2ccc3[se]c4c([se]c5cc(C6=CC=CC6)c6cocc6c4...</td>\n",
       "      <td>C24H14OSe2</td>\n",
       "      <td>476.2936</td>\n",
       "      <td>3.161847</td>\n",
       "      <td>0.299840</td>\n",
       "      <td>162.292795</td>\n",
       "      <td>-4.899840</td>\n",
       "      <td>1.614956</td>\n",
       "      <td>-3.284884</td>\n",
       "      <td>C1=CC=C(C1)c1cc2[se]c3c([se]c4ccc5=CCC=c5c34)c...</td>\n",
       "    </tr>\n",
       "    <tr>\n",
       "      <th>91</th>\n",
       "      <td>196897</td>\n",
       "      <td>C1C=CC=C1C1=Cc2c(C1)c1sc3C=C[SiH2]c3c1c1cscc21</td>\n",
       "      <td>C20H14S2Si</td>\n",
       "      <td>346.5486</td>\n",
       "      <td>1.994824</td>\n",
       "      <td>0.212295</td>\n",
       "      <td>144.614366</td>\n",
       "      <td>-4.812295</td>\n",
       "      <td>1.708791</td>\n",
       "      <td>-3.103505</td>\n",
       "      <td>C1=CC=C(C1)C1=Cc2c(C1)c1sc3C=C[SiH2]c3c1c1cscc21</td>\n",
       "    </tr>\n",
       "    <tr>\n",
       "      <th>92</th>\n",
       "      <td>917795</td>\n",
       "      <td>C1C=CC=C1C1=Cc2cnc3c4occc4sc3c2[SiH2]1</td>\n",
       "      <td>C16H11NOSSi</td>\n",
       "      <td>293.4209</td>\n",
       "      <td>3.611901</td>\n",
       "      <td>0.736534</td>\n",
       "      <td>75.472806</td>\n",
       "      <td>-5.336534</td>\n",
       "      <td>2.147307</td>\n",
       "      <td>-3.189228</td>\n",
       "      <td>C1=CC=C(C1)C1=Cc2cnc3c4occc4sc3c2[SiH2]1</td>\n",
       "    </tr>\n",
       "    <tr>\n",
       "      <th>93</th>\n",
       "      <td>524582</td>\n",
       "      <td>C1C=CC=C1C1=Cc2oc3c(c2[SiH2]1)c1cscc1c1ccc2ccc...</td>\n",
       "      <td>C25H16OSSi</td>\n",
       "      <td>392.5524</td>\n",
       "      <td>3.215688</td>\n",
       "      <td>0.398763</td>\n",
       "      <td>124.109823</td>\n",
       "      <td>-4.998763</td>\n",
       "      <td>1.822561</td>\n",
       "      <td>-3.176203</td>\n",
       "      <td>C1=CC=C(C1)C1=Cc2oc3c(c2[SiH2]1)c1cscc1c1ccc2c...</td>\n",
       "    </tr>\n",
       "    <tr>\n",
       "      <th>94</th>\n",
       "      <td>753960</td>\n",
       "      <td>C1C=CC=C1C1=Cc2ccc3cc4C=C[SiH2]c4cc3c2[SiH2]1</td>\n",
       "      <td>C19H16Si2</td>\n",
       "      <td>300.5074</td>\n",
       "      <td>3.384177</td>\n",
       "      <td>0.654020</td>\n",
       "      <td>79.636066</td>\n",
       "      <td>-5.254020</td>\n",
       "      <td>2.115358</td>\n",
       "      <td>-3.138662</td>\n",
       "      <td>C1=CC=C(C1)C1=Cc2ccc3cc4C=C[SiH2]c4cc3c2[SiH2]1</td>\n",
       "    </tr>\n",
       "    <tr>\n",
       "      <th>95</th>\n",
       "      <td>1573164</td>\n",
       "      <td>C1C=CC=C1C1=Cc2c(C1)c1ncc3ccc4cscc4c3c1c1nsnc21</td>\n",
       "      <td>C23H13N3S2</td>\n",
       "      <td>395.5087</td>\n",
       "      <td>5.031834</td>\n",
       "      <td>0.587182</td>\n",
       "      <td>131.886805</td>\n",
       "      <td>-5.187182</td>\n",
       "      <td>1.778370</td>\n",
       "      <td>-3.408811</td>\n",
       "      <td>C1=CC=C(C1)C1=Cc2c(C1)c1ncc3ccc4cscc4c3c1c1nsnc21</td>\n",
       "    </tr>\n",
       "    <tr>\n",
       "      <th>96</th>\n",
       "      <td>262450</td>\n",
       "      <td>C1C=CC=C1c1cc2[se]c3c4[SiH2]C=Cc4[se]c3c2c2=C[...</td>\n",
       "      <td>C19H14Se2Si2</td>\n",
       "      <td>456.4116</td>\n",
       "      <td>5.777985</td>\n",
       "      <td>0.426951</td>\n",
       "      <td>208.279151</td>\n",
       "      <td>-5.026951</td>\n",
       "      <td>1.421692</td>\n",
       "      <td>-3.605259</td>\n",
       "      <td>C1=CC=C(C1)c1cc2[se]c3c4[SiH2]C=Cc4[se]c3c2c2=...</td>\n",
       "    </tr>\n",
       "    <tr>\n",
       "      <th>97</th>\n",
       "      <td>393523</td>\n",
       "      <td>C1C=CC=C1c1cc2[se]c3c4[SiH2]C=Cc4c4cocc4c3c2o1</td>\n",
       "      <td>C19H12O2SeSi</td>\n",
       "      <td>379.3478</td>\n",
       "      <td>3.016816</td>\n",
       "      <td>0.339750</td>\n",
       "      <td>136.658521</td>\n",
       "      <td>-4.939750</td>\n",
       "      <td>1.753613</td>\n",
       "      <td>-3.186137</td>\n",
       "      <td>C1=CC=C(C1)c1cc2[se]c3c4[SiH2]C=Cc4c4cocc4c3c2o1</td>\n",
       "    </tr>\n",
       "    <tr>\n",
       "      <th>98</th>\n",
       "      <td>1632990</td>\n",
       "      <td>C1C=c2ccc3c(c4ncc5C=C(Cc5c4c4=C[SiH2]C=c34)C3=...</td>\n",
       "      <td>C26H19NSi</td>\n",
       "      <td>373.5291</td>\n",
       "      <td>4.591414</td>\n",
       "      <td>0.347218</td>\n",
       "      <td>203.512862</td>\n",
       "      <td>-4.947218</td>\n",
       "      <td>1.439304</td>\n",
       "      <td>-3.507914</td>\n",
       "      <td>C1=CC=C(C1)C1=Cc2cnc3c(c2C1)c1=C[SiH2]C=c1c1cc...</td>\n",
       "    </tr>\n",
       "    <tr>\n",
       "      <th>99</th>\n",
       "      <td>1283465</td>\n",
       "      <td>C1C=CC=C1c1cc2[se]c3c(ncc4ccc5nsnc5c34)c2[se]1</td>\n",
       "      <td>C18H9N3SSe2</td>\n",
       "      <td>457.2761</td>\n",
       "      <td>6.845089</td>\n",
       "      <td>0.798777</td>\n",
       "      <td>131.886805</td>\n",
       "      <td>-5.398777</td>\n",
       "      <td>1.778370</td>\n",
       "      <td>-3.620406</td>\n",
       "      <td>C1=CC=C(C1)c1cc2[se]c3c(ncc4ccc5nsnc5c34)c2[se]1</td>\n",
       "    </tr>\n",
       "  </tbody>\n",
       "</table>\n",
       "<p>100 rows × 11 columns</p>\n",
       "</div>"
      ],
      "text/plain": [
       "         id                                         SMILES_str     stoich_str  \\\n",
       "0    655365          C1C=CC=C1c1cc2[se]c3c4occc4c4nsnc4c3c2cn1    C18H9N3OSSe   \n",
       "1   1245190  C1C=CC=C1c1cc2[se]c3c(ncc4ccccc34)c2c2=C[SiH2]...    C22H15NSeSi   \n",
       "2     21847  C1C=c2ccc3c4c[nH]cc4c4c5[SiH2]C(=Cc5oc4c3c2=C1...     C24H17NOSi   \n",
       "3     65553   [SiH2]1C=CC2=C1C=C([SiH2]2)C1=Cc2[se]ccc2[SiH2]1    C12H12SeSi3   \n",
       "4    720918       C1C=c2c3ccsc3c3[se]c4cc(oc4c3c2=C1)C1=CC=CC1     C20H12OSSe   \n",
       "5   1310744  C1C=CC=C1c1cc2[se]c3c(c4nsnc4c4ccncc34)c2c2ccc...    C24H13N3SSe   \n",
       "6    196637             C1C=CC=C1c1cc2[se]c3cc4ccsc4cc3c2[se]1     C17H10SSe2   \n",
       "7    262174        C1C=CC=C1c1cc2[se]c3c4occc4c4cscc4c3c2[se]1    C19H10OSSe2   \n",
       "8    393249        C1C=CC=C1c1cc2[se]c3cc4cccnc4cc3c2c2ccccc12      C24H15NSe   \n",
       "9        35           C1C2=C([SiH2]C=C2)C=C1c1cc2occc2c2cscc12     C17H12OSSi   \n",
       "10  1048612            C1C=CC=C1C1=Cc2sc3cc4C=C[SiH2]c4cc3c2C1      C18H14SSi   \n",
       "11   917542  C1C=c2ccc3[se]c4c5[se]c(cc5[se]c4c3c2=C1)C1=CC...      C20H12Se3   \n",
       "12  1441831              C1C=CC=C1C1=Cc2ncc3c4[se]ccc4cnc3c2C1     C18H12N2Se   \n",
       "13  1376296  C1C=CC=C1C1=Cc2c(C1)c1[se]c3ccc4cscc4c3c1c1=C[...    C24H16SSeSi   \n",
       "14  1638442  C1C=c2ccc3cnc4c5[SiH2]C(=Cc5c5nsnc5c4c3c2=C1)C...    C23H15N3SSi   \n",
       "15    98350      C1C=CC=C1C1=Cc2ccc3c4CC=Cc4c4cscc4c3c2[SiH2]1      C22H16SSi   \n",
       "16  2162747  C1C=CC=C1C1=Cc2c([SiH2]1)c1c3c[nH]cc3c3ccc4=C[...    C27H19NOSi2   \n",
       "17   557119              C1C=c2c3C=C(Cc3c3occc3c2=C1)C1=CC=CC1        C19H14O   \n",
       "18   753728  C1C=CC=C1C1=Cc2c([SiH2]1)c1cc3ncccc3cc1c1c[nH]...     C22H16N2Si   \n",
       "19   819265  C1C=CC=C1C1=Cc2c([SiH2]1)c1c(c3cscc23)c2[se]cc...   C23H16SSeSi2   \n",
       "20  1278019  C1C=CC=C1C1=Cc2c([SiH2]1)c1c(c3[SiH2]C=Cc3c3=C...     C23H18OSi3   \n",
       "21  2096063  C1C=CC=C1c1cc2[se]c3c(c2c2cscc12)c1ccccc1c1ccc...   C27H14N2S2Se   \n",
       "22  2752585  C1C=CC=C1C1=Cc2c(C1)c1c(c3c[nH]cc23)c2c3c[nH]c...     C28H20N2Si   \n",
       "23  1572945         C1C=CC=C1C1=Cc2[se]c3c4sccc4c4ccccc4c3c2C1      C22H14SSe   \n",
       "24  2359381  C1C=CC=C1C1=Cc2c(C1)c1c3cscc3c3ccc4nsnc4c3c1c1...    C26H14N2OS2   \n",
       "25  1540183     C1C=CC=C1c1cc2[se]c3c([se]c4ccc5cscc5c34)c2cn1    C20H11NSSe2   \n",
       "26  1638500         C1C=CC=C1c1cc2[se]c3ccc4ccccc4c3c2c2cocc12      C23H14OSe   \n",
       "27  2621542  C1C=c2c3ccccc3c3c4ccccc4c4C=C(Cc4c3c2=C1)C1=CC...         C29H20   \n",
       "28    98411         C1C=CC=C1c1cc2[se]c3cc4cccnc4cc3c2c2cscc12     C22H13NSSe   \n",
       "29   524398  C1C=c2c3C=C([SiH2]c3c3ncc4ccc5nsnc5c4c3c2=C1)C...    C23H15N3SSi   \n",
       "..      ...                                                ...            ...   \n",
       "70   426214                      C1C=CC2=C1C=C([SiH2]2)c1cncs1      C10H9NSSi   \n",
       "71  1114349               C1C=CC2=C1C=C(C2)c1cc2ccccc2c2cscc12        C20H14S   \n",
       "72  1048817             C1C=CC=C1C1=Cc2sc3c4occc4c4cocc4c3c2C1      C20H12O2S   \n",
       "73   688371  C1C=CC=C1C1=Cc2c(C1)c1sc3ccc4c[nH]cc4c3c1c1cscc21      C24H15NS2   \n",
       "74  1868021   C1C=CC=C1c1cc2[se]c3cc4ccc5ccccc5c4cc3c2c2cscc12      C27H16SSe   \n",
       "75   884983  C1C=CC=C1C1=Cc2c(C1)c1c3nsnc3c3cc[se]c3c1c1ccc...    C24H14N2SSe   \n",
       "76   753912    C1C=CC=C1C1=Cc2c(C1)c1oc3ccc4ccccc4c3c1c1cocc21       C26H16O2   \n",
       "77  2785529  C1C=CC=C1c1cc2[se]c3c(c4c[nH]cc4c4ccc5nsnc5c34...    C27H15N3SSe   \n",
       "78   721147  C1C=c2c3C=CCc3c3c4cscc4c4C=C([SiH2]c4c3c2=C1)C...      C25H18SSi   \n",
       "79   622844  C1C=CC=C1C1=Cc2c(C1)c1c3nsnc3c3C=CCc3c1c1=C[Si...    C23H16N2SSi   \n",
       "80   835626  C1C=CC=C1C1=Cc2ncc3c(cnc4ccc5=C[SiH2]C=c5c34)c...    C21H16N2Si2   \n",
       "81  1114377           C1C=CC=C1C1=Cc2ncc3cc4C=C[SiH2]c4cc3c2C1      C19H15NSi   \n",
       "82  1048842       C1C=c2c3ccccc3c3cc4CC(=Cc4cc3c2=C1)C1=CC=CC1         C25H18   \n",
       "83  1343757  C1C=c2ccc3[se]c4c5[SiH2]C(=Cc5sc4c3c2=C1)C1=CC...    C20H14SSeSi   \n",
       "84  1540367  C1C=CC=C1c1cc2[se]c3c4[SiH2]C=Cc4c4cscc4c3c2c2...   C23H15NSSeSi   \n",
       "85  1147152  C1C=CC=C1C1=Cc2c([SiH2]1)c1c3nsnc3c3ccoc3c1c1n...  C19H10N4OS2Si   \n",
       "86   393489   C1C=CC=C1C1=Cc2c(C1)c1c3ccccc3c3cccnc3c1c1cocc21       C27H17NO   \n",
       "87  1605678            [SiH2]1C=CC2=C1C=C([SiH2]2)c1cc2sccc2s1    C12H10S2Si2   \n",
       "88    33047  C1C=c2ccc3ncc4c5[SiH2]C(=Cc5c5c[nH]cc5c4c3c2=C...     C25H18N2Si   \n",
       "89  1852748  C1C=CC=C1c1cc2[se]c3c(c4c[nH]cc4c4ccc5nsnc5c34...    C25H14N4SSe   \n",
       "90   879322  C1C=c2ccc3[se]c4c([se]c5cc(C6=CC=CC6)c6cocc6c4...     C24H14OSe2   \n",
       "91   196897     C1C=CC=C1C1=Cc2c(C1)c1sc3C=C[SiH2]c3c1c1cscc21     C20H14S2Si   \n",
       "92   917795             C1C=CC=C1C1=Cc2cnc3c4occc4sc3c2[SiH2]1    C16H11NOSSi   \n",
       "93   524582  C1C=CC=C1C1=Cc2oc3c(c2[SiH2]1)c1cscc1c1ccc2ccc...     C25H16OSSi   \n",
       "94   753960      C1C=CC=C1C1=Cc2ccc3cc4C=C[SiH2]c4cc3c2[SiH2]1      C19H16Si2   \n",
       "95  1573164    C1C=CC=C1C1=Cc2c(C1)c1ncc3ccc4cscc4c3c1c1nsnc21     C23H13N3S2   \n",
       "96   262450  C1C=CC=C1c1cc2[se]c3c4[SiH2]C=Cc4[se]c3c2c2=C[...   C19H14Se2Si2   \n",
       "97   393523     C1C=CC=C1c1cc2[se]c3c4[SiH2]C=Cc4c4cocc4c3c2o1   C19H12O2SeSi   \n",
       "98  1632990  C1C=c2ccc3c(c4ncc5C=C(Cc5c4c4=C[SiH2]C=c34)C3=...      C26H19NSi   \n",
       "99  1283465     C1C=CC=C1c1cc2[se]c3c(ncc4ccc5nsnc5c34)c2[se]1    C18H9N3SSe2   \n",
       "\n",
       "        mass       pce       voc         jsc  e_homo_alpha  e_gap_alpha  \\\n",
       "0   394.3151  5.161953  0.867601   91.567575     -5.467601     2.022944   \n",
       "1   400.4135  5.261398  0.504824  160.401549     -5.104824     1.630750   \n",
       "2   363.4903  0.000000  0.000000  197.474780     -4.539526     1.462158   \n",
       "3   319.4448  6.138294  0.630274  149.887545     -5.230274     1.682250   \n",
       "4   379.3398  1.991366  0.242119  126.581347     -4.842119     1.809439   \n",
       "5   454.4137  5.605135  0.951911   90.622776     -5.551911     2.029717   \n",
       "6   404.2520  2.644436  0.587932   69.223461     -5.187932     2.201106   \n",
       "7   444.2730  2.523057  0.397670   97.645325     -4.997670     1.982122   \n",
       "8   396.3495  3.115895  0.869140   55.174815     -5.469140     2.331815   \n",
       "9   292.4328  2.743214  0.387106  109.062905     -4.987106     1.909966   \n",
       "10  290.4606  2.408411  0.431315   85.937708     -5.031315     2.065850   \n",
       "11  489.1948  2.843278  0.302591  144.614366     -4.902591     1.708198   \n",
       "12  335.2668  2.687240  0.675497   61.225278     -5.275497     2.270953   \n",
       "13  443.5024  2.844637  0.189206  231.387394     -4.789206     1.312334   \n",
       "14  393.5445  6.462512  0.602405  165.105179     -5.202405     1.603165   \n",
       "15  340.5204  2.631463  0.410851   98.573546     -5.010851     1.975707   \n",
       "16  429.6251  2.039158  0.140744  222.981280     -4.740744     1.361137   \n",
       "17  258.3186  0.237205  0.024962  146.246545     -4.624962     1.700415   \n",
       "18  336.4684  3.103831  0.409504  116.650708     -5.009504     1.863416   \n",
       "19  459.5774  5.385253  0.368606  224.848916     -4.968606     1.352309   \n",
       "20  394.6522  5.489489  0.301242  280.455932     -4.901242     1.135619   \n",
       "21  509.5136  6.204093  0.570055  167.497914     -5.170055     1.593078   \n",
       "22  412.5660  0.000000  0.000000  198.749914     -4.499447     1.457208   \n",
       "23  389.3786  2.167252  0.330623  100.884304     -4.930623     1.961253   \n",
       "24  434.5416  4.112982  0.299549  211.318161     -4.899549     1.409229   \n",
       "25  455.2999  3.212565  0.683568   72.329945     -5.283568     2.174712   \n",
       "26  385.3226  3.088844  0.482262   98.573546     -5.082262     1.977235   \n",
       "27  368.4770  2.552886  0.341115  115.180406     -4.941115     1.872759   \n",
       "28  402.3777  4.247356  0.653960   99.957476     -5.253960     1.967245   \n",
       "29  393.5445  5.860942  0.497394  181.348711     -5.097394     1.533947   \n",
       "..       ...       ...       ...         ...           ...          ...   \n",
       "70  203.3401  3.394500  0.795378   65.682564     -5.395378     2.233790   \n",
       "71  286.3966  1.790937  0.329567   83.634150     -4.929567     2.080275   \n",
       "72  316.3788  1.513968  0.208218  111.904241     -4.808218     1.890338   \n",
       "73  381.5215  0.240373  0.025508  145.026911     -4.625508     1.707600   \n",
       "74  451.4494  3.676538  0.574019   98.573546     -5.174019     1.977270   \n",
       "75  441.4146  5.001624  0.510378  150.822679     -5.110378     1.676155   \n",
       "76  360.4104  2.032640  0.241480  129.547072     -4.841480     1.790209   \n",
       "77  492.4625  4.650975  0.507717  140.983873     -5.107717     1.731285   \n",
       "78  378.5692  1.230484  0.082314  230.065847     -4.682314     1.324394   \n",
       "79  380.5454  5.217558  0.268149  299.459871     -4.868149     1.041835   \n",
       "80  352.5434  8.078063  0.752999  165.105179     -5.352999     1.603238   \n",
       "81  285.4205  2.657526  0.618525   66.125349     -5.218525     2.228104   \n",
       "82  318.4172  1.972011  0.441307   68.772742     -5.041307     2.205998   \n",
       "83  393.4426  2.903089  0.261537  170.833884     -4.861537     1.578308   \n",
       "84  444.4905  1.626984  0.152541  164.150991     -4.752541     1.606907   \n",
       "85  402.5330  9.485843  0.696607  209.573064     -5.296607     1.415900   \n",
       "86  371.4373  2.785640  0.356879  120.130116     -4.956879     1.843585   \n",
       "87  274.5150  5.290782  0.703994  115.664106     -5.303994     1.869364   \n",
       "88  374.5172  2.786956  0.318392  134.714952     -4.918392     1.763619   \n",
       "89  481.4396  1.653149  0.129718  196.136899     -4.729718     1.467964   \n",
       "90  476.2936  3.161847  0.299840  162.292795     -4.899840     1.614956   \n",
       "91  346.5486  1.994824  0.212295  144.614366     -4.812295     1.708791   \n",
       "92  293.4209  3.611901  0.736534   75.472806     -5.336534     2.147307   \n",
       "93  392.5524  3.215688  0.398763  124.109823     -4.998763     1.822561   \n",
       "94  300.5074  3.384177  0.654020   79.636066     -5.254020     2.115358   \n",
       "95  395.5087  5.031834  0.587182  131.886805     -5.187182     1.778370   \n",
       "96  456.4116  5.777985  0.426951  208.279151     -5.026951     1.421692   \n",
       "97  379.3478  3.016816  0.339750  136.658521     -4.939750     1.753613   \n",
       "98  373.5291  4.591414  0.347218  203.512862     -4.947218     1.439304   \n",
       "99  457.2761  6.845089  0.798777  131.886805     -5.398777     1.778370   \n",
       "\n",
       "    e_lumo_alpha                                     tmp_smiles_str  \n",
       "0      -3.444656        C1=CC=C(C1)c1cc2[se]c3c4occc4c4nsnc4c3c2cn1  \n",
       "1      -3.474074  C1=CC=C(C1)c1cc2[se]c3c(ncc4ccccc34)c2c2=C[SiH...  \n",
       "2      -3.077368  C1=CC=C(C1)C1=Cc2oc3c(c2[SiH2]1)c1c[nH]cc1c1cc...  \n",
       "3      -3.548025  C1=CC2=C([SiH2]1)C=C([SiH2]2)C1=Cc2[se]ccc2[Si...  \n",
       "4      -3.032680       C1=CC=C(C1)c1cc2[se]c3c4sccc4c4=CCC=c4c3c2o1  \n",
       "5      -3.522194  C1=CC=C(C1)c1cc2[se]c3c(c4nsnc4c4ccncc34)c2c2c...  \n",
       "6      -2.986827           C1=CC=C(C1)c1cc2[se]c3cc4ccsc4cc3c2[se]1  \n",
       "7      -3.015548      C1=CC=C(C1)c1cc2[se]c3c4occc4c4cscc4c3c2[se]1  \n",
       "8      -3.137325      C1=CC=C(C1)c1cc2[se]c3cc4cccnc4cc3c2c2ccccc12  \n",
       "9      -3.077141         C1=CC2=C([SiH2]1)C=C(C2)c1cc2occc2c2cscc12  \n",
       "10     -2.965465          C1=CC=C(C1)C1=Cc2sc3cc4C=C[SiH2]c4cc3c2C1  \n",
       "11     -3.194393  C1=CC=C(C1)c1cc2[se]c3c([se]c4ccc5=CCC=c5c34)c...  \n",
       "12     -3.004544            C1=CC=C(C1)C1=Cc2ncc3c4[se]ccc4cnc3c2C1  \n",
       "13     -3.476872  C1=CC=C(C1)C1=Cc2c(C1)c1[se]c3ccc4cscc4c3c1c1=...  \n",
       "14     -3.599240  C1=CC=C(C1)C1=Cc2c([SiH2]1)c1ncc3ccc4=CCC=c4c3...  \n",
       "15     -3.035144    C1=CC=C(C1)C1=Cc2ccc3c4CC=Cc4c4cscc4c3c2[SiH2]1  \n",
       "16     -3.379607  C1=CC=C(C1)C1=Cc2c([SiH2]1)c1c3c[nH]cc3c3ccc4=...  \n",
       "17     -2.924547            C1=CC=C(C1)C1=Cc2c(C1)c1occc1c1=CCC=c21  \n",
       "18     -3.146088  C1=CC=C(C1)C1=Cc2c([SiH2]1)c1cc3ncccc3cc1c1c[n...  \n",
       "19     -3.616298  C1=CC=C(C1)C1=Cc2c([SiH2]1)c1c(c3cscc23)c2[se]...  \n",
       "20     -3.765623  C1=CC=C(C1)C1=Cc2c([SiH2]1)c1c(c3[SiH2]C=Cc3c3...  \n",
       "21     -3.576977  C1=CC=C(C1)c1cc2[se]c3c(c2c2cscc12)c1ccccc1c1c...  \n",
       "22     -3.042239  C1=CC=C(C1)C1=Cc2c(C1)c1c(c3c[nH]cc23)c2c3c[nH...  \n",
       "23     -2.969370       C1=CC=C(C1)C1=Cc2[se]c3c4sccc4c4ccccc4c3c2C1  \n",
       "24     -3.490319  C1=CC=C(C1)C1=Cc2c(C1)c1c3cscc3c3ccc4nsnc4c3c1...  \n",
       "25     -3.108856   C1=CC=C(C1)c1cc2[se]c3c([se]c4ccc5cscc5c34)c2cn1  \n",
       "26     -3.105027       C1=CC=C(C1)c1cc2[se]c3ccc4ccccc4c3c2c2cocc12  \n",
       "27     -3.068355  C1=CC=C(C1)C1=Cc2c(C1)c1c(c3ccccc23)c2ccccc2c2...  \n",
       "28     -3.286715       C1=CC=C(C1)c1cc2[se]c3cc4cccnc4cc3c2c2cscc12  \n",
       "29     -3.563447  C1=CC=C(C1)C1=Cc2c([SiH2]1)c1ncc3ccc4nsnc4c3c1...  \n",
       "..           ...                                                ...  \n",
       "70     -3.161587                    C1=CC2=C(C1)C=C([SiH2]2)c1cncs1  \n",
       "71     -2.849292             C1=CC2=C(C1)C=C(C2)c1cc2ccccc2c2cscc12  \n",
       "72     -2.917880           C1=CC=C(C1)C1=Cc2sc3c4occc4c4cocc4c3c2C1  \n",
       "73     -2.917909  C1=CC=C(C1)C1=Cc2c(C1)c1sc3ccc4c[nH]cc4c3c1c1c...  \n",
       "74     -3.196749  C1=CC=C(C1)c1cc2[se]c3cc4ccc5ccccc5c4cc3c2c2cs...  \n",
       "75     -3.434223  C1=CC=C(C1)C1=Cc2c(C1)c1c3nsnc3c3cc[se]c3c1c1c...  \n",
       "76     -3.051270  C1=CC=C(C1)C1=Cc2c(C1)c1oc3ccc4ccccc4c3c1c1cocc21  \n",
       "77     -3.376432  C1=CC=C(C1)c1cc2[se]c3c(c4c[nH]cc4c4ccc5nsnc5c...  \n",
       "78     -3.357920  C1=CC=C(C1)C1=Cc2c([SiH2]1)c1c(c3CC=Cc3c3=CCC=...  \n",
       "79     -3.826314  C1=CC=C(C1)C1=Cc2c(C1)c1c3nsnc3c3C=CCc3c1c1=C[...  \n",
       "80     -3.749761  C1=CC=C(C1)C1=Cc2ncc3c(cnc4ccc5=C[SiH2]C=c5c34...  \n",
       "81     -2.990420         C1=CC=C(C1)C1=Cc2ncc3cc4C=C[SiH2]c4cc3c2C1  \n",
       "82     -2.835308     C1=CC=C(C1)C1=Cc2cc3c(cc2C1)c1ccccc1c1=CCC=c31  \n",
       "83     -3.283230  C1=CC=C(C1)C1=Cc2sc3c([se]c4ccc5=CCC=c5c34)c2[...  \n",
       "84     -3.145635  C1=CC=C(C1)c1cc2[se]c3c4[SiH2]C=Cc4c4cscc4c3c2...  \n",
       "85     -3.880707  C1=CC=C(C1)C1=Cc2c([SiH2]1)c1c3nsnc3c3ccoc3c1c...  \n",
       "86     -3.113294  C1=CC=C(C1)C1=Cc2c(C1)c1c3ccccc3c3cccnc3c1c1co...  \n",
       "87     -3.434630          C1=CC2=C([SiH2]1)C=C([SiH2]2)c1cc2sccc2s1  \n",
       "88     -3.154772  C1=CC=C(C1)C1=Cc2c([SiH2]1)c1cnc3ccc4=CCC=c4c3...  \n",
       "89     -3.261754  C1=CC=C(C1)c1cc2[se]c3c(c4c[nH]cc4c4ccc5nsnc5c...  \n",
       "90     -3.284884  C1=CC=C(C1)c1cc2[se]c3c([se]c4ccc5=CCC=c5c34)c...  \n",
       "91     -3.103505   C1=CC=C(C1)C1=Cc2c(C1)c1sc3C=C[SiH2]c3c1c1cscc21  \n",
       "92     -3.189228           C1=CC=C(C1)C1=Cc2cnc3c4occc4sc3c2[SiH2]1  \n",
       "93     -3.176203  C1=CC=C(C1)C1=Cc2oc3c(c2[SiH2]1)c1cscc1c1ccc2c...  \n",
       "94     -3.138662    C1=CC=C(C1)C1=Cc2ccc3cc4C=C[SiH2]c4cc3c2[SiH2]1  \n",
       "95     -3.408811  C1=CC=C(C1)C1=Cc2c(C1)c1ncc3ccc4cscc4c3c1c1nsnc21  \n",
       "96     -3.605259  C1=CC=C(C1)c1cc2[se]c3c4[SiH2]C=Cc4[se]c3c2c2=...  \n",
       "97     -3.186137   C1=CC=C(C1)c1cc2[se]c3c4[SiH2]C=Cc4c4cocc4c3c2o1  \n",
       "98     -3.507914  C1=CC=C(C1)C1=Cc2cnc3c(c2C1)c1=C[SiH2]C=c1c1cc...  \n",
       "99     -3.620406   C1=CC=C(C1)c1cc2[se]c3c(ncc4ccc5nsnc5c34)c2[se]1  \n",
       "\n",
       "[100 rows x 11 columns]"
      ]
     },
     "execution_count": 36,
     "metadata": {},
     "output_type": "execute_result"
    }
   ],
   "source": [
    "data = data[:100]\n",
    "data"
   ]
  },
  {
   "cell_type": "code",
   "execution_count": 40,
   "metadata": {
    "collapsed": false
   },
   "outputs": [],
   "source": [
    "data.to_csv('data_small.csv')"
   ]
  },
  {
   "cell_type": "code",
   "execution_count": null,
   "metadata": {
    "collapsed": true
   },
   "outputs": [],
   "source": [
    "data.head()"
   ]
  },
  {
   "cell_type": "code",
   "execution_count": null,
   "metadata": {
    "collapsed": true
   },
   "outputs": [],
   "source": [
    "data.tail()"
   ]
  },
  {
   "cell_type": "code",
   "execution_count": null,
   "metadata": {
    "collapsed": true
   },
   "outputs": [],
   "source": [
    "data.columns()"
   ]
  },
  {
   "cell_type": "code",
   "execution_count": 66,
   "metadata": {
    "collapsed": false
   },
   "outputs": [
    {
     "name": "stdout",
     "output_type": "stream",
     "text": [
      "C22H15NSeSi\n",
      "C20H12OSSe\n",
      "C19H10OSSe2\n"
     ]
    }
   ],
   "source": [
    "for i in range(1,10,3):\n",
    "    print(data['stoich_str'][i])\n",
    "    if "
   ]
  },
  {
   "cell_type": "code",
   "execution_count": 42,
   "metadata": {
    "collapsed": true
   },
   "outputs": [],
   "source": [
    "X = data['pce']\n",
    "Y = data['voc']"
   ]
  },
  {
   "cell_type": "code",
   "execution_count": 41,
   "metadata": {
    "collapsed": true
   },
   "outputs": [],
   "source": [
    "import matplotlib.pyplot as plt"
   ]
  },
  {
   "cell_type": "code",
   "execution_count": 44,
   "metadata": {
    "collapsed": false
   },
   "outputs": [
    {
     "data": {
      "image/png": "[encoded data removed]",
      "text/plain": [
       "<Figure size 432x288 with 1 Axes>"
      ]
     },
     "metadata": {},
     "output_type": "display_data"
    }
   ],
   "source": [
    "plt.scatter(X,Y)\n",
    "plt.show()"
   ]
  },
  {
   "cell_type": "code",
   "execution_count": 91,
   "metadata": {
    "collapsed": false
   },
   "outputs": [
    {
     "data": {
      "image/png": "[encoded data removed]",
      "text/plain": [
       "<Figure size 432x288 with 1 Axes>"
      ]
     },
     "metadata": {},
     "output_type": "display_data"
    }
   ],
   "source": [
    "from numpy.random import randint\n",
    "X = np.linspace(1,100,100)\n",
    "Y = 8 * X + 5 + randint(-50,50,100)\n",
    "plt.scatter(X,Y)\n",
    "plt.title('Linear distribution')\n",
    "plt.show()"
   ]
  },
  {
   "cell_type": "code",
   "execution_count": 92,
   "metadata": {
    "collapsed": false
   },
   "outputs": [
    {
     "name": "stdout",
     "output_type": "stream",
     "text": [
      "[[8.12049205]]\n",
      "[-1.40484848]\n"
     ]
    },
    {
     "data": {
      "image/png": "[encoded data removed]",
      "text/plain": [
       "<Figure size 432x288 with 1 Axes>"
      ]
     },
     "metadata": {},
     "output_type": "display_data"
    }
   ],
   "source": [
    "from sklearn import linear_model\n",
    "regr =  linear_model.LinearRegression()\n",
    "X = X.reshape(-1,1)\n",
    "Y = Y.reshape(-1,1)\n",
    "regr.fit(X, Y)\n",
    "Yp = regr.predict(X)\n",
    "print(regr.coef_)\n",
    "print(regr.intercept_)\n",
    "plt.plot(X, Yp)\n",
    "plt.show()"
   ]
  },
  {
   "cell_type": "markdown",
   "metadata": {},
   "source": [
    "# More:\n",
    "## Python:\n",
    "https://docs.python.org/3/tutorial/\n",
    "https://python.swaroopch.com/\n",
    "## Numpy:\n",
    "http://www.numpy.org/\n",
    "## Matplotlib :\n",
    "https://matplotlib.org/\n",
    "## Scikit-learn:\n",
    "https://scikit-learn.org/stable/\n",
    "## Markdown:\n",
    "https://www.markdowntutorial.com/"
   ]
  },
  {
   "cell_type": "code",
   "execution_count": null,
   "metadata": {
    "collapsed": true
   },
   "outputs": [],
   "source": []
  }
 ],
 "metadata": {
  "anaconda-cloud": {},
  "kernelspec": {
   "display_name": "Python [conda env:anaconda3]",
   "language": "python",
   "name": "conda-env-anaconda3-py"
  },
  "language_info": {
   "codemirror_mode": {
    "name": "ipython",
    "version": 3
   },
   "file_extension": ".py",
   "mimetype": "text/x-python",
   "name": "python",
   "nbconvert_exporter": "python",
   "pygments_lexer": "ipython3",
   "version": "3.5.5"
  }
 },
 "nbformat": 4,
 "nbformat_minor": 1
}
