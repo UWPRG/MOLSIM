{
 "cells": [
  {
   "cell_type": "markdown",
   "metadata": {},
   "source": [
    "<small><i>This notebook was put together by [Wesley Beckner](http://wesleybeckner.github.io/).</i></small>"
   ]
  },
  {
   "cell_type": "markdown",
   "metadata": {},
   "source": [
    "<a id='top'></a>\n",
    "\n",
    "# Simulation workflow\n",
    "\n",
    "* generate system (topology and coordinate files) \n",
    "    * For a given research project, there are often repetetive tasks associated with creating your systems. \n",
    "    * There are ways to automate this process but we will save that for later this quarter\n",
    "    * **This is a very, very important step in the simulation workflow, please stay tuned**\n",
    "* energy minimization (address overlapping particles)\n",
    "* temperature and pressure equilibration\n",
    "* production run\n",
    "    * NPT vs NVT\n",
    "        * Cp, Cv\n",
    "        * virial (can't have frozen atoms)\n",
    "        * calculations that depend on pressure fluctuations\n",
    "* scaling analysis for subsequent runs\n",
    "    * **Jim will lose his kettle bells if you do not do this for all of your unique systems**\n",
    "\n",
    "# Shell commands\n",
    "\n",
    "* [printf and echo](#print)\n",
    "* [tail and head](#tail)\n",
    "* [sed](#sed)\n",
    "* [awk and grep](#awk)\n",
    "* [if, while, break, wait](#if)\n",
    "* [source](#source)\n",
    "* [mail](#mail)\n",
    "* [for loops](#for) (for your homework)\n",
    "\n",
    "# Examples with emphasis on software and directory structures\n",
    "\n",
    "* [input file](#input)\n",
    "* [master file](#master)\n",
    "* [directory file](#directory)\n",
    "* [subprocess files](#subprocess)\n",
    "\n",
    "#### Aside:\n",
    "\n",
    "it is best to do all your scripting in a syntax highlighted IDE of your choice. I use vim and will be a forever fan. To enable syntax highlighting go to your terminal and type\n",
    "\n",
    "linux:\n",
    "```\n",
    "echo \"set hlsearch\" >> ~/.vimrc\n",
    "```\n",
    "\n",
    "mac:\n",
    "```\n",
    "echo \"syntax on\" >> ~/.vimrc\n",
    "```\n",
    "\n",
    "[more break out time](#hand)"
   ]
  },
  {
   "cell_type": "markdown",
   "metadata": {},
   "source": [
    "# Homework\n",
    " \n",
    "1. vary some input **parameter** other than temperature to give three distinct simulations \n",
    "2. run script with a new automated analyses that you expect to be affected by your **parameter**\n",
    "3. **form a hypothesis** on how this analysis will be different for the three runs and justify (1 paragraph)\n",
    "4. **create plots** for your analysis using python and state whether your hypothesis was falsified or not\n",
    "    * note: I **do not** *want you to manually adjust* any of the output files from gromacs. You can either adjust these with bash script (see my example with heat capacity), or you can set the `xvg -none` flag in gmx energy, or you can tell pandas the length of the header to ignore in your file. The easiest way to read into python in any of these cases will be to use [pandas.read_csv](http://pandas.pydata.org/pandas-docs/stable/generated/pandas.read_csv.html).\n",
    "    * note: I **do not** *want you to manually submit* the commands to complete these simulations. Write a wrapper for the scripts I've provided to iterate through your parameters. We will go over for loops at the end of this lesson to help with this.\n",
    "5. write a **further work** paragraph on how you would improve these scripts given more time (could be on either what I've provided or what you've written)\n",
    "\n",
    "### Deliverables\n",
    "\n",
    "1. your plots (publishable quality)\n",
    "2. your scripts (wrapper and analysis)\n",
    "3. your written paragraphs (hypothesis and further work)\n",
    " "
   ]
  },
  {
   "cell_type": "markdown",
   "metadata": {},
   "source": [
    "<a id='print'></a>\n",
    "\n",
    "## printf and echo\n",
    "\n",
    "#### What's the difference, anyway?\n",
    "\n",
    "The differences are minor. \n",
    "\n",
    "1. printf is standardized across systems while echo is not. For this reason some people prefer to use printf\n",
    "2. echo sends a newline at the end of the output"
   ]
  },
  {
   "cell_type": "code",
   "execution_count": 6,
   "metadata": {
    "collapsed": false
   },
   "outputs": [
    {
     "name": "stdout",
     "output_type": "stream",
     "text": [
      "this is a test"
     ]
    }
   ],
   "source": [
    "%%bash\n",
    "printf \"this is a test\""
   ]
  },
  {
   "cell_type": "markdown",
   "metadata": {},
   "source": [
    "also, **print is an input/output statement of awk** so you can do operations as in the cell below:"
   ]
  },
  {
   "cell_type": "code",
   "execution_count": 22,
   "metadata": {
    "collapsed": false
   },
   "outputs": [
    {
     "name": "stdout",
     "output_type": "stream",
     "text": [
      "884\n"
     ]
    }
   ],
   "source": [
    "%%bash\n",
    "nmol=`tail -2 conf.gro | head -1 | awk '{print $1}' | sed \"s/[[:alpha:].-]/ /g\" | awk '{print $1}'`\n",
    "echo $nmol"
   ]
  },
  {
   "cell_type": "markdown",
   "metadata": {},
   "source": [
    "<a id='tail'></a>\n",
    "\n",
    "what we've just done is grab the number of molecules in our gro file and print it to the screen.\n",
    "\n",
    "speaking of which, that brings us to...\n",
    "\n",
    "## tail and head\n",
    "\n",
    "[back to top](#top)\n",
    "\n",
    "and also **sed** and **awk** but we'll get to that in a second...\n",
    "\n",
    "tail and head work exactly as they sound"
   ]
  },
  {
   "cell_type": "code",
   "execution_count": 29,
   "metadata": {
    "collapsed": false
   },
   "outputs": [
    {
     "name": "stdout",
     "output_type": "stream",
     "text": [
      "  884SOL     OW 2650   1.855   0.165   2.093  0.6897  0.5791  0.7848\n",
      "  884SOL    HW1 2651   1.863   0.096   2.027 -0.9398  0.6805  0.4391\n",
      "  884SOL    HW2 2652   1.790   0.226   2.056 -0.0484  0.7734  2.3419\n",
      "   3.00081   3.00081   3.00081\n",
      "water in water\n",
      " 2652\n",
      "    1SOL     OW    1   1.915   1.754   0.496  0.3976  0.1489 -0.0020\n",
      "    1SOL    HW1    2   1.946   1.831   0.544  0.3310  0.4931 -0.5088\n"
     ]
    }
   ],
   "source": [
    "%%bash\n",
    "tail -4  conf.gro\n",
    "head -4 conf.gro"
   ]
  },
  {
   "cell_type": "markdown",
   "metadata": {},
   "source": [
    "what are the default number of lines for head and tail?"
   ]
  },
  {
   "cell_type": "markdown",
   "metadata": {},
   "source": [
    "<a id='sed'></a>\n",
    "## sed\n",
    "\n",
    "[back to top](#top)\n",
    "\n",
    "so sed is super jedi.\n",
    "\n",
    "It works exactly like your \":rs\" or search command in vim (where r indicates range). Open vim now and see what the following line does!\n",
    "\n",
    "```\n",
    ":%s/[[:alpha:].-]/ /g\n",
    "```\n",
    "\n",
    "Let's spend some time breaking this down...\n",
    "\n",
    "We could spend a lot of time on sed, I'm just going to list some of the sed commands you're going to see in your homework:\n",
    "\n",
    "```\n",
    "    sed -i \"51s/.*/ref_t                        = ${Temp}/\" npt.mdp\n",
    "    sed -i \"62s/.*/gen_temp             = ${Temp}/\" npt.mdp\n",
    "```"
   ]
  },
  {
   "cell_type": "markdown",
   "metadata": {},
   "source": [
    "<a id='awk'></a>\n",
    "\n",
    "## awk and grep\n",
    "\n",
    "[back top top](#top)\n",
    "\n",
    "awk and grep were the first bash tools I ever learned. They will be your bread and butter (mmmm butter)\n",
    "\n",
    "awk (traditionally AWK) is a programming language that is designed for processing text-based data\n",
    "\n",
    "grep on the other hand, is a simple filtration tool (written in perl I think?)\n",
    "\n",
    "Let's go back to our first example:"
   ]
  },
  {
   "cell_type": "code",
   "execution_count": 34,
   "metadata": {
    "collapsed": false
   },
   "outputs": [
    {
     "name": "stdout",
     "output_type": "stream",
     "text": [
      "2\n"
     ]
    }
   ],
   "source": [
    "%%bash\n",
    "nmol=`tail -2 conf.gro | head -1 | awk '{print $2}' | sed \"s/[[:alpha:].-]/ /g\" | awk '{print $1}'`\n",
    "echo $nmol"
   ]
  },
  {
   "cell_type": "markdown",
   "metadata": {},
   "source": [
    "can you adjust the print statement to figure out what our 'print' statement is grabbing within the awk language? open conf.gro in vim to help\n",
    "\n",
    "You will also see awk used in our file nodeseaker.sh\n",
    "\n",
    "```\n",
    "nodes=$(nodestate pfaendtner | grep nodes)\n",
    "lines=$(nodestate pfaendtner | grep nodes | tee /dev/tty | wc -l)\n",
    "#if lines = 1 there's only one type of node. Find the type\n",
    "if [ \"$lines\" == 1 ] ; then\n",
    "  type=$(echo $nodes | awk '{print $3}')\n",
    "```"
   ]
  },
  {
   "cell_type": "markdown",
   "metadata": {},
   "source": [
    "<a id='if'></a>\n",
    "\n",
    "##if, while, break, wait\n",
    "\n",
    "[back to top](#top)\n",
    "\n",
    "let's discuss the following snipet that you will find in spMD.sh\n",
    "\n",
    "```\n",
    "while true ; do\n",
    "  if [ ! -f $ILhome/${LABEL}/mini/confout.gro ] ; then\n",
    "    echo \"waiting for minimization to complete\"\n",
    "    sleep 60\n",
    "  else\n",
    "    echo \"minimization complete... moving forward\"\n",
    "    sleep 1\n",
    "    break\n",
    "  fi\n",
    "done\n",
    "```"
   ]
  },
  {
   "cell_type": "markdown",
   "metadata": {},
   "source": [
    "<a id='source'></a>\n",
    "\n",
    "##source\n",
    "\n",
    "[back to top](#top)\n",
    "\n",
    "when sourcing files, their environment variables remain available after it's finished executing. This contrasts with running scripts normally where environment variables spawned within the script are lost upon exit."
   ]
  },
  {
   "cell_type": "code",
   "execution_count": 3,
   "metadata": {
    "collapsed": false
   },
   "outputs": [
    {
     "name": "stdout",
     "output_type": "stream",
     "text": [
      "9000\n"
     ]
    }
   ],
   "source": [
    "%%bash\n",
    "echo \"Jim=9000\" > test.sh\n",
    "source test.sh\n",
    "echo $Jim"
   ]
  },
  {
   "cell_type": "code",
   "execution_count": 4,
   "metadata": {
    "collapsed": false
   },
   "outputs": [
    {
     "name": "stdout",
     "output_type": "stream",
     "text": [
      "\n"
     ]
    }
   ],
   "source": [
    "%%bash\n",
    "echo \"Jim=9000\" > test.sh\n",
    "./test.sh\n",
    "echo $Jim"
   ]
  },
  {
   "cell_type": "markdown",
   "metadata": {},
   "source": [
    "note how the second cell doesn't inherit the variables in test after it is run with \"./\"\n",
    "\n",
    "![](vegeta.jpg)"
   ]
  },
  {
   "cell_type": "markdown",
   "metadata": {},
   "source": [
    "<a id='mail'></a>\n",
    "\n",
    "## mail\n",
    "\n",
    "[back to top](#top)\n",
    "\n",
    "mail is one of those commands that will make you feel as if you've performed wizardry. How excellent it will be to recieve an email from hyak at 3am announcing that your jobs have successfully completed! yeah!\n",
    "\n",
    "send yourself an email using the template below:\n",
    "\n",
    "```\n",
    "name=myspecialrun\n",
    "echo \"job complete for ${name}\" | mail -s \"message from hyak\" wesleybeckner@gmail.com\n",
    "```"
   ]
  },
  {
   "cell_type": "markdown",
   "metadata": {},
   "source": [
    "<a id='for'></a>\n",
    "\n",
    "## for\n",
    "\n",
    "[back to top](#top)\n",
    "\n",
    "This will probably be useful for your homework. Here is a simple case showing how to iterate through an array (say like a parameter in your input file ;P )"
   ]
  },
  {
   "cell_type": "code",
   "execution_count": 14,
   "metadata": {
    "collapsed": false
   },
   "outputs": [
    {
     "name": "stdout",
     "output_type": "stream",
     "text": [
      " \n",
      "350\n",
      " \n",
      "400\n",
      " \n",
      "450\n",
      " \n",
      "\n"
     ]
    }
   ],
   "source": [
    "%%bash\n",
    "Temps=(350 400 450)\n",
    "for (( i=0 ; i<=${#Temps[*]} ; i++ )) ; do\n",
    "  echo \" \"\n",
    "  echo ${Temps[$i]}\n",
    "done\n"
   ]
  },
  {
   "cell_type": "markdown",
   "metadata": {
    "collapsed": true
   },
   "source": [
    "# Examples with emphasis on software and directory structures\n",
    "\n",
    "<a id='input'></a>\n",
    "\n",
    "## input.inp\n",
    "\n",
    "[back to top](#top)\n",
    "\n",
    "```\n",
    "#!/bin/bash\n",
    "###*****************************************************************\n",
    "### INPUT FILE TO GENERATE SYSTEM, ENERGY MINIMIZE, EQUILIBRATE,\n",
    "### AND EXECUTE PRODUCTION MD RUN AND ANALYSES\n",
    "###*****************************************************************\n",
    "\n",
    "### MAIN PARAMETERS \n",
    "Temp=350\n",
    "MD=yes                  #yes or no ; choose yes if no MD files are present\n",
    "Analysis=yes            #yes or no ; choose yes if wanting analysis on MD\n",
    "nvt_production=yes      #yes or no ; NVT ensemble\n",
    "npt_production=no       #yes or no ; NPT ensemble\n",
    "nvt_length=1000000      #1ns (production NVT MD length)\n",
    "```"
   ]
  },
  {
   "cell_type": "markdown",
   "metadata": {},
   "source": [
    "<a id='master'></a>\n",
    "\n",
    "## master.sh\n",
    "\n",
    "[back to top](#top)\n",
    "\n",
    "```\n",
    "#!/bin/bash\n",
    "#run this script with the name of your system (match input file)\n",
    "#and a name for your log file\n",
    "#for an HMI CHL salt at 350K this could look like:\n",
    "#source master.sh HMI_CHL > HMI_CHL.350 &\n",
    "#source master.sh ${name} > ${name}.${characteristic} &\n",
    "set -e                                          #exit script on error\n",
    "name=$1                                         #set variable name to first argument\n",
    "source ${name}.inp                              #source the input file\n",
    "LABEL=${name}.${Temp}                           #set a label to organize your files\n",
    "echo \"sourcing ${name}.inp\"\n",
    "echo \" \"\n",
    "echo \"beginning ${name} runs\"\n",
    "cat ${name}.inp                                 #print input to log file\n",
    "sed -i \"6s/.*/name=${name}/\" ${name}.inp        #print name to input file\n",
    "wait\n",
    "source directory.inp                            #create directory architecture\n",
    "\n",
    "###*****************************************************************\n",
    "###Run EQ\n",
    "\n",
    "  cd $SANDBOX\n",
    "  if [ \"${MD}\" == \"yes\" ] ; then\n",
    "    source spMD.sh\n",
    "    wait\n",
    "  fi\n",
    "\n",
    "###*****************************************************************\n",
    "###Run Analysis\n",
    "\n",
    "  if [ \"${Analysis}\" == \"yes\" ] ; then\n",
    "    source spAnalysis.sh\n",
    "    wait\n",
    "  fi\n",
    "\n",
    "###*****************************************************************\n",
    "###Run Analysis\n",
    "\n",
    "echo \"job complete\"\n",
    "echo \"job complete for ${name}\" | mail -s \"message from hyak\" wesleybeckner@gmail.com\n",
    "```"
   ]
  },
  {
   "cell_type": "markdown",
   "metadata": {},
   "source": [
    "<a id='directory'></a>\n",
    "\n",
    "## directory.inp\n",
    "\n",
    "[back to top](#top)\n",
    "\n",
    "```\n",
    "#!/bin/bash\n",
    "###source the goodies we need for GROMACS\n",
    "MYROOT=/suppscr/pfaendtner/wesley/MOLSIM/SimulationWorkFlow/HW4\n",
    "\n",
    "###should not need to change these\n",
    "source /suppscr/pfaendtner/vanouk/scripts/activate_amber14.sh\n",
    "source /gscratch/pfaendtner/wesley/software/ENVIRONMENT.sh\n",
    "if [ ! -d $MYROOT/${name} ] ; then\n",
    "  mkdir $MYROOT/${name}\n",
    "fi\n",
    "PROJROOT=$MYROOT/${name}\n",
    "SANDBOX=$MYROOT\n",
    "```"
   ]
  },
  {
   "cell_type": "markdown",
   "metadata": {},
   "source": [
    "<a id='subprocess'></a>\n",
    "\n",
    "## spMD.sh\n",
    "\n",
    "[back to top](#top)\n",
    "\n",
    "```\n",
    "#!/bin/bash\n",
    "set -e\n",
    "\n",
    "###ENERGY MINIMIZE THE STARTING STRUCTURE\n",
    "cd $PROJROOT\n",
    "if [ ! -d $PROJROOT/mini ] ; then\n",
    "  mkdir mini\n",
    "  echo \"made mini directory\"\n",
    "fi\n",
    "if [ ! -f mini/confout.gro ] && [ ! -f mini/md.log ] ; then\n",
    "  echo \"initiating energy minimization for ${name}\"\n",
    "  cp $SANDBOX/mini.mdp mini/\n",
    "  cp $SANDBOX/GROMACS.pbs mini/\n",
    "  cp $SANDBOX/nodeseaker.sh mini/\n",
    "  cp $SANDBOX/conf.gro mini/\n",
    "  cp $SANDBOX/topol.top mini/\n",
    "  cd mini/\n",
    "  gmx_8c grompp -f mini.mdp\n",
    "  source nodeseaker.sh\n",
    "  wait\n",
    "  qsub GROMACS.pbs\n",
    "  cd -\n",
    "fi\n",
    "while true ; do\n",
    "  if [ ! -f $PROJROOT/mini/confout.gro ] ; then\n",
    "    echo \"waiting for minimization to complete\"\n",
    "    sleep 60\n",
    "  else\n",
    "    echo \"minimization complete... moving forward\"\n",
    "    sleep 1\n",
    "    break\n",
    "  fi\n",
    "done\n",
    "```\n",
    "\n",
    "## spAnalysis.sh\n",
    "\n",
    "[back to top](#top)\n",
    "\n",
    "```\n",
    "echo \"starting spEqAnalysis\"\n",
    "#*****************************************************************\n",
    "#prep for the right direcotry depending on NPT or NVT\n",
    "if [ \"$nvt_production\" == \"yes\" ] ; then\n",
    "  cd ${PROJROOT}/NVT\n",
    "elif [ \"$npt_production\" == \"yes\" ] ; then\n",
    "  cd ${PROJROOT}/NPT\n",
    "fi\n",
    "if [ ! -d ${PROJROOT}/analysis ] ; then\n",
    "  mkdir ${PROJROOT}/analysis\n",
    "fi\n",
    "cp $SANDBOX/GROMACS.pbs .\n",
    "cp $SANDBOX/topol.top .\n",
    "#*****************************************************************\n",
    "#heat capacity   \n",
    "if [ ! -f heatcapacity.txt ] ; then     #nmol grabs the correct amount of molecules for g_energy\n",
    "  nmol=`tail -2 conf.gro | head -1 | awk '{print $1}' | sed \"s/[[:alpha:].-]/ /g\" | awk '{print $1}'`\n",
    "  echo \"calculating heat capacity for ${name}\" \n",
    "  echo 8 6 0 | gmx_8c energy -f ener.edr -driftcorr -fluct_props -nmol ${nmol} >> temp\n",
    "  grep -i 'Heat capacity' temp | awk '{print $8}' >> heatcapacity.txt\n",
    "  rm energy.xvg\n",
    "  rm temp\n",
    "fi\n",
    "#*****************************************************************\n",
    "#temperature\n",
    "if [ ! -f temperature.xvg ] ; then\n",
    "  echo \"calculating temperature for ${name}\" \n",
    "  echo 8 0 | gmx_8c energy -f ener.edr -o temperature.xvg\n",
    "fi\n",
    "#*****************************************************************\n",
    "echo \"analysis complete\"\n",
    "cd $SANDBOX\n",
    "```"
   ]
  },
  {
   "cell_type": "markdown",
   "metadata": {
    "collapsed": true
   },
   "source": [
    "<a id='hands'></a>\n",
    "\n",
    "# Breakout\n",
    "\n",
    "[back to top](#top)\n",
    "\n",
    "Use the remaining time to try reading in the temperature.xvg file we've created and using matplotlib to plot the data\n",
    "\n",
    "Here is some code to get you started"
   ]
  },
  {
   "cell_type": "code",
   "execution_count": 2,
   "metadata": {
    "collapsed": false
   },
   "outputs": [],
   "source": [
    "import matplotlib.pylab as plt\n",
    "from itertools import cycle\n",
    "###PREPARE DATA\n",
    "lines = [\"-\",\"--\",\"-.\"]\n",
    "marker = ['.','v','^','<','>']#,'8','s', '+', '.', 'o', '*','8','s','.', 'o', '*'\n",
    "linecycler = cycle(lines)\n",
    "markercycler = cycle(marker)\n",
    "\n",
    "# These are the \"Tableau 20\" colors as RGB.    \n",
    "tableau20 = [(31, 119, 180), (174, 199, 232), (255, 127, 14), (255, 187, 120),    \n",
    "             (44, 160, 44), (152, 223, 138), (214, 39, 40), (255, 152, 150),    \n",
    "             (148, 103, 189), (197, 176, 213), (140, 86, 75), (196, 156, 148),    \n",
    "             (227, 119, 194), (247, 182, 210), (127, 127, 127), (199, 199, 199),    \n",
    "             (188, 189, 34), (219, 219, 141), (23, 190, 207), (158, 218, 229)]    \n",
    "  \n",
    "# Scale the RGB values to the [0, 1] range, which is the format matplotlib accepts.    \n",
    "for i in range(len(tableau20)):    \n",
    "    r, g, b = tableau20[i]    \n",
    "    tableau20[i] = (r / 255., g / 255., b / 255.)   \n",
    "\n",
    "plt.rc(\"figure\", facecolor=\"white\")\n",
    "\n",
    "params = {\n",
    "    'lines.markersize' : 3,\n",
    "    'axes.labelsize': 8,\n",
    "    'font.size': 10,\n",
    "    'legend.fontsize': 10,\n",
    "    'xtick.labelsize': 10,\n",
    "    'ytick.labelsize': 10,\n",
    "    'text.usetex': False,\n",
    "   }\n",
    "plt.rcParams.update(params)"
   ]
  },
  {
   "cell_type": "code",
   "execution_count": null,
   "metadata": {
    "collapsed": true
   },
   "outputs": [],
   "source": []
  }
 ],
 "metadata": {
  "kernelspec": {
   "display_name": "Python 2",
   "language": "python",
   "name": "python2"
  },
  "language_info": {
   "codemirror_mode": {
    "name": "ipython",
    "version": 2
   },
   "file_extension": ".py",
   "mimetype": "text/x-python",
   "name": "python",
   "nbconvert_exporter": "python",
   "pygments_lexer": "ipython2",
   "version": "2.7.12"
  }
 },
 "nbformat": 4,
 "nbformat_minor": 0
}
